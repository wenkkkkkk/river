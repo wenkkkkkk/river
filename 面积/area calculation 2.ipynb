{
 "cells": [
  {
   "cell_type": "code",
   "execution_count": 1,
   "id": "6834e11f",
   "metadata": {},
   "outputs": [],
   "source": [
    "import pandas as pd\n",
    "import numpy as np\n",
    "import rasterio\n",
    "import glob\n",
    "import shutil\n",
    "from tqdm import tqdm\n",
    "import time\n",
    "import re\n",
    "import os\n",
    "\n",
    "from IPython.core.interactiveshell import InteractiveShell\n",
    "InteractiveShell.ast_node_interactivity = 'all'"
   ]
  },
  {
   "cell_type": "code",
   "execution_count": 25,
   "id": "a5aaa77b",
   "metadata": {
    "scrolled": true
   },
   "outputs": [
    {
     "name": "stdout",
     "output_type": "stream",
     "text": [
      "P:\\tif\\16000_2\\ndwi1_int8_world_16164.tif\n"
     ]
    },
    {
     "name": "stderr",
     "output_type": "stream",
     "text": [
      "100%|████████████████████████████████████████████████████████████████████████████████| 169/169 [04:52<00:00,  1.73s/it]\n"
     ]
    }
   ],
   "source": [
    "from chu import raster2shp1\n",
    "dir2 = cdir(r'P:\\16000_2')\n",
    "tf = glob.glob(r'P:\\tif\\16000_2\\*.tif') \n",
    "print(tf[0])\n",
    "for savename in tqdm(tf):\n",
    "    raster2shp1(savename,2,dir2)"
   ]
  },
  {
   "cell_type": "code",
   "execution_count": 30,
   "id": "d5cad39a",
   "metadata": {},
   "outputs": [],
   "source": [
    "num = 18000\n",
    "dir = fr\"P:\\tif\\{num}\"\n",
    "shp_list = glob.glob(fr'P:\\{num}\\*.shp')\n",
    "#shp_list = shp_list[979:]\n",
    "#tif_list=glob.glob(fr'L:\\PRE_DATA\\{num}\\*.tif')\n",
    "tif_list=glob.glob(fr'D:\\zwk_data\\pre_data\\{num}\\*.tif')\n",
    "dirin = r'H:\\paper\\river_data\\GRWL_mask_V01.01'\n",
    "txt = os.path.join(dir,'log.txt')\n",
    "temptxt = os.path.join(dir,'temp.txt')\n",
    "dirgrwl = r\"P:\\tif\\0\\temp\"\n",
    "dirmatch =  cdir(os.path.join(dir, 'match'))\n",
    "result_df = pd.DataFrame()"
   ]
  },
  {
   "cell_type": "code",
   "execution_count": 27,
   "id": "7d15a371",
   "metadata": {},
   "outputs": [
    {
     "data": {
      "text/plain": [
       "'Wed Jan 10 10:24:22 2024'"
      ]
     },
     "execution_count": 27,
     "metadata": {},
     "output_type": "execute_result"
    }
   ],
   "source": [
    "time.ctime()\n",
    "dir = r\"P:\\tif\\16000_2\"\n",
    "shp_list = glob.glob(r'P:\\16000_2\\*.shp')\n",
    "#shp_list = shp_list[979:]\n",
    "tif_list=glob.glob(r'D:\\zwk_data\\pre_data\\16000\\*.tif')\n",
    "\n",
    "dirin = r'H:\\paper\\river_data\\GRWL_mask_V01.01'\n",
    "txt = os.path.join(dir,'log.txt')\n",
    "temptxt = os.path.join(dir,'temp.txt')\n",
    "dirgrwl = r\"P:\\tif\\0\\temp\"\n",
    "dirmatch =  cdir(os.path.join(dir, 'match'))\n",
    "result_df = pd.DataFrame()"
   ]
  },
  {
   "cell_type": "code",
   "execution_count": 42,
   "id": "85f3daf5",
   "metadata": {
    "scrolled": true
   },
   "outputs": [
    {
     "data": {
      "text/plain": [
       "'Thu Jan 11 23:26:26 2024'"
      ]
     },
     "execution_count": 42,
     "metadata": {},
     "output_type": "execute_result"
    },
    {
     "name": "stderr",
     "output_type": "stream",
     "text": [
      "\r",
      "  0%|                                                                                           | 0/13 [00:00<?, ?it/s]"
     ]
    },
    {
     "name": "stdout",
     "output_type": "stream",
     "text": [
      "D:\\zwk_data\\pre_data\\1000\\ndwi1_int8_world_1653.tif\n",
      "P:\\add\\add\\1000\\bands_int16_1653_r.shp\n",
      "['H:\\\\paper\\\\river_data\\\\GRWL_mask_V01.01\\\\SA24.tif'\n",
      " 'H:\\\\paper\\\\river_data\\\\GRWL_mask_V01.01\\\\SB24.tif']\n"
     ]
    },
    {
     "data": {
      "text/plain": [
       "85"
      ]
     },
     "execution_count": 42,
     "metadata": {},
     "output_type": "execute_result"
    },
    {
     "name": "stderr",
     "output_type": "stream",
     "text": [
      "\r",
      "  8%|██████▍                                                                            | 1/13 [00:08<01:40,  8.41s/it]"
     ]
    },
    {
     "name": "stdout",
     "output_type": "stream",
     "text": [
      "D:\\zwk_data\\pre_data\\1000\\ndwi1_int8_world_1660.tif\n",
      "P:\\add\\add\\1000\\bands_int16_1660_r.shp\n",
      "['H:\\\\paper\\\\river_data\\\\GRWL_mask_V01.01\\\\SB24.tif']\n"
     ]
    },
    {
     "data": {
      "text/plain": [
       "85"
      ]
     },
     "execution_count": 42,
     "metadata": {},
     "output_type": "execute_result"
    },
    {
     "name": "stderr",
     "output_type": "stream",
     "text": [
      "\r",
      " 15%|████████████▊                                                                      | 2/13 [00:14<01:17,  7.02s/it]"
     ]
    },
    {
     "name": "stdout",
     "output_type": "stream",
     "text": [
      "D:\\zwk_data\\pre_data\\1000\\ndwi1_int8_world_1934.tif\n",
      "P:\\add\\add\\1000\\bands_int16_1934_r.shp\n",
      "['H:\\\\paper\\\\river_data\\\\GRWL_mask_V01.01\\\\SA36.tif']\n"
     ]
    },
    {
     "data": {
      "text/plain": [
       "86"
      ]
     },
     "execution_count": 42,
     "metadata": {},
     "output_type": "execute_result"
    },
    {
     "name": "stderr",
     "output_type": "stream",
     "text": [
      "\r",
      " 23%|███████████████████▏                                                               | 3/13 [00:20<01:05,  6.56s/it]"
     ]
    },
    {
     "name": "stdout",
     "output_type": "stream",
     "text": [
      "D:\\zwk_data\\pre_data\\1000\\ndwi1_int8_world_1933.tif\n",
      "P:\\add\\add\\1000\\bands_int16_1933_r.shp\n",
      "['H:\\\\paper\\\\river_data\\\\GRWL_mask_V01.01\\\\SA36.tif']\n"
     ]
    },
    {
     "data": {
      "text/plain": [
       "86"
      ]
     },
     "execution_count": 42,
     "metadata": {},
     "output_type": "execute_result"
    },
    {
     "name": "stderr",
     "output_type": "stream",
     "text": [
      "\r",
      " 31%|█████████████████████████▌                                                         | 4/13 [00:26<00:57,  6.34s/it]"
     ]
    },
    {
     "name": "stdout",
     "output_type": "stream",
     "text": [
      "D:\\zwk_data\\pre_data\\1000\\ndwi1_int8_world_1929.tif\n",
      "P:\\add\\add\\1000\\bands_int16_1929_r.shp\n",
      "['H:\\\\paper\\\\river_data\\\\GRWL_mask_V01.01\\\\SB36.tif']\n"
     ]
    },
    {
     "data": {
      "text/plain": [
       "84"
      ]
     },
     "execution_count": 42,
     "metadata": {},
     "output_type": "execute_result"
    },
    {
     "name": "stderr",
     "output_type": "stream",
     "text": [
      "\r",
      " 38%|███████████████████████████████▉                                                   | 5/13 [00:32<00:49,  6.14s/it]"
     ]
    },
    {
     "name": "stdout",
     "output_type": "stream",
     "text": [
      "D:\\zwk_data\\pre_data\\1000\\ndwi1_int8_world_1928.tif\n",
      "P:\\add\\add\\1000\\bands_int16_1928_r.shp\n",
      "['H:\\\\paper\\\\river_data\\\\GRWL_mask_V01.01\\\\SB36.tif'\n",
      " 'H:\\\\paper\\\\river_data\\\\GRWL_mask_V01.01\\\\SC36.tif']\n"
     ]
    },
    {
     "data": {
      "text/plain": [
       "84"
      ]
     },
     "execution_count": 42,
     "metadata": {},
     "output_type": "execute_result"
    },
    {
     "name": "stderr",
     "output_type": "stream",
     "text": [
      "\r",
      " 46%|██████████████████████████████████████▎                                            | 6/13 [00:40<00:48,  6.92s/it]"
     ]
    },
    {
     "name": "stdout",
     "output_type": "stream",
     "text": [
      "D:\\zwk_data\\pre_data\\1000\\ndwi1_int8_world_1939.tif\n",
      "P:\\add\\add\\1000\\bands_int16_1939_r.shp\n",
      "['H:\\\\paper\\\\river_data\\\\GRWL_mask_V01.01\\\\SB36.tif']\n"
     ]
    },
    {
     "data": {
      "text/plain": [
       "84"
      ]
     },
     "execution_count": 42,
     "metadata": {},
     "output_type": "execute_result"
    },
    {
     "name": "stderr",
     "output_type": "stream",
     "text": [
      " 54%|████████████████████████████████████████████▋                                      | 7/13 [00:46<00:40,  6.70s/it]"
     ]
    },
    {
     "name": "stdout",
     "output_type": "stream",
     "text": [
      "D:\\zwk_data\\pre_data\\1000\\ndwi1_int8_world_1289.tif\n",
      "P:\\add\\add\\1000\\bands_int16_1289_r.shp\n"
     ]
    },
    {
     "name": "stderr",
     "output_type": "stream",
     "text": [
      "\n"
     ]
    },
    {
     "ename": "RasterioIOError",
     "evalue": "D:/zwk_data/pre_data/1000/ndwi1_int8_world_1289.tif: No such file or directory",
     "output_type": "error",
     "traceback": [
      "\u001b[1;31m---------------------------------------------------------------------------\u001b[0m",
      "\u001b[1;31mCPLE_OpenFailedError\u001b[0m                      Traceback (most recent call last)",
      "\u001b[1;32mrasterio\\_base.pyx\u001b[0m in \u001b[0;36mrasterio._base.DatasetBase.__init__\u001b[1;34m()\u001b[0m\n",
      "\u001b[1;32mrasterio\\_shim.pyx\u001b[0m in \u001b[0;36mrasterio._shim.open_dataset\u001b[1;34m()\u001b[0m\n",
      "\u001b[1;32mrasterio\\_err.pyx\u001b[0m in \u001b[0;36mrasterio._err.exc_wrap_pointer\u001b[1;34m()\u001b[0m\n",
      "\u001b[1;31mCPLE_OpenFailedError\u001b[0m: D:/zwk_data/pre_data/1000/ndwi1_int8_world_1289.tif: No such file or directory",
      "\nDuring handling of the above exception, another exception occurred:\n",
      "\u001b[1;31mRasterioIOError\u001b[0m                           Traceback (most recent call last)",
      "\u001b[1;32m~\\AppData\\Local\\Temp\\ipykernel_70944\\2866073704.py\u001b[0m in \u001b[0;36m<module>\u001b[1;34m\u001b[0m\n\u001b[0;32m      8\u001b[0m     \u001b[0mprint\u001b[0m\u001b[1;33m(\u001b[0m\u001b[0mintif\u001b[0m\u001b[1;33m)\u001b[0m\u001b[1;33m\u001b[0m\u001b[1;33m\u001b[0m\u001b[0m\n\u001b[0;32m      9\u001b[0m     \u001b[0mprint\u001b[0m\u001b[1;33m(\u001b[0m\u001b[0minshp\u001b[0m\u001b[1;33m)\u001b[0m\u001b[1;33m\u001b[0m\u001b[1;33m\u001b[0m\u001b[0m\n\u001b[1;32m---> 10\u001b[1;33m     \u001b[0mshptoraster\u001b[0m\u001b[1;33m(\u001b[0m\u001b[0mintif\u001b[0m\u001b[1;33m,\u001b[0m\u001b[0minshp\u001b[0m\u001b[1;33m,\u001b[0m\u001b[0mouttif\u001b[0m\u001b[1;33m)\u001b[0m\u001b[1;33m\u001b[0m\u001b[1;33m\u001b[0m\u001b[0m\n\u001b[0m\u001b[0;32m     11\u001b[0m \u001b[1;33m\u001b[0m\u001b[0m\n\u001b[0;32m     12\u001b[0m     \u001b[0mrasterbound\u001b[0m \u001b[1;33m=\u001b[0m \u001b[0mextofraster\u001b[0m\u001b[1;33m(\u001b[0m\u001b[0mintif\u001b[0m\u001b[1;33m)\u001b[0m\u001b[1;33m\u001b[0m\u001b[1;33m\u001b[0m\u001b[0m\n",
      "\u001b[1;32m~\\AppData\\Local\\Temp\\ipykernel_70944\\2328781722.py\u001b[0m in \u001b[0;36mshptoraster\u001b[1;34m(existing_raster_path, shapefile_path, output_raster_path, invert)\u001b[0m\n\u001b[0;32m      6\u001b[0m \u001b[1;32mdef\u001b[0m \u001b[0mshptoraster\u001b[0m\u001b[1;33m(\u001b[0m\u001b[0mexisting_raster_path\u001b[0m\u001b[1;33m,\u001b[0m\u001b[0mshapefile_path\u001b[0m\u001b[1;33m,\u001b[0m\u001b[0moutput_raster_path\u001b[0m\u001b[1;33m,\u001b[0m \u001b[0minvert\u001b[0m \u001b[1;33m=\u001b[0m \u001b[1;32mTrue\u001b[0m\u001b[1;33m)\u001b[0m\u001b[1;33m:\u001b[0m\u001b[1;33m\u001b[0m\u001b[1;33m\u001b[0m\u001b[0m\n\u001b[0;32m      7\u001b[0m     \u001b[1;31m# Read the existing raster to use as a template\u001b[0m\u001b[1;33m\u001b[0m\u001b[1;33m\u001b[0m\u001b[1;33m\u001b[0m\u001b[0m\n\u001b[1;32m----> 8\u001b[1;33m     \u001b[1;32mwith\u001b[0m \u001b[0mrasterio\u001b[0m\u001b[1;33m.\u001b[0m\u001b[0mopen\u001b[0m\u001b[1;33m(\u001b[0m\u001b[0mexisting_raster_path\u001b[0m\u001b[1;33m)\u001b[0m \u001b[1;32mas\u001b[0m \u001b[0msrc\u001b[0m\u001b[1;33m:\u001b[0m\u001b[1;33m\u001b[0m\u001b[1;33m\u001b[0m\u001b[0m\n\u001b[0m\u001b[0;32m      9\u001b[0m         \u001b[1;31m# Get raster properties\u001b[0m\u001b[1;33m\u001b[0m\u001b[1;33m\u001b[0m\u001b[1;33m\u001b[0m\u001b[0m\n\u001b[0;32m     10\u001b[0m         \u001b[0mcrs\u001b[0m \u001b[1;33m=\u001b[0m \u001b[0msrc\u001b[0m\u001b[1;33m.\u001b[0m\u001b[0mcrs\u001b[0m\u001b[1;33m\u001b[0m\u001b[1;33m\u001b[0m\u001b[0m\n",
      "\u001b[1;32mD:\\01_software\\08_anaconda3\\envs\\zwk\\lib\\site-packages\\rasterio\\env.py\u001b[0m in \u001b[0;36mwrapper\u001b[1;34m(*args, **kwds)\u001b[0m\n\u001b[0;32m    435\u001b[0m \u001b[1;33m\u001b[0m\u001b[0m\n\u001b[0;32m    436\u001b[0m         \u001b[1;32mwith\u001b[0m \u001b[0menv_ctor\u001b[0m\u001b[1;33m(\u001b[0m\u001b[0msession\u001b[0m\u001b[1;33m=\u001b[0m\u001b[0msession\u001b[0m\u001b[1;33m)\u001b[0m\u001b[1;33m:\u001b[0m\u001b[1;33m\u001b[0m\u001b[1;33m\u001b[0m\u001b[0m\n\u001b[1;32m--> 437\u001b[1;33m             \u001b[1;32mreturn\u001b[0m \u001b[0mf\u001b[0m\u001b[1;33m(\u001b[0m\u001b[1;33m*\u001b[0m\u001b[0margs\u001b[0m\u001b[1;33m,\u001b[0m \u001b[1;33m**\u001b[0m\u001b[0mkwds\u001b[0m\u001b[1;33m)\u001b[0m\u001b[1;33m\u001b[0m\u001b[1;33m\u001b[0m\u001b[0m\n\u001b[0m\u001b[0;32m    438\u001b[0m \u001b[1;33m\u001b[0m\u001b[0m\n\u001b[0;32m    439\u001b[0m     \u001b[1;32mreturn\u001b[0m \u001b[0mwrapper\u001b[0m\u001b[1;33m\u001b[0m\u001b[1;33m\u001b[0m\u001b[0m\n",
      "\u001b[1;32mD:\\01_software\\08_anaconda3\\envs\\zwk\\lib\\site-packages\\rasterio\\__init__.py\u001b[0m in \u001b[0;36mopen\u001b[1;34m(fp, mode, driver, width, height, count, crs, transform, dtype, nodata, sharing, **kwargs)\u001b[0m\n\u001b[0;32m    218\u001b[0m         \u001b[1;31m# None.\u001b[0m\u001b[1;33m\u001b[0m\u001b[1;33m\u001b[0m\u001b[1;33m\u001b[0m\u001b[0m\n\u001b[0;32m    219\u001b[0m         \u001b[1;32mif\u001b[0m \u001b[0mmode\u001b[0m \u001b[1;33m==\u001b[0m \u001b[1;34m'r'\u001b[0m\u001b[1;33m:\u001b[0m\u001b[1;33m\u001b[0m\u001b[1;33m\u001b[0m\u001b[0m\n\u001b[1;32m--> 220\u001b[1;33m             \u001b[0ms\u001b[0m \u001b[1;33m=\u001b[0m \u001b[0mDatasetReader\u001b[0m\u001b[1;33m(\u001b[0m\u001b[0mpath\u001b[0m\u001b[1;33m,\u001b[0m \u001b[0mdriver\u001b[0m\u001b[1;33m=\u001b[0m\u001b[0mdriver\u001b[0m\u001b[1;33m,\u001b[0m \u001b[0msharing\u001b[0m\u001b[1;33m=\u001b[0m\u001b[0msharing\u001b[0m\u001b[1;33m,\u001b[0m \u001b[1;33m**\u001b[0m\u001b[0mkwargs\u001b[0m\u001b[1;33m)\u001b[0m\u001b[1;33m\u001b[0m\u001b[1;33m\u001b[0m\u001b[0m\n\u001b[0m\u001b[0;32m    221\u001b[0m         \u001b[1;32melif\u001b[0m \u001b[0mmode\u001b[0m \u001b[1;33m==\u001b[0m \u001b[1;34m\"r+\"\u001b[0m\u001b[1;33m:\u001b[0m\u001b[1;33m\u001b[0m\u001b[1;33m\u001b[0m\u001b[0m\n\u001b[0;32m    222\u001b[0m             s = get_writer_for_path(path, driver=driver)(\n",
      "\u001b[1;32mrasterio\\_base.pyx\u001b[0m in \u001b[0;36mrasterio._base.DatasetBase.__init__\u001b[1;34m()\u001b[0m\n",
      "\u001b[1;31mRasterioIOError\u001b[0m: D:/zwk_data/pre_data/1000/ndwi1_int8_world_1289.tif: No such file or directory"
     ]
    }
   ],
   "source": [
    "time.ctime()\n",
    "\n",
    "for inshp in tqdm(shp_list):\n",
    "    #pre_shp to raster\n",
    "    #inshp = shp_list[i]\n",
    "    intif = path_convert(inshp,tif_list)\n",
    "    outtif = os.path.join(dir,os.path.split(intif)[1])\n",
    "    print(intif)\n",
    "    print(inshp)\n",
    "    shptoraster(intif,inshp,outtif)\n",
    "    \n",
    "    rasterbound = extofraster(intif)\n",
    "    #grwl match and river extract then to new raster \n",
    "    shp = gpd.read_file(inshp)\n",
    "    \n",
    "    x = (rasterbound[0]+rasterbound[2])/2\n",
    "    y = (rasterbound[1]+rasterbound[3])/2\n",
    "    grwl1 = grwlext(rasterbound,dirin,txt, extt = '.tif') #grwl1 is a path_list\n",
    "    if len(shp) != 0:\n",
    "        #grwl1 = grwl(shp,dirin,intif,txt, mod = 2, extt = '.tif') #grwl1 is a path_list\n",
    "\n",
    "        if len(grwl1) != 0:\n",
    "        #grwl match to pre\n",
    "            output_raster_path2 = grwltoraster(grwl1, intif,dirgrwl,dirmatch)\n",
    "\n",
    "            #area calculation\n",
    "            sentinel = countraster(outtif)\n",
    "            grwl_river = countraster(output_raster_path2)\n",
    "\n",
    "            intxt =  f\"{inshp}\\t{sentinel}\\t{grwl_river}\\t{x}\\t{y}\\n\"\n",
    "        else:\n",
    "\n",
    "            sentinel = countraster(outtif)\n",
    "            grwl_river = 0\n",
    "            intxt =  f\"{inshp}\\t{sentinel}\\t{grwl_river}\\t{x}\\t{y}\\n\"\n",
    "    else:\n",
    "        print(inshp)\n",
    "        print('inshp no data')\n",
    "        sentinel = -1\n",
    "        grwl_river = 0\n",
    "        if len(grwl1) != 0:\n",
    "            output_raster_path2 = grwltoraster(grwl1, intif,dirgrwl,dirmatch)\n",
    "            grwl_river = countraster(output_raster_path2)\n",
    "            \n",
    "        intxt =  f\"{inshp}\\t{sentinel}\\t{grwl_river}\\t{x}\\t{y}\\n\"\n",
    "    with open(temptxt, 'a') as txt_file:\n",
    "        txt_file.write(intxt)\n",
    "\n",
    "copytxt = os.path.join(dir, 'area.txt')\n",
    "shutil.copy(temptxt,copytxt)\n",
    "time.ctime()"
   ]
  },
  {
   "cell_type": "code",
   "execution_count": 49,
   "id": "c3524b65",
   "metadata": {},
   "outputs": [
    {
     "data": {
      "text/plain": [
       "'Fri Jan 12 00:37:47 2024'"
      ]
     },
     "execution_count": 49,
     "metadata": {},
     "output_type": "execute_result"
    },
    {
     "name": "stderr",
     "output_type": "stream",
     "text": [
      "\r",
      "  0%|                                                                                           | 0/57 [00:00<?, ?it/s]"
     ]
    },
    {
     "name": "stdout",
     "output_type": "stream",
     "text": [
      "D:\\zwk_data\\pre_data\\17000\\ndwi1_int8_world_17082.tif\n",
      "P:\\add\\add\\17000\\bands_int16_17082_r.shp\n",
      "H:\\paper\\river_data\\GRWL_mask_V01.01\\SE61.tif\n",
      "H:\\paper\\river_data\\GRWL_mask_V01.01\\SD60.tif\n",
      "H:\\paper\\river_data\\GRWL_mask_V01.01\\SD61.tif\n",
      "['H:\\\\paper\\\\river_data\\\\GRWL_mask_V01.01\\\\SE60.tif']\n"
     ]
    },
    {
     "data": {
      "text/plain": [
       "91"
      ]
     },
     "execution_count": 49,
     "metadata": {},
     "output_type": "execute_result"
    },
    {
     "name": "stderr",
     "output_type": "stream",
     "text": [
      "\r",
      "  2%|█▍                                                                                 | 1/57 [00:05<05:34,  5.97s/it]"
     ]
    },
    {
     "name": "stdout",
     "output_type": "stream",
     "text": [
      "D:\\zwk_data\\pre_data\\17000\\ndwi1_int8_world_17017.tif\n",
      "P:\\add\\add\\17000\\bands_int16_17017_r.shp\n",
      "H:\\paper\\river_data\\GRWL_mask_V01.01\\SD56.tif\n",
      "H:\\paper\\river_data\\GRWL_mask_V01.01\\SD56.tif\n",
      "H:\\paper\\river_data\\GRWL_mask_V01.01\\SC56.tif\n",
      "H:\\paper\\river_data\\GRWL_mask_V01.01\\SC56.tif\n",
      "[]\n"
     ]
    },
    {
     "data": {
      "text/plain": [
       "87"
      ]
     },
     "execution_count": 49,
     "metadata": {},
     "output_type": "execute_result"
    },
    {
     "name": "stderr",
     "output_type": "stream",
     "text": [
      "\r",
      "  4%|██▉                                                                                | 2/57 [00:08<03:23,  3.71s/it]"
     ]
    },
    {
     "name": "stdout",
     "output_type": "stream",
     "text": [
      "D:\\zwk_data\\pre_data\\17000\\ndwi1_int8_world_17019.tif\n",
      "P:\\add\\add\\17000\\bands_int16_17019_r.shp\n",
      "H:\\paper\\river_data\\GRWL_mask_V01.01\\SD56.tif\n",
      "H:\\paper\\river_data\\GRWL_mask_V01.01\\SD56.tif\n",
      "H:\\paper\\river_data\\GRWL_mask_V01.01\\SC56.tif\n",
      "H:\\paper\\river_data\\GRWL_mask_V01.01\\SC56.tif\n",
      "[]\n"
     ]
    },
    {
     "data": {
      "text/plain": [
       "87"
      ]
     },
     "execution_count": 49,
     "metadata": {},
     "output_type": "execute_result"
    },
    {
     "name": "stderr",
     "output_type": "stream",
     "text": [
      "\r",
      "  5%|████▎                                                                              | 3/57 [00:10<02:39,  2.95s/it]"
     ]
    },
    {
     "name": "stdout",
     "output_type": "stream",
     "text": [
      "D:\\zwk_data\\pre_data\\17000\\ndwi1_int8_world_17000.tif\n",
      "P:\\add\\add\\17000\\bands_int16_17000_r.shp\n",
      "['H:\\\\paper\\\\river_data\\\\GRWL_mask_V01.01\\\\SC55.tif']\n"
     ]
    },
    {
     "data": {
      "text/plain": [
       "89"
      ]
     },
     "execution_count": 49,
     "metadata": {},
     "output_type": "execute_result"
    },
    {
     "name": "stderr",
     "output_type": "stream",
     "text": [
      "\r",
      "  7%|█████▊                                                                             | 4/57 [00:15<03:36,  4.09s/it]"
     ]
    },
    {
     "name": "stdout",
     "output_type": "stream",
     "text": [
      "D:\\zwk_data\\pre_data\\17000\\ndwi1_int8_world_17001.tif\n",
      "P:\\add\\add\\17000\\bands_int16_17001_r.shp\n",
      "['H:\\\\paper\\\\river_data\\\\GRWL_mask_V01.01\\\\SE55.tif'\n",
      " 'H:\\\\paper\\\\river_data\\\\GRWL_mask_V01.01\\\\SF55.tif']\n"
     ]
    },
    {
     "data": {
      "text/plain": [
       "90"
      ]
     },
     "execution_count": 49,
     "metadata": {},
     "output_type": "execute_result"
    },
    {
     "name": "stderr",
     "output_type": "stream",
     "text": [
      "\r",
      "  9%|███████▎                                                                           | 5/57 [00:24<04:47,  5.53s/it]"
     ]
    },
    {
     "name": "stdout",
     "output_type": "stream",
     "text": [
      "D:\\zwk_data\\pre_data\\17000\\ndwi1_int8_world_17058.tif\n",
      "P:\\add\\add\\17000\\bands_int16_17058_r.shp\n",
      "H:\\paper\\river_data\\GRWL_mask_V01.01\\SE59.tif\n",
      "H:\\paper\\river_data\\GRWL_mask_V01.01\\SE59.tif\n",
      "['H:\\\\paper\\\\river_data\\\\GRWL_mask_V01.01\\\\SE58.tif']\n"
     ]
    },
    {
     "data": {
      "text/plain": [
       "88"
      ]
     },
     "execution_count": 49,
     "metadata": {},
     "output_type": "execute_result"
    },
    {
     "name": "stderr",
     "output_type": "stream",
     "text": [
      "\r",
      " 11%|████████▋                                                                          | 6/57 [00:29<04:43,  5.55s/it]"
     ]
    },
    {
     "name": "stdout",
     "output_type": "stream",
     "text": [
      "D:\\zwk_data\\pre_data\\17000\\ndwi1_int8_world_17078.tif\n",
      "P:\\add\\add\\17000\\bands_int16_17078_r.shp\n",
      "H:\\paper\\river_data\\GRWL_mask_V01.01\\SD60.tif\n",
      "H:\\paper\\river_data\\GRWL_mask_V01.01\\SD60.tif\n",
      "['H:\\\\paper\\\\river_data\\\\GRWL_mask_V01.01\\\\SE60.tif']\n"
     ]
    },
    {
     "data": {
      "text/plain": [
       "92"
      ]
     },
     "execution_count": 49,
     "metadata": {},
     "output_type": "execute_result"
    },
    {
     "name": "stderr",
     "output_type": "stream",
     "text": [
      "\r",
      " 12%|██████████▏                                                                        | 7/57 [00:35<04:46,  5.73s/it]"
     ]
    },
    {
     "name": "stdout",
     "output_type": "stream",
     "text": [
      "D:\\zwk_data\\pre_data\\17000\\ndwi1_int8_world_17071.tif\n",
      "P:\\add\\add\\17000\\bands_int16_17071_r.shp\n",
      "['H:\\\\paper\\\\river_data\\\\GRWL_mask_V01.01\\\\SE60.tif']\n"
     ]
    },
    {
     "data": {
      "text/plain": [
       "91"
      ]
     },
     "execution_count": 49,
     "metadata": {},
     "output_type": "execute_result"
    },
    {
     "name": "stderr",
     "output_type": "stream",
     "text": [
      "\r",
      " 14%|███████████▋                                                                       | 8/57 [00:41<04:40,  5.73s/it]"
     ]
    },
    {
     "name": "stdout",
     "output_type": "stream",
     "text": [
      "D:\\zwk_data\\pre_data\\17000\\ndwi1_int8_world_17072.tif\n",
      "P:\\add\\add\\17000\\bands_int16_17072_r.shp\n",
      "['H:\\\\paper\\\\river_data\\\\GRWL_mask_V01.01\\\\SE60.tif']\n"
     ]
    },
    {
     "data": {
      "text/plain": [
       "92"
      ]
     },
     "execution_count": 49,
     "metadata": {},
     "output_type": "execute_result"
    },
    {
     "name": "stderr",
     "output_type": "stream",
     "text": [
      "\r",
      " 16%|█████████████                                                                      | 9/57 [00:47<04:44,  5.92s/it]"
     ]
    },
    {
     "name": "stdout",
     "output_type": "stream",
     "text": [
      "D:\\zwk_data\\pre_data\\17000\\ndwi1_int8_world_17077.tif\n",
      "P:\\add\\add\\17000\\bands_int16_17077_r.shp\n",
      "['H:\\\\paper\\\\river_data\\\\GRWL_mask_V01.01\\\\SE60.tif']\n"
     ]
    },
    {
     "data": {
      "text/plain": [
       "94"
      ]
     },
     "execution_count": 49,
     "metadata": {},
     "output_type": "execute_result"
    },
    {
     "name": "stderr",
     "output_type": "stream",
     "text": [
      "\r",
      " 18%|██████████████▍                                                                   | 10/57 [00:54<04:49,  6.15s/it]"
     ]
    },
    {
     "name": "stdout",
     "output_type": "stream",
     "text": [
      "D:\\zwk_data\\pre_data\\17000\\ndwi1_int8_world_17076.tif\n",
      "P:\\add\\add\\17000\\bands_int16_17076_r.shp\n",
      "['H:\\\\paper\\\\river_data\\\\GRWL_mask_V01.01\\\\SE60.tif']\n"
     ]
    },
    {
     "data": {
      "text/plain": [
       "94"
      ]
     },
     "execution_count": 49,
     "metadata": {},
     "output_type": "execute_result"
    },
    {
     "name": "stderr",
     "output_type": "stream",
     "text": [
      "\r",
      " 19%|███████████████▊                                                                  | 11/57 [01:00<04:39,  6.08s/it]"
     ]
    },
    {
     "name": "stdout",
     "output_type": "stream",
     "text": [
      "D:\\zwk_data\\pre_data\\17000\\ndwi1_int8_world_17177.tif\n",
      "P:\\add\\add\\17000\\bands_int16_17177_r.shp\n",
      "H:\\paper\\river_data\\GRWL_mask_V01.01\\SF19.tif\n",
      "H:\\paper\\river_data\\GRWL_mask_V01.01\\SF19.tif\n",
      "['H:\\\\paper\\\\river_data\\\\GRWL_mask_V01.01\\\\SE19.tif']\n"
     ]
    },
    {
     "data": {
      "text/plain": [
       "86"
      ]
     },
     "execution_count": 49,
     "metadata": {},
     "output_type": "execute_result"
    },
    {
     "name": "stderr",
     "output_type": "stream",
     "text": [
      "\r",
      " 21%|█████████████████▎                                                                | 12/57 [01:06<04:31,  6.03s/it]"
     ]
    },
    {
     "name": "stdout",
     "output_type": "stream",
     "text": [
      "D:\\zwk_data\\pre_data\\17000\\ndwi1_int8_world_17176.tif\n",
      "P:\\add\\add\\17000\\bands_int16_17176_r.shp\n",
      "H:\\paper\\river_data\\GRWL_mask_V01.01\\SF19.tif\n",
      "H:\\paper\\river_data\\GRWL_mask_V01.01\\SF19.tif\n",
      "H:\\paper\\river_data\\GRWL_mask_V01.01\\SF19.tif\n",
      "H:\\paper\\river_data\\GRWL_mask_V01.01\\SF19.tif\n",
      "[]\n"
     ]
    },
    {
     "data": {
      "text/plain": [
       "88"
      ]
     },
     "execution_count": 49,
     "metadata": {},
     "output_type": "execute_result"
    },
    {
     "name": "stderr",
     "output_type": "stream",
     "text": [
      "\r",
      " 23%|██████████████████▋                                                               | 13/57 [01:08<03:32,  4.84s/it]"
     ]
    },
    {
     "name": "stdout",
     "output_type": "stream",
     "text": [
      "D:\\zwk_data\\pre_data\\17000\\ndwi1_int8_world_17165.tif\n",
      "P:\\add\\add\\17000\\bands_int16_17165_r.shp\n",
      "H:\\paper\\river_data\\GRWL_mask_V01.01\\SF19.tif\n",
      "H:\\paper\\river_data\\GRWL_mask_V01.01\\SF19.tif\n",
      "H:\\paper\\river_data\\GRWL_mask_V01.01\\SF19.tif\n",
      "H:\\paper\\river_data\\GRWL_mask_V01.01\\SF19.tif\n",
      "[]\n"
     ]
    },
    {
     "data": {
      "text/plain": [
       "87"
      ]
     },
     "execution_count": 49,
     "metadata": {},
     "output_type": "execute_result"
    },
    {
     "name": "stderr",
     "output_type": "stream",
     "text": [
      "\r",
      " 25%|████████████████████▏                                                             | 14/57 [01:10<02:52,  4.01s/it]"
     ]
    },
    {
     "name": "stdout",
     "output_type": "stream",
     "text": [
      "D:\\zwk_data\\pre_data\\17000\\ndwi1_int8_world_17166.tif\n",
      "P:\\add\\add\\17000\\bands_int16_17166_r.shp\n",
      "H:\\paper\\river_data\\GRWL_mask_V01.01\\SF19.tif\n",
      "H:\\paper\\river_data\\GRWL_mask_V01.01\\SF19.tif\n",
      "H:\\paper\\river_data\\GRWL_mask_V01.01\\SF19.tif\n",
      "H:\\paper\\river_data\\GRWL_mask_V01.01\\SF19.tif\n",
      "[]\n"
     ]
    },
    {
     "data": {
      "text/plain": [
       "87"
      ]
     },
     "execution_count": 49,
     "metadata": {},
     "output_type": "execute_result"
    },
    {
     "name": "stderr",
     "output_type": "stream",
     "text": [
      "\r",
      " 26%|█████████████████████▌                                                            | 15/57 [01:12<02:23,  3.41s/it]"
     ]
    },
    {
     "name": "stdout",
     "output_type": "stream",
     "text": [
      "D:\\zwk_data\\pre_data\\17000\\ndwi1_int8_world_17175.tif\n",
      "P:\\add\\add\\17000\\bands_int16_17175_r.shp\n",
      "H:\\paper\\river_data\\GRWL_mask_V01.01\\SF19.tif\n",
      "H:\\paper\\river_data\\GRWL_mask_V01.01\\SF19.tif\n",
      "H:\\paper\\river_data\\GRWL_mask_V01.01\\SF19.tif\n",
      "H:\\paper\\river_data\\GRWL_mask_V01.01\\SF19.tif\n",
      "[]\n"
     ]
    },
    {
     "data": {
      "text/plain": [
       "87"
      ]
     },
     "execution_count": 49,
     "metadata": {},
     "output_type": "execute_result"
    },
    {
     "name": "stderr",
     "output_type": "stream",
     "text": [
      "\r",
      " 28%|███████████████████████                                                           | 16/57 [01:14<02:02,  3.00s/it]"
     ]
    },
    {
     "name": "stdout",
     "output_type": "stream",
     "text": [
      "D:\\zwk_data\\pre_data\\17000\\ndwi1_int8_world_17164.tif\n",
      "P:\\add\\add\\17000\\bands_int16_17164_r.shp\n",
      "H:\\paper\\river_data\\GRWL_mask_V01.01\\SF19.tif\n",
      "H:\\paper\\river_data\\GRWL_mask_V01.01\\SF19.tif\n",
      "['H:\\\\paper\\\\river_data\\\\GRWL_mask_V01.01\\\\SG19.tif']\n"
     ]
    },
    {
     "data": {
      "text/plain": [
       "86"
      ]
     },
     "execution_count": 49,
     "metadata": {},
     "output_type": "execute_result"
    },
    {
     "name": "stderr",
     "output_type": "stream",
     "text": [
      "\r",
      " 30%|████████████████████████▍                                                         | 17/57 [01:20<02:29,  3.73s/it]"
     ]
    },
    {
     "name": "stdout",
     "output_type": "stream",
     "text": [
      "D:\\zwk_data\\pre_data\\17000\\ndwi1_int8_world_17257.tif\n",
      "P:\\add\\add\\17000\\bands_int16_17257_r.shp\n",
      "['H:\\\\paper\\\\river_data\\\\GRWL_mask_V01.01\\\\SE20.tif'\n",
      " 'H:\\\\paper\\\\river_data\\\\GRWL_mask_V01.01\\\\SE21.tif'\n",
      " 'H:\\\\paper\\\\river_data\\\\GRWL_mask_V01.01\\\\SF20.tif'\n",
      " 'H:\\\\paper\\\\river_data\\\\GRWL_mask_V01.01\\\\SF21.tif']\n"
     ]
    },
    {
     "data": {
      "text/plain": [
       "87"
      ]
     },
     "execution_count": 49,
     "metadata": {},
     "output_type": "execute_result"
    },
    {
     "name": "stderr",
     "output_type": "stream",
     "text": [
      "\r",
      " 32%|█████████████████████████▉                                                        | 18/57 [01:37<05:11,  7.99s/it]"
     ]
    },
    {
     "name": "stdout",
     "output_type": "stream",
     "text": [
      "D:\\zwk_data\\pre_data\\17000\\ndwi1_int8_world_17437.tif\n",
      "P:\\add\\add\\17000\\bands_int16_17437_r.shp\n",
      "H:\\paper\\river_data\\GRWL_mask_V01.01\\SG34.tif\n",
      "['H:\\\\paper\\\\river_data\\\\GRWL_mask_V01.01\\\\SG33.tif'\n",
      " 'H:\\\\paper\\\\river_data\\\\GRWL_mask_V01.01\\\\SH33.tif'\n",
      " 'H:\\\\paper\\\\river_data\\\\GRWL_mask_V01.01\\\\SH34.tif']\n"
     ]
    },
    {
     "data": {
      "text/plain": [
       "94"
      ]
     },
     "execution_count": 49,
     "metadata": {},
     "output_type": "execute_result"
    },
    {
     "name": "stderr",
     "output_type": "stream",
     "text": [
      "\r",
      " 33%|███████████████████████████▎                                                      | 19/57 [01:48<05:33,  8.77s/it]"
     ]
    },
    {
     "name": "stdout",
     "output_type": "stream",
     "text": [
      "D:\\zwk_data\\pre_data\\17000\\ndwi1_int8_world_17454.tif\n",
      "P:\\add\\add\\17000\\bands_int16_17454_r.shp\n",
      "H:\\paper\\river_data\\GRWL_mask_V01.01\\SF33.tif\n",
      "H:\\paper\\river_data\\GRWL_mask_V01.01\\SF33.tif\n",
      "['H:\\\\paper\\\\river_data\\\\GRWL_mask_V01.01\\\\SF34.tif']\n"
     ]
    },
    {
     "data": {
      "text/plain": [
       "86"
      ]
     },
     "execution_count": 49,
     "metadata": {},
     "output_type": "execute_result"
    },
    {
     "name": "stderr",
     "output_type": "stream",
     "text": [
      "\r",
      " 35%|████████████████████████████▊                                                     | 20/57 [01:53<04:47,  7.78s/it]"
     ]
    },
    {
     "name": "stdout",
     "output_type": "stream",
     "text": [
      "D:\\zwk_data\\pre_data\\17000\\ndwi1_int8_world_17448.tif\n",
      "P:\\add\\add\\17000\\bands_int16_17448_r.shp\n",
      "H:\\paper\\river_data\\GRWL_mask_V01.01\\SG34.tif\n",
      "['H:\\\\paper\\\\river_data\\\\GRWL_mask_V01.01\\\\SG33.tif'\n",
      " 'H:\\\\paper\\\\river_data\\\\GRWL_mask_V01.01\\\\SH33.tif'\n",
      " 'H:\\\\paper\\\\river_data\\\\GRWL_mask_V01.01\\\\SH34.tif']\n"
     ]
    },
    {
     "data": {
      "text/plain": [
       "87"
      ]
     },
     "execution_count": 49,
     "metadata": {},
     "output_type": "execute_result"
    },
    {
     "name": "stderr",
     "output_type": "stream",
     "text": [
      "\r",
      " 37%|██████████████████████████████▏                                                   | 21/57 [02:03<05:01,  8.38s/it]"
     ]
    },
    {
     "name": "stdout",
     "output_type": "stream",
     "text": [
      "D:\\zwk_data\\pre_data\\17000\\ndwi1_int8_world_17438.tif\n",
      "P:\\add\\add\\17000\\bands_int16_17438_r.shp\n",
      "H:\\paper\\river_data\\GRWL_mask_V01.01\\SG34.tif\n",
      "['H:\\\\paper\\\\river_data\\\\GRWL_mask_V01.01\\\\SG33.tif'\n",
      " 'H:\\\\paper\\\\river_data\\\\GRWL_mask_V01.01\\\\SH33.tif'\n",
      " 'H:\\\\paper\\\\river_data\\\\GRWL_mask_V01.01\\\\SH34.tif']\n"
     ]
    },
    {
     "data": {
      "text/plain": [
       "88"
      ]
     },
     "execution_count": 49,
     "metadata": {},
     "output_type": "execute_result"
    },
    {
     "name": "stderr",
     "output_type": "stream",
     "text": [
      "\r",
      " 39%|███████████████████████████████▋                                                  | 22/57 [02:13<05:10,  8.88s/it]"
     ]
    },
    {
     "name": "stdout",
     "output_type": "stream",
     "text": [
      "D:\\zwk_data\\pre_data\\17000\\ndwi1_int8_world_17439.tif\n",
      "P:\\add\\add\\17000\\bands_int16_17439_r.shp\n",
      "H:\\paper\\river_data\\GRWL_mask_V01.01\\SG34.tif\n",
      "H:\\paper\\river_data\\GRWL_mask_V01.01\\SG34.tif\n",
      "['H:\\\\paper\\\\river_data\\\\GRWL_mask_V01.01\\\\SG33.tif']\n"
     ]
    },
    {
     "data": {
      "text/plain": [
       "88"
      ]
     },
     "execution_count": 49,
     "metadata": {},
     "output_type": "execute_result"
    },
    {
     "name": "stderr",
     "output_type": "stream",
     "text": [
      "\r",
      " 40%|█████████████████████████████████                                                 | 23/57 [02:19<04:29,  7.92s/it]"
     ]
    },
    {
     "name": "stdout",
     "output_type": "stream",
     "text": [
      "D:\\zwk_data\\pre_data\\17000\\ndwi1_int8_world_17440.tif\n",
      "P:\\add\\add\\17000\\bands_int16_17440_r.shp\n",
      "H:\\paper\\river_data\\GRWL_mask_V01.01\\SG34.tif\n",
      "H:\\paper\\river_data\\GRWL_mask_V01.01\\SG34.tif\n",
      "['H:\\\\paper\\\\river_data\\\\GRWL_mask_V01.01\\\\SG33.tif']\n"
     ]
    },
    {
     "data": {
      "text/plain": [
       "92"
      ]
     },
     "execution_count": 49,
     "metadata": {},
     "output_type": "execute_result"
    },
    {
     "name": "stderr",
     "output_type": "stream",
     "text": [
      "\r",
      " 42%|██████████████████████████████████▌                                               | 24/57 [02:25<04:00,  7.28s/it]"
     ]
    },
    {
     "name": "stdout",
     "output_type": "stream",
     "text": [
      "D:\\zwk_data\\pre_data\\17000\\ndwi1_int8_world_17442.tif\n",
      "P:\\add\\add\\17000\\bands_int16_17442_r.shp\n",
      "H:\\paper\\river_data\\GRWL_mask_V01.01\\SG34.tif\n",
      "H:\\paper\\river_data\\GRWL_mask_V01.01\\SF33.tif\n",
      "['H:\\\\paper\\\\river_data\\\\GRWL_mask_V01.01\\\\SF34.tif'\n",
      " 'H:\\\\paper\\\\river_data\\\\GRWL_mask_V01.01\\\\SG33.tif']\n"
     ]
    },
    {
     "data": {
      "text/plain": [
       "87"
      ]
     },
     "execution_count": 49,
     "metadata": {},
     "output_type": "execute_result"
    },
    {
     "name": "stderr",
     "output_type": "stream",
     "text": [
      "\r",
      " 44%|███████████████████████████████████▉                                              | 25/57 [02:32<03:56,  7.39s/it]"
     ]
    },
    {
     "name": "stdout",
     "output_type": "stream",
     "text": [
      "D:\\zwk_data\\pre_data\\17000\\ndwi1_int8_world_17443.tif\n",
      "P:\\add\\add\\17000\\bands_int16_17443_r.shp\n",
      "H:\\paper\\river_data\\GRWL_mask_V01.01\\SF33.tif\n",
      "H:\\paper\\river_data\\GRWL_mask_V01.01\\SF33.tif\n",
      "['H:\\\\paper\\\\river_data\\\\GRWL_mask_V01.01\\\\SF34.tif']\n"
     ]
    },
    {
     "data": {
      "text/plain": [
       "89"
      ]
     },
     "execution_count": 49,
     "metadata": {},
     "output_type": "execute_result"
    },
    {
     "name": "stderr",
     "output_type": "stream",
     "text": [
      "\r",
      " 46%|█████████████████████████████████████▍                                            | 26/57 [02:39<03:37,  7.02s/it]"
     ]
    },
    {
     "name": "stdout",
     "output_type": "stream",
     "text": [
      "D:\\zwk_data\\pre_data\\17000\\ndwi1_int8_world_17444.tif\n",
      "P:\\add\\add\\17000\\bands_int16_17444_r.shp\n",
      "H:\\paper\\river_data\\GRWL_mask_V01.01\\SF33.tif\n",
      "H:\\paper\\river_data\\GRWL_mask_V01.01\\SF33.tif\n",
      "['H:\\\\paper\\\\river_data\\\\GRWL_mask_V01.01\\\\SF34.tif']\n"
     ]
    },
    {
     "data": {
      "text/plain": [
       "88"
      ]
     },
     "execution_count": 49,
     "metadata": {},
     "output_type": "execute_result"
    },
    {
     "name": "stderr",
     "output_type": "stream",
     "text": [
      "\r",
      " 47%|██████████████████████████████████████▊                                           | 27/57 [02:45<03:21,  6.72s/it]"
     ]
    },
    {
     "name": "stdout",
     "output_type": "stream",
     "text": [
      "D:\\zwk_data\\pre_data\\17000\\ndwi1_int8_world_17445.tif\n",
      "P:\\add\\add\\17000\\bands_int16_17445_r.shp\n",
      "H:\\paper\\river_data\\GRWL_mask_V01.01\\SF33.tif\n",
      "['H:\\\\paper\\\\river_data\\\\GRWL_mask_V01.01\\\\SE33.tif'\n",
      " 'H:\\\\paper\\\\river_data\\\\GRWL_mask_V01.01\\\\SE34.tif'\n",
      " 'H:\\\\paper\\\\river_data\\\\GRWL_mask_V01.01\\\\SF34.tif']\n"
     ]
    },
    {
     "data": {
      "text/plain": [
       "86"
      ]
     },
     "execution_count": 49,
     "metadata": {},
     "output_type": "execute_result"
    },
    {
     "name": "stderr",
     "output_type": "stream",
     "text": [
      "\r",
      " 49%|████████████████████████████████████████▎                                         | 28/57 [02:55<03:44,  7.73s/it]"
     ]
    },
    {
     "name": "stdout",
     "output_type": "stream",
     "text": [
      "D:\\zwk_data\\pre_data\\17000\\ndwi1_int8_world_17431.tif\n",
      "P:\\add\\add\\17000\\bands_int16_17431_r.shp\n",
      "H:\\paper\\river_data\\GRWL_mask_V01.01\\SF33.tif\n",
      "H:\\paper\\river_data\\GRWL_mask_V01.01\\SF33.tif\n",
      "['H:\\\\paper\\\\river_data\\\\GRWL_mask_V01.01\\\\SG33.tif']\n"
     ]
    },
    {
     "data": {
      "text/plain": [
       "87"
      ]
     },
     "execution_count": 49,
     "metadata": {},
     "output_type": "execute_result"
    },
    {
     "name": "stderr",
     "output_type": "stream",
     "text": [
      "\r",
      " 51%|█████████████████████████████████████████▋                                        | 29/57 [03:01<03:21,  7.20s/it]"
     ]
    },
    {
     "name": "stdout",
     "output_type": "stream",
     "text": [
      "D:\\zwk_data\\pre_data\\17000\\ndwi1_int8_world_17432.tif\n",
      "P:\\add\\add\\17000\\bands_int16_17432_r.shp\n",
      "H:\\paper\\river_data\\GRWL_mask_V01.01\\SF33.tif\n",
      "H:\\paper\\river_data\\GRWL_mask_V01.01\\SF33.tif\n",
      "['H:\\\\paper\\\\river_data\\\\GRWL_mask_V01.01\\\\SG33.tif']\n"
     ]
    },
    {
     "data": {
      "text/plain": [
       "87"
      ]
     },
     "execution_count": 49,
     "metadata": {},
     "output_type": "execute_result"
    },
    {
     "name": "stderr",
     "output_type": "stream",
     "text": [
      "\r",
      " 53%|███████████████████████████████████████████▏                                      | 30/57 [03:07<03:07,  6.94s/it]"
     ]
    },
    {
     "name": "stdout",
     "output_type": "stream",
     "text": [
      "D:\\zwk_data\\pre_data\\17000\\ndwi1_int8_world_17434.tif\n",
      "P:\\add\\add\\17000\\bands_int16_17434_r.shp\n",
      "H:\\paper\\river_data\\GRWL_mask_V01.01\\SF33.tif\n",
      "H:\\paper\\river_data\\GRWL_mask_V01.01\\SF33.tif\n",
      "H:\\paper\\river_data\\GRWL_mask_V01.01\\SF33.tif\n",
      "H:\\paper\\river_data\\GRWL_mask_V01.01\\SF33.tif\n",
      "[]\n"
     ]
    },
    {
     "data": {
      "text/plain": [
       "88"
      ]
     },
     "execution_count": 49,
     "metadata": {},
     "output_type": "execute_result"
    },
    {
     "name": "stderr",
     "output_type": "stream",
     "text": [
      "\r",
      " 54%|████████████████████████████████████████████▌                                     | 31/57 [03:10<02:28,  5.71s/it]"
     ]
    },
    {
     "name": "stdout",
     "output_type": "stream",
     "text": [
      "D:\\zwk_data\\pre_data\\17000\\ndwi1_int8_world_17435.tif\n",
      "P:\\add\\add\\17000\\bands_int16_17435_r.shp\n",
      "H:\\paper\\river_data\\GRWL_mask_V01.01\\SF33.tif\n",
      "H:\\paper\\river_data\\GRWL_mask_V01.01\\SF33.tif\n",
      "['H:\\\\paper\\\\river_data\\\\GRWL_mask_V01.01\\\\SE33.tif']\n"
     ]
    },
    {
     "data": {
      "text/plain": [
       "86"
      ]
     },
     "execution_count": 49,
     "metadata": {},
     "output_type": "execute_result"
    },
    {
     "name": "stderr",
     "output_type": "stream",
     "text": [
      "\r",
      " 56%|██████████████████████████████████████████████                                    | 32/57 [03:16<02:24,  5.77s/it]"
     ]
    },
    {
     "name": "stdout",
     "output_type": "stream",
     "text": [
      "D:\\zwk_data\\pre_data\\17000\\ndwi1_int8_world_17425.tif\n",
      "P:\\add\\add\\17000\\bands_int16_17425_r.shp\n",
      "H:\\paper\\river_data\\GRWL_mask_V01.01\\SF33.tif\n",
      "H:\\paper\\river_data\\GRWL_mask_V01.01\\SF33.tif\n",
      "['H:\\\\paper\\\\river_data\\\\GRWL_mask_V01.01\\\\SE33.tif']\n"
     ]
    },
    {
     "data": {
      "text/plain": [
       "86"
      ]
     },
     "execution_count": 49,
     "metadata": {},
     "output_type": "execute_result"
    },
    {
     "name": "stderr",
     "output_type": "stream",
     "text": [
      "\r",
      " 58%|███████████████████████████████████████████████▍                                  | 33/57 [03:22<02:20,  5.85s/it]"
     ]
    },
    {
     "name": "stdout",
     "output_type": "stream",
     "text": [
      "D:\\zwk_data\\pre_data\\17000\\ndwi1_int8_world_17424.tif\n",
      "P:\\add\\add\\17000\\bands_int16_17424_r.shp\n",
      "H:\\paper\\river_data\\GRWL_mask_V01.01\\SF33.tif\n",
      "H:\\paper\\river_data\\GRWL_mask_V01.01\\SF33.tif\n",
      "H:\\paper\\river_data\\GRWL_mask_V01.01\\SF33.tif\n",
      "H:\\paper\\river_data\\GRWL_mask_V01.01\\SF33.tif\n",
      "[]\n"
     ]
    },
    {
     "data": {
      "text/plain": [
       "87"
      ]
     },
     "execution_count": 49,
     "metadata": {},
     "output_type": "execute_result"
    },
    {
     "name": "stderr",
     "output_type": "stream",
     "text": [
      "\r",
      " 60%|████████████████████████████████████████████████▉                                 | 34/57 [03:24<01:48,  4.73s/it]"
     ]
    },
    {
     "name": "stdout",
     "output_type": "stream",
     "text": [
      "D:\\zwk_data\\pre_data\\17000\\ndwi1_int8_world_17518.tif\n",
      "P:\\add\\add\\17000\\bands_int16_17518_r.shp\n",
      "['H:\\\\paper\\\\river_data\\\\GRWL_mask_V01.01\\\\SG35.tif']\n"
     ]
    },
    {
     "data": {
      "text/plain": [
       "84"
      ]
     },
     "execution_count": 49,
     "metadata": {},
     "output_type": "execute_result"
    },
    {
     "name": "stderr",
     "output_type": "stream",
     "text": [
      "\r",
      " 61%|██████████████████████████████████████████████████▎                               | 35/57 [03:30<01:51,  5.06s/it]"
     ]
    },
    {
     "name": "stdout",
     "output_type": "stream",
     "text": [
      "D:\\zwk_data\\pre_data\\17000\\ndwi1_int8_world_17503.tif\n",
      "P:\\add\\add\\17000\\bands_int16_17503_r.shp\n",
      "['H:\\\\paper\\\\river_data\\\\GRWL_mask_V01.01\\\\SE34.tif'\n",
      " 'H:\\\\paper\\\\river_data\\\\GRWL_mask_V01.01\\\\SE35.tif'\n",
      " 'H:\\\\paper\\\\river_data\\\\GRWL_mask_V01.01\\\\SF34.tif'\n",
      " 'H:\\\\paper\\\\river_data\\\\GRWL_mask_V01.01\\\\SF35.tif']\n"
     ]
    },
    {
     "data": {
      "text/plain": [
       "91"
      ]
     },
     "execution_count": 49,
     "metadata": {},
     "output_type": "execute_result"
    },
    {
     "name": "stderr",
     "output_type": "stream",
     "text": [
      "\r",
      " 63%|███████████████████████████████████████████████████▊                              | 36/57 [03:42<02:32,  7.28s/it]"
     ]
    },
    {
     "name": "stdout",
     "output_type": "stream",
     "text": [
      "D:\\zwk_data\\pre_data\\17000\\ndwi1_int8_world_17591.tif\n",
      "P:\\add\\add\\17000\\bands_int16_17591_r.shp\n",
      "['H:\\\\paper\\\\river_data\\\\GRWL_mask_V01.01\\\\SF36.tif']\n"
     ]
    },
    {
     "data": {
      "text/plain": [
       "93"
      ]
     },
     "execution_count": 49,
     "metadata": {},
     "output_type": "execute_result"
    },
    {
     "name": "stderr",
     "output_type": "stream",
     "text": [
      "\r",
      " 65%|█████████████████████████████████████████████████████▏                            | 37/57 [03:49<02:22,  7.12s/it]"
     ]
    },
    {
     "name": "stdout",
     "output_type": "stream",
     "text": [
      "D:\\zwk_data\\pre_data\\17000\\ndwi1_int8_world_17660.tif\n",
      "P:\\add\\add\\17000\\bands_int16_17660_r.shp\n",
      "H:\\paper\\river_data\\GRWL_mask_V01.01\\SG49.tif\n",
      "H:\\paper\\river_data\\GRWL_mask_V01.01\\SF49.tif\n",
      "['H:\\\\paper\\\\river_data\\\\GRWL_mask_V01.01\\\\SF50.tif'\n",
      " 'H:\\\\paper\\\\river_data\\\\GRWL_mask_V01.01\\\\SG50.tif']\n"
     ]
    },
    {
     "data": {
      "text/plain": [
       "89"
      ]
     },
     "execution_count": 49,
     "metadata": {},
     "output_type": "execute_result"
    },
    {
     "name": "stderr",
     "output_type": "stream",
     "text": [
      "\r",
      " 67%|██████████████████████████████████████████████████████▋                           | 38/57 [03:57<02:18,  7.26s/it]"
     ]
    },
    {
     "name": "stdout",
     "output_type": "stream",
     "text": [
      "D:\\zwk_data\\pre_data\\17000\\ndwi1_int8_world_17674.tif\n",
      "P:\\add\\add\\17000\\bands_int16_17674_r.shp\n",
      "['H:\\\\paper\\\\river_data\\\\GRWL_mask_V01.01\\\\SG50.tif'\n",
      " 'H:\\\\paper\\\\river_data\\\\GRWL_mask_V01.01\\\\SH50.tif']\n"
     ]
    },
    {
     "data": {
      "text/plain": [
       "87"
      ]
     },
     "execution_count": 49,
     "metadata": {},
     "output_type": "execute_result"
    },
    {
     "name": "stderr",
     "output_type": "stream",
     "text": [
      "\r",
      " 68%|████████████████████████████████████████████████████████                          | 39/57 [04:04<02:12,  7.33s/it]"
     ]
    },
    {
     "name": "stdout",
     "output_type": "stream",
     "text": [
      "D:\\zwk_data\\pre_data\\17000\\ndwi1_int8_world_17719.tif\n",
      "P:\\add\\add\\17000\\bands_int16_17719_r.shp\n",
      "H:\\paper\\river_data\\GRWL_mask_V01.01\\SG51.tif\n",
      "['H:\\\\paper\\\\river_data\\\\GRWL_mask_V01.01\\\\SF50.tif'\n",
      " 'H:\\\\paper\\\\river_data\\\\GRWL_mask_V01.01\\\\SF51.tif'\n",
      " 'H:\\\\paper\\\\river_data\\\\GRWL_mask_V01.01\\\\SG50.tif']\n"
     ]
    },
    {
     "data": {
      "text/plain": [
       "85"
      ]
     },
     "execution_count": 49,
     "metadata": {},
     "output_type": "execute_result"
    },
    {
     "name": "stderr",
     "output_type": "stream",
     "text": [
      "\r",
      " 70%|█████████████████████████████████████████████████████████▌                        | 40/57 [04:14<02:16,  8.00s/it]"
     ]
    },
    {
     "name": "stdout",
     "output_type": "stream",
     "text": [
      "D:\\zwk_data\\pre_data\\17000\\ndwi1_int8_world_17707.tif\n",
      "P:\\add\\add\\17000\\bands_int16_17707_r.shp\n",
      "['H:\\\\paper\\\\river_data\\\\GRWL_mask_V01.01\\\\SG50.tif']\n"
     ]
    },
    {
     "data": {
      "text/plain": [
       "85"
      ]
     },
     "execution_count": 49,
     "metadata": {},
     "output_type": "execute_result"
    },
    {
     "name": "stderr",
     "output_type": "stream",
     "text": [
      "\r",
      " 72%|██████████████████████████████████████████████████████████▉                       | 41/57 [04:19<01:55,  7.23s/it]"
     ]
    },
    {
     "name": "stdout",
     "output_type": "stream",
     "text": [
      "D:\\zwk_data\\pre_data\\17000\\ndwi1_int8_world_17706.tif\n",
      "P:\\add\\add\\17000\\bands_int16_17706_r.shp\n",
      "['H:\\\\paper\\\\river_data\\\\GRWL_mask_V01.01\\\\SG50.tif']\n"
     ]
    },
    {
     "data": {
      "text/plain": [
       "85"
      ]
     },
     "execution_count": 49,
     "metadata": {},
     "output_type": "execute_result"
    },
    {
     "name": "stderr",
     "output_type": "stream",
     "text": [
      "\r",
      " 74%|████████████████████████████████████████████████████████████▍                     | 42/57 [04:24<01:40,  6.68s/it]"
     ]
    },
    {
     "name": "stdout",
     "output_type": "stream",
     "text": [
      "D:\\zwk_data\\pre_data\\17000\\ndwi1_int8_world_17729.tif\n",
      "P:\\add\\add\\17000\\bands_int16_17729_r.shp\n",
      "H:\\paper\\river_data\\GRWL_mask_V01.01\\SG51.tif\n",
      "['H:\\\\paper\\\\river_data\\\\GRWL_mask_V01.01\\\\SF50.tif'\n",
      " 'H:\\\\paper\\\\river_data\\\\GRWL_mask_V01.01\\\\SF51.tif'\n",
      " 'H:\\\\paper\\\\river_data\\\\GRWL_mask_V01.01\\\\SG50.tif']\n"
     ]
    },
    {
     "data": {
      "text/plain": [
       "86"
      ]
     },
     "execution_count": 49,
     "metadata": {},
     "output_type": "execute_result"
    },
    {
     "name": "stderr",
     "output_type": "stream",
     "text": [
      "\r",
      " 75%|█████████████████████████████████████████████████████████████▊                    | 43/57 [04:35<01:47,  7.71s/it]"
     ]
    },
    {
     "name": "stdout",
     "output_type": "stream",
     "text": [
      "D:\\zwk_data\\pre_data\\17000\\ndwi1_int8_world_17736.tif\n",
      "P:\\add\\add\\17000\\bands_int16_17736_r.shp\n",
      "H:\\paper\\river_data\\GRWL_mask_V01.01\\SG51.tif\n",
      "H:\\paper\\river_data\\GRWL_mask_V01.01\\SG51.tif\n",
      "H:\\paper\\river_data\\GRWL_mask_V01.01\\SG51.tif\n",
      "H:\\paper\\river_data\\GRWL_mask_V01.01\\SG51.tif\n",
      "[]\n"
     ]
    },
    {
     "data": {
      "text/plain": [
       "85"
      ]
     },
     "execution_count": 49,
     "metadata": {},
     "output_type": "execute_result"
    },
    {
     "name": "stderr",
     "output_type": "stream",
     "text": [
      "\r",
      " 77%|███████████████████████████████████████████████████████████████▎                  | 44/57 [04:37<01:18,  6.02s/it]"
     ]
    },
    {
     "name": "stdout",
     "output_type": "stream",
     "text": [
      "D:\\zwk_data\\pre_data\\17000\\ndwi1_int8_world_17746.tif\n",
      "P:\\add\\add\\17000\\bands_int16_17746_r.shp\n",
      "H:\\paper\\river_data\\GRWL_mask_V01.01\\SG51.tif\n",
      "H:\\paper\\river_data\\GRWL_mask_V01.01\\SG51.tif\n",
      "H:\\paper\\river_data\\GRWL_mask_V01.01\\SG51.tif\n",
      "H:\\paper\\river_data\\GRWL_mask_V01.01\\SG51.tif\n",
      "[]\n"
     ]
    },
    {
     "data": {
      "text/plain": [
       "86"
      ]
     },
     "execution_count": 49,
     "metadata": {},
     "output_type": "execute_result"
    },
    {
     "name": "stderr",
     "output_type": "stream",
     "text": [
      "\r",
      " 79%|████████████████████████████████████████████████████████████████▋                 | 45/57 [04:39<00:57,  4.83s/it]"
     ]
    },
    {
     "name": "stdout",
     "output_type": "stream",
     "text": [
      "D:\\zwk_data\\pre_data\\17000\\ndwi1_int8_world_17801.tif\n",
      "P:\\add\\add\\17000\\bands_int16_17801_r.shp\n",
      "H:\\paper\\river_data\\GRWL_mask_V01.01\\SF52.tif\n",
      "H:\\paper\\river_data\\GRWL_mask_V01.01\\SF52.tif\n",
      "['H:\\\\paper\\\\river_data\\\\GRWL_mask_V01.01\\\\SE52.tif']\n"
     ]
    },
    {
     "data": {
      "text/plain": [
       "87"
      ]
     },
     "execution_count": 49,
     "metadata": {},
     "output_type": "execute_result"
    },
    {
     "name": "stderr",
     "output_type": "stream",
     "text": [
      "\r",
      " 81%|██████████████████████████████████████████████████████████████████▏               | 46/57 [04:45<00:56,  5.17s/it]"
     ]
    },
    {
     "name": "stdout",
     "output_type": "stream",
     "text": [
      "D:\\zwk_data\\pre_data\\17000\\ndwi1_int8_world_17846.tif\n",
      "P:\\add\\add\\17000\\bands_int16_17846_r.shp\n",
      "H:\\paper\\river_data\\GRWL_mask_V01.01\\SG52.tif\n",
      "H:\\paper\\river_data\\GRWL_mask_V01.01\\SG53.tif\n",
      "H:\\paper\\river_data\\GRWL_mask_V01.01\\SF52.tif\n",
      "['H:\\\\paper\\\\river_data\\\\GRWL_mask_V01.01\\\\SF53.tif']\n"
     ]
    },
    {
     "data": {
      "text/plain": [
       "88"
      ]
     },
     "execution_count": 49,
     "metadata": {},
     "output_type": "execute_result"
    },
    {
     "name": "stderr",
     "output_type": "stream",
     "text": [
      "\r",
      " 82%|███████████████████████████████████████████████████████████████████▌              | 47/57 [04:50<00:52,  5.28s/it]"
     ]
    },
    {
     "name": "stdout",
     "output_type": "stream",
     "text": [
      "D:\\zwk_data\\pre_data\\17000\\ndwi1_int8_world_17856.tif\n",
      "P:\\add\\add\\17000\\bands_int16_17856_r.shp\n",
      "H:\\paper\\river_data\\GRWL_mask_V01.01\\SG53.tif\n",
      "H:\\paper\\river_data\\GRWL_mask_V01.01\\SG53.tif\n",
      "['H:\\\\paper\\\\river_data\\\\GRWL_mask_V01.01\\\\SF53.tif']\n"
     ]
    },
    {
     "data": {
      "text/plain": [
       "89"
      ]
     },
     "execution_count": 49,
     "metadata": {},
     "output_type": "execute_result"
    },
    {
     "name": "stderr",
     "output_type": "stream",
     "text": [
      "\r",
      " 84%|█████████████████████████████████████████████████████████████████████             | 48/57 [04:56<00:48,  5.37s/it]"
     ]
    },
    {
     "name": "stdout",
     "output_type": "stream",
     "text": [
      "D:\\zwk_data\\pre_data\\17000\\ndwi1_int8_world_17891.tif\n",
      "P:\\add\\add\\17000\\bands_int16_17891_r.shp\n",
      "H:\\paper\\river_data\\GRWL_mask_V01.01\\SH53.tif\n",
      "H:\\paper\\river_data\\GRWL_mask_V01.01\\SH53.tif\n",
      "['H:\\\\paper\\\\river_data\\\\GRWL_mask_V01.01\\\\SH54.tif']\n"
     ]
    },
    {
     "data": {
      "text/plain": [
       "88"
      ]
     },
     "execution_count": 49,
     "metadata": {},
     "output_type": "execute_result"
    },
    {
     "name": "stderr",
     "output_type": "stream",
     "text": [
      "\r",
      " 86%|██████████████████████████████████████████████████████████████████████▍           | 49/57 [05:01<00:43,  5.42s/it]"
     ]
    },
    {
     "name": "stdout",
     "output_type": "stream",
     "text": [
      "D:\\zwk_data\\pre_data\\17000\\ndwi1_int8_world_17881.tif\n",
      "P:\\add\\add\\17000\\bands_int16_17881_r.shp\n",
      "H:\\paper\\river_data\\GRWL_mask_V01.01\\SH53.tif\n",
      "H:\\paper\\river_data\\GRWL_mask_V01.01\\SH53.tif\n",
      "H:\\paper\\river_data\\GRWL_mask_V01.01\\SH53.tif\n",
      "H:\\paper\\river_data\\GRWL_mask_V01.01\\SH53.tif\n",
      "[]\n"
     ]
    },
    {
     "data": {
      "text/plain": [
       "87"
      ]
     },
     "execution_count": 49,
     "metadata": {},
     "output_type": "execute_result"
    },
    {
     "name": "stderr",
     "output_type": "stream",
     "text": [
      "\r",
      " 88%|███████████████████████████████████████████████████████████████████████▉          | 50/57 [05:03<00:31,  4.45s/it]"
     ]
    },
    {
     "name": "stdout",
     "output_type": "stream",
     "text": [
      "D:\\zwk_data\\pre_data\\17000\\ndwi1_int8_world_17882.tif\n",
      "P:\\add\\add\\17000\\bands_int16_17882_r.shp\n",
      "H:\\paper\\river_data\\GRWL_mask_V01.01\\SH53.tif\n",
      "H:\\paper\\river_data\\GRWL_mask_V01.01\\SH53.tif\n",
      "H:\\paper\\river_data\\GRWL_mask_V01.01\\SG53.tif\n",
      "H:\\paper\\river_data\\GRWL_mask_V01.01\\SG53.tif\n",
      "[]\n"
     ]
    },
    {
     "data": {
      "text/plain": [
       "88"
      ]
     },
     "execution_count": 49,
     "metadata": {},
     "output_type": "execute_result"
    },
    {
     "name": "stderr",
     "output_type": "stream",
     "text": [
      "\r",
      " 89%|█████████████████████████████████████████████████████████████████████████▎        | 51/57 [05:06<00:22,  3.78s/it]"
     ]
    },
    {
     "name": "stdout",
     "output_type": "stream",
     "text": [
      "D:\\zwk_data\\pre_data\\17000\\ndwi1_int8_world_17948.tif\n",
      "P:\\add\\add\\17000\\bands_int16_17948_r.shp\n",
      "['H:\\\\paper\\\\river_data\\\\GRWL_mask_V01.01\\\\SF54.tif']\n"
     ]
    },
    {
     "data": {
      "text/plain": [
       "87"
      ]
     },
     "execution_count": 49,
     "metadata": {},
     "output_type": "execute_result"
    },
    {
     "name": "stderr",
     "output_type": "stream",
     "text": [
      "\r",
      " 91%|██████████████████████████████████████████████████████████████████████████▊       | 52/57 [05:11<00:21,  4.32s/it]"
     ]
    },
    {
     "name": "stdout",
     "output_type": "stream",
     "text": [
      "D:\\zwk_data\\pre_data\\17000\\ndwi1_int8_world_17947.tif\n",
      "P:\\add\\add\\17000\\bands_int16_17947_r.shp\n",
      "['H:\\\\paper\\\\river_data\\\\GRWL_mask_V01.01\\\\SF54.tif'\n",
      " 'H:\\\\paper\\\\river_data\\\\GRWL_mask_V01.01\\\\SG54.tif']\n"
     ]
    },
    {
     "data": {
      "text/plain": [
       "86"
      ]
     },
     "execution_count": 49,
     "metadata": {},
     "output_type": "execute_result"
    },
    {
     "name": "stderr",
     "output_type": "stream",
     "text": [
      "\r",
      " 93%|████████████████████████████████████████████████████████████████████████████▏     | 53/57 [05:19<00:21,  5.48s/it]"
     ]
    },
    {
     "name": "stdout",
     "output_type": "stream",
     "text": [
      "D:\\zwk_data\\pre_data\\17000\\ndwi1_int8_world_17965.tif\n",
      "P:\\add\\add\\17000\\bands_int16_17965_r.shp\n",
      "['H:\\\\paper\\\\river_data\\\\GRWL_mask_V01.01\\\\SG54.tif'\n",
      " 'H:\\\\paper\\\\river_data\\\\GRWL_mask_V01.01\\\\SG55.tif']\n"
     ]
    },
    {
     "data": {
      "text/plain": [
       "86"
      ]
     },
     "execution_count": 49,
     "metadata": {},
     "output_type": "execute_result"
    },
    {
     "name": "stderr",
     "output_type": "stream",
     "text": [
      "\r",
      " 95%|█████████████████████████████████████████████████████████████████████████████▋    | 54/57 [05:28<00:18,  6.31s/it]"
     ]
    },
    {
     "name": "stdout",
     "output_type": "stream",
     "text": [
      "D:\\zwk_data\\pre_data\\17000\\ndwi1_int8_world_17973.tif\n",
      "P:\\add\\add\\17000\\bands_int16_17973_r.shp\n",
      "['H:\\\\paper\\\\river_data\\\\GRWL_mask_V01.01\\\\SG55.tif'\n",
      " 'H:\\\\paper\\\\river_data\\\\GRWL_mask_V01.01\\\\SH55.tif']\n"
     ]
    },
    {
     "data": {
      "text/plain": [
       "88"
      ]
     },
     "execution_count": 49,
     "metadata": {},
     "output_type": "execute_result"
    },
    {
     "name": "stderr",
     "output_type": "stream",
     "text": [
      "\r",
      " 96%|███████████████████████████████████████████████████████████████████████████████   | 55/57 [05:37<00:14,  7.08s/it]"
     ]
    },
    {
     "name": "stdout",
     "output_type": "stream",
     "text": [
      "D:\\zwk_data\\pre_data\\17000\\ndwi1_int8_world_17999.tif\n",
      "P:\\add\\add\\17000\\bands_int16_17999_r.shp\n",
      "['H:\\\\paper\\\\river_data\\\\GRWL_mask_V01.01\\\\SF55.tif']\n"
     ]
    },
    {
     "data": {
      "text/plain": [
       "85"
      ]
     },
     "execution_count": 49,
     "metadata": {},
     "output_type": "execute_result"
    },
    {
     "name": "stderr",
     "output_type": "stream",
     "text": [
      "\r",
      " 98%|████████████████████████████████████████████████████████████████████████████████▌ | 56/57 [05:42<00:06,  6.67s/it]"
     ]
    },
    {
     "name": "stdout",
     "output_type": "stream",
     "text": [
      "D:\\zwk_data\\pre_data\\17000\\ndwi1_int8_world_17717.tif\n",
      "P:\\add\\add\\17000\\bands_int16_17717_r.shp\n",
      "H:\\paper\\river_data\\GRWL_mask_V01.01\\SG51.tif\n",
      "H:\\paper\\river_data\\GRWL_mask_V01.01\\SG51.tif\n",
      "['H:\\\\paper\\\\river_data\\\\GRWL_mask_V01.01\\\\SG50.tif']\n"
     ]
    },
    {
     "data": {
      "text/plain": [
       "87"
      ]
     },
     "execution_count": 49,
     "metadata": {},
     "output_type": "execute_result"
    },
    {
     "name": "stderr",
     "output_type": "stream",
     "text": [
      "100%|██████████████████████████████████████████████████████████████████████████████████| 57/57 [05:48<00:00,  6.11s/it]\n"
     ]
    },
    {
     "data": {
      "text/plain": [
       "'P:\\\\add\\\\add\\\\17000_2\\\\area.txt'"
      ]
     },
     "execution_count": 49,
     "metadata": {},
     "output_type": "execute_result"
    },
    {
     "data": {
      "text/plain": [
       "'Fri Jan 12 00:43:36 2024'"
      ]
     },
     "execution_count": 49,
     "metadata": {},
     "output_type": "execute_result"
    },
    {
     "name": "stderr",
     "output_type": "stream",
     "text": [
      "\r",
      "  0%|                                                                                           | 0/58 [00:00<?, ?it/s]"
     ]
    },
    {
     "name": "stdout",
     "output_type": "stream",
     "text": [
      "D:\\zwk_data\\pre_data\\18000\\ndwi1_int8_world_18644.tif\n",
      "P:\\add\\add\\18000\\bands_int16_18644_r.shp\n",
      "['H:\\\\paper\\\\river_data\\\\GRWL_mask_V01.01\\\\SL18.tif']\n"
     ]
    },
    {
     "data": {
      "text/plain": [
       "87"
      ]
     },
     "execution_count": 49,
     "metadata": {},
     "output_type": "execute_result"
    },
    {
     "name": "stderr",
     "output_type": "stream",
     "text": [
      "\r",
      "  2%|█▍                                                                                 | 1/58 [00:05<05:38,  5.93s/it]"
     ]
    },
    {
     "name": "stdout",
     "output_type": "stream",
     "text": [
      "D:\\zwk_data\\pre_data\\18000\\ndwi1_int8_world_18647.tif\n",
      "P:\\add\\add\\18000\\bands_int16_18647_r.shp\n",
      "['H:\\\\paper\\\\river_data\\\\GRWL_mask_V01.01\\\\SK18.tif'\n",
      " 'H:\\\\paper\\\\river_data\\\\GRWL_mask_V01.01\\\\SL18.tif']\n"
     ]
    },
    {
     "data": {
      "text/plain": [
       "87"
      ]
     },
     "execution_count": 49,
     "metadata": {},
     "output_type": "execute_result"
    },
    {
     "name": "stderr",
     "output_type": "stream",
     "text": [
      "\r",
      "  3%|██▊                                                                                | 2/58 [00:14<06:56,  7.44s/it]"
     ]
    },
    {
     "name": "stdout",
     "output_type": "stream",
     "text": [
      "D:\\zwk_data\\pre_data\\18000\\ndwi1_int8_world_18648.tif\n",
      "P:\\add\\add\\18000\\bands_int16_18648_r.shp\n",
      "['H:\\\\paper\\\\river_data\\\\GRWL_mask_V01.01\\\\SK18.tif']\n"
     ]
    },
    {
     "data": {
      "text/plain": [
       "91"
      ]
     },
     "execution_count": 49,
     "metadata": {},
     "output_type": "execute_result"
    },
    {
     "name": "stderr",
     "output_type": "stream",
     "text": [
      "\r",
      "  5%|████▎                                                                              | 3/58 [00:20<06:12,  6.77s/it]"
     ]
    },
    {
     "name": "stdout",
     "output_type": "stream",
     "text": [
      "D:\\zwk_data\\pre_data\\18000\\ndwi1_int8_world_18689.tif\n",
      "P:\\add\\add\\18000\\bands_int16_18689_r.shp\n",
      "['H:\\\\paper\\\\river_data\\\\GRWL_mask_V01.01\\\\SK19.tif']\n"
     ]
    },
    {
     "data": {
      "text/plain": [
       "84"
      ]
     },
     "execution_count": 49,
     "metadata": {},
     "output_type": "execute_result"
    },
    {
     "name": "stderr",
     "output_type": "stream",
     "text": [
      "\r",
      "  7%|█████▋                                                                             | 4/58 [00:26<05:47,  6.44s/it]"
     ]
    },
    {
     "name": "stdout",
     "output_type": "stream",
     "text": [
      "D:\\zwk_data\\pre_data\\18000\\ndwi1_int8_world_18656.tif\n",
      "P:\\add\\add\\18000\\bands_int16_18656_r.shp\n",
      "['H:\\\\paper\\\\river_data\\\\GRWL_mask_V01.01\\\\SK18.tif'\n",
      " 'H:\\\\paper\\\\river_data\\\\GRWL_mask_V01.01\\\\SL18.tif']\n"
     ]
    },
    {
     "data": {
      "text/plain": [
       "91"
      ]
     },
     "execution_count": 49,
     "metadata": {},
     "output_type": "execute_result"
    },
    {
     "name": "stderr",
     "output_type": "stream",
     "text": [
      "\r",
      "  9%|███████▏                                                                           | 5/58 [00:34<06:20,  7.18s/it]"
     ]
    },
    {
     "name": "stdout",
     "output_type": "stream",
     "text": [
      "D:\\zwk_data\\pre_data\\18000\\ndwi1_int8_world_18899.tif\n",
      "P:\\add\\add\\18000\\bands_int16_18899_r.shp\n",
      "H:\\paper\\river_data\\GRWL_mask_V01.01\\SN20.tif\n",
      "H:\\paper\\river_data\\GRWL_mask_V01.01\\SN21.tif\n",
      "H:\\paper\\river_data\\GRWL_mask_V01.01\\SM20.tif\n",
      "H:\\paper\\river_data\\GRWL_mask_V01.01\\SM21.tif\n",
      "[]\n"
     ]
    },
    {
     "data": {
      "text/plain": [
       "89"
      ]
     },
     "execution_count": 49,
     "metadata": {},
     "output_type": "execute_result"
    },
    {
     "name": "stderr",
     "output_type": "stream",
     "text": [
      "\r",
      " 10%|████████▌                                                                          | 6/58 [00:36<04:43,  5.45s/it]"
     ]
    },
    {
     "name": "stdout",
     "output_type": "stream",
     "text": [
      "D:\\zwk_data\\pre_data\\18000\\ndwi1_int8_world_18700.tif\n",
      "P:\\add\\add\\18000\\bands_int16_18700_r.shp\n",
      "['H:\\\\paper\\\\river_data\\\\GRWL_mask_V01.01\\\\SJ19.tif'\n",
      " 'H:\\\\paper\\\\river_data\\\\GRWL_mask_V01.01\\\\SK19.tif']\n"
     ]
    },
    {
     "data": {
      "text/plain": [
       "94"
      ]
     },
     "execution_count": 49,
     "metadata": {},
     "output_type": "execute_result"
    },
    {
     "name": "stderr",
     "output_type": "stream",
     "text": [
      "\r",
      " 12%|██████████                                                                         | 7/58 [00:45<05:38,  6.63s/it]"
     ]
    },
    {
     "name": "stdout",
     "output_type": "stream",
     "text": [
      "D:\\zwk_data\\pre_data\\18000\\ndwi1_int8_world_18903.tif\n",
      "P:\\add\\add\\18000\\bands_int16_18903_r.shp\n",
      "H:\\paper\\river_data\\GRWL_mask_V01.01\\SN20.tif\n",
      "H:\\paper\\river_data\\GRWL_mask_V01.01\\SN21.tif\n",
      "H:\\paper\\river_data\\GRWL_mask_V01.01\\SM20.tif\n",
      "H:\\paper\\river_data\\GRWL_mask_V01.01\\SM21.tif\n",
      "[]\n"
     ]
    },
    {
     "data": {
      "text/plain": [
       "88"
      ]
     },
     "execution_count": 49,
     "metadata": {},
     "output_type": "execute_result"
    },
    {
     "name": "stderr",
     "output_type": "stream",
     "text": [
      "\r",
      " 14%|███████████▍                                                                       | 8/58 [00:48<04:18,  5.17s/it]"
     ]
    },
    {
     "name": "stdout",
     "output_type": "stream",
     "text": [
      "D:\\zwk_data\\pre_data\\18000\\ndwi1_int8_world_18905.tif\n",
      "P:\\add\\add\\18000\\bands_int16_18905_r.shp\n",
      "H:\\paper\\river_data\\GRWL_mask_V01.01\\SN21.tif\n",
      "H:\\paper\\river_data\\GRWL_mask_V01.01\\SN21.tif\n",
      "H:\\paper\\river_data\\GRWL_mask_V01.01\\SM21.tif\n",
      "H:\\paper\\river_data\\GRWL_mask_V01.01\\SM21.tif\n",
      "[]\n"
     ]
    },
    {
     "data": {
      "text/plain": [
       "88"
      ]
     },
     "execution_count": 49,
     "metadata": {},
     "output_type": "execute_result"
    },
    {
     "name": "stderr",
     "output_type": "stream",
     "text": [
      "\r",
      " 16%|████████████▉                                                                      | 9/58 [00:50<03:25,  4.20s/it]"
     ]
    },
    {
     "name": "stdout",
     "output_type": "stream",
     "text": [
      "D:\\zwk_data\\pre_data\\18000\\ndwi1_int8_world_18168.tif\n",
      "P:\\add\\add\\18000\\bands_int16_18168_r.shp\n",
      "['H:\\\\paper\\\\river_data\\\\GRWL_mask_V01.01\\\\SJ19.tif'\n",
      " 'H:\\\\paper\\\\river_data\\\\GRWL_mask_V01.01\\\\SJ20.tif']\n"
     ]
    },
    {
     "data": {
      "text/plain": [
       "85"
      ]
     },
     "execution_count": 49,
     "metadata": {},
     "output_type": "execute_result"
    },
    {
     "name": "stderr",
     "output_type": "stream",
     "text": [
      "\r",
      " 17%|██████████████▏                                                                   | 10/58 [00:59<04:35,  5.74s/it]"
     ]
    },
    {
     "name": "stdout",
     "output_type": "stream",
     "text": [
      "D:\\zwk_data\\pre_data\\18000\\ndwi1_int8_world_18201.tif\n",
      "P:\\add\\add\\18000\\bands_int16_18201_r.shp\n",
      "['H:\\\\paper\\\\river_data\\\\GRWL_mask_V01.01\\\\SI20.tif']\n"
     ]
    },
    {
     "data": {
      "text/plain": [
       "86"
      ]
     },
     "execution_count": 49,
     "metadata": {},
     "output_type": "execute_result"
    },
    {
     "name": "stderr",
     "output_type": "stream",
     "text": [
      "\r",
      " 19%|███████████████▌                                                                  | 11/58 [01:05<04:33,  5.83s/it]"
     ]
    },
    {
     "name": "stdout",
     "output_type": "stream",
     "text": [
      "D:\\zwk_data\\pre_data\\18000\\ndwi1_int8_world_18828.tif\n",
      "P:\\add\\add\\18000\\bands_int16_18828_r.shp\n",
      "['H:\\\\paper\\\\river_data\\\\GRWL_mask_V01.01\\\\SK59.tif'\n",
      " 'H:\\\\paper\\\\river_data\\\\GRWL_mask_V01.01\\\\SK60.tif']\n"
     ]
    },
    {
     "data": {
      "text/plain": [
       "86"
      ]
     },
     "execution_count": 49,
     "metadata": {},
     "output_type": "execute_result"
    },
    {
     "name": "stderr",
     "output_type": "stream",
     "text": [
      "\r",
      " 21%|████████████████▉                                                                 | 12/58 [01:13<05:01,  6.55s/it]"
     ]
    },
    {
     "name": "stdout",
     "output_type": "stream",
     "text": [
      "D:\\zwk_data\\pre_data\\18000\\ndwi1_int8_world_18237.tif\n",
      "P:\\add\\add\\18000\\bands_int16_18237_r.shp\n",
      "['H:\\\\paper\\\\river_data\\\\GRWL_mask_V01.01\\\\SJ21.tif']\n"
     ]
    },
    {
     "data": {
      "text/plain": [
       "85"
      ]
     },
     "execution_count": 49,
     "metadata": {},
     "output_type": "execute_result"
    },
    {
     "name": "stderr",
     "output_type": "stream",
     "text": [
      "\r",
      " 22%|██████████████████▍                                                               | 13/58 [01:19<04:41,  6.25s/it]"
     ]
    },
    {
     "name": "stdout",
     "output_type": "stream",
     "text": [
      "D:\\zwk_data\\pre_data\\18000\\ndwi1_int8_world_18215.tif\n",
      "P:\\add\\add\\18000\\bands_int16_18215_r.shp\n",
      "['H:\\\\paper\\\\river_data\\\\GRWL_mask_V01.01\\\\SH20.tif']\n"
     ]
    },
    {
     "data": {
      "text/plain": [
       "88"
      ]
     },
     "execution_count": 49,
     "metadata": {},
     "output_type": "execute_result"
    },
    {
     "name": "stderr",
     "output_type": "stream",
     "text": [
      "\r",
      " 24%|███████████████████▊                                                              | 14/58 [01:24<04:27,  6.09s/it]"
     ]
    },
    {
     "name": "stdout",
     "output_type": "stream",
     "text": [
      "D:\\zwk_data\\pre_data\\18000\\ndwi1_int8_world_18264.tif\n",
      "P:\\add\\add\\18000\\bands_int16_18264_r.shp\n",
      "['H:\\\\paper\\\\river_data\\\\GRWL_mask_V01.01\\\\SI21.tif']\n"
     ]
    },
    {
     "data": {
      "text/plain": [
       "88"
      ]
     },
     "execution_count": 49,
     "metadata": {},
     "output_type": "execute_result"
    },
    {
     "name": "stderr",
     "output_type": "stream",
     "text": [
      "\r",
      " 26%|█████████████████████▏                                                            | 15/58 [01:32<04:47,  6.68s/it]"
     ]
    },
    {
     "name": "stdout",
     "output_type": "stream",
     "text": [
      "D:\\zwk_data\\pre_data\\18000\\ndwi1_int8_world_18312.tif\n",
      "P:\\add\\add\\18000\\bands_int16_18312_r.shp\n",
      "['H:\\\\paper\\\\river_data\\\\GRWL_mask_V01.01\\\\SH34.tif'\n",
      " 'H:\\\\paper\\\\river_data\\\\GRWL_mask_V01.01\\\\SI34.tif']\n"
     ]
    },
    {
     "data": {
      "text/plain": [
       "84"
      ]
     },
     "execution_count": 49,
     "metadata": {},
     "output_type": "execute_result"
    },
    {
     "name": "stderr",
     "output_type": "stream",
     "text": [
      "\r",
      " 28%|██████████████████████▌                                                           | 16/58 [01:41<05:03,  7.23s/it]"
     ]
    },
    {
     "name": "stdout",
     "output_type": "stream",
     "text": [
      "D:\\zwk_data\\pre_data\\18000\\ndwi1_int8_world_18315.tif\n",
      "P:\\add\\add\\18000\\bands_int16_18315_r.shp\n",
      "['H:\\\\paper\\\\river_data\\\\GRWL_mask_V01.01\\\\SI34.tif']\n"
     ]
    },
    {
     "data": {
      "text/plain": [
       "88"
      ]
     },
     "execution_count": 49,
     "metadata": {},
     "output_type": "execute_result"
    },
    {
     "name": "stderr",
     "output_type": "stream",
     "text": [
      "\r",
      " 29%|████████████████████████                                                          | 17/58 [01:46<04:36,  6.74s/it]"
     ]
    },
    {
     "name": "stdout",
     "output_type": "stream",
     "text": [
      "D:\\zwk_data\\pre_data\\18000\\ndwi1_int8_world_18316.tif\n",
      "P:\\add\\add\\18000\\bands_int16_18316_r.shp\n",
      "['H:\\\\paper\\\\river_data\\\\GRWL_mask_V01.01\\\\SH34.tif'\n",
      " 'H:\\\\paper\\\\river_data\\\\GRWL_mask_V01.01\\\\SI34.tif']\n"
     ]
    },
    {
     "data": {
      "text/plain": [
       "86"
      ]
     },
     "execution_count": 49,
     "metadata": {},
     "output_type": "execute_result"
    },
    {
     "name": "stderr",
     "output_type": "stream",
     "text": [
      "\r",
      " 31%|█████████████████████████▍                                                        | 18/58 [01:54<04:44,  7.12s/it]"
     ]
    },
    {
     "name": "stdout",
     "output_type": "stream",
     "text": [
      "D:\\zwk_data\\pre_data\\18000\\ndwi1_int8_world_18317.tif\n",
      "P:\\add\\add\\18000\\bands_int16_18317_r.shp\n",
      "['H:\\\\paper\\\\river_data\\\\GRWL_mask_V01.01\\\\SH34.tif'\n",
      " 'H:\\\\paper\\\\river_data\\\\GRWL_mask_V01.01\\\\SI34.tif']\n"
     ]
    },
    {
     "data": {
      "text/plain": [
       "85"
      ]
     },
     "execution_count": 49,
     "metadata": {},
     "output_type": "execute_result"
    },
    {
     "name": "stderr",
     "output_type": "stream",
     "text": [
      "\r",
      " 33%|██████████████████████████▊                                                       | 19/58 [02:02<04:45,  7.33s/it]"
     ]
    },
    {
     "name": "stdout",
     "output_type": "stream",
     "text": [
      "D:\\zwk_data\\pre_data\\18000\\ndwi1_int8_world_18319.tif\n",
      "P:\\add\\add\\18000\\bands_int16_18319_r.shp\n",
      "['H:\\\\paper\\\\river_data\\\\GRWL_mask_V01.01\\\\SI34.tif']\n"
     ]
    },
    {
     "data": {
      "text/plain": [
       "87"
      ]
     },
     "execution_count": 49,
     "metadata": {},
     "output_type": "execute_result"
    },
    {
     "name": "stderr",
     "output_type": "stream",
     "text": [
      "\r",
      " 34%|████████████████████████████▎                                                     | 20/58 [02:08<04:18,  6.81s/it]"
     ]
    },
    {
     "name": "stdout",
     "output_type": "stream",
     "text": [
      "D:\\zwk_data\\pre_data\\18000\\ndwi1_int8_world_18320.tif\n",
      "P:\\add\\add\\18000\\bands_int16_18320_r.shp\n",
      "['H:\\\\paper\\\\river_data\\\\GRWL_mask_V01.01\\\\SI34.tif']\n"
     ]
    },
    {
     "data": {
      "text/plain": [
       "88"
      ]
     },
     "execution_count": 49,
     "metadata": {},
     "output_type": "execute_result"
    },
    {
     "name": "stderr",
     "output_type": "stream",
     "text": [
      "\r",
      " 36%|█████████████████████████████▋                                                    | 21/58 [02:14<03:59,  6.48s/it]"
     ]
    },
    {
     "name": "stdout",
     "output_type": "stream",
     "text": [
      "D:\\zwk_data\\pre_data\\18000\\ndwi1_int8_world_18321.tif\n",
      "P:\\add\\add\\18000\\bands_int16_18321_r.shp\n",
      "['H:\\\\paper\\\\river_data\\\\GRWL_mask_V01.01\\\\SH34.tif'\n",
      " 'H:\\\\paper\\\\river_data\\\\GRWL_mask_V01.01\\\\SI34.tif']\n"
     ]
    },
    {
     "data": {
      "text/plain": [
       "86"
      ]
     },
     "execution_count": 49,
     "metadata": {},
     "output_type": "execute_result"
    },
    {
     "name": "stderr",
     "output_type": "stream",
     "text": [
      "\r",
      " 38%|███████████████████████████████                                                   | 22/58 [02:21<04:08,  6.90s/it]"
     ]
    },
    {
     "name": "stdout",
     "output_type": "stream",
     "text": [
      "D:\\zwk_data\\pre_data\\18000\\ndwi1_int8_world_18322.tif\n",
      "P:\\add\\add\\18000\\bands_int16_18322_r.shp\n",
      "['H:\\\\paper\\\\river_data\\\\GRWL_mask_V01.01\\\\SH34.tif'\n",
      " 'H:\\\\paper\\\\river_data\\\\GRWL_mask_V01.01\\\\SI34.tif']\n"
     ]
    },
    {
     "data": {
      "text/plain": [
       "86"
      ]
     },
     "execution_count": 49,
     "metadata": {},
     "output_type": "execute_result"
    },
    {
     "name": "stderr",
     "output_type": "stream",
     "text": [
      "\r",
      " 40%|████████████████████████████████▌                                                 | 23/58 [02:29<04:11,  7.18s/it]"
     ]
    },
    {
     "name": "stdout",
     "output_type": "stream",
     "text": [
      "D:\\zwk_data\\pre_data\\18000\\ndwi1_int8_world_18324.tif\n",
      "P:\\add\\add\\18000\\bands_int16_18324_r.shp\n",
      "['H:\\\\paper\\\\river_data\\\\GRWL_mask_V01.01\\\\SI34.tif'\n",
      " 'H:\\\\paper\\\\river_data\\\\GRWL_mask_V01.01\\\\SI35.tif']\n"
     ]
    },
    {
     "data": {
      "text/plain": [
       "87"
      ]
     },
     "execution_count": 49,
     "metadata": {},
     "output_type": "execute_result"
    },
    {
     "name": "stderr",
     "output_type": "stream",
     "text": [
      "\r",
      " 41%|█████████████████████████████████▉                                                | 24/58 [02:37<04:13,  7.47s/it]"
     ]
    },
    {
     "name": "stdout",
     "output_type": "stream",
     "text": [
      "D:\\zwk_data\\pre_data\\18000\\ndwi1_int8_world_18325.tif\n",
      "P:\\add\\add\\18000\\bands_int16_18325_r.shp\n",
      "['H:\\\\paper\\\\river_data\\\\GRWL_mask_V01.01\\\\SI34.tif'\n",
      " 'H:\\\\paper\\\\river_data\\\\GRWL_mask_V01.01\\\\SI35.tif']\n"
     ]
    },
    {
     "data": {
      "text/plain": [
       "87"
      ]
     },
     "execution_count": 49,
     "metadata": {},
     "output_type": "execute_result"
    },
    {
     "name": "stderr",
     "output_type": "stream",
     "text": [
      "\r",
      " 43%|███████████████████████████████████▎                                              | 25/58 [02:45<04:12,  7.64s/it]"
     ]
    },
    {
     "name": "stdout",
     "output_type": "stream",
     "text": [
      "D:\\zwk_data\\pre_data\\18000\\ndwi1_int8_world_18326.tif\n",
      "P:\\add\\add\\18000\\bands_int16_18326_r.shp\n",
      "['H:\\\\paper\\\\river_data\\\\GRWL_mask_V01.01\\\\SH34.tif'\n",
      " 'H:\\\\paper\\\\river_data\\\\GRWL_mask_V01.01\\\\SH35.tif'\n",
      " 'H:\\\\paper\\\\river_data\\\\GRWL_mask_V01.01\\\\SI34.tif'\n",
      " 'H:\\\\paper\\\\river_data\\\\GRWL_mask_V01.01\\\\SI35.tif']\n"
     ]
    },
    {
     "data": {
      "text/plain": [
       "85"
      ]
     },
     "execution_count": 49,
     "metadata": {},
     "output_type": "execute_result"
    },
    {
     "name": "stderr",
     "output_type": "stream",
     "text": [
      "\r",
      " 45%|████████████████████████████████████▊                                             | 26/58 [02:59<04:59,  9.35s/it]"
     ]
    },
    {
     "name": "stdout",
     "output_type": "stream",
     "text": [
      "D:\\zwk_data\\pre_data\\18000\\ndwi1_int8_world_18327.tif\n",
      "P:\\add\\add\\18000\\bands_int16_18327_r.shp\n",
      "['H:\\\\paper\\\\river_data\\\\GRWL_mask_V01.01\\\\SH34.tif'\n",
      " 'H:\\\\paper\\\\river_data\\\\GRWL_mask_V01.01\\\\SH35.tif'\n",
      " 'H:\\\\paper\\\\river_data\\\\GRWL_mask_V01.01\\\\SI34.tif'\n",
      " 'H:\\\\paper\\\\river_data\\\\GRWL_mask_V01.01\\\\SI35.tif']\n"
     ]
    },
    {
     "data": {
      "text/plain": [
       "84"
      ]
     },
     "execution_count": 49,
     "metadata": {},
     "output_type": "execute_result"
    },
    {
     "name": "stderr",
     "output_type": "stream",
     "text": [
      "\r",
      " 47%|██████████████████████████████████████▏                                           | 27/58 [03:12<05:26, 10.52s/it]"
     ]
    },
    {
     "name": "stdout",
     "output_type": "stream",
     "text": [
      "D:\\zwk_data\\pre_data\\18000\\ndwi1_int8_world_18328.tif\n",
      "P:\\add\\add\\18000\\bands_int16_18328_r.shp\n",
      "['H:\\\\paper\\\\river_data\\\\GRWL_mask_V01.01\\\\SH34.tif'\n",
      " 'H:\\\\paper\\\\river_data\\\\GRWL_mask_V01.01\\\\SH35.tif']\n"
     ]
    },
    {
     "data": {
      "text/plain": [
       "86"
      ]
     },
     "execution_count": 49,
     "metadata": {},
     "output_type": "execute_result"
    },
    {
     "name": "stderr",
     "output_type": "stream",
     "text": [
      "\r",
      " 48%|███████████████████████████████████████▌                                          | 28/58 [03:21<04:59,  9.99s/it]"
     ]
    },
    {
     "name": "stdout",
     "output_type": "stream",
     "text": [
      "D:\\zwk_data\\pre_data\\18000\\ndwi1_int8_world_18306.tif\n",
      "P:\\add\\add\\18000\\bands_int16_18306_r.shp\n",
      "['H:\\\\paper\\\\river_data\\\\GRWL_mask_V01.01\\\\SH34.tif'\n",
      " 'H:\\\\paper\\\\river_data\\\\GRWL_mask_V01.01\\\\SI34.tif']\n"
     ]
    },
    {
     "data": {
      "text/plain": [
       "85"
      ]
     },
     "execution_count": 49,
     "metadata": {},
     "output_type": "execute_result"
    },
    {
     "name": "stderr",
     "output_type": "stream",
     "text": [
      "\r",
      " 50%|█████████████████████████████████████████                                         | 29/58 [03:29<04:30,  9.34s/it]"
     ]
    },
    {
     "name": "stdout",
     "output_type": "stream",
     "text": [
      "D:\\zwk_data\\pre_data\\18000\\ndwi1_int8_world_18332.tif\n",
      "P:\\add\\add\\18000\\bands_int16_18332_r.shp\n",
      "['H:\\\\paper\\\\river_data\\\\GRWL_mask_V01.01\\\\SH34.tif'\n",
      " 'H:\\\\paper\\\\river_data\\\\GRWL_mask_V01.01\\\\SH35.tif'\n",
      " 'H:\\\\paper\\\\river_data\\\\GRWL_mask_V01.01\\\\SI34.tif'\n",
      " 'H:\\\\paper\\\\river_data\\\\GRWL_mask_V01.01\\\\SI35.tif']\n"
     ]
    },
    {
     "data": {
      "text/plain": [
       "85"
      ]
     },
     "execution_count": 49,
     "metadata": {},
     "output_type": "execute_result"
    },
    {
     "name": "stderr",
     "output_type": "stream",
     "text": [
      "\r",
      " 52%|██████████████████████████████████████████▍                                       | 30/58 [03:42<04:56, 10.59s/it]"
     ]
    },
    {
     "name": "stdout",
     "output_type": "stream",
     "text": [
      "D:\\zwk_data\\pre_data\\18000\\ndwi1_int8_world_18376.tif\n",
      "P:\\add\\add\\18000\\bands_int16_18376_r.shp\n",
      "['H:\\\\paper\\\\river_data\\\\GRWL_mask_V01.01\\\\SI50.tif']\n"
     ]
    },
    {
     "data": {
      "text/plain": [
       "87"
      ]
     },
     "execution_count": 49,
     "metadata": {},
     "output_type": "execute_result"
    },
    {
     "name": "stderr",
     "output_type": "stream",
     "text": [
      "\r",
      " 53%|███████████████████████████████████████████▊                                      | 31/58 [03:48<04:04,  9.05s/it]"
     ]
    },
    {
     "name": "stdout",
     "output_type": "stream",
     "text": [
      "D:\\zwk_data\\pre_data\\18000\\ndwi1_int8_world_18377.tif\n",
      "P:\\add\\add\\18000\\bands_int16_18377_r.shp\n",
      "['H:\\\\paper\\\\river_data\\\\GRWL_mask_V01.01\\\\SH50.tif'\n",
      " 'H:\\\\paper\\\\river_data\\\\GRWL_mask_V01.01\\\\SI50.tif']\n"
     ]
    },
    {
     "data": {
      "text/plain": [
       "86"
      ]
     },
     "execution_count": 49,
     "metadata": {},
     "output_type": "execute_result"
    },
    {
     "name": "stderr",
     "output_type": "stream",
     "text": [
      "\r",
      " 55%|█████████████████████████████████████████████▏                                    | 32/58 [03:55<03:42,  8.57s/it]"
     ]
    },
    {
     "name": "stdout",
     "output_type": "stream",
     "text": [
      "D:\\zwk_data\\pre_data\\18000\\ndwi1_int8_world_18397.tif\n",
      "P:\\add\\add\\18000\\bands_int16_18397_r.shp\n",
      "H:\\paper\\river_data\\GRWL_mask_V01.01\\SI51.tif\n",
      "H:\\paper\\river_data\\GRWL_mask_V01.01\\SI51.tif\n",
      "H:\\paper\\river_data\\GRWL_mask_V01.01\\SI51.tif\n",
      "H:\\paper\\river_data\\GRWL_mask_V01.01\\SI51.tif\n",
      "[]\n"
     ]
    },
    {
     "data": {
      "text/plain": [
       "89"
      ]
     },
     "execution_count": 49,
     "metadata": {},
     "output_type": "execute_result"
    },
    {
     "name": "stderr",
     "output_type": "stream",
     "text": [
      "\r",
      " 57%|██████████████████████████████████████████████▋                                   | 33/58 [03:57<02:45,  6.63s/it]"
     ]
    },
    {
     "name": "stdout",
     "output_type": "stream",
     "text": [
      "D:\\zwk_data\\pre_data\\18000\\ndwi1_int8_world_18443.tif\n",
      "P:\\add\\add\\18000\\bands_int16_18443_r.shp\n",
      "H:\\paper\\river_data\\GRWL_mask_V01.01\\SI53.tif\n",
      "H:\\paper\\river_data\\GRWL_mask_V01.01\\SI53.tif\n",
      "H:\\paper\\river_data\\GRWL_mask_V01.01\\SH53.tif\n",
      "H:\\paper\\river_data\\GRWL_mask_V01.01\\SH53.tif\n",
      "[]\n"
     ]
    },
    {
     "data": {
      "text/plain": [
       "86"
      ]
     },
     "execution_count": 49,
     "metadata": {},
     "output_type": "execute_result"
    },
    {
     "name": "stderr",
     "output_type": "stream",
     "text": [
      "\r",
      " 59%|████████████████████████████████████████████████                                  | 34/58 [03:59<02:06,  5.26s/it]"
     ]
    },
    {
     "name": "stdout",
     "output_type": "stream",
     "text": [
      "D:\\zwk_data\\pre_data\\18000\\ndwi1_int8_world_18463.tif\n",
      "P:\\add\\add\\18000\\bands_int16_18463_r.shp\n",
      "H:\\paper\\river_data\\GRWL_mask_V01.01\\SI53.tif\n",
      "H:\\paper\\river_data\\GRWL_mask_V01.01\\SH53.tif\n",
      "['H:\\\\paper\\\\river_data\\\\GRWL_mask_V01.01\\\\SH54.tif'\n",
      " 'H:\\\\paper\\\\river_data\\\\GRWL_mask_V01.01\\\\SI54.tif']\n"
     ]
    },
    {
     "data": {
      "text/plain": [
       "87"
      ]
     },
     "execution_count": 49,
     "metadata": {},
     "output_type": "execute_result"
    },
    {
     "name": "stderr",
     "output_type": "stream",
     "text": [
      "\r",
      " 60%|█████████████████████████████████████████████████▍                                | 35/58 [04:07<02:19,  6.08s/it]"
     ]
    },
    {
     "name": "stdout",
     "output_type": "stream",
     "text": [
      "D:\\zwk_data\\pre_data\\18000\\ndwi1_int8_world_18455.tif\n",
      "P:\\add\\add\\18000\\bands_int16_18455_r.shp\n",
      "H:\\paper\\river_data\\GRWL_mask_V01.01\\SI53.tif\n",
      "H:\\paper\\river_data\\GRWL_mask_V01.01\\SI53.tif\n",
      "H:\\paper\\river_data\\GRWL_mask_V01.01\\SI53.tif\n",
      "H:\\paper\\river_data\\GRWL_mask_V01.01\\SI53.tif\n",
      "[]\n"
     ]
    },
    {
     "data": {
      "text/plain": [
       "87"
      ]
     },
     "execution_count": 49,
     "metadata": {},
     "output_type": "execute_result"
    },
    {
     "name": "stderr",
     "output_type": "stream",
     "text": [
      "\r",
      " 62%|██████████████████████████████████████████████████▉                               | 36/58 [04:09<01:47,  4.88s/it]"
     ]
    },
    {
     "name": "stdout",
     "output_type": "stream",
     "text": [
      "D:\\zwk_data\\pre_data\\18000\\ndwi1_int8_world_18454.tif\n",
      "P:\\add\\add\\18000\\bands_int16_18454_r.shp\n",
      "H:\\paper\\river_data\\GRWL_mask_V01.01\\SI53.tif\n",
      "H:\\paper\\river_data\\GRWL_mask_V01.01\\SI53.tif\n",
      "H:\\paper\\river_data\\GRWL_mask_V01.01\\SI53.tif\n",
      "H:\\paper\\river_data\\GRWL_mask_V01.01\\SI53.tif\n",
      "[]\n"
     ]
    },
    {
     "data": {
      "text/plain": [
       "86"
      ]
     },
     "execution_count": 49,
     "metadata": {},
     "output_type": "execute_result"
    },
    {
     "name": "stderr",
     "output_type": "stream",
     "text": [
      "\r",
      " 64%|████████████████████████████████████████████████████▎                             | 37/58 [04:11<01:24,  4.04s/it]"
     ]
    },
    {
     "name": "stdout",
     "output_type": "stream",
     "text": [
      "D:\\zwk_data\\pre_data\\18000\\ndwi1_int8_world_18548.tif\n",
      "P:\\add\\add\\18000\\bands_int16_18548_r.shp\n",
      "['H:\\\\paper\\\\river_data\\\\GRWL_mask_V01.01\\\\SJ55.tif'\n",
      " 'H:\\\\paper\\\\river_data\\\\GRWL_mask_V01.01\\\\SK55.tif']\n"
     ]
    },
    {
     "data": {
      "text/plain": [
       "84"
      ]
     },
     "execution_count": 49,
     "metadata": {},
     "output_type": "execute_result"
    },
    {
     "name": "stderr",
     "output_type": "stream",
     "text": [
      "\r",
      " 66%|█████████████████████████████████████████████████████▋                            | 38/58 [04:19<01:42,  5.15s/it]"
     ]
    },
    {
     "name": "stdout",
     "output_type": "stream",
     "text": [
      "D:\\zwk_data\\pre_data\\18000\\ndwi1_int8_world_18558.tif\n",
      "P:\\add\\add\\18000\\bands_int16_18558_r.shp\n",
      "['H:\\\\paper\\\\river_data\\\\GRWL_mask_V01.01\\\\SJ55.tif'\n",
      " 'H:\\\\paper\\\\river_data\\\\GRWL_mask_V01.01\\\\SK55.tif']\n"
     ]
    },
    {
     "data": {
      "text/plain": [
       "87"
      ]
     },
     "execution_count": 49,
     "metadata": {},
     "output_type": "execute_result"
    },
    {
     "name": "stderr",
     "output_type": "stream",
     "text": [
      "\r",
      " 67%|███████████████████████████████████████████████████████▏                          | 39/58 [04:27<01:52,  5.91s/it]"
     ]
    },
    {
     "name": "stdout",
     "output_type": "stream",
     "text": [
      "D:\\zwk_data\\pre_data\\18000\\ndwi1_int8_world_18605.tif\n",
      "P:\\add\\add\\18000\\bands_int16_18605_r.shp\n",
      "['H:\\\\paper\\\\river_data\\\\GRWL_mask_V01.01\\\\SI59.tif'\n",
      " 'H:\\\\paper\\\\river_data\\\\GRWL_mask_V01.01\\\\SI60.tif'\n",
      " 'H:\\\\paper\\\\river_data\\\\GRWL_mask_V01.01\\\\SJ59.tif'\n",
      " 'H:\\\\paper\\\\river_data\\\\GRWL_mask_V01.01\\\\SJ60.tif']\n"
     ]
    },
    {
     "data": {
      "text/plain": [
       "91"
      ]
     },
     "execution_count": 49,
     "metadata": {},
     "output_type": "execute_result"
    },
    {
     "name": "stderr",
     "output_type": "stream",
     "text": [
      "\r",
      " 69%|████████████████████████████████████████████████████████▌                         | 40/58 [04:46<02:58,  9.91s/it]"
     ]
    },
    {
     "name": "stdout",
     "output_type": "stream",
     "text": [
      "D:\\zwk_data\\pre_data\\18000\\ndwi1_int8_world_18606.tif\n",
      "P:\\add\\add\\18000\\bands_int16_18606_r.shp\n",
      "['H:\\\\paper\\\\river_data\\\\GRWL_mask_V01.01\\\\SI59.tif'\n",
      " 'H:\\\\paper\\\\river_data\\\\GRWL_mask_V01.01\\\\SI60.tif']\n"
     ]
    },
    {
     "data": {
      "text/plain": [
       "85"
      ]
     },
     "execution_count": 49,
     "metadata": {},
     "output_type": "execute_result"
    },
    {
     "name": "stderr",
     "output_type": "stream",
     "text": [
      "\r",
      " 71%|█████████████████████████████████████████████████████████▉                        | 41/58 [04:53<02:35,  9.16s/it]"
     ]
    },
    {
     "name": "stdout",
     "output_type": "stream",
     "text": [
      "D:\\zwk_data\\pre_data\\18000\\ndwi1_int8_world_18611.tif\n",
      "P:\\add\\add\\18000\\bands_int16_18611_r.shp\n",
      "['H:\\\\paper\\\\river_data\\\\GRWL_mask_V01.01\\\\SI59.tif'\n",
      " 'H:\\\\paper\\\\river_data\\\\GRWL_mask_V01.01\\\\SI60.tif'\n",
      " 'H:\\\\paper\\\\river_data\\\\GRWL_mask_V01.01\\\\SJ59.tif'\n",
      " 'H:\\\\paper\\\\river_data\\\\GRWL_mask_V01.01\\\\SJ60.tif']\n"
     ]
    },
    {
     "data": {
      "text/plain": [
       "92"
      ]
     },
     "execution_count": 49,
     "metadata": {},
     "output_type": "execute_result"
    },
    {
     "name": "stderr",
     "output_type": "stream",
     "text": [
      "\r",
      " 72%|███████████████████████████████████████████████████████████▍                      | 42/58 [05:05<02:40, 10.01s/it]"
     ]
    },
    {
     "name": "stdout",
     "output_type": "stream",
     "text": [
      "D:\\zwk_data\\pre_data\\18000\\ndwi1_int8_world_18610.tif\n",
      "P:\\add\\add\\18000\\bands_int16_18610_r.shp\n",
      "['H:\\\\paper\\\\river_data\\\\GRWL_mask_V01.01\\\\SI59.tif'\n",
      " 'H:\\\\paper\\\\river_data\\\\GRWL_mask_V01.01\\\\SI60.tif'\n",
      " 'H:\\\\paper\\\\river_data\\\\GRWL_mask_V01.01\\\\SJ59.tif'\n",
      " 'H:\\\\paper\\\\river_data\\\\GRWL_mask_V01.01\\\\SJ60.tif']\n"
     ]
    },
    {
     "data": {
      "text/plain": [
       "96"
      ]
     },
     "execution_count": 49,
     "metadata": {},
     "output_type": "execute_result"
    },
    {
     "name": "stderr",
     "output_type": "stream",
     "text": [
      "\r",
      " 74%|████████████████████████████████████████████████████████████▊                     | 43/58 [05:18<02:42, 10.84s/it]"
     ]
    },
    {
     "name": "stdout",
     "output_type": "stream",
     "text": [
      "D:\\zwk_data\\pre_data\\18000\\ndwi1_int8_world_18622.tif\n",
      "P:\\add\\add\\18000\\bands_int16_18622_r.shp\n",
      "['H:\\\\paper\\\\river_data\\\\GRWL_mask_V01.01\\\\SJ60.tif'\n",
      " 'H:\\\\paper\\\\river_data\\\\GRWL_mask_V01.01\\\\SK60.tif']\n"
     ]
    },
    {
     "data": {
      "text/plain": [
       "91"
      ]
     },
     "execution_count": 49,
     "metadata": {},
     "output_type": "execute_result"
    },
    {
     "name": "stderr",
     "output_type": "stream",
     "text": [
      "\r",
      " 76%|██████████████████████████████████████████████████████████████▏                   | 44/58 [05:26<02:20, 10.01s/it]"
     ]
    },
    {
     "name": "stdout",
     "output_type": "stream",
     "text": [
      "D:\\zwk_data\\pre_data\\18000\\ndwi1_int8_world_18618.tif\n",
      "P:\\add\\add\\18000\\bands_int16_18618_r.shp\n",
      "['H:\\\\paper\\\\river_data\\\\GRWL_mask_V01.01\\\\SJ60.tif'\n",
      " 'H:\\\\paper\\\\river_data\\\\GRWL_mask_V01.01\\\\SK60.tif']\n"
     ]
    },
    {
     "data": {
      "text/plain": [
       "94"
      ]
     },
     "execution_count": 49,
     "metadata": {},
     "output_type": "execute_result"
    },
    {
     "name": "stderr",
     "output_type": "stream",
     "text": [
      "\r",
      " 78%|███████████████████████████████████████████████████████████████▌                  | 45/58 [05:35<02:06,  9.69s/it]"
     ]
    },
    {
     "name": "stdout",
     "output_type": "stream",
     "text": [
      "D:\\zwk_data\\pre_data\\18000\\ndwi1_int8_world_18163.tif\n",
      "P:\\add\\add\\18000\\bands_int16_18163_r.shp\n",
      "['H:\\\\paper\\\\river_data\\\\GRWL_mask_V01.01\\\\SH19.tif'\n",
      " 'H:\\\\paper\\\\river_data\\\\GRWL_mask_V01.01\\\\SH20.tif'\n",
      " 'H:\\\\paper\\\\river_data\\\\GRWL_mask_V01.01\\\\SI19.tif'\n",
      " 'H:\\\\paper\\\\river_data\\\\GRWL_mask_V01.01\\\\SI20.tif']\n"
     ]
    },
    {
     "data": {
      "text/plain": [
       "83"
      ]
     },
     "execution_count": 49,
     "metadata": {},
     "output_type": "execute_result"
    },
    {
     "name": "stderr",
     "output_type": "stream",
     "text": [
      "\r",
      " 79%|█████████████████████████████████████████████████████████████████                 | 46/58 [05:51<02:17, 11.42s/it]"
     ]
    },
    {
     "name": "stdout",
     "output_type": "stream",
     "text": [
      "D:\\zwk_data\\pre_data\\18000\\ndwi1_int8_world_18607.tif\n",
      "P:\\add\\add\\18000\\bands_int16_18607_r.shp\n",
      "['H:\\\\paper\\\\river_data\\\\GRWL_mask_V01.01\\\\SJ59.tif'\n",
      " 'H:\\\\paper\\\\river_data\\\\GRWL_mask_V01.01\\\\SJ60.tif'\n",
      " 'H:\\\\paper\\\\river_data\\\\GRWL_mask_V01.01\\\\SK59.tif'\n",
      " 'H:\\\\paper\\\\river_data\\\\GRWL_mask_V01.01\\\\SK60.tif']\n"
     ]
    },
    {
     "data": {
      "text/plain": [
       "90"
      ]
     },
     "execution_count": 49,
     "metadata": {},
     "output_type": "execute_result"
    },
    {
     "name": "stderr",
     "output_type": "stream",
     "text": [
      "\r",
      " 81%|██████████████████████████████████████████████████████████████████▍               | 47/58 [06:03<02:09, 11.78s/it]"
     ]
    },
    {
     "name": "stdout",
     "output_type": "stream",
     "text": [
      "D:\\zwk_data\\pre_data\\18000\\ndwi1_int8_world_18602.tif\n",
      "P:\\add\\add\\18000\\bands_int16_18602_r.shp\n",
      "['H:\\\\paper\\\\river_data\\\\GRWL_mask_V01.01\\\\SJ59.tif'\n",
      " 'H:\\\\paper\\\\river_data\\\\GRWL_mask_V01.01\\\\SJ60.tif'\n",
      " 'H:\\\\paper\\\\river_data\\\\GRWL_mask_V01.01\\\\SK59.tif'\n",
      " 'H:\\\\paper\\\\river_data\\\\GRWL_mask_V01.01\\\\SK60.tif']\n"
     ]
    },
    {
     "data": {
      "text/plain": [
       "87"
      ]
     },
     "execution_count": 49,
     "metadata": {},
     "output_type": "execute_result"
    },
    {
     "name": "stderr",
     "output_type": "stream",
     "text": [
      "\r",
      " 83%|███████████████████████████████████████████████████████████████████▊              | 48/58 [06:16<01:59, 11.99s/it]"
     ]
    },
    {
     "name": "stdout",
     "output_type": "stream",
     "text": [
      "D:\\zwk_data\\pre_data\\18000\\ndwi1_int8_world_18626.tif\n",
      "P:\\add\\add\\18000\\bands_int16_18626_r.shp\n",
      "['H:\\\\paper\\\\river_data\\\\GRWL_mask_V01.01\\\\SJ60.tif']\n"
     ]
    },
    {
     "data": {
      "text/plain": [
       "92"
      ]
     },
     "execution_count": 49,
     "metadata": {},
     "output_type": "execute_result"
    },
    {
     "name": "stderr",
     "output_type": "stream",
     "text": [
      "\r",
      " 84%|█████████████████████████████████████████████████████████████████████▎            | 49/58 [06:22<01:31, 10.20s/it]"
     ]
    },
    {
     "name": "stdout",
     "output_type": "stream",
     "text": [
      "D:\\zwk_data\\pre_data\\18000\\ndwi1_int8_world_18623.tif\n",
      "P:\\add\\add\\18000\\bands_int16_18623_r.shp\n",
      "['H:\\\\paper\\\\river_data\\\\GRWL_mask_V01.01\\\\SJ60.tif']\n"
     ]
    },
    {
     "data": {
      "text/plain": [
       "93"
      ]
     },
     "execution_count": 49,
     "metadata": {},
     "output_type": "execute_result"
    },
    {
     "name": "stderr",
     "output_type": "stream",
     "text": [
      "\r",
      " 86%|██████████████████████████████████████████████████████████████████████▋           | 50/58 [06:29<01:13,  9.24s/it]"
     ]
    },
    {
     "name": "stdout",
     "output_type": "stream",
     "text": [
      "D:\\zwk_data\\pre_data\\18000\\ndwi1_int8_world_18691.tif\n",
      "P:\\add\\add\\18000\\bands_int16_18691_r.shp\n",
      "['H:\\\\paper\\\\river_data\\\\GRWL_mask_V01.01\\\\SM19.tif']\n"
     ]
    },
    {
     "data": {
      "text/plain": [
       "88"
      ]
     },
     "execution_count": 49,
     "metadata": {},
     "output_type": "execute_result"
    },
    {
     "name": "stderr",
     "output_type": "stream",
     "text": [
      "\r",
      " 88%|████████████████████████████████████████████████████████████████████████          | 51/58 [06:35<00:57,  8.27s/it]"
     ]
    },
    {
     "name": "stdout",
     "output_type": "stream",
     "text": [
      "D:\\zwk_data\\pre_data\\18000\\ndwi1_int8_world_18614.tif\n",
      "P:\\add\\add\\18000\\bands_int16_18614_r.shp\n",
      "['H:\\\\paper\\\\river_data\\\\GRWL_mask_V01.01\\\\SJ60.tif']\n"
     ]
    },
    {
     "data": {
      "text/plain": [
       "93"
      ]
     },
     "execution_count": 49,
     "metadata": {},
     "output_type": "execute_result"
    },
    {
     "name": "stderr",
     "output_type": "stream",
     "text": [
      "\r",
      " 90%|█████████████████████████████████████████████████████████████████████████▌        | 52/58 [06:41<00:45,  7.58s/it]"
     ]
    },
    {
     "name": "stdout",
     "output_type": "stream",
     "text": [
      "D:\\zwk_data\\pre_data\\18000\\ndwi1_int8_world_18608.tif\n",
      "P:\\add\\add\\18000\\bands_int16_18608_r.shp\n",
      "['H:\\\\paper\\\\river_data\\\\GRWL_mask_V01.01\\\\SJ59.tif'\n",
      " 'H:\\\\paper\\\\river_data\\\\GRWL_mask_V01.01\\\\SJ60.tif']\n"
     ]
    },
    {
     "data": {
      "text/plain": [
       "89"
      ]
     },
     "execution_count": 49,
     "metadata": {},
     "output_type": "execute_result"
    },
    {
     "name": "stderr",
     "output_type": "stream",
     "text": [
      "\r",
      " 91%|██████████████████████████████████████████████████████████████████████████▉       | 53/58 [06:49<00:38,  7.68s/it]"
     ]
    },
    {
     "name": "stdout",
     "output_type": "stream",
     "text": [
      "D:\\zwk_data\\pre_data\\18000\\ndwi1_int8_world_18627.tif\n",
      "P:\\add\\add\\18000\\bands_int16_18627_r.shp\n",
      "['H:\\\\paper\\\\river_data\\\\GRWL_mask_V01.01\\\\SJ60.tif']\n"
     ]
    },
    {
     "data": {
      "text/plain": [
       "91"
      ]
     },
     "execution_count": 49,
     "metadata": {},
     "output_type": "execute_result"
    },
    {
     "name": "stderr",
     "output_type": "stream",
     "text": [
      "\r",
      " 93%|████████████████████████████████████████████████████████████████████████████▎     | 54/58 [06:55<00:29,  7.32s/it]"
     ]
    },
    {
     "name": "stdout",
     "output_type": "stream",
     "text": [
      "D:\\zwk_data\\pre_data\\18000\\ndwi1_int8_world_18624.tif\n",
      "P:\\add\\add\\18000\\bands_int16_18624_r.shp\n",
      "['H:\\\\paper\\\\river_data\\\\GRWL_mask_V01.01\\\\SJ60.tif']\n"
     ]
    },
    {
     "data": {
      "text/plain": [
       "89"
      ]
     },
     "execution_count": 49,
     "metadata": {},
     "output_type": "execute_result"
    },
    {
     "name": "stderr",
     "output_type": "stream",
     "text": [
      "\r",
      " 95%|█████████████████████████████████████████████████████████████████████████████▊    | 55/58 [07:01<00:20,  6.93s/it]"
     ]
    },
    {
     "name": "stdout",
     "output_type": "stream",
     "text": [
      "D:\\zwk_data\\pre_data\\18000\\ndwi1_int8_world_18620.tif\n",
      "P:\\add\\add\\18000\\bands_int16_18620_r.shp\n",
      "['H:\\\\paper\\\\river_data\\\\GRWL_mask_V01.01\\\\SJ60.tif']\n"
     ]
    },
    {
     "data": {
      "text/plain": [
       "90"
      ]
     },
     "execution_count": 49,
     "metadata": {},
     "output_type": "execute_result"
    },
    {
     "name": "stderr",
     "output_type": "stream",
     "text": [
      "\r",
      " 97%|███████████████████████████████████████████████████████████████████████████████▏  | 56/58 [07:07<00:13,  6.66s/it]"
     ]
    },
    {
     "name": "stdout",
     "output_type": "stream",
     "text": [
      "D:\\zwk_data\\pre_data\\18000\\ndwi1_int8_world_18615.tif\n",
      "P:\\add\\add\\18000\\bands_int16_18615_r.shp\n",
      "['H:\\\\paper\\\\river_data\\\\GRWL_mask_V01.01\\\\SJ60.tif']\n"
     ]
    },
    {
     "data": {
      "text/plain": [
       "91"
      ]
     },
     "execution_count": 49,
     "metadata": {},
     "output_type": "execute_result"
    },
    {
     "name": "stderr",
     "output_type": "stream",
     "text": [
      "\r",
      " 98%|████████████████████████████████████████████████████████████████████████████████▌ | 57/58 [07:14<00:06,  6.71s/it]"
     ]
    },
    {
     "name": "stdout",
     "output_type": "stream",
     "text": [
      "D:\\zwk_data\\pre_data\\18000\\ndwi1_int8_world_18609.tif\n",
      "P:\\add\\add\\18000\\bands_int16_18609_r.shp\n",
      "['H:\\\\paper\\\\river_data\\\\GRWL_mask_V01.01\\\\SJ59.tif'\n",
      " 'H:\\\\paper\\\\river_data\\\\GRWL_mask_V01.01\\\\SJ60.tif']\n"
     ]
    },
    {
     "data": {
      "text/plain": [
       "93"
      ]
     },
     "execution_count": 49,
     "metadata": {},
     "output_type": "execute_result"
    },
    {
     "name": "stderr",
     "output_type": "stream",
     "text": [
      "100%|██████████████████████████████████████████████████████████████████████████████████| 58/58 [07:22<00:00,  7.63s/it]\n"
     ]
    },
    {
     "data": {
      "text/plain": [
       "'P:\\\\add\\\\add\\\\18000_2\\\\area.txt'"
      ]
     },
     "execution_count": 49,
     "metadata": {},
     "output_type": "execute_result"
    },
    {
     "data": {
      "text/plain": [
       "'Fri Jan 12 00:50:58 2024'"
      ]
     },
     "execution_count": 49,
     "metadata": {},
     "output_type": "execute_result"
    }
   ],
   "source": [
    "time.ctime()\n",
    "for i in range(17,19):\n",
    "\n",
    "    num = i* 1000\n",
    "    if os.path.exists(fr'P:\\add\\add\\{num}'):\n",
    "        dir = cdir(fr\"P:\\add\\add\\{num}_2\")\n",
    "        shp_list = glob.glob(fr'P:\\add\\add\\{num}\\*.shp')\n",
    "        #shp_list = shp_list[979:]\n",
    "        #tif_list=glob.glob(fr'L:\\PRE_DATA\\{num}\\*.tif')\n",
    "        tif_list=glob.glob(fr'D:\\zwk_data\\pre_data\\{num}\\*.tif')\n",
    "        dirin = r'H:\\paper\\river_data\\GRWL_mask_V01.01'\n",
    "        txt = os.path.join(dir,'log.txt')\n",
    "        temptxt = os.path.join(dir,'temp.txt')\n",
    "        dirgrwl = r\"P:\\tif\\0\\temp\"\n",
    "        dirmatch =  cdir(os.path.join(dir, 'match'))\n",
    "        result_df = pd.DataFrame()\n",
    "\n",
    "        for inshp in tqdm(shp_list):\n",
    "            #pre_shp to raster\n",
    "            #inshp = shp_list[i]\n",
    "            intif = path_convert(inshp,tif_list)\n",
    "            outtif = os.path.join(dir,os.path.split(intif)[1])\n",
    "            print(intif)\n",
    "            print(inshp)\n",
    "            shptoraster(intif,inshp,outtif)\n",
    "\n",
    "            rasterbound = extofraster(intif)\n",
    "            #grwl match and river extract then to new raster \n",
    "            shp = gpd.read_file(inshp)\n",
    "\n",
    "            x = (rasterbound[0]+rasterbound[2])/2\n",
    "            y = (rasterbound[1]+rasterbound[3])/2\n",
    "            grwl1 = grwlext(rasterbound,dirin,txt, extt = '.tif') #grwl1 is a path_list\n",
    "            if len(shp) != 0:\n",
    "                #grwl1 = grwl(shp,dirin,intif,txt, mod = 2, extt = '.tif') #grwl1 is a path_list\n",
    "\n",
    "                if len(grwl1) != 0:\n",
    "                #grwl match to pre\n",
    "                    output_raster_path2 = grwltoraster(grwl1, intif,dirgrwl,dirmatch)\n",
    "\n",
    "                    #area calculation\n",
    "                    sentinel = countraster(outtif)\n",
    "                    grwl_river = countraster(output_raster_path2)\n",
    "\n",
    "                    intxt =  f\"{inshp}\\t{sentinel}\\t{grwl_river}\\t{x}\\t{y}\\n\"\n",
    "                else:\n",
    "\n",
    "                    sentinel = countraster(outtif)\n",
    "                    grwl_river = 0\n",
    "                    intxt =  f\"{inshp}\\t{sentinel}\\t{grwl_river}\\t{x}\\t{y}\\n\"\n",
    "            else:\n",
    "                print(inshp)\n",
    "                print('inshp no data')\n",
    "                sentinel = -1\n",
    "                grwl_river = 0\n",
    "                if len(grwl1) != 0:\n",
    "                    output_raster_path2 = grwltoraster(grwl1, intif,dirgrwl,dirmatch)\n",
    "                    grwl_river = countraster(output_raster_path2)\n",
    "\n",
    "                intxt =  f\"{inshp}\\t{sentinel}\\t{grwl_river}\\t{x}\\t{y}\\n\"\n",
    "            with open(temptxt, 'a') as txt_file:\n",
    "                txt_file.write(intxt)\n",
    "\n",
    "        copytxt = os.path.join(dir, 'area.txt')\n",
    "        shutil.copy(temptxt,copytxt)\n",
    "        time.ctime()\n",
    "    else:\n",
    "        print(num)"
   ]
  },
  {
   "cell_type": "code",
   "execution_count": 11,
   "id": "f24d35f2",
   "metadata": {},
   "outputs": [
    {
     "data": {
      "text/plain": [
       "'P:\\\\6000\\\\ndwi1_int8_world_6214.shp'"
      ]
     },
     "execution_count": 11,
     "metadata": {},
     "output_type": "execute_result"
    },
    {
     "data": {
      "text/plain": [
       "'P:\\\\6000\\\\ndwi1_int8_world_6214.shp'"
      ]
     },
     "execution_count": 11,
     "metadata": {},
     "output_type": "execute_result"
    }
   ],
   "source": [
    "shp_list[471:][0]\n",
    "inshp"
   ]
  },
  {
   "cell_type": "code",
   "execution_count": 39,
   "id": "d361ff41",
   "metadata": {},
   "outputs": [],
   "source": [
    "def resnum(filename):\n",
    "    # 使用正则表达式提取数字\n",
    "    match = re.search(r'\\d+', filename)\n",
    "\n",
    "    if match:\n",
    "        return match.group()\n",
    "        #print(result)\n",
    "    else:\n",
    "        print(\"No match found.\")\n",
    "\n",
    "import os\n",
    "\n",
    "def path_convert(inshp,tif_list):\n",
    "    #series = os.path.split(inshp)[1][17:][0:-4]  #'9000'  ndwi1_int8_world\n",
    "    series = os.path.split(inshp)[1][12:][0:-6]  #bands_int16_\n",
    "    d = os.path.split(tif_list[0])[0] #'J:\\\\pre_data\\\\9000'\n",
    "    p = os.path.split(tif_list[0])[1][0:17] #'ndwi1_int8_world_'\n",
    "    \n",
    "    intif = os.path.join(d,p+series+'.tif')\n",
    "    return intif\n",
    "    #os.path.exists(intif)"
   ]
  },
  {
   "cell_type": "code",
   "execution_count": 48,
   "id": "f30a0ab0",
   "metadata": {},
   "outputs": [
    {
     "data": {
      "text/plain": [
       "'D:\\\\zwk_data\\\\pre_data\\\\17000\\\\ndwi1_int8_world_1717.tif'"
      ]
     },
     "execution_count": 48,
     "metadata": {},
     "output_type": "execute_result"
    },
    {
     "data": {
      "text/plain": [
       "False"
      ]
     },
     "execution_count": 48,
     "metadata": {},
     "output_type": "execute_result"
    },
    {
     "data": {
      "text/plain": [
       "'P:\\\\add\\\\add\\\\17000\\\\bands_int16_1717_r.shp'"
      ]
     },
     "execution_count": 48,
     "metadata": {},
     "output_type": "execute_result"
    },
    {
     "data": {
      "text/plain": [
       "'D:\\\\zwk_data\\\\pre_data\\\\17000\\\\ndwi1_int8_world_1717.tif'"
      ]
     },
     "execution_count": 48,
     "metadata": {},
     "output_type": "execute_result"
    }
   ],
   "source": [
    "path_convert(inshp,tif_list)\n",
    "os.path.exists(path_convert(inshp,tif_list))\n",
    "inshp\n",
    "intif"
   ]
  },
  {
   "cell_type": "code",
   "execution_count": 4,
   "id": "ec365b25",
   "metadata": {},
   "outputs": [],
   "source": [
    "import geopandas as gpd\n",
    "import rasterio\n",
    "from rasterio.transform import from_origin\n",
    "from rasterio.enums import Resampling\n",
    "\n",
    "def shptoraster(existing_raster_path,shapefile_path,output_raster_path, invert = True):\n",
    "    # Read the existing raster to use as a template\n",
    "    with rasterio.open(existing_raster_path) as src:\n",
    "        # Get raster properties\n",
    "        crs = src.crs\n",
    "        transform = src.transform\n",
    "        width = src.width\n",
    "        height = src.height\n",
    "        dtype = src.dtypes[0]  # Assuming a single band raster\n",
    "\n",
    "    # Read the shapefile\n",
    "    gdf = gpd.read_file(shapefile_path)\n",
    "    if len(gdf) !=0:\n",
    "        gdf = gdf.to_crs(crs)\n",
    "        # Create an empty raster with the same properties as the existing raster\n",
    "        with rasterio.open(\n",
    "            output_raster_path,\n",
    "            'w',\n",
    "            driver='GTiff',\n",
    "            height=height,\n",
    "            width=width,\n",
    "            count=1,  # Number of bands\n",
    "            dtype=dtype,\n",
    "            crs=crs,\n",
    "            transform=transform,\n",
    "            compress = 'LZW'\n",
    "        ) as dst:\n",
    "            # Rasterize the geometry onto the raster\n",
    "            mask = rasterio.features.geometry_mask(\n",
    "                gdf.geometry,\n",
    "                transform=transform,\n",
    "                invert= invert,\n",
    "                #all_touched = True,\n",
    "                out_shape=(height, width)\n",
    "            )\n",
    "\n",
    "            # Write the rasterized data to the output raster\n",
    "            dst.write(mask.astype(dtype), 1)\n",
    "    else:\n",
    "        print(shapefile_path)\n",
    "        print('no data')\n",
    "            \n",
    "\n"
   ]
  },
  {
   "cell_type": "code",
   "execution_count": 5,
   "id": "05435eb8",
   "metadata": {},
   "outputs": [],
   "source": [
    "def grwlext(ext,dirin,txt, extt = '.tif'):\n",
    "    '''\n",
    "    gdbin: geopandas read_file\n",
    "    dirin: dir stored grwl_vector\n",
    "    txt: txt file to store no exist grwl vector\n",
    "    mod: control return concated gdb or not, default 1 is return, otherwise, return path \n",
    "    \n",
    "    import numpy as np\n",
    "    import os\n",
    "    import geopandas as gpd\n",
    "    '''\n",
    "    #ext = gdbin.geometry.total_bounds\n",
    "    zimu=\"ABCDEFGHIJKLMNOPQRSTUVWXYZ\"\n",
    "    zm1 = zimu[int(abs(ext[1])//4)]\n",
    "    zm2 = zimu[int(abs(ext[3])//4)]\n",
    "    num1 = int((ext[0]+180)//6)+1\n",
    "    num2 = int((ext[2]+180)//6)+1\n",
    "    ns = 'N' if int(ext[1]//4) >= 0 else 'S'\n",
    "        \n",
    "    path1 = os.path.join(dirin,ns+zm1+str(num1)+extt)\n",
    "    path2 = os.path.join(dirin,ns+zm1+str(num2)+extt)\n",
    "                    \n",
    "    ns = 'N' if int(ext[3]//4) >= 0 else 'S'\n",
    "    path3 = os.path.join(dirin,ns+zm2+str(num1)+extt)\n",
    "    path4 = os.path.join(dirin,ns+zm2+str(num2)+extt)\n",
    "    \n",
    "    if num1//10 ==0:\n",
    "        path1 = os.path.join(dirin,ns+zm1+'0'+str(num1)+extt)\n",
    "        path3 = os.path.join(dirin,ns+zm2+'0'+str(num1)+extt)\n",
    "    if num2//10 ==0:\n",
    "        path2 = os.path.join(dirin,ns+zm1+'0'+str(num2)+extt)\n",
    "        path4 = os.path.join(dirin,ns+zm2+'0'+str(num2)+extt)    \n",
    "    \n",
    "    biao1 = [path1,path2,path3,path4]\n",
    "    biao = []\n",
    "    for i in range(len(biao1)):\n",
    "        if os.path.exists(biao1[i]):\n",
    "            biao.append(biao1[i])\n",
    "        else:\n",
    "            print(biao1[i])\n",
    "            with open(txt,'a') as f:\n",
    "                f.write(biao1[i])\n",
    "    biao = np.unique(biao)\n",
    "    #print('miss')\n",
    "    print(biao)\n",
    "    return biao\n"
   ]
  },
  {
   "cell_type": "code",
   "execution_count": 6,
   "id": "9fdf42e3",
   "metadata": {},
   "outputs": [],
   "source": [
    "\n"
   ]
  },
  {
   "cell_type": "code",
   "execution_count": 7,
   "id": "ae3cd23d",
   "metadata": {},
   "outputs": [],
   "source": [
    "import chu\n",
    "from chu import raster2shp1\n",
    "#dirgrwl = r\"P:\\tif\\0\\temp\"\n",
    "\n",
    "    \n",
    "def grwltoraster(grwl11, intif,dirgrwl,dirmatch):\n",
    "    raster_paths = []\n",
    "    # grwl river shp\n",
    "    for i in range(len(grwl11)):\n",
    "        existing_raster_path = grwl11[i]  \n",
    "        output_raster_path = os.path.join(dirgrwl,os.path.split(existing_raster_path)[1])\n",
    "        if not os.path.exists(output_raster_path):\n",
    "            with rasterio.open(existing_raster_path) as dst:\n",
    "                a = dst.read()\n",
    "                profile = dst.profile\n",
    "                transform = dst.transform\n",
    "                crs = dst.crs\n",
    "            mask = np.where((a == 255) | (a == 86) | (a == 126), 1, 0)\n",
    "            with rasterio.open(output_raster_path, 'w', **profile) as dst:\n",
    "                dst.write(mask)\n",
    "            raster2shp1(output_raster_path,model=1,dir2 = '')\n",
    "        \n",
    "        # grwl river shp match with intif\n",
    "        shapefile_path = os.path.splitext(output_raster_path)[0]+'.shp'\n",
    "        num = os.path.split(grwl11[i])[1][0:-4]\n",
    "        output_raster_path1 = os.path.join(dirmatch, num+'_'+os.path.split(intif)[1])\n",
    "        \n",
    "        shptoraster(intif,shapefile_path,output_raster_path1, invert = True)\n",
    "        \n",
    "        raster_paths.append(output_raster_path1)\n",
    "        \n",
    "        #merge all matched grwl river\n",
    "    output_raster_path2 =  os.path.join(dirmatch, 'grwl'+'_'+os.path.split(intif)[1])\n",
    "    mergeraster(raster_paths, output_raster_path2)\n",
    "        \n",
    "    return output_raster_path2 "
   ]
  },
  {
   "cell_type": "code",
   "execution_count": 8,
   "id": "862e3a5d",
   "metadata": {},
   "outputs": [],
   "source": [
    "def countraster(rasterpath, num = 1):\n",
    "    with rasterio.open(rasterpath) as src:\n",
    "        # 读取栅格数据\n",
    "        raster_data = src.read(1)\n",
    "        cnum = np.sum(raster_data == num)\n",
    "    return cnum"
   ]
  },
  {
   "cell_type": "code",
   "execution_count": 9,
   "id": "6adae752",
   "metadata": {},
   "outputs": [],
   "source": [
    "def extofraster(tifpath):\n",
    "    with rasterio.open(tifpath) as src:\n",
    "        bounds = src.bounds\n",
    "    ext = [bounds.left,bounds.bottom,bounds.right,bounds.top]\n",
    "    return ext"
   ]
  },
  {
   "cell_type": "code",
   "execution_count": 10,
   "id": "55f3c854",
   "metadata": {},
   "outputs": [],
   "source": [
    "def cdir(name):\n",
    "    os.makedirs(name, exist_ok=True)\n",
    "    return name"
   ]
  },
  {
   "cell_type": "code",
   "execution_count": null,
   "id": "26e6152b",
   "metadata": {},
   "outputs": [],
   "source": []
  }
 ],
 "metadata": {
  "kernelspec": {
   "display_name": "Python [conda env:zwk] *",
   "language": "python",
   "name": "conda-env-zwk-py"
  },
  "language_info": {
   "codemirror_mode": {
    "name": "ipython",
    "version": 3
   },
   "file_extension": ".py",
   "mimetype": "text/x-python",
   "name": "python",
   "nbconvert_exporter": "python",
   "pygments_lexer": "ipython3",
   "version": "3.8.5"
  }
 },
 "nbformat": 4,
 "nbformat_minor": 5
}
