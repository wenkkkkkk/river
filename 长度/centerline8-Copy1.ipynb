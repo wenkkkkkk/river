{
 "cells": [
  {
   "cell_type": "code",
   "execution_count": 1,
   "id": "5e3b9f70",
   "metadata": {},
   "outputs": [],
   "source": [
    "import glob\n",
    "import os\n",
    "from tqdm import tqdm\n",
    "import rasterio\n",
    "import numpy as np\n",
    "import geopandas as gpd\n",
    "import time\n",
    "import shutil\n",
    "from IPython.core.interactiveshell import InteractiveShell\n",
    "InteractiveShell.ast_node_interactivity = 'all'\n",
    "import fiona"
   ]
  },
  {
   "cell_type": "code",
   "execution_count": 2,
   "id": "e209e96c",
   "metadata": {},
   "outputs": [
    {
     "data": {
      "text/plain": [
       "<module 'areacal' from 'L:\\\\code\\\\areacal.py'>"
      ]
     },
     "execution_count": 2,
     "metadata": {},
     "output_type": "execute_result"
    }
   ],
   "source": [
    "import areacal\n",
    "import importlib\n",
    "importlib.reload(areacal)\n",
    "from areacal import countraster\n",
    "from areacal import grwlext\n",
    "from areacal import shptoraster"
   ]
  },
  {
   "cell_type": "code",
   "execution_count": 21,
   "id": "2e6f89d5",
   "metadata": {},
   "outputs": [
    {
     "data": {
      "text/plain": [
       "['P:\\\\tif\\\\0\\\\ndwi1_int8_world_351.tif',\n",
       " 'P:\\\\tif\\\\0\\\\ndwi1_int8_world_352.tif',\n",
       " 'P:\\\\tif\\\\0\\\\ndwi1_int8_world_353.tif',\n",
       " 'P:\\\\tif\\\\0\\\\ndwi1_int8_world_354.tif',\n",
       " 'P:\\\\tif\\\\0\\\\ndwi1_int8_world_355.tif',\n",
       " 'P:\\\\tif\\\\0\\\\ndwi1_int8_world_357.tif',\n",
       " 'P:\\\\tif\\\\0\\\\ndwi1_int8_world_358.tif',\n",
       " 'P:\\\\tif\\\\0\\\\ndwi1_int8_world_359.tif',\n",
       " 'P:\\\\tif\\\\0\\\\ndwi1_int8_world_360.tif',\n",
       " 'P:\\\\tif\\\\0\\\\ndwi1_int8_world_361.tif']"
      ]
     },
     "execution_count": 21,
     "metadata": {},
     "output_type": "execute_result"
    }
   ],
   "source": [
    "tif_list = glob.glob(r'P:\\tif\\0\\*.tif') \n",
    "tif_list[310:320]"
   ]
  },
  {
   "cell_type": "code",
   "execution_count": 16,
   "id": "58cfd76d",
   "metadata": {},
   "outputs": [
    {
     "data": {
      "text/plain": [
       "'D:\\\\zwk_data\\\\p_tif\\\\17000\\\\comp\\\\big'"
      ]
     },
     "execution_count": 16,
     "metadata": {},
     "output_type": "execute_result"
    },
    {
     "data": {
      "text/plain": [
       "'D:\\\\zwk_data\\\\p_tif\\\\17000\\\\comp\\\\river'"
      ]
     },
     "execution_count": 16,
     "metadata": {},
     "output_type": "execute_result"
    }
   ],
   "source": [
    "num = 17000\n",
    "tif_list = glob.glob(fr'D:\\zwk_data\\p_tif\\{num}\\*.tif')  # 要处理的tif\n",
    "\n",
    "dgrwldir = cdir(fr'D:\\zwk_data\\p_tif\\{num}\\dgrwl')\n",
    "dreserdir = cdir(fr\"D:\\zwk_data\\p_tif\\{num}\\dreser\")\n",
    "temptxt = os.path.join(dreserdir,'rivercount.txt')\n",
    "skeldir = cdir(fr'D:\\zwk_data\\p_tif\\{num}\\skel')\n",
    "disdir = cdir(fr\"D:\\zwk_data\\p_tif\\{num}\\dis\")\n",
    "\n",
    "#grwltif = r'P:\\tif\\0\\temp'\n",
    "\n",
    "cpdir = cdir(fr\"D:\\zwk_data\\p_tif\\{num}\\comp\")\n",
    "cdir(os.path.join(cpdir,'big'))\n",
    "cdir(os.path.join(cpdir,'river'))\n",
    "\n",
    "dirvec = r\"D:\\zwk_data\\p_tif\\GRWL_vector_V01.01\"\n",
    "#dir = r'P:\\tif\\0'\n",
    "txt = r'P:\\tif\\0\\log.txt'\n"
   ]
  },
  {
   "cell_type": "code",
   "execution_count": 21,
   "id": "2bc9844b",
   "metadata": {},
   "outputs": [
    {
     "data": {
      "text/plain": [
       "'D:\\\\zwk_data\\\\p_tif\\\\17000\\\\comp\\\\big'"
      ]
     },
     "execution_count": 21,
     "metadata": {},
     "output_type": "execute_result"
    },
    {
     "data": {
      "text/plain": [
       "'D:\\\\zwk_data\\\\p_tif\\\\17000\\\\comp\\\\river'"
      ]
     },
     "execution_count": 21,
     "metadata": {},
     "output_type": "execute_result"
    }
   ],
   "source": [
    "num = 17000\n",
    "tif_list = glob.glob(fr'D:\\zwk_data\\p_tif\\{num}\\*.tif')  # 要处理的tif\n",
    "\n",
    "dgrwldir = cdir(fr'D:\\zwk_data\\p_tif\\{num}\\dgrwl_3')\n",
    "dreserdir = cdir(fr\"D:\\zwk_data\\p_tif\\{num}\\dreser_3\")\n",
    "temptxt = os.path.join(dreserdir,'rivercount_3.txt')\n",
    "skeldir = cdir(fr'D:\\zwk_data\\p_tif\\{num}\\skel_3')\n",
    "disdir = cdir(fr\"D:\\zwk_data\\p_tif\\{num}\\dis_3\")\n",
    "\n",
    "#grwltif = r'P:\\tif\\0\\temp'\n",
    "\n",
    "cpdir = cdir(fr\"D:\\zwk_data\\p_tif\\{num}\\comp\")\n",
    "cdir(os.path.join(cpdir,'big'))\n",
    "cdir(os.path.join(cpdir,'river'))\n",
    "\n",
    "dirvec = r\"D:\\zwk_data\\p_tif\\GRWL_vector_V01.01\"\n",
    "#dir = r'P:\\tif\\0'\n",
    "txt = r'P:\\tif\\0\\log.txt'\n"
   ]
  },
  {
   "cell_type": "code",
   "execution_count": 22,
   "id": "3ae3eeb4",
   "metadata": {
    "scrolled": true
   },
   "outputs": [
    {
     "name": "stderr",
     "output_type": "stream",
     "text": [
      "\r",
      "  0%|                                                                                          | 0/574 [00:00<?, ?it/s]"
     ]
    },
    {
     "name": "stdout",
     "output_type": "stream",
     "text": [
      "D:\\zwk_data\\p_tif\\17000\\ndwi1_int8_world_17003.tif\n",
      "['D:\\\\zwk_data\\\\p_tif\\\\GRWL_vector_V01.01\\\\SC55.shp']\n"
     ]
    },
    {
     "data": {
      "text/plain": [
       "'Fri Dec 29 11:16:40 2023'"
      ]
     },
     "execution_count": 22,
     "metadata": {},
     "output_type": "execute_result"
    },
    {
     "data": {
      "text/plain": [
       "108"
      ]
     },
     "execution_count": 22,
     "metadata": {},
     "output_type": "execute_result"
    },
    {
     "name": "stderr",
     "output_type": "stream",
     "text": [
      "\r",
      "  0%|▏                                                                               | 1/574 [00:41<6:38:02, 41.68s/it]"
     ]
    },
    {
     "name": "stdout",
     "output_type": "stream",
     "text": [
      "D:\\zwk_data\\p_tif\\17000\\ndwi1_int8_world_17004.tif\n",
      "D:\\zwk_data\\p_tif\\GRWL_vector_V01.01\\SE56.shp\n",
      "['D:\\\\zwk_data\\\\p_tif\\\\GRWL_vector_V01.01\\\\SE55.shp'\n",
      " 'D:\\\\zwk_data\\\\p_tif\\\\GRWL_vector_V01.01\\\\SF55.shp'\n",
      " 'D:\\\\zwk_data\\\\p_tif\\\\GRWL_vector_V01.01\\\\SF56.shp']\n"
     ]
    },
    {
     "data": {
      "text/plain": [
       "'Fri Dec 29 11:17:22 2023'"
      ]
     },
     "execution_count": 22,
     "metadata": {},
     "output_type": "execute_result"
    },
    {
     "data": {
      "text/plain": [
       "97"
      ]
     },
     "execution_count": 22,
     "metadata": {},
     "output_type": "execute_result"
    },
    {
     "name": "stderr",
     "output_type": "stream",
     "text": [
      "\r",
      "  0%|▎                                                                               | 2/574 [01:38<8:00:58, 50.45s/it]"
     ]
    },
    {
     "name": "stdout",
     "output_type": "stream",
     "text": [
      "D:\\zwk_data\\p_tif\\17000\\ndwi1_int8_world_17005.tif\n",
      "D:\\zwk_data\\p_tif\\GRWL_vector_V01.01\\SE56.shp\n",
      "D:\\zwk_data\\p_tif\\GRWL_vector_V01.01\\SE56.shp\n",
      "['D:\\\\zwk_data\\\\p_tif\\\\GRWL_vector_V01.01\\\\SE55.shp']\n"
     ]
    },
    {
     "data": {
      "text/plain": [
       "'Fri Dec 29 11:18:19 2023'"
      ]
     },
     "execution_count": 22,
     "metadata": {},
     "output_type": "execute_result"
    },
    {
     "data": {
      "text/plain": [
       "98"
      ]
     },
     "execution_count": 22,
     "metadata": {},
     "output_type": "execute_result"
    },
    {
     "name": "stderr",
     "output_type": "stream",
     "text": [
      "\r",
      "  1%|▍                                                                               | 3/574 [02:18<7:17:00, 45.92s/it]"
     ]
    },
    {
     "name": "stdout",
     "output_type": "stream",
     "text": [
      "D:\\zwk_data\\p_tif\\17000\\ndwi1_int8_world_17006.tif\n",
      "D:\\zwk_data\\p_tif\\GRWL_vector_V01.01\\SE56.shp\n",
      "D:\\zwk_data\\p_tif\\GRWL_vector_V01.01\\SD56.shp\n",
      "['D:\\\\zwk_data\\\\p_tif\\\\GRWL_vector_V01.01\\\\SD55.shp'\n",
      " 'D:\\\\zwk_data\\\\p_tif\\\\GRWL_vector_V01.01\\\\SE55.shp']\n"
     ]
    },
    {
     "data": {
      "text/plain": [
       "'Fri Dec 29 11:18:59 2023'"
      ]
     },
     "execution_count": 22,
     "metadata": {},
     "output_type": "execute_result"
    },
    {
     "data": {
      "text/plain": [
       "109"
      ]
     },
     "execution_count": 22,
     "metadata": {},
     "output_type": "execute_result"
    },
    {
     "name": "stderr",
     "output_type": "stream",
     "text": [
      "\r",
      "  1%|▌                                                                               | 4/574 [03:00<7:00:25, 44.25s/it]"
     ]
    },
    {
     "name": "stdout",
     "output_type": "stream",
     "text": [
      "D:\\zwk_data\\p_tif\\17000\\ndwi1_int8_world_17007.tif\n",
      "D:\\zwk_data\\p_tif\\GRWL_vector_V01.01\\SE56.shp\n",
      "D:\\zwk_data\\p_tif\\GRWL_vector_V01.01\\SD56.shp\n",
      "['D:\\\\zwk_data\\\\p_tif\\\\GRWL_vector_V01.01\\\\SD55.shp'\n",
      " 'D:\\\\zwk_data\\\\p_tif\\\\GRWL_vector_V01.01\\\\SE55.shp']\n"
     ]
    },
    {
     "data": {
      "text/plain": [
       "'Fri Dec 29 11:19:41 2023'"
      ]
     },
     "execution_count": 22,
     "metadata": {},
     "output_type": "execute_result"
    },
    {
     "data": {
      "text/plain": [
       "97"
      ]
     },
     "execution_count": 22,
     "metadata": {},
     "output_type": "execute_result"
    },
    {
     "name": "stderr",
     "output_type": "stream",
     "text": [
      "\r",
      "  1%|▋                                                                               | 5/574 [03:44<6:57:06, 43.98s/it]"
     ]
    },
    {
     "name": "stdout",
     "output_type": "stream",
     "text": [
      "D:\\zwk_data\\p_tif\\17000\\ndwi1_int8_world_17008.tif\n",
      "D:\\zwk_data\\p_tif\\GRWL_vector_V01.01\\SC56.shp\n",
      "D:\\zwk_data\\p_tif\\GRWL_vector_V01.01\\SC56.shp\n",
      "['D:\\\\zwk_data\\\\p_tif\\\\GRWL_vector_V01.01\\\\SC55.shp']\n"
     ]
    },
    {
     "data": {
      "text/plain": [
       "'Fri Dec 29 11:20:25 2023'"
      ]
     },
     "execution_count": 22,
     "metadata": {},
     "output_type": "execute_result"
    },
    {
     "data": {
      "text/plain": [
       "108"
      ]
     },
     "execution_count": 22,
     "metadata": {},
     "output_type": "execute_result"
    },
    {
     "name": "stderr",
     "output_type": "stream",
     "text": [
      "\r",
      "  1%|▊                                                                               | 6/574 [04:23<6:41:01, 42.36s/it]"
     ]
    },
    {
     "name": "stdout",
     "output_type": "stream",
     "text": [
      "D:\\zwk_data\\p_tif\\17000\\ndwi1_int8_world_17009.tif\n",
      "D:\\zwk_data\\p_tif\\GRWL_vector_V01.01\\SE56.shp\n",
      "D:\\zwk_data\\p_tif\\GRWL_vector_V01.01\\SD56.shp\n",
      "['D:\\\\zwk_data\\\\p_tif\\\\GRWL_vector_V01.01\\\\SD55.shp'\n",
      " 'D:\\\\zwk_data\\\\p_tif\\\\GRWL_vector_V01.01\\\\SE55.shp']\n"
     ]
    },
    {
     "data": {
      "text/plain": [
       "'Fri Dec 29 11:21:04 2023'"
      ]
     },
     "execution_count": 22,
     "metadata": {},
     "output_type": "execute_result"
    },
    {
     "data": {
      "text/plain": [
       "105"
      ]
     },
     "execution_count": 22,
     "metadata": {},
     "output_type": "execute_result"
    },
    {
     "name": "stderr",
     "output_type": "stream",
     "text": [
      "\r",
      "  1%|▉                                                                               | 7/574 [05:09<6:51:46, 43.57s/it]"
     ]
    },
    {
     "name": "stdout",
     "output_type": "stream",
     "text": [
      "D:\\zwk_data\\p_tif\\17000\\ndwi1_int8_world_17012.tif\n",
      "D:\\zwk_data\\p_tif\\GRWL_vector_V01.01\\SC56.shp\n",
      "D:\\zwk_data\\p_tif\\GRWL_vector_V01.01\\SC56.shp\n",
      "['D:\\\\zwk_data\\\\p_tif\\\\GRWL_vector_V01.01\\\\SC55.shp']\n"
     ]
    },
    {
     "data": {
      "text/plain": [
       "'Fri Dec 29 11:21:50 2023'"
      ]
     },
     "execution_count": 22,
     "metadata": {},
     "output_type": "execute_result"
    },
    {
     "data": {
      "text/plain": [
       "108"
      ]
     },
     "execution_count": 22,
     "metadata": {},
     "output_type": "execute_result"
    },
    {
     "name": "stderr",
     "output_type": "stream",
     "text": [
      "\r",
      "  1%|█                                                                               | 8/574 [05:49<6:39:27, 42.35s/it]"
     ]
    },
    {
     "name": "stdout",
     "output_type": "stream",
     "text": [
      "D:\\zwk_data\\p_tif\\17000\\ndwi1_int8_world_17031.tif\n",
      "['D:\\\\zwk_data\\\\p_tif\\\\GRWL_vector_V01.01\\\\SC57.shp'\n",
      " 'D:\\\\zwk_data\\\\p_tif\\\\GRWL_vector_V01.01\\\\SC58.shp']\n"
     ]
    },
    {
     "data": {
      "text/plain": [
       "'Fri Dec 29 11:22:30 2023'"
      ]
     },
     "execution_count": 22,
     "metadata": {},
     "output_type": "execute_result"
    },
    {
     "data": {
      "text/plain": [
       "106"
      ]
     },
     "execution_count": 22,
     "metadata": {},
     "output_type": "execute_result"
    },
    {
     "name": "stderr",
     "output_type": "stream",
     "text": [
      "\r",
      "  2%|█▎                                                                              | 9/574 [06:14<5:49:20, 37.10s/it]"
     ]
    },
    {
     "name": "stdout",
     "output_type": "stream",
     "text": [
      "D:\\zwk_data\\p_tif\\17000\\ndwi1_int8_world_17032.tif\n",
      "D:\\zwk_data\\p_tif\\GRWL_vector_V01.01\\SE57.shp\n",
      "D:\\zwk_data\\p_tif\\GRWL_vector_V01.01\\SE57.shp\n",
      "['D:\\\\zwk_data\\\\p_tif\\\\GRWL_vector_V01.01\\\\SE58.shp']\n"
     ]
    },
    {
     "data": {
      "text/plain": [
       "'Fri Dec 29 11:22:55 2023'"
      ]
     },
     "execution_count": 22,
     "metadata": {},
     "output_type": "execute_result"
    },
    {
     "data": {
      "text/plain": [
       "102"
      ]
     },
     "execution_count": 22,
     "metadata": {},
     "output_type": "execute_result"
    },
    {
     "name": "stderr",
     "output_type": "stream",
     "text": [
      "\r",
      "  2%|█▍                                                                             | 10/574 [06:41<5:19:21, 33.97s/it]"
     ]
    },
    {
     "name": "stdout",
     "output_type": "stream",
     "text": [
      "D:\\zwk_data\\p_tif\\17000\\ndwi1_int8_world_17033.tif\n",
      "D:\\zwk_data\\p_tif\\GRWL_vector_V01.01\\SE57.shp\n",
      "D:\\zwk_data\\p_tif\\GRWL_vector_V01.01\\SE57.shp\n",
      "['D:\\\\zwk_data\\\\p_tif\\\\GRWL_vector_V01.01\\\\SE58.shp']\n"
     ]
    },
    {
     "data": {
      "text/plain": [
       "'Fri Dec 29 11:23:23 2023'"
      ]
     },
     "execution_count": 22,
     "metadata": {},
     "output_type": "execute_result"
    },
    {
     "data": {
      "text/plain": [
       "98"
      ]
     },
     "execution_count": 22,
     "metadata": {},
     "output_type": "execute_result"
    },
    {
     "name": "stderr",
     "output_type": "stream",
     "text": [
      "\r",
      "  2%|█▌                                                                             | 11/574 [07:08<4:57:50, 31.74s/it]"
     ]
    },
    {
     "name": "stdout",
     "output_type": "stream",
     "text": [
      "D:\\zwk_data\\p_tif\\17000\\ndwi1_int8_world_17034.tif\n",
      "D:\\zwk_data\\p_tif\\GRWL_vector_V01.01\\SD57.shp\n",
      "D:\\zwk_data\\p_tif\\GRWL_vector_V01.01\\SD58.shp\n",
      "['D:\\\\zwk_data\\\\p_tif\\\\GRWL_vector_V01.01\\\\SC57.shp'\n",
      " 'D:\\\\zwk_data\\\\p_tif\\\\GRWL_vector_V01.01\\\\SC58.shp']\n"
     ]
    },
    {
     "data": {
      "text/plain": [
       "'Fri Dec 29 11:23:49 2023'"
      ]
     },
     "execution_count": 22,
     "metadata": {},
     "output_type": "execute_result"
    },
    {
     "data": {
      "text/plain": [
       "98"
      ]
     },
     "execution_count": 22,
     "metadata": {},
     "output_type": "execute_result"
    },
    {
     "name": "stderr",
     "output_type": "stream",
     "text": [
      "\r",
      "  2%|█▋                                                                             | 12/574 [07:34<4:41:51, 30.09s/it]"
     ]
    },
    {
     "name": "stdout",
     "output_type": "stream",
     "text": [
      "D:\\zwk_data\\p_tif\\17000\\ndwi1_int8_world_17035.tif\n",
      "['D:\\\\zwk_data\\\\p_tif\\\\GRWL_vector_V01.01\\\\SC57.shp'\n",
      " 'D:\\\\zwk_data\\\\p_tif\\\\GRWL_vector_V01.01\\\\SC58.shp']\n"
     ]
    },
    {
     "data": {
      "text/plain": [
       "'Fri Dec 29 11:24:16 2023'"
      ]
     },
     "execution_count": 22,
     "metadata": {},
     "output_type": "execute_result"
    },
    {
     "data": {
      "text/plain": [
       "106"
      ]
     },
     "execution_count": 22,
     "metadata": {},
     "output_type": "execute_result"
    },
    {
     "name": "stderr",
     "output_type": "stream",
     "text": [
      "\r",
      "  2%|█▊                                                                             | 13/574 [08:00<4:30:00, 28.88s/it]"
     ]
    },
    {
     "name": "stdout",
     "output_type": "stream",
     "text": [
      "D:\\zwk_data\\p_tif\\17000\\ndwi1_int8_world_17036.tif\n",
      "['D:\\\\zwk_data\\\\p_tif\\\\GRWL_vector_V01.01\\\\SE58.shp'\n",
      " 'D:\\\\zwk_data\\\\p_tif\\\\GRWL_vector_V01.01\\\\SF58.shp']\n"
     ]
    },
    {
     "data": {
      "text/plain": [
       "'Fri Dec 29 11:24:41 2023'"
      ]
     },
     "execution_count": 22,
     "metadata": {},
     "output_type": "execute_result"
    },
    {
     "data": {
      "text/plain": [
       "104"
      ]
     },
     "execution_count": 22,
     "metadata": {},
     "output_type": "execute_result"
    },
    {
     "name": "stderr",
     "output_type": "stream",
     "text": [
      "\r",
      "  2%|█▉                                                                             | 14/574 [08:25<4:19:03, 27.76s/it]"
     ]
    },
    {
     "name": "stdout",
     "output_type": "stream",
     "text": [
      "D:\\zwk_data\\p_tif\\17000\\ndwi1_int8_world_17037.tif\n",
      "['D:\\\\zwk_data\\\\p_tif\\\\GRWL_vector_V01.01\\\\SE58.shp']\n"
     ]
    },
    {
     "data": {
      "text/plain": [
       "'Fri Dec 29 11:25:06 2023'"
      ]
     },
     "execution_count": 22,
     "metadata": {},
     "output_type": "execute_result"
    },
    {
     "data": {
      "text/plain": [
       "103"
      ]
     },
     "execution_count": 22,
     "metadata": {},
     "output_type": "execute_result"
    },
    {
     "name": "stderr",
     "output_type": "stream",
     "text": [
      "\r",
      "  3%|██                                                                             | 15/574 [08:50<4:11:24, 26.99s/it]"
     ]
    },
    {
     "name": "stdout",
     "output_type": "stream",
     "text": [
      "D:\\zwk_data\\p_tif\\17000\\ndwi1_int8_world_17038.tif\n",
      "['D:\\\\zwk_data\\\\p_tif\\\\GRWL_vector_V01.01\\\\SE58.shp']\n"
     ]
    },
    {
     "data": {
      "text/plain": [
       "'Fri Dec 29 11:25:31 2023'"
      ]
     },
     "execution_count": 22,
     "metadata": {},
     "output_type": "execute_result"
    },
    {
     "data": {
      "text/plain": [
       "97"
      ]
     },
     "execution_count": 22,
     "metadata": {},
     "output_type": "execute_result"
    },
    {
     "name": "stderr",
     "output_type": "stream",
     "text": [
      "\r",
      "  3%|██▏                                                                            | 16/574 [09:15<4:03:54, 26.23s/it]"
     ]
    },
    {
     "name": "stdout",
     "output_type": "stream",
     "text": [
      "D:\\zwk_data\\p_tif\\17000\\ndwi1_int8_world_17039.tif\n",
      "['D:\\\\zwk_data\\\\p_tif\\\\GRWL_vector_V01.01\\\\SE58.shp'\n",
      " 'D:\\\\zwk_data\\\\p_tif\\\\GRWL_vector_V01.01\\\\SF58.shp']\n"
     ]
    },
    {
     "data": {
      "text/plain": [
       "'Fri Dec 29 11:25:56 2023'"
      ]
     },
     "execution_count": 22,
     "metadata": {},
     "output_type": "execute_result"
    },
    {
     "data": {
      "text/plain": [
       "97"
      ]
     },
     "execution_count": 22,
     "metadata": {},
     "output_type": "execute_result"
    },
    {
     "name": "stderr",
     "output_type": "stream",
     "text": [
      "\r",
      "  3%|██▎                                                                            | 17/574 [09:41<4:03:41, 26.25s/it]"
     ]
    },
    {
     "name": "stdout",
     "output_type": "stream",
     "text": [
      "D:\\zwk_data\\p_tif\\17000\\ndwi1_int8_world_17040.tif\n",
      "D:\\zwk_data\\p_tif\\GRWL_vector_V01.01\\SD58.shp\n",
      "D:\\zwk_data\\p_tif\\GRWL_vector_V01.01\\SD58.shp\n",
      "['D:\\\\zwk_data\\\\p_tif\\\\GRWL_vector_V01.01\\\\SC58.shp']\n"
     ]
    },
    {
     "data": {
      "text/plain": [
       "'Fri Dec 29 11:26:23 2023'"
      ]
     },
     "execution_count": 22,
     "metadata": {},
     "output_type": "execute_result"
    },
    {
     "data": {
      "text/plain": [
       "97"
      ]
     },
     "execution_count": 22,
     "metadata": {},
     "output_type": "execute_result"
    },
    {
     "name": "stderr",
     "output_type": "stream",
     "text": [
      "\r",
      "  3%|██▍                                                                            | 18/574 [10:07<4:02:40, 26.19s/it]"
     ]
    },
    {
     "name": "stdout",
     "output_type": "stream",
     "text": [
      "D:\\zwk_data\\p_tif\\17000\\ndwi1_int8_world_17041.tif\n",
      "['D:\\\\zwk_data\\\\p_tif\\\\GRWL_vector_V01.01\\\\SC58.shp']\n"
     ]
    },
    {
     "data": {
      "text/plain": [
       "'Fri Dec 29 11:26:48 2023'"
      ]
     },
     "execution_count": 22,
     "metadata": {},
     "output_type": "execute_result"
    },
    {
     "data": {
      "text/plain": [
       "105"
      ]
     },
     "execution_count": 22,
     "metadata": {},
     "output_type": "execute_result"
    },
    {
     "name": "stderr",
     "output_type": "stream",
     "text": [
      "\r",
      "  3%|██▌                                                                            | 19/574 [10:32<3:57:33, 25.68s/it]"
     ]
    },
    {
     "name": "stdout",
     "output_type": "stream",
     "text": [
      "D:\\zwk_data\\p_tif\\17000\\ndwi1_int8_world_17042.tif\n",
      "D:\\zwk_data\\p_tif\\GRWL_vector_V01.01\\SD58.shp\n",
      "D:\\zwk_data\\p_tif\\GRWL_vector_V01.01\\SD58.shp\n",
      "['D:\\\\zwk_data\\\\p_tif\\\\GRWL_vector_V01.01\\\\SE58.shp']\n"
     ]
    },
    {
     "data": {
      "text/plain": [
       "'Fri Dec 29 11:27:13 2023'"
      ]
     },
     "execution_count": 22,
     "metadata": {},
     "output_type": "execute_result"
    },
    {
     "data": {
      "text/plain": [
       "97"
      ]
     },
     "execution_count": 22,
     "metadata": {},
     "output_type": "execute_result"
    },
    {
     "name": "stderr",
     "output_type": "stream",
     "text": [
      "\r",
      "  3%|██▊                                                                            | 20/574 [10:57<3:56:44, 25.64s/it]"
     ]
    },
    {
     "name": "stdout",
     "output_type": "stream",
     "text": [
      "D:\\zwk_data\\p_tif\\17000\\ndwi1_int8_world_17047.tif\n",
      "D:\\zwk_data\\p_tif\\GRWL_vector_V01.01\\SD58.shp\n",
      "D:\\zwk_data\\p_tif\\GRWL_vector_V01.01\\SD58.shp\n",
      "['D:\\\\zwk_data\\\\p_tif\\\\GRWL_vector_V01.01\\\\SC58.shp']\n"
     ]
    },
    {
     "data": {
      "text/plain": [
       "'Fri Dec 29 11:27:39 2023'"
      ]
     },
     "execution_count": 22,
     "metadata": {},
     "output_type": "execute_result"
    },
    {
     "data": {
      "text/plain": [
       "104"
      ]
     },
     "execution_count": 22,
     "metadata": {},
     "output_type": "execute_result"
    },
    {
     "name": "stderr",
     "output_type": "stream",
     "text": [
      "\r",
      "  4%|██▉                                                                            | 21/574 [11:24<3:59:29, 25.98s/it]"
     ]
    },
    {
     "name": "stdout",
     "output_type": "stream",
     "text": [
      "D:\\zwk_data\\p_tif\\17000\\ndwi1_int8_world_17048.tif\n",
      "['D:\\\\zwk_data\\\\p_tif\\\\GRWL_vector_V01.01\\\\SC58.shp']\n"
     ]
    },
    {
     "data": {
      "text/plain": [
       "'Fri Dec 29 11:28:05 2023'"
      ]
     },
     "execution_count": 22,
     "metadata": {},
     "output_type": "execute_result"
    },
    {
     "data": {
      "text/plain": [
       "106"
      ]
     },
     "execution_count": 22,
     "metadata": {},
     "output_type": "execute_result"
    },
    {
     "name": "stderr",
     "output_type": "stream",
     "text": [
      "\r",
      "  4%|███                                                                            | 22/574 [11:48<3:54:03, 25.44s/it]"
     ]
    },
    {
     "name": "stdout",
     "output_type": "stream",
     "text": [
      "D:\\zwk_data\\p_tif\\17000\\ndwi1_int8_world_17049.tif\n",
      "D:\\zwk_data\\p_tif\\GRWL_vector_V01.01\\SE59.shp\n",
      "D:\\zwk_data\\p_tif\\GRWL_vector_V01.01\\SE59.shp\n",
      "['D:\\\\zwk_data\\\\p_tif\\\\GRWL_vector_V01.01\\\\SE58.shp']\n"
     ]
    },
    {
     "data": {
      "text/plain": [
       "'Fri Dec 29 11:28:29 2023'"
      ]
     },
     "execution_count": 22,
     "metadata": {},
     "output_type": "execute_result"
    },
    {
     "data": {
      "text/plain": [
       "97"
      ]
     },
     "execution_count": 22,
     "metadata": {},
     "output_type": "execute_result"
    },
    {
     "name": "stderr",
     "output_type": "stream",
     "text": [
      "\r",
      "  4%|███▏                                                                           | 23/574 [12:15<3:58:17, 25.95s/it]"
     ]
    },
    {
     "name": "stdout",
     "output_type": "stream",
     "text": [
      "D:\\zwk_data\\p_tif\\17000\\ndwi1_int8_world_17050.tif\n",
      "D:\\zwk_data\\p_tif\\GRWL_vector_V01.01\\SE59.shp\n",
      "D:\\zwk_data\\p_tif\\GRWL_vector_V01.01\\SD58.shp\n",
      "D:\\zwk_data\\p_tif\\GRWL_vector_V01.01\\SD59.shp\n",
      "['D:\\\\zwk_data\\\\p_tif\\\\GRWL_vector_V01.01\\\\SE58.shp']\n"
     ]
    },
    {
     "data": {
      "text/plain": [
       "'Fri Dec 29 11:28:57 2023'"
      ]
     },
     "execution_count": 22,
     "metadata": {},
     "output_type": "execute_result"
    },
    {
     "data": {
      "text/plain": [
       "104"
      ]
     },
     "execution_count": 22,
     "metadata": {},
     "output_type": "execute_result"
    },
    {
     "name": "stderr",
     "output_type": "stream",
     "text": [
      "\r",
      "  4%|███▎                                                                           | 24/574 [12:41<3:57:12, 25.88s/it]"
     ]
    },
    {
     "name": "stdout",
     "output_type": "stream",
     "text": [
      "D:\\zwk_data\\p_tif\\17000\\ndwi1_int8_world_17051.tif\n",
      "D:\\zwk_data\\p_tif\\GRWL_vector_V01.01\\SE59.shp\n",
      "D:\\zwk_data\\p_tif\\GRWL_vector_V01.01\\SD58.shp\n",
      "D:\\zwk_data\\p_tif\\GRWL_vector_V01.01\\SD59.shp\n",
      "['D:\\\\zwk_data\\\\p_tif\\\\GRWL_vector_V01.01\\\\SE58.shp']\n"
     ]
    },
    {
     "data": {
      "text/plain": [
       "'Fri Dec 29 11:29:22 2023'"
      ]
     },
     "execution_count": 22,
     "metadata": {},
     "output_type": "execute_result"
    },
    {
     "data": {
      "text/plain": [
       "104"
      ]
     },
     "execution_count": 22,
     "metadata": {},
     "output_type": "execute_result"
    },
    {
     "name": "stderr",
     "output_type": "stream",
     "text": [
      "\r",
      "  4%|███▍                                                                           | 25/574 [13:07<3:57:59, 26.01s/it]"
     ]
    },
    {
     "name": "stdout",
     "output_type": "stream",
     "text": [
      "D:\\zwk_data\\p_tif\\17000\\ndwi1_int8_world_17054.tif\n",
      "D:\\zwk_data\\p_tif\\GRWL_vector_V01.01\\SD58.shp\n",
      "D:\\zwk_data\\p_tif\\GRWL_vector_V01.01\\SD59.shp\n",
      "D:\\zwk_data\\p_tif\\GRWL_vector_V01.01\\SC59.shp\n",
      "['D:\\\\zwk_data\\\\p_tif\\\\GRWL_vector_V01.01\\\\SC58.shp']\n"
     ]
    },
    {
     "data": {
      "text/plain": [
       "'Fri Dec 29 11:29:49 2023'"
      ]
     },
     "execution_count": 22,
     "metadata": {},
     "output_type": "execute_result"
    },
    {
     "data": {
      "text/plain": [
       "97"
      ]
     },
     "execution_count": 22,
     "metadata": {},
     "output_type": "execute_result"
    },
    {
     "name": "stderr",
     "output_type": "stream",
     "text": [
      "\r",
      "  5%|███▌                                                                           | 26/574 [13:33<3:55:43, 25.81s/it]"
     ]
    },
    {
     "name": "stdout",
     "output_type": "stream",
     "text": [
      "D:\\zwk_data\\p_tif\\17000\\ndwi1_int8_world_17055.tif\n",
      "D:\\zwk_data\\p_tif\\GRWL_vector_V01.01\\SC59.shp\n",
      "D:\\zwk_data\\p_tif\\GRWL_vector_V01.01\\SC59.shp\n",
      "['D:\\\\zwk_data\\\\p_tif\\\\GRWL_vector_V01.01\\\\SC58.shp']\n"
     ]
    },
    {
     "data": {
      "text/plain": [
       "'Fri Dec 29 11:30:14 2023'"
      ]
     },
     "execution_count": 22,
     "metadata": {},
     "output_type": "execute_result"
    },
    {
     "data": {
      "text/plain": [
       "97"
      ]
     },
     "execution_count": 22,
     "metadata": {},
     "output_type": "execute_result"
    },
    {
     "name": "stderr",
     "output_type": "stream",
     "text": [
      "\r",
      "  5%|███▋                                                                           | 27/574 [13:58<3:53:01, 25.56s/it]"
     ]
    },
    {
     "name": "stdout",
     "output_type": "stream",
     "text": [
      "D:\\zwk_data\\p_tif\\17000\\ndwi1_int8_world_17059.tif\n",
      "D:\\zwk_data\\p_tif\\GRWL_vector_V01.01\\SE59.shp\n",
      "D:\\zwk_data\\p_tif\\GRWL_vector_V01.01\\SD58.shp\n",
      "D:\\zwk_data\\p_tif\\GRWL_vector_V01.01\\SD59.shp\n",
      "['D:\\\\zwk_data\\\\p_tif\\\\GRWL_vector_V01.01\\\\SE58.shp']\n"
     ]
    },
    {
     "data": {
      "text/plain": [
       "'Fri Dec 29 11:30:39 2023'"
      ]
     },
     "execution_count": 22,
     "metadata": {},
     "output_type": "execute_result"
    },
    {
     "data": {
      "text/plain": [
       "105"
      ]
     },
     "execution_count": 22,
     "metadata": {},
     "output_type": "execute_result"
    },
    {
     "name": "stderr",
     "output_type": "stream",
     "text": [
      "\r",
      "  5%|███▊                                                                           | 28/574 [14:24<3:54:25, 25.76s/it]"
     ]
    },
    {
     "name": "stdout",
     "output_type": "stream",
     "text": [
      "D:\\zwk_data\\p_tif\\17000\\ndwi1_int8_world_17067.tif\n",
      "['D:\\\\zwk_data\\\\p_tif\\\\GRWL_vector_V01.01\\\\SE60.shp']\n"
     ]
    },
    {
     "data": {
      "text/plain": [
       "'Fri Dec 29 11:31:06 2023'"
      ]
     },
     "execution_count": 22,
     "metadata": {},
     "output_type": "execute_result"
    },
    {
     "data": {
      "text/plain": [
       "104"
      ]
     },
     "execution_count": 22,
     "metadata": {},
     "output_type": "execute_result"
    },
    {
     "name": "stderr",
     "output_type": "stream",
     "text": [
      "\r",
      "  5%|███▉                                                                           | 29/574 [14:54<4:04:25, 26.91s/it]"
     ]
    },
    {
     "name": "stdout",
     "output_type": "stream",
     "text": [
      "D:\\zwk_data\\p_tif\\17000\\ndwi1_int8_world_17068.tif\n",
      "D:\\zwk_data\\p_tif\\GRWL_vector_V01.01\\SD60.shp\n",
      "D:\\zwk_data\\p_tif\\GRWL_vector_V01.01\\SD60.shp\n",
      "['D:\\\\zwk_data\\\\p_tif\\\\GRWL_vector_V01.01\\\\SE60.shp']\n"
     ]
    },
    {
     "data": {
      "text/plain": [
       "'Fri Dec 29 11:31:35 2023'"
      ]
     },
     "execution_count": 22,
     "metadata": {},
     "output_type": "execute_result"
    },
    {
     "data": {
      "text/plain": [
       "97"
      ]
     },
     "execution_count": 22,
     "metadata": {},
     "output_type": "execute_result"
    },
    {
     "name": "stderr",
     "output_type": "stream",
     "text": [
      "\r",
      "  5%|████▏                                                                          | 30/574 [15:22<4:07:23, 27.29s/it]"
     ]
    },
    {
     "name": "stdout",
     "output_type": "stream",
     "text": [
      "D:\\zwk_data\\p_tif\\17000\\ndwi1_int8_world_17070.tif\n",
      "D:\\zwk_data\\p_tif\\GRWL_vector_V01.01\\SF60.shp\n",
      "D:\\zwk_data\\p_tif\\GRWL_vector_V01.01\\SF60.shp\n",
      "['D:\\\\zwk_data\\\\p_tif\\\\GRWL_vector_V01.01\\\\SE60.shp']\n"
     ]
    },
    {
     "data": {
      "text/plain": [
       "'Fri Dec 29 11:32:03 2023'"
      ]
     },
     "execution_count": 22,
     "metadata": {},
     "output_type": "execute_result"
    },
    {
     "data": {
      "text/plain": [
       "102"
      ]
     },
     "execution_count": 22,
     "metadata": {},
     "output_type": "execute_result"
    },
    {
     "name": "stderr",
     "output_type": "stream",
     "text": [
      "\r",
      "  5%|████▎                                                                          | 31/574 [15:51<4:12:06, 27.86s/it]"
     ]
    },
    {
     "name": "stdout",
     "output_type": "stream",
     "text": [
      "D:\\zwk_data\\p_tif\\17000\\ndwi1_int8_world_17071.tif\n",
      "['D:\\\\zwk_data\\\\p_tif\\\\GRWL_vector_V01.01\\\\SE60.shp']\n"
     ]
    },
    {
     "data": {
      "text/plain": [
       "'Fri Dec 29 11:32:32 2023'"
      ]
     },
     "execution_count": 22,
     "metadata": {},
     "output_type": "execute_result"
    },
    {
     "data": {
      "text/plain": [
       "105"
      ]
     },
     "execution_count": 22,
     "metadata": {},
     "output_type": "execute_result"
    },
    {
     "name": "stderr",
     "output_type": "stream",
     "text": [
      "\r",
      "  6%|████▍                                                                          | 32/574 [16:20<4:15:12, 28.25s/it]"
     ]
    },
    {
     "name": "stdout",
     "output_type": "stream",
     "text": [
      "D:\\zwk_data\\p_tif\\17000\\ndwi1_int8_world_17072.tif\n",
      "['D:\\\\zwk_data\\\\p_tif\\\\GRWL_vector_V01.01\\\\SE60.shp']\n"
     ]
    },
    {
     "data": {
      "text/plain": [
       "'Fri Dec 29 11:33:01 2023'"
      ]
     },
     "execution_count": 22,
     "metadata": {},
     "output_type": "execute_result"
    },
    {
     "data": {
      "text/plain": [
       "107"
      ]
     },
     "execution_count": 22,
     "metadata": {},
     "output_type": "execute_result"
    },
    {
     "name": "stderr",
     "output_type": "stream",
     "text": [
      "\r",
      "  6%|████▌                                                                          | 33/574 [16:53<4:27:30, 29.67s/it]"
     ]
    },
    {
     "name": "stdout",
     "output_type": "stream",
     "text": [
      "D:\\zwk_data\\p_tif\\17000\\ndwi1_int8_world_17073.tif\n",
      "D:\\zwk_data\\p_tif\\GRWL_vector_V01.01\\SD60.shp\n",
      "D:\\zwk_data\\p_tif\\GRWL_vector_V01.01\\SD60.shp\n",
      "['D:\\\\zwk_data\\\\p_tif\\\\GRWL_vector_V01.01\\\\SE60.shp']\n"
     ]
    },
    {
     "data": {
      "text/plain": [
       "'Fri Dec 29 11:33:34 2023'"
      ]
     },
     "execution_count": 22,
     "metadata": {},
     "output_type": "execute_result"
    },
    {
     "data": {
      "text/plain": [
       "104"
      ]
     },
     "execution_count": 22,
     "metadata": {},
     "output_type": "execute_result"
    },
    {
     "name": "stderr",
     "output_type": "stream",
     "text": [
      "\r",
      "  6%|████▋                                                                          | 34/574 [17:23<4:26:58, 29.66s/it]"
     ]
    },
    {
     "name": "stdout",
     "output_type": "stream",
     "text": [
      "D:\\zwk_data\\p_tif\\17000\\ndwi1_int8_world_17075.tif\n",
      "D:\\zwk_data\\p_tif\\GRWL_vector_V01.01\\SF60.shp\n",
      "D:\\zwk_data\\p_tif\\GRWL_vector_V01.01\\SF60.shp\n",
      "['D:\\\\zwk_data\\\\p_tif\\\\GRWL_vector_V01.01\\\\SE60.shp']\n"
     ]
    },
    {
     "data": {
      "text/plain": [
       "'Fri Dec 29 11:34:04 2023'"
      ]
     },
     "execution_count": 22,
     "metadata": {},
     "output_type": "execute_result"
    },
    {
     "data": {
      "text/plain": [
       "105"
      ]
     },
     "execution_count": 22,
     "metadata": {},
     "output_type": "execute_result"
    },
    {
     "name": "stderr",
     "output_type": "stream",
     "text": [
      "\r",
      "  6%|████▊                                                                          | 35/574 [17:53<4:27:05, 29.73s/it]"
     ]
    },
    {
     "name": "stdout",
     "output_type": "stream",
     "text": [
      "D:\\zwk_data\\p_tif\\17000\\ndwi1_int8_world_17076.tif\n",
      "['D:\\\\zwk_data\\\\p_tif\\\\GRWL_vector_V01.01\\\\SE60.shp']\n"
     ]
    },
    {
     "data": {
      "text/plain": [
       "'Fri Dec 29 11:34:34 2023'"
      ]
     },
     "execution_count": 22,
     "metadata": {},
     "output_type": "execute_result"
    },
    {
     "data": {
      "text/plain": [
       "108"
      ]
     },
     "execution_count": 22,
     "metadata": {},
     "output_type": "execute_result"
    },
    {
     "name": "stderr",
     "output_type": "stream",
     "text": [
      "\r",
      "  6%|████▉                                                                          | 36/574 [18:23<4:28:16, 29.92s/it]"
     ]
    },
    {
     "name": "stdout",
     "output_type": "stream",
     "text": [
      "D:\\zwk_data\\p_tif\\17000\\ndwi1_int8_world_17077.tif\n",
      "['D:\\\\zwk_data\\\\p_tif\\\\GRWL_vector_V01.01\\\\SE60.shp']\n"
     ]
    },
    {
     "data": {
      "text/plain": [
       "'Fri Dec 29 11:35:04 2023'"
      ]
     },
     "execution_count": 22,
     "metadata": {},
     "output_type": "execute_result"
    },
    {
     "data": {
      "text/plain": [
       "108"
      ]
     },
     "execution_count": 22,
     "metadata": {},
     "output_type": "execute_result"
    },
    {
     "name": "stderr",
     "output_type": "stream",
     "text": [
      "\r",
      "  6%|█████                                                                          | 37/574 [18:52<4:24:59, 29.61s/it]"
     ]
    },
    {
     "name": "stdout",
     "output_type": "stream",
     "text": [
      "D:\\zwk_data\\p_tif\\17000\\ndwi1_int8_world_17078.tif\n",
      "D:\\zwk_data\\p_tif\\GRWL_vector_V01.01\\SD60.shp\n",
      "D:\\zwk_data\\p_tif\\GRWL_vector_V01.01\\SD60.shp\n",
      "['D:\\\\zwk_data\\\\p_tif\\\\GRWL_vector_V01.01\\\\SE60.shp']\n"
     ]
    },
    {
     "data": {
      "text/plain": [
       "'Fri Dec 29 11:35:33 2023'"
      ]
     },
     "execution_count": 22,
     "metadata": {},
     "output_type": "execute_result"
    },
    {
     "data": {
      "text/plain": [
       "105"
      ]
     },
     "execution_count": 22,
     "metadata": {},
     "output_type": "execute_result"
    },
    {
     "name": "stderr",
     "output_type": "stream",
     "text": [
      "\r",
      "  7%|█████▏                                                                         | 38/574 [19:23<4:27:36, 29.96s/it]"
     ]
    },
    {
     "name": "stdout",
     "output_type": "stream",
     "text": [
      "D:\\zwk_data\\p_tif\\17000\\ndwi1_int8_world_17134.tif\n",
      "D:\\zwk_data\\p_tif\\GRWL_vector_V01.01\\SH18.shp\n",
      "D:\\zwk_data\\p_tif\\GRWL_vector_V01.01\\SH18.shp\n",
      "['D:\\\\zwk_data\\\\p_tif\\\\GRWL_vector_V01.01\\\\SH19.shp']\n"
     ]
    },
    {
     "data": {
      "text/plain": [
       "'Fri Dec 29 11:36:04 2023'"
      ]
     },
     "execution_count": 22,
     "metadata": {},
     "output_type": "execute_result"
    },
    {
     "data": {
      "text/plain": [
       "114"
      ]
     },
     "execution_count": 22,
     "metadata": {},
     "output_type": "execute_result"
    },
    {
     "name": "stderr",
     "output_type": "stream",
     "text": [
      "\r",
      "  7%|█████▎                                                                         | 39/574 [20:00<4:47:14, 32.21s/it]"
     ]
    },
    {
     "name": "stdout",
     "output_type": "stream",
     "text": [
      "D:\\zwk_data\\p_tif\\17000\\ndwi1_int8_world_17135.tif\n",
      "D:\\zwk_data\\p_tif\\GRWL_vector_V01.01\\SH18.shp\n",
      "D:\\zwk_data\\p_tif\\GRWL_vector_V01.01\\SG18.shp\n",
      "['D:\\\\zwk_data\\\\p_tif\\\\GRWL_vector_V01.01\\\\SG19.shp'\n",
      " 'D:\\\\zwk_data\\\\p_tif\\\\GRWL_vector_V01.01\\\\SH19.shp']\n"
     ]
    },
    {
     "data": {
      "text/plain": [
       "'Fri Dec 29 11:36:41 2023'"
      ]
     },
     "execution_count": 22,
     "metadata": {},
     "output_type": "execute_result"
    },
    {
     "data": {
      "text/plain": [
       "114"
      ]
     },
     "execution_count": 22,
     "metadata": {},
     "output_type": "execute_result"
    },
    {
     "name": "stderr",
     "output_type": "stream",
     "text": [
      "\r",
      "  7%|█████▌                                                                         | 40/574 [20:38<5:01:42, 33.90s/it]"
     ]
    },
    {
     "name": "stdout",
     "output_type": "stream",
     "text": [
      "D:\\zwk_data\\p_tif\\17000\\ndwi1_int8_world_17136.tif\n",
      "D:\\zwk_data\\p_tif\\GRWL_vector_V01.01\\SH18.shp\n",
      "D:\\zwk_data\\p_tif\\GRWL_vector_V01.01\\SG18.shp\n",
      "['D:\\\\zwk_data\\\\p_tif\\\\GRWL_vector_V01.01\\\\SG19.shp'\n",
      " 'D:\\\\zwk_data\\\\p_tif\\\\GRWL_vector_V01.01\\\\SH19.shp']\n"
     ]
    },
    {
     "data": {
      "text/plain": [
       "'Fri Dec 29 11:37:19 2023'"
      ]
     },
     "execution_count": 22,
     "metadata": {},
     "output_type": "execute_result"
    },
    {
     "data": {
      "text/plain": [
       "106"
      ]
     },
     "execution_count": 22,
     "metadata": {},
     "output_type": "execute_result"
    },
    {
     "name": "stderr",
     "output_type": "stream",
     "text": [
      "\r",
      "  7%|█████▋                                                                         | 41/574 [21:14<5:07:31, 34.62s/it]"
     ]
    },
    {
     "name": "stdout",
     "output_type": "stream",
     "text": [
      "D:\\zwk_data\\p_tif\\17000\\ndwi1_int8_world_17137.tif\n",
      "D:\\zwk_data\\p_tif\\GRWL_vector_V01.01\\SG18.shp\n",
      "D:\\zwk_data\\p_tif\\GRWL_vector_V01.01\\SG18.shp\n",
      "['D:\\\\zwk_data\\\\p_tif\\\\GRWL_vector_V01.01\\\\SG19.shp']\n"
     ]
    },
    {
     "data": {
      "text/plain": [
       "'Fri Dec 29 11:37:55 2023'"
      ]
     },
     "execution_count": 22,
     "metadata": {},
     "output_type": "execute_result"
    },
    {
     "data": {
      "text/plain": [
       "97"
      ]
     },
     "execution_count": 22,
     "metadata": {},
     "output_type": "execute_result"
    },
    {
     "name": "stderr",
     "output_type": "stream",
     "text": [
      "\r",
      "  7%|█████▊                                                                         | 42/574 [21:45<4:55:20, 33.31s/it]"
     ]
    },
    {
     "name": "stdout",
     "output_type": "stream",
     "text": [
      "D:\\zwk_data\\p_tif\\17000\\ndwi1_int8_world_17138.tif\n",
      "['D:\\\\zwk_data\\\\p_tif\\\\GRWL_vector_V01.01\\\\SH19.shp']\n"
     ]
    },
    {
     "data": {
      "text/plain": [
       "'Fri Dec 29 11:38:25 2023'"
      ]
     },
     "execution_count": 22,
     "metadata": {},
     "output_type": "execute_result"
    },
    {
     "data": {
      "text/plain": [
       "115"
      ]
     },
     "execution_count": 22,
     "metadata": {},
     "output_type": "execute_result"
    },
    {
     "name": "stderr",
     "output_type": "stream",
     "text": [
      "\r",
      "  7%|█████▉                                                                         | 43/574 [22:20<5:01:43, 34.09s/it]"
     ]
    },
    {
     "name": "stdout",
     "output_type": "stream",
     "text": [
      "D:\\zwk_data\\p_tif\\17000\\ndwi1_int8_world_17139.tif\n",
      "['D:\\\\zwk_data\\\\p_tif\\\\GRWL_vector_V01.01\\\\SG19.shp'\n",
      " 'D:\\\\zwk_data\\\\p_tif\\\\GRWL_vector_V01.01\\\\SH19.shp']\n"
     ]
    },
    {
     "data": {
      "text/plain": [
       "'Fri Dec 29 11:39:01 2023'"
      ]
     },
     "execution_count": 22,
     "metadata": {},
     "output_type": "execute_result"
    },
    {
     "data": {
      "text/plain": [
       "114"
      ]
     },
     "execution_count": 22,
     "metadata": {},
     "output_type": "execute_result"
    },
    {
     "name": "stderr",
     "output_type": "stream",
     "text": [
      "\r",
      "  8%|██████                                                                         | 44/574 [22:59<5:12:41, 35.40s/it]"
     ]
    },
    {
     "name": "stdout",
     "output_type": "stream",
     "text": [
      "D:\\zwk_data\\p_tif\\17000\\ndwi1_int8_world_17140.tif\n",
      "['D:\\\\zwk_data\\\\p_tif\\\\GRWL_vector_V01.01\\\\SG19.shp'\n",
      " 'D:\\\\zwk_data\\\\p_tif\\\\GRWL_vector_V01.01\\\\SH19.shp']\n"
     ]
    },
    {
     "data": {
      "text/plain": [
       "'Fri Dec 29 11:39:40 2023'"
      ]
     },
     "execution_count": 22,
     "metadata": {},
     "output_type": "execute_result"
    },
    {
     "data": {
      "text/plain": [
       "118"
      ]
     },
     "execution_count": 22,
     "metadata": {},
     "output_type": "execute_result"
    },
    {
     "name": "stderr",
     "output_type": "stream",
     "text": [
      "\r",
      "  8%|██████▏                                                                        | 45/574 [23:37<5:19:29, 36.24s/it]"
     ]
    },
    {
     "name": "stdout",
     "output_type": "stream",
     "text": [
      "D:\\zwk_data\\p_tif\\17000\\ndwi1_int8_world_17141.tif\n",
      "['D:\\\\zwk_data\\\\p_tif\\\\GRWL_vector_V01.01\\\\SG19.shp']\n"
     ]
    },
    {
     "data": {
      "text/plain": [
       "'Fri Dec 29 11:40:18 2023'"
      ]
     },
     "execution_count": 22,
     "metadata": {},
     "output_type": "execute_result"
    },
    {
     "data": {
      "text/plain": [
       "117"
      ]
     },
     "execution_count": 22,
     "metadata": {},
     "output_type": "execute_result"
    },
    {
     "name": "stderr",
     "output_type": "stream",
     "text": [
      "\r",
      "  8%|██████▎                                                                        | 46/574 [24:11<5:12:45, 35.54s/it]"
     ]
    },
    {
     "name": "stdout",
     "output_type": "stream",
     "text": [
      "D:\\zwk_data\\p_tif\\17000\\ndwi1_int8_world_17142.tif\n",
      "['D:\\\\zwk_data\\\\p_tif\\\\GRWL_vector_V01.01\\\\SG19.shp']\n"
     ]
    },
    {
     "data": {
      "text/plain": [
       "'Fri Dec 29 11:40:52 2023'"
      ]
     },
     "execution_count": 22,
     "metadata": {},
     "output_type": "execute_result"
    },
    {
     "data": {
      "text/plain": [
       "113"
      ]
     },
     "execution_count": 22,
     "metadata": {},
     "output_type": "execute_result"
    },
    {
     "name": "stderr",
     "output_type": "stream",
     "text": [
      "\r",
      "  8%|██████▍                                                                        | 47/574 [24:45<5:07:43, 35.03s/it]"
     ]
    },
    {
     "name": "stdout",
     "output_type": "stream",
     "text": [
      "D:\\zwk_data\\p_tif\\17000\\ndwi1_int8_world_17143.tif\n",
      "D:\\zwk_data\\p_tif\\GRWL_vector_V01.01\\SF19.shp\n",
      "D:\\zwk_data\\p_tif\\GRWL_vector_V01.01\\SF19.shp\n",
      "['D:\\\\zwk_data\\\\p_tif\\\\GRWL_vector_V01.01\\\\SG19.shp']\n"
     ]
    },
    {
     "data": {
      "text/plain": [
       "'Fri Dec 29 11:41:26 2023'"
      ]
     },
     "execution_count": 22,
     "metadata": {},
     "output_type": "execute_result"
    },
    {
     "data": {
      "text/plain": [
       "110"
      ]
     },
     "execution_count": 22,
     "metadata": {},
     "output_type": "execute_result"
    },
    {
     "name": "stderr",
     "output_type": "stream",
     "text": [
      "\r",
      "  8%|██████▌                                                                        | 48/574 [25:18<5:01:29, 34.39s/it]"
     ]
    },
    {
     "name": "stdout",
     "output_type": "stream",
     "text": [
      "D:\\zwk_data\\p_tif\\17000\\ndwi1_int8_world_17148.tif\n",
      "['D:\\\\zwk_data\\\\p_tif\\\\GRWL_vector_V01.01\\\\SH19.shp']\n"
     ]
    },
    {
     "data": {
      "text/plain": [
       "'Fri Dec 29 11:41:59 2023'"
      ]
     },
     "execution_count": 22,
     "metadata": {},
     "output_type": "execute_result"
    },
    {
     "data": {
      "text/plain": [
       "114"
      ]
     },
     "execution_count": 22,
     "metadata": {},
     "output_type": "execute_result"
    },
    {
     "name": "stderr",
     "output_type": "stream",
     "text": [
      "\r",
      "  9%|██████▋                                                                        | 49/574 [25:57<5:13:36, 35.84s/it]"
     ]
    },
    {
     "name": "stdout",
     "output_type": "stream",
     "text": [
      "D:\\zwk_data\\p_tif\\17000\\ndwi1_int8_world_17149.tif\n",
      "['D:\\\\zwk_data\\\\p_tif\\\\GRWL_vector_V01.01\\\\SG19.shp'\n",
      " 'D:\\\\zwk_data\\\\p_tif\\\\GRWL_vector_V01.01\\\\SH19.shp']\n"
     ]
    },
    {
     "data": {
      "text/plain": [
       "'Fri Dec 29 11:42:38 2023'"
      ]
     },
     "execution_count": 22,
     "metadata": {},
     "output_type": "execute_result"
    },
    {
     "data": {
      "text/plain": [
       "118"
      ]
     },
     "execution_count": 22,
     "metadata": {},
     "output_type": "execute_result"
    },
    {
     "name": "stderr",
     "output_type": "stream",
     "text": [
      "\r",
      "  9%|██████▉                                                                        | 50/574 [26:36<5:21:24, 36.80s/it]"
     ]
    },
    {
     "name": "stdout",
     "output_type": "stream",
     "text": [
      "D:\\zwk_data\\p_tif\\17000\\ndwi1_int8_world_17150.tif\n",
      "['D:\\\\zwk_data\\\\p_tif\\\\GRWL_vector_V01.01\\\\SG19.shp'\n",
      " 'D:\\\\zwk_data\\\\p_tif\\\\GRWL_vector_V01.01\\\\SH19.shp']\n"
     ]
    },
    {
     "data": {
      "text/plain": [
       "'Fri Dec 29 11:43:17 2023'"
      ]
     },
     "execution_count": 22,
     "metadata": {},
     "output_type": "execute_result"
    },
    {
     "data": {
      "text/plain": [
       "114"
      ]
     },
     "execution_count": 22,
     "metadata": {},
     "output_type": "execute_result"
    },
    {
     "name": "stderr",
     "output_type": "stream",
     "text": [
      "\r",
      "  9%|███████                                                                        | 51/574 [27:13<5:20:28, 36.77s/it]"
     ]
    },
    {
     "name": "stdout",
     "output_type": "stream",
     "text": [
      "D:\\zwk_data\\p_tif\\17000\\ndwi1_int8_world_17151.tif\n",
      "['D:\\\\zwk_data\\\\p_tif\\\\GRWL_vector_V01.01\\\\SG19.shp']\n"
     ]
    },
    {
     "data": {
      "text/plain": [
       "'Fri Dec 29 11:43:54 2023'"
      ]
     },
     "execution_count": 22,
     "metadata": {},
     "output_type": "execute_result"
    },
    {
     "data": {
      "text/plain": [
       "117"
      ]
     },
     "execution_count": 22,
     "metadata": {},
     "output_type": "execute_result"
    },
    {
     "name": "stderr",
     "output_type": "stream",
     "text": [
      "\r",
      "  9%|███████▏                                                                       | 52/574 [27:44<5:05:48, 35.15s/it]"
     ]
    },
    {
     "name": "stdout",
     "output_type": "stream",
     "text": [
      "D:\\zwk_data\\p_tif\\17000\\ndwi1_int8_world_17152.tif\n",
      "['D:\\\\zwk_data\\\\p_tif\\\\GRWL_vector_V01.01\\\\SG19.shp']\n"
     ]
    },
    {
     "data": {
      "text/plain": [
       "'Fri Dec 29 11:44:25 2023'"
      ]
     },
     "execution_count": 22,
     "metadata": {},
     "output_type": "execute_result"
    },
    {
     "data": {
      "text/plain": [
       "109"
      ]
     },
     "execution_count": 22,
     "metadata": {},
     "output_type": "execute_result"
    },
    {
     "name": "stderr",
     "output_type": "stream",
     "text": [
      "\r",
      "  9%|███████▎                                                                       | 53/574 [28:14<4:50:31, 33.46s/it]"
     ]
    },
    {
     "name": "stdout",
     "output_type": "stream",
     "text": [
      "D:\\zwk_data\\p_tif\\17000\\ndwi1_int8_world_17153.tif\n",
      "D:\\zwk_data\\p_tif\\GRWL_vector_V01.01\\SF19.shp\n",
      "D:\\zwk_data\\p_tif\\GRWL_vector_V01.01\\SF19.shp\n",
      "['D:\\\\zwk_data\\\\p_tif\\\\GRWL_vector_V01.01\\\\SG19.shp']\n"
     ]
    },
    {
     "data": {
      "text/plain": [
       "'Fri Dec 29 11:44:55 2023'"
      ]
     },
     "execution_count": 22,
     "metadata": {},
     "output_type": "execute_result"
    },
    {
     "data": {
      "text/plain": [
       "114"
      ]
     },
     "execution_count": 22,
     "metadata": {},
     "output_type": "execute_result"
    },
    {
     "name": "stderr",
     "output_type": "stream",
     "text": [
      "\r",
      "  9%|███████▍                                                                       | 54/574 [28:44<4:42:42, 32.62s/it]"
     ]
    },
    {
     "name": "stdout",
     "output_type": "stream",
     "text": [
      "D:\\zwk_data\\p_tif\\17000\\ndwi1_int8_world_17157.tif\n",
      "D:\\zwk_data\\p_tif\\GRWL_vector_V01.01\\SF19.shp\n",
      "D:\\zwk_data\\p_tif\\GRWL_vector_V01.01\\SF19.shp\n",
      "['D:\\\\zwk_data\\\\p_tif\\\\GRWL_vector_V01.01\\\\SE19.shp']\n"
     ]
    },
    {
     "data": {
      "text/plain": [
       "'Fri Dec 29 11:45:25 2023'"
      ]
     },
     "execution_count": 22,
     "metadata": {},
     "output_type": "execute_result"
    },
    {
     "data": {
      "text/plain": [
       "117"
      ]
     },
     "execution_count": 22,
     "metadata": {},
     "output_type": "execute_result"
    },
    {
     "name": "stderr",
     "output_type": "stream",
     "text": [
      "\r",
      " 10%|███████▌                                                                       | 55/574 [29:33<5:23:49, 37.44s/it]"
     ]
    },
    {
     "name": "stdout",
     "output_type": "stream",
     "text": [
      "D:\\zwk_data\\p_tif\\17000\\ndwi1_int8_world_17158.tif\n",
      "['D:\\\\zwk_data\\\\p_tif\\\\GRWL_vector_V01.01\\\\SH19.shp']\n"
     ]
    },
    {
     "data": {
      "text/plain": [
       "'Fri Dec 29 11:46:14 2023'"
      ]
     },
     "execution_count": 22,
     "metadata": {},
     "output_type": "execute_result"
    },
    {
     "data": {
      "text/plain": [
       "118"
      ]
     },
     "execution_count": 22,
     "metadata": {},
     "output_type": "execute_result"
    },
    {
     "name": "stderr",
     "output_type": "stream",
     "text": [
      "\r",
      " 10%|███████▋                                                                       | 56/574 [30:10<5:22:19, 37.33s/it]"
     ]
    },
    {
     "name": "stdout",
     "output_type": "stream",
     "text": [
      "D:\\zwk_data\\p_tif\\17000\\ndwi1_int8_world_17159.tif\n",
      "['D:\\\\zwk_data\\\\p_tif\\\\GRWL_vector_V01.01\\\\SG19.shp'\n",
      " 'D:\\\\zwk_data\\\\p_tif\\\\GRWL_vector_V01.01\\\\SH19.shp']\n"
     ]
    },
    {
     "data": {
      "text/plain": [
       "'Fri Dec 29 11:46:51 2023'"
      ]
     },
     "execution_count": 22,
     "metadata": {},
     "output_type": "execute_result"
    },
    {
     "data": {
      "text/plain": [
       "118"
      ]
     },
     "execution_count": 22,
     "metadata": {},
     "output_type": "execute_result"
    },
    {
     "name": "stderr",
     "output_type": "stream",
     "text": [
      "\r",
      " 10%|███████▊                                                                       | 57/574 [30:47<5:21:01, 37.26s/it]"
     ]
    },
    {
     "name": "stdout",
     "output_type": "stream",
     "text": [
      "D:\\zwk_data\\p_tif\\17000\\ndwi1_int8_world_17160.tif\n",
      "['D:\\\\zwk_data\\\\p_tif\\\\GRWL_vector_V01.01\\\\SG19.shp'\n",
      " 'D:\\\\zwk_data\\\\p_tif\\\\GRWL_vector_V01.01\\\\SH19.shp']\n"
     ]
    },
    {
     "data": {
      "text/plain": [
       "'Fri Dec 29 11:47:28 2023'"
      ]
     },
     "execution_count": 22,
     "metadata": {},
     "output_type": "execute_result"
    },
    {
     "data": {
      "text/plain": [
       "122"
      ]
     },
     "execution_count": 22,
     "metadata": {},
     "output_type": "execute_result"
    },
    {
     "name": "stderr",
     "output_type": "stream",
     "text": [
      "\r",
      " 10%|███████▉                                                                       | 58/574 [31:27<5:26:07, 37.92s/it]"
     ]
    },
    {
     "name": "stdout",
     "output_type": "stream",
     "text": [
      "D:\\zwk_data\\p_tif\\17000\\ndwi1_int8_world_17161.tif\n",
      "['D:\\\\zwk_data\\\\p_tif\\\\GRWL_vector_V01.01\\\\SG19.shp']\n"
     ]
    },
    {
     "data": {
      "text/plain": [
       "'Fri Dec 29 11:48:08 2023'"
      ]
     },
     "execution_count": 22,
     "metadata": {},
     "output_type": "execute_result"
    },
    {
     "data": {
      "text/plain": [
       "117"
      ]
     },
     "execution_count": 22,
     "metadata": {},
     "output_type": "execute_result"
    },
    {
     "name": "stderr",
     "output_type": "stream",
     "text": [
      "\r",
      " 10%|████████                                                                       | 59/574 [32:00<5:14:06, 36.60s/it]"
     ]
    },
    {
     "name": "stdout",
     "output_type": "stream",
     "text": [
      "D:\\zwk_data\\p_tif\\17000\\ndwi1_int8_world_17162.tif\n",
      "['D:\\\\zwk_data\\\\p_tif\\\\GRWL_vector_V01.01\\\\SG19.shp']\n"
     ]
    },
    {
     "data": {
      "text/plain": [
       "'Fri Dec 29 11:48:41 2023'"
      ]
     },
     "execution_count": 22,
     "metadata": {},
     "output_type": "execute_result"
    },
    {
     "data": {
      "text/plain": [
       "117"
      ]
     },
     "execution_count": 22,
     "metadata": {},
     "output_type": "execute_result"
    },
    {
     "name": "stderr",
     "output_type": "stream",
     "text": [
      "\r",
      " 10%|████████▎                                                                      | 60/574 [32:33<5:04:16, 35.52s/it]"
     ]
    },
    {
     "name": "stdout",
     "output_type": "stream",
     "text": [
      "D:\\zwk_data\\p_tif\\17000\\ndwi1_int8_world_17163.tif\n",
      "D:\\zwk_data\\p_tif\\GRWL_vector_V01.01\\SF19.shp\n",
      "D:\\zwk_data\\p_tif\\GRWL_vector_V01.01\\SF19.shp\n",
      "['D:\\\\zwk_data\\\\p_tif\\\\GRWL_vector_V01.01\\\\SG19.shp']\n"
     ]
    },
    {
     "data": {
      "text/plain": [
       "'Fri Dec 29 11:49:14 2023'"
      ]
     },
     "execution_count": 22,
     "metadata": {},
     "output_type": "execute_result"
    },
    {
     "data": {
      "text/plain": [
       "118"
      ]
     },
     "execution_count": 22,
     "metadata": {},
     "output_type": "execute_result"
    },
    {
     "name": "stderr",
     "output_type": "stream",
     "text": [
      "\r",
      " 11%|████████▍                                                                      | 61/574 [33:07<4:58:54, 34.96s/it]"
     ]
    },
    {
     "name": "stdout",
     "output_type": "stream",
     "text": [
      "D:\\zwk_data\\p_tif\\17000\\ndwi1_int8_world_17168.tif\n",
      "['D:\\\\zwk_data\\\\p_tif\\\\GRWL_vector_V01.01\\\\SH19.shp']\n"
     ]
    },
    {
     "data": {
      "text/plain": [
       "'Fri Dec 29 11:49:48 2023'"
      ]
     },
     "execution_count": 22,
     "metadata": {},
     "output_type": "execute_result"
    },
    {
     "data": {
      "text/plain": [
       "114"
      ]
     },
     "execution_count": 22,
     "metadata": {},
     "output_type": "execute_result"
    },
    {
     "name": "stderr",
     "output_type": "stream",
     "text": [
      "\r",
      " 11%|████████▌                                                                      | 62/574 [33:41<4:57:26, 34.86s/it]"
     ]
    },
    {
     "name": "stdout",
     "output_type": "stream",
     "text": [
      "D:\\zwk_data\\p_tif\\17000\\ndwi1_int8_world_17169.tif\n",
      "['D:\\\\zwk_data\\\\p_tif\\\\GRWL_vector_V01.01\\\\SG19.shp'\n",
      " 'D:\\\\zwk_data\\\\p_tif\\\\GRWL_vector_V01.01\\\\SH19.shp']\n"
     ]
    },
    {
     "data": {
      "text/plain": [
       "'Fri Dec 29 11:50:22 2023'"
      ]
     },
     "execution_count": 22,
     "metadata": {},
     "output_type": "execute_result"
    },
    {
     "data": {
      "text/plain": [
       "116"
      ]
     },
     "execution_count": 22,
     "metadata": {},
     "output_type": "execute_result"
    },
    {
     "name": "stderr",
     "output_type": "stream",
     "text": [
      "\r",
      " 11%|████████▋                                                                      | 63/574 [34:18<5:00:23, 35.27s/it]"
     ]
    },
    {
     "name": "stdout",
     "output_type": "stream",
     "text": [
      "D:\\zwk_data\\p_tif\\17000\\ndwi1_int8_world_17170.tif\n",
      "['D:\\\\zwk_data\\\\p_tif\\\\GRWL_vector_V01.01\\\\SG19.shp'\n",
      " 'D:\\\\zwk_data\\\\p_tif\\\\GRWL_vector_V01.01\\\\SH19.shp']\n"
     ]
    },
    {
     "data": {
      "text/plain": [
       "'Fri Dec 29 11:50:59 2023'"
      ]
     },
     "execution_count": 22,
     "metadata": {},
     "output_type": "execute_result"
    },
    {
     "data": {
      "text/plain": [
       "118"
      ]
     },
     "execution_count": 22,
     "metadata": {},
     "output_type": "execute_result"
    },
    {
     "name": "stderr",
     "output_type": "stream",
     "text": [
      "\r",
      " 11%|████████▊                                                                      | 64/574 [34:55<5:04:05, 35.78s/it]"
     ]
    },
    {
     "name": "stdout",
     "output_type": "stream",
     "text": [
      "D:\\zwk_data\\p_tif\\17000\\ndwi1_int8_world_17171.tif\n",
      "['D:\\\\zwk_data\\\\p_tif\\\\GRWL_vector_V01.01\\\\SG19.shp']\n"
     ]
    },
    {
     "data": {
      "text/plain": [
       "'Fri Dec 29 11:51:36 2023'"
      ]
     },
     "execution_count": 22,
     "metadata": {},
     "output_type": "execute_result"
    },
    {
     "data": {
      "text/plain": [
       "117"
      ]
     },
     "execution_count": 22,
     "metadata": {},
     "output_type": "execute_result"
    },
    {
     "name": "stderr",
     "output_type": "stream",
     "text": [
      "\r",
      " 11%|████████▉                                                                      | 65/574 [35:27<4:54:23, 34.70s/it]"
     ]
    },
    {
     "name": "stdout",
     "output_type": "stream",
     "text": [
      "D:\\zwk_data\\p_tif\\17000\\ndwi1_int8_world_17172.tif\n",
      "['D:\\\\zwk_data\\\\p_tif\\\\GRWL_vector_V01.01\\\\SG19.shp']\n"
     ]
    },
    {
     "data": {
      "text/plain": [
       "'Fri Dec 29 11:52:08 2023'"
      ]
     },
     "execution_count": 22,
     "metadata": {},
     "output_type": "execute_result"
    },
    {
     "data": {
      "text/plain": [
       "117"
      ]
     },
     "execution_count": 22,
     "metadata": {},
     "output_type": "execute_result"
    },
    {
     "name": "stderr",
     "output_type": "stream",
     "text": [
      "\r",
      " 11%|█████████                                                                      | 66/574 [35:59<4:47:00, 33.90s/it]"
     ]
    },
    {
     "name": "stdout",
     "output_type": "stream",
     "text": [
      "D:\\zwk_data\\p_tif\\17000\\ndwi1_int8_world_17173.tif\n",
      "D:\\zwk_data\\p_tif\\GRWL_vector_V01.01\\SF19.shp\n",
      "D:\\zwk_data\\p_tif\\GRWL_vector_V01.01\\SF19.shp\n",
      "['D:\\\\zwk_data\\\\p_tif\\\\GRWL_vector_V01.01\\\\SG19.shp']\n"
     ]
    },
    {
     "data": {
      "text/plain": [
       "'Fri Dec 29 11:52:40 2023'"
      ]
     },
     "execution_count": 22,
     "metadata": {},
     "output_type": "execute_result"
    },
    {
     "data": {
      "text/plain": [
       "118"
      ]
     },
     "execution_count": 22,
     "metadata": {},
     "output_type": "execute_result"
    },
    {
     "name": "stderr",
     "output_type": "stream",
     "text": [
      "\r",
      " 12%|█████████▏                                                                     | 67/574 [36:32<4:45:52, 33.83s/it]"
     ]
    },
    {
     "name": "stdout",
     "output_type": "stream",
     "text": [
      "D:\\zwk_data\\p_tif\\17000\\ndwi1_int8_world_17174.tif\n",
      "D:\\zwk_data\\p_tif\\GRWL_vector_V01.01\\SF19.shp\n",
      "D:\\zwk_data\\p_tif\\GRWL_vector_V01.01\\SF19.shp\n",
      "['D:\\\\zwk_data\\\\p_tif\\\\GRWL_vector_V01.01\\\\SG19.shp']\n"
     ]
    },
    {
     "data": {
      "text/plain": [
       "'Fri Dec 29 11:53:13 2023'"
      ]
     },
     "execution_count": 22,
     "metadata": {},
     "output_type": "execute_result"
    },
    {
     "data": {
      "text/plain": [
       "117"
      ]
     },
     "execution_count": 22,
     "metadata": {},
     "output_type": "execute_result"
    },
    {
     "name": "stderr",
     "output_type": "stream",
     "text": [
      "\r",
      " 12%|█████████▎                                                                     | 68/574 [37:06<4:45:32, 33.86s/it]"
     ]
    },
    {
     "name": "stdout",
     "output_type": "stream",
     "text": [
      "D:\\zwk_data\\p_tif\\17000\\ndwi1_int8_world_17178.tif\n",
      "['D:\\\\zwk_data\\\\p_tif\\\\GRWL_vector_V01.01\\\\SH19.shp'\n",
      " 'D:\\\\zwk_data\\\\p_tif\\\\GRWL_vector_V01.01\\\\SH20.shp']\n"
     ]
    },
    {
     "data": {
      "text/plain": [
       "'Fri Dec 29 11:53:47 2023'"
      ]
     },
     "execution_count": 22,
     "metadata": {},
     "output_type": "execute_result"
    },
    {
     "data": {
      "text/plain": [
       "118"
      ]
     },
     "execution_count": 22,
     "metadata": {},
     "output_type": "execute_result"
    },
    {
     "name": "stderr",
     "output_type": "stream",
     "text": [
      "\r",
      " 12%|█████████▍                                                                     | 69/574 [37:50<5:08:38, 36.67s/it]"
     ]
    },
    {
     "name": "stdout",
     "output_type": "stream",
     "text": [
      "D:\\zwk_data\\p_tif\\17000\\ndwi1_int8_world_17179.tif\n",
      "['D:\\\\zwk_data\\\\p_tif\\\\GRWL_vector_V01.01\\\\SG19.shp'\n",
      " 'D:\\\\zwk_data\\\\p_tif\\\\GRWL_vector_V01.01\\\\SG20.shp'\n",
      " 'D:\\\\zwk_data\\\\p_tif\\\\GRWL_vector_V01.01\\\\SH19.shp'\n",
      " 'D:\\\\zwk_data\\\\p_tif\\\\GRWL_vector_V01.01\\\\SH20.shp']\n"
     ]
    },
    {
     "data": {
      "text/plain": [
       "'Fri Dec 29 11:54:31 2023'"
      ]
     },
     "execution_count": 22,
     "metadata": {},
     "output_type": "execute_result"
    },
    {
     "data": {
      "text/plain": [
       "114"
      ]
     },
     "execution_count": 22,
     "metadata": {},
     "output_type": "execute_result"
    },
    {
     "name": "stderr",
     "output_type": "stream",
     "text": [
      "\r",
      " 12%|█████████▋                                                                     | 70/574 [38:59<6:30:49, 46.53s/it]"
     ]
    },
    {
     "name": "stdout",
     "output_type": "stream",
     "text": [
      "D:\\zwk_data\\p_tif\\17000\\ndwi1_int8_world_17180.tif\n",
      "['D:\\\\zwk_data\\\\p_tif\\\\GRWL_vector_V01.01\\\\SG19.shp'\n",
      " 'D:\\\\zwk_data\\\\p_tif\\\\GRWL_vector_V01.01\\\\SG20.shp'\n",
      " 'D:\\\\zwk_data\\\\p_tif\\\\GRWL_vector_V01.01\\\\SH19.shp'\n",
      " 'D:\\\\zwk_data\\\\p_tif\\\\GRWL_vector_V01.01\\\\SH20.shp']\n"
     ]
    },
    {
     "data": {
      "text/plain": [
       "'Fri Dec 29 11:55:40 2023'"
      ]
     },
     "execution_count": 22,
     "metadata": {},
     "output_type": "execute_result"
    },
    {
     "data": {
      "text/plain": [
       "118"
      ]
     },
     "execution_count": 22,
     "metadata": {},
     "output_type": "execute_result"
    },
    {
     "name": "stderr",
     "output_type": "stream",
     "text": [
      "\r",
      " 12%|█████████▊                                                                     | 71/574 [40:09<7:29:13, 53.58s/it]"
     ]
    },
    {
     "name": "stdout",
     "output_type": "stream",
     "text": [
      "D:\\zwk_data\\p_tif\\17000\\ndwi1_int8_world_17181.tif\n",
      "['D:\\\\zwk_data\\\\p_tif\\\\GRWL_vector_V01.01\\\\SG19.shp'\n",
      " 'D:\\\\zwk_data\\\\p_tif\\\\GRWL_vector_V01.01\\\\SG20.shp']\n"
     ]
    },
    {
     "data": {
      "text/plain": [
       "'Fri Dec 29 11:56:50 2023'"
      ]
     },
     "execution_count": 22,
     "metadata": {},
     "output_type": "execute_result"
    },
    {
     "data": {
      "text/plain": [
       "117"
      ]
     },
     "execution_count": 22,
     "metadata": {},
     "output_type": "execute_result"
    },
    {
     "name": "stderr",
     "output_type": "stream",
     "text": [
      "\r",
      " 13%|█████████▉                                                                     | 72/574 [41:07<7:37:49, 54.72s/it]"
     ]
    },
    {
     "name": "stdout",
     "output_type": "stream",
     "text": [
      "D:\\zwk_data\\p_tif\\17000\\ndwi1_int8_world_17182.tif\n",
      "['D:\\\\zwk_data\\\\p_tif\\\\GRWL_vector_V01.01\\\\SG19.shp'\n",
      " 'D:\\\\zwk_data\\\\p_tif\\\\GRWL_vector_V01.01\\\\SG20.shp']\n"
     ]
    },
    {
     "data": {
      "text/plain": [
       "'Fri Dec 29 11:57:48 2023'"
      ]
     },
     "execution_count": 22,
     "metadata": {},
     "output_type": "execute_result"
    },
    {
     "data": {
      "text/plain": [
       "117"
      ]
     },
     "execution_count": 22,
     "metadata": {},
     "output_type": "execute_result"
    },
    {
     "name": "stderr",
     "output_type": "stream",
     "text": [
      "\r",
      " 13%|██████████                                                                     | 73/574 [42:03<7:40:50, 55.19s/it]"
     ]
    },
    {
     "name": "stdout",
     "output_type": "stream",
     "text": [
      "D:\\zwk_data\\p_tif\\17000\\ndwi1_int8_world_17183.tif\n",
      "D:\\zwk_data\\p_tif\\GRWL_vector_V01.01\\SF19.shp\n",
      "['D:\\\\zwk_data\\\\p_tif\\\\GRWL_vector_V01.01\\\\SF20.shp'\n",
      " 'D:\\\\zwk_data\\\\p_tif\\\\GRWL_vector_V01.01\\\\SG19.shp'\n",
      " 'D:\\\\zwk_data\\\\p_tif\\\\GRWL_vector_V01.01\\\\SG20.shp']\n"
     ]
    },
    {
     "data": {
      "text/plain": [
       "'Fri Dec 29 11:58:44 2023'"
      ]
     },
     "execution_count": 22,
     "metadata": {},
     "output_type": "execute_result"
    },
    {
     "data": {
      "text/plain": [
       "118"
      ]
     },
     "execution_count": 22,
     "metadata": {},
     "output_type": "execute_result"
    },
    {
     "name": "stderr",
     "output_type": "stream",
     "text": [
      "\r",
      " 13%|██████████▏                                                                    | 74/574 [43:28<8:53:44, 64.05s/it]"
     ]
    },
    {
     "name": "stdout",
     "output_type": "stream",
     "text": [
      "D:\\zwk_data\\p_tif\\17000\\ndwi1_int8_world_17184.tif\n",
      "D:\\zwk_data\\p_tif\\GRWL_vector_V01.01\\SF19.shp\n",
      "['D:\\\\zwk_data\\\\p_tif\\\\GRWL_vector_V01.01\\\\SF20.shp'\n",
      " 'D:\\\\zwk_data\\\\p_tif\\\\GRWL_vector_V01.01\\\\SG19.shp'\n",
      " 'D:\\\\zwk_data\\\\p_tif\\\\GRWL_vector_V01.01\\\\SG20.shp']\n"
     ]
    },
    {
     "data": {
      "text/plain": [
       "'Fri Dec 29 12:00:09 2023'"
      ]
     },
     "execution_count": 22,
     "metadata": {},
     "output_type": "execute_result"
    },
    {
     "data": {
      "text/plain": [
       "113"
      ]
     },
     "execution_count": 22,
     "metadata": {},
     "output_type": "execute_result"
    },
    {
     "name": "stderr",
     "output_type": "stream",
     "text": [
      "\r",
      " 13%|██████████▎                                                                    | 75/574 [44:54<9:48:38, 70.78s/it]"
     ]
    },
    {
     "name": "stdout",
     "output_type": "stream",
     "text": [
      "D:\\zwk_data\\p_tif\\17000\\ndwi1_int8_world_17185.tif\n",
      "D:\\zwk_data\\p_tif\\GRWL_vector_V01.01\\SF19.shp\n",
      "D:\\zwk_data\\p_tif\\GRWL_vector_V01.01\\SF19.shp\n",
      "['D:\\\\zwk_data\\\\p_tif\\\\GRWL_vector_V01.01\\\\SF20.shp']\n"
     ]
    },
    {
     "data": {
      "text/plain": [
       "'Fri Dec 29 12:01:35 2023'"
      ]
     },
     "execution_count": 22,
     "metadata": {},
     "output_type": "execute_result"
    },
    {
     "data": {
      "text/plain": [
       "108"
      ]
     },
     "execution_count": 22,
     "metadata": {},
     "output_type": "execute_result"
    },
    {
     "name": "stderr",
     "output_type": "stream",
     "text": [
      "\r",
      " 13%|██████████▍                                                                    | 76/574 [45:48<9:05:52, 65.77s/it]"
     ]
    },
    {
     "name": "stdout",
     "output_type": "stream",
     "text": [
      "D:\\zwk_data\\p_tif\\17000\\ndwi1_int8_world_17186.tif\n",
      "D:\\zwk_data\\p_tif\\GRWL_vector_V01.01\\SF19.shp\n",
      "D:\\zwk_data\\p_tif\\GRWL_vector_V01.01\\SF19.shp\n",
      "['D:\\\\zwk_data\\\\p_tif\\\\GRWL_vector_V01.01\\\\SF20.shp']\n"
     ]
    },
    {
     "data": {
      "text/plain": [
       "'Fri Dec 29 12:02:29 2023'"
      ]
     },
     "execution_count": 22,
     "metadata": {},
     "output_type": "execute_result"
    },
    {
     "data": {
      "text/plain": [
       "108"
      ]
     },
     "execution_count": 22,
     "metadata": {},
     "output_type": "execute_result"
    },
    {
     "name": "stderr",
     "output_type": "stream",
     "text": [
      "\r",
      " 13%|██████████▌                                                                    | 77/574 [46:41<8:33:28, 61.99s/it]"
     ]
    },
    {
     "name": "stdout",
     "output_type": "stream",
     "text": [
      "D:\\zwk_data\\p_tif\\17000\\ndwi1_int8_world_17188.tif\n",
      "['D:\\\\zwk_data\\\\p_tif\\\\GRWL_vector_V01.01\\\\SH19.shp'\n",
      " 'D:\\\\zwk_data\\\\p_tif\\\\GRWL_vector_V01.01\\\\SH20.shp']\n"
     ]
    },
    {
     "data": {
      "text/plain": [
       "'Fri Dec 29 12:03:22 2023'"
      ]
     },
     "execution_count": 22,
     "metadata": {},
     "output_type": "execute_result"
    },
    {
     "data": {
      "text/plain": [
       "114"
      ]
     },
     "execution_count": 22,
     "metadata": {},
     "output_type": "execute_result"
    },
    {
     "name": "stderr",
     "output_type": "stream",
     "text": [
      "\r",
      " 14%|██████████▋                                                                    | 78/574 [47:23<7:41:11, 55.79s/it]"
     ]
    },
    {
     "name": "stdout",
     "output_type": "stream",
     "text": [
      "D:\\zwk_data\\p_tif\\17000\\ndwi1_int8_world_17189.tif\n",
      "['D:\\\\zwk_data\\\\p_tif\\\\GRWL_vector_V01.01\\\\SG19.shp'\n",
      " 'D:\\\\zwk_data\\\\p_tif\\\\GRWL_vector_V01.01\\\\SG20.shp'\n",
      " 'D:\\\\zwk_data\\\\p_tif\\\\GRWL_vector_V01.01\\\\SH19.shp'\n",
      " 'D:\\\\zwk_data\\\\p_tif\\\\GRWL_vector_V01.01\\\\SH20.shp']\n"
     ]
    },
    {
     "data": {
      "text/plain": [
       "'Fri Dec 29 12:04:03 2023'"
      ]
     },
     "execution_count": 22,
     "metadata": {},
     "output_type": "execute_result"
    },
    {
     "data": {
      "text/plain": [
       "118"
      ]
     },
     "execution_count": 22,
     "metadata": {},
     "output_type": "execute_result"
    },
    {
     "name": "stderr",
     "output_type": "stream",
     "text": [
      "\r",
      " 14%|██████████▊                                                                    | 79/574 [48:29<8:05:45, 58.88s/it]"
     ]
    },
    {
     "name": "stdout",
     "output_type": "stream",
     "text": [
      "D:\\zwk_data\\p_tif\\17000\\ndwi1_int8_world_17190.tif\n",
      "['D:\\\\zwk_data\\\\p_tif\\\\GRWL_vector_V01.01\\\\SG19.shp'\n",
      " 'D:\\\\zwk_data\\\\p_tif\\\\GRWL_vector_V01.01\\\\SG20.shp'\n",
      " 'D:\\\\zwk_data\\\\p_tif\\\\GRWL_vector_V01.01\\\\SH19.shp'\n",
      " 'D:\\\\zwk_data\\\\p_tif\\\\GRWL_vector_V01.01\\\\SH20.shp']\n"
     ]
    },
    {
     "data": {
      "text/plain": [
       "'Fri Dec 29 12:05:10 2023'"
      ]
     },
     "execution_count": 22,
     "metadata": {},
     "output_type": "execute_result"
    },
    {
     "data": {
      "text/plain": [
       "118"
      ]
     },
     "execution_count": 22,
     "metadata": {},
     "output_type": "execute_result"
    },
    {
     "name": "stderr",
     "output_type": "stream",
     "text": [
      "\r",
      " 14%|███████████                                                                    | 80/574 [49:40<8:34:38, 62.51s/it]"
     ]
    },
    {
     "name": "stdout",
     "output_type": "stream",
     "text": [
      "D:\\zwk_data\\p_tif\\17000\\ndwi1_int8_world_17191.tif\n",
      "['D:\\\\zwk_data\\\\p_tif\\\\GRWL_vector_V01.01\\\\SG19.shp'\n",
      " 'D:\\\\zwk_data\\\\p_tif\\\\GRWL_vector_V01.01\\\\SG20.shp']\n"
     ]
    },
    {
     "data": {
      "text/plain": [
       "'Fri Dec 29 12:06:21 2023'"
      ]
     },
     "execution_count": 22,
     "metadata": {},
     "output_type": "execute_result"
    },
    {
     "data": {
      "text/plain": [
       "117"
      ]
     },
     "execution_count": 22,
     "metadata": {},
     "output_type": "execute_result"
    },
    {
     "name": "stderr",
     "output_type": "stream",
     "text": [
      "\r",
      " 14%|███████████▏                                                                   | 81/574 [50:36<8:18:53, 60.72s/it]"
     ]
    },
    {
     "name": "stdout",
     "output_type": "stream",
     "text": [
      "D:\\zwk_data\\p_tif\\17000\\ndwi1_int8_world_17192.tif\n",
      "['D:\\\\zwk_data\\\\p_tif\\\\GRWL_vector_V01.01\\\\SG19.shp'\n",
      " 'D:\\\\zwk_data\\\\p_tif\\\\GRWL_vector_V01.01\\\\SG20.shp']\n"
     ]
    },
    {
     "data": {
      "text/plain": [
       "'Fri Dec 29 12:07:17 2023'"
      ]
     },
     "execution_count": 22,
     "metadata": {},
     "output_type": "execute_result"
    },
    {
     "data": {
      "text/plain": [
       "117"
      ]
     },
     "execution_count": 22,
     "metadata": {},
     "output_type": "execute_result"
    },
    {
     "name": "stderr",
     "output_type": "stream",
     "text": [
      "\r",
      " 14%|███████████▎                                                                   | 82/574 [51:33<8:07:35, 59.46s/it]"
     ]
    },
    {
     "name": "stdout",
     "output_type": "stream",
     "text": [
      "D:\\zwk_data\\p_tif\\17000\\ndwi1_int8_world_17193.tif\n",
      "D:\\zwk_data\\p_tif\\GRWL_vector_V01.01\\SF19.shp\n",
      "['D:\\\\zwk_data\\\\p_tif\\\\GRWL_vector_V01.01\\\\SF20.shp'\n",
      " 'D:\\\\zwk_data\\\\p_tif\\\\GRWL_vector_V01.01\\\\SG19.shp'\n",
      " 'D:\\\\zwk_data\\\\p_tif\\\\GRWL_vector_V01.01\\\\SG20.shp']\n"
     ]
    },
    {
     "data": {
      "text/plain": [
       "'Fri Dec 29 12:08:14 2023'"
      ]
     },
     "execution_count": 22,
     "metadata": {},
     "output_type": "execute_result"
    },
    {
     "data": {
      "text/plain": [
       "118"
      ]
     },
     "execution_count": 22,
     "metadata": {},
     "output_type": "execute_result"
    },
    {
     "name": "stderr",
     "output_type": "stream",
     "text": [
      "\r",
      " 14%|███████████▍                                                                   | 83/574 [52:56<9:04:41, 66.56s/it]"
     ]
    },
    {
     "name": "stdout",
     "output_type": "stream",
     "text": [
      "D:\\zwk_data\\p_tif\\17000\\ndwi1_int8_world_17194.tif\n",
      "D:\\zwk_data\\p_tif\\GRWL_vector_V01.01\\SF19.shp\n",
      "['D:\\\\zwk_data\\\\p_tif\\\\GRWL_vector_V01.01\\\\SF20.shp'\n",
      " 'D:\\\\zwk_data\\\\p_tif\\\\GRWL_vector_V01.01\\\\SG19.shp'\n",
      " 'D:\\\\zwk_data\\\\p_tif\\\\GRWL_vector_V01.01\\\\SG20.shp']\n"
     ]
    },
    {
     "data": {
      "text/plain": [
       "'Fri Dec 29 12:09:37 2023'"
      ]
     },
     "execution_count": 22,
     "metadata": {},
     "output_type": "execute_result"
    },
    {
     "data": {
      "text/plain": [
       "117"
      ]
     },
     "execution_count": 22,
     "metadata": {},
     "output_type": "execute_result"
    },
    {
     "name": "stderr",
     "output_type": "stream",
     "text": [
      "\r",
      " 15%|███████████▌                                                                   | 84/574 [54:22<9:51:59, 72.49s/it]"
     ]
    },
    {
     "name": "stdout",
     "output_type": "stream",
     "text": [
      "D:\\zwk_data\\p_tif\\17000\\ndwi1_int8_world_17195.tif\n",
      "D:\\zwk_data\\p_tif\\GRWL_vector_V01.01\\SF19.shp\n",
      "D:\\zwk_data\\p_tif\\GRWL_vector_V01.01\\SF19.shp\n",
      "['D:\\\\zwk_data\\\\p_tif\\\\GRWL_vector_V01.01\\\\SF20.shp']\n"
     ]
    },
    {
     "data": {
      "text/plain": [
       "'Fri Dec 29 12:11:04 2023'"
      ]
     },
     "execution_count": 22,
     "metadata": {},
     "output_type": "execute_result"
    },
    {
     "data": {
      "text/plain": [
       "108"
      ]
     },
     "execution_count": 22,
     "metadata": {},
     "output_type": "execute_result"
    },
    {
     "name": "stderr",
     "output_type": "stream",
     "text": [
      "\r",
      " 15%|███████████▋                                                                   | 85/574 [55:16<9:04:58, 66.87s/it]"
     ]
    },
    {
     "name": "stdout",
     "output_type": "stream",
     "text": [
      "D:\\zwk_data\\p_tif\\17000\\ndwi1_int8_world_17196.tif\n",
      "D:\\zwk_data\\p_tif\\GRWL_vector_V01.01\\SF19.shp\n",
      "D:\\zwk_data\\p_tif\\GRWL_vector_V01.01\\SF19.shp\n",
      "['D:\\\\zwk_data\\\\p_tif\\\\GRWL_vector_V01.01\\\\SF20.shp']\n"
     ]
    },
    {
     "data": {
      "text/plain": [
       "'Fri Dec 29 12:11:57 2023'"
      ]
     },
     "execution_count": 22,
     "metadata": {},
     "output_type": "execute_result"
    },
    {
     "data": {
      "text/plain": [
       "108"
      ]
     },
     "execution_count": 22,
     "metadata": {},
     "output_type": "execute_result"
    },
    {
     "name": "stderr",
     "output_type": "stream",
     "text": [
      "\r",
      " 15%|███████████▊                                                                   | 86/574 [56:08<8:26:59, 62.33s/it]"
     ]
    },
    {
     "name": "stdout",
     "output_type": "stream",
     "text": [
      "D:\\zwk_data\\p_tif\\17000\\ndwi1_int8_world_17197.tif\n",
      "D:\\zwk_data\\p_tif\\GRWL_vector_V01.01\\SF19.shp\n",
      "['D:\\\\zwk_data\\\\p_tif\\\\GRWL_vector_V01.01\\\\SE19.shp'\n",
      " 'D:\\\\zwk_data\\\\p_tif\\\\GRWL_vector_V01.01\\\\SE20.shp'\n",
      " 'D:\\\\zwk_data\\\\p_tif\\\\GRWL_vector_V01.01\\\\SF20.shp']\n"
     ]
    },
    {
     "data": {
      "text/plain": [
       "'Fri Dec 29 12:12:49 2023'"
      ]
     },
     "execution_count": 22,
     "metadata": {},
     "output_type": "execute_result"
    },
    {
     "data": {
      "text/plain": [
       "117"
      ]
     },
     "execution_count": 22,
     "metadata": {},
     "output_type": "execute_result"
    },
    {
     "name": "stderr",
     "output_type": "stream",
     "text": [
      "\r",
      " 15%|███████████▊                                                                  | 87/574 [58:07<10:44:41, 79.43s/it]"
     ]
    },
    {
     "name": "stdout",
     "output_type": "stream",
     "text": [
      "D:\\zwk_data\\p_tif\\17000\\ndwi1_int8_world_17198.tif\n",
      "['D:\\\\zwk_data\\\\p_tif\\\\GRWL_vector_V01.01\\\\SH20.shp']\n"
     ]
    },
    {
     "data": {
      "text/plain": [
       "'Fri Dec 29 12:14:48 2023'"
      ]
     },
     "execution_count": 22,
     "metadata": {},
     "output_type": "execute_result"
    },
    {
     "data": {
      "text/plain": [
       "114"
      ]
     },
     "execution_count": 22,
     "metadata": {},
     "output_type": "execute_result"
    },
    {
     "name": "stderr",
     "output_type": "stream",
     "text": [
      "\r",
      " 15%|████████████                                                                   | 88/574 [58:48<9:10:03, 67.91s/it]"
     ]
    },
    {
     "name": "stdout",
     "output_type": "stream",
     "text": [
      "D:\\zwk_data\\p_tif\\17000\\ndwi1_int8_world_17199.tif\n",
      "['D:\\\\zwk_data\\\\p_tif\\\\GRWL_vector_V01.01\\\\SG20.shp'\n",
      " 'D:\\\\zwk_data\\\\p_tif\\\\GRWL_vector_V01.01\\\\SH20.shp']\n"
     ]
    },
    {
     "data": {
      "text/plain": [
       "'Fri Dec 29 12:15:29 2023'"
      ]
     },
     "execution_count": 22,
     "metadata": {},
     "output_type": "execute_result"
    },
    {
     "data": {
      "text/plain": [
       "118"
      ]
     },
     "execution_count": 22,
     "metadata": {},
     "output_type": "execute_result"
    },
    {
     "name": "stderr",
     "output_type": "stream",
     "text": [
      "\r",
      " 16%|████████████▏                                                                  | 89/574 [59:49<8:50:58, 65.69s/it]"
     ]
    },
    {
     "name": "stdout",
     "output_type": "stream",
     "text": [
      "D:\\zwk_data\\p_tif\\17000\\ndwi1_int8_world_17200.tif\n",
      "['D:\\\\zwk_data\\\\p_tif\\\\GRWL_vector_V01.01\\\\SG20.shp'\n",
      " 'D:\\\\zwk_data\\\\p_tif\\\\GRWL_vector_V01.01\\\\SH20.shp']\n"
     ]
    },
    {
     "data": {
      "text/plain": [
       "'Fri Dec 29 12:16:30 2023'"
      ]
     },
     "execution_count": 22,
     "metadata": {},
     "output_type": "execute_result"
    },
    {
     "data": {
      "text/plain": [
       "118"
      ]
     },
     "execution_count": 22,
     "metadata": {},
     "output_type": "execute_result"
    },
    {
     "name": "stderr",
     "output_type": "stream",
     "text": [
      "\r",
      " 16%|████████████                                                                 | 90/574 [1:00:52<8:44:46, 65.06s/it]"
     ]
    },
    {
     "name": "stdout",
     "output_type": "stream",
     "text": [
      "D:\\zwk_data\\p_tif\\17000\\ndwi1_int8_world_17201.tif\n",
      "['D:\\\\zwk_data\\\\p_tif\\\\GRWL_vector_V01.01\\\\SG20.shp']\n"
     ]
    },
    {
     "data": {
      "text/plain": [
       "'Fri Dec 29 12:17:33 2023'"
      ]
     },
     "execution_count": 22,
     "metadata": {},
     "output_type": "execute_result"
    },
    {
     "data": {
      "text/plain": [
       "114"
      ]
     },
     "execution_count": 22,
     "metadata": {},
     "output_type": "execute_result"
    },
    {
     "name": "stderr",
     "output_type": "stream",
     "text": [
      "\r",
      " 16%|████████████▏                                                                | 91/574 [1:01:48<8:20:42, 62.20s/it]"
     ]
    },
    {
     "name": "stdout",
     "output_type": "stream",
     "text": [
      "D:\\zwk_data\\p_tif\\17000\\ndwi1_int8_world_17202.tif\n",
      "['D:\\\\zwk_data\\\\p_tif\\\\GRWL_vector_V01.01\\\\SG20.shp']\n"
     ]
    },
    {
     "data": {
      "text/plain": [
       "'Fri Dec 29 12:18:29 2023'"
      ]
     },
     "execution_count": 22,
     "metadata": {},
     "output_type": "execute_result"
    },
    {
     "data": {
      "text/plain": [
       "117"
      ]
     },
     "execution_count": 22,
     "metadata": {},
     "output_type": "execute_result"
    },
    {
     "name": "stderr",
     "output_type": "stream",
     "text": [
      "\r",
      " 16%|████████████▎                                                                | 92/574 [1:02:43<8:03:45, 60.22s/it]"
     ]
    },
    {
     "name": "stdout",
     "output_type": "stream",
     "text": [
      "D:\\zwk_data\\p_tif\\17000\\ndwi1_int8_world_17203.tif\n",
      "['D:\\\\zwk_data\\\\p_tif\\\\GRWL_vector_V01.01\\\\SF20.shp'\n",
      " 'D:\\\\zwk_data\\\\p_tif\\\\GRWL_vector_V01.01\\\\SG20.shp']\n"
     ]
    },
    {
     "data": {
      "text/plain": [
       "'Fri Dec 29 12:19:24 2023'"
      ]
     },
     "execution_count": 22,
     "metadata": {},
     "output_type": "execute_result"
    },
    {
     "data": {
      "text/plain": [
       "118"
      ]
     },
     "execution_count": 22,
     "metadata": {},
     "output_type": "execute_result"
    },
    {
     "name": "stderr",
     "output_type": "stream",
     "text": [
      "\r",
      " 16%|████████████▍                                                                | 93/574 [1:04:06<8:55:50, 66.84s/it]"
     ]
    },
    {
     "name": "stdout",
     "output_type": "stream",
     "text": [
      "D:\\zwk_data\\p_tif\\17000\\ndwi1_int8_world_17204.tif\n",
      "['D:\\\\zwk_data\\\\p_tif\\\\GRWL_vector_V01.01\\\\SF20.shp'\n",
      " 'D:\\\\zwk_data\\\\p_tif\\\\GRWL_vector_V01.01\\\\SG20.shp']\n"
     ]
    },
    {
     "data": {
      "text/plain": [
       "'Fri Dec 29 12:20:47 2023'"
      ]
     },
     "execution_count": 22,
     "metadata": {},
     "output_type": "execute_result"
    },
    {
     "data": {
      "text/plain": [
       "121"
      ]
     },
     "execution_count": 22,
     "metadata": {},
     "output_type": "execute_result"
    },
    {
     "name": "stderr",
     "output_type": "stream",
     "text": [
      "\r",
      " 16%|████████████▌                                                                | 94/574 [1:05:31<9:39:05, 72.39s/it]"
     ]
    },
    {
     "name": "stdout",
     "output_type": "stream",
     "text": [
      "D:\\zwk_data\\p_tif\\17000\\ndwi1_int8_world_17205.tif\n",
      "['D:\\\\zwk_data\\\\p_tif\\\\GRWL_vector_V01.01\\\\SF20.shp']\n"
     ]
    },
    {
     "data": {
      "text/plain": [
       "'Fri Dec 29 12:22:12 2023'"
      ]
     },
     "execution_count": 22,
     "metadata": {},
     "output_type": "execute_result"
    },
    {
     "data": {
      "text/plain": [
       "110"
      ]
     },
     "execution_count": 22,
     "metadata": {},
     "output_type": "execute_result"
    },
    {
     "name": "stderr",
     "output_type": "stream",
     "text": [
      "\r",
      " 17%|████████████▋                                                                | 95/574 [1:06:26<8:55:26, 67.07s/it]"
     ]
    },
    {
     "name": "stdout",
     "output_type": "stream",
     "text": [
      "D:\\zwk_data\\p_tif\\17000\\ndwi1_int8_world_17206.tif\n",
      "['D:\\\\zwk_data\\\\p_tif\\\\GRWL_vector_V01.01\\\\SF20.shp']\n"
     ]
    },
    {
     "data": {
      "text/plain": [
       "'Fri Dec 29 12:23:07 2023'"
      ]
     },
     "execution_count": 22,
     "metadata": {},
     "output_type": "execute_result"
    },
    {
     "data": {
      "text/plain": [
       "108"
      ]
     },
     "execution_count": 22,
     "metadata": {},
     "output_type": "execute_result"
    },
    {
     "name": "stderr",
     "output_type": "stream",
     "text": [
      "\r",
      " 17%|████████████▉                                                                | 96/574 [1:07:17<8:17:53, 62.50s/it]"
     ]
    },
    {
     "name": "stdout",
     "output_type": "stream",
     "text": [
      "D:\\zwk_data\\p_tif\\17000\\ndwi1_int8_world_17207.tif\n",
      "['D:\\\\zwk_data\\\\p_tif\\\\GRWL_vector_V01.01\\\\SE20.shp'\n",
      " 'D:\\\\zwk_data\\\\p_tif\\\\GRWL_vector_V01.01\\\\SF20.shp']\n"
     ]
    },
    {
     "data": {
      "text/plain": [
       "'Fri Dec 29 12:23:59 2023'"
      ]
     },
     "execution_count": 22,
     "metadata": {},
     "output_type": "execute_result"
    },
    {
     "data": {
      "text/plain": [
       "109"
      ]
     },
     "execution_count": 22,
     "metadata": {},
     "output_type": "execute_result"
    },
    {
     "name": "stderr",
     "output_type": "stream",
     "text": [
      "\r",
      " 17%|█████████████                                                                | 97/574 [1:08:48<9:23:49, 70.92s/it]"
     ]
    },
    {
     "name": "stdout",
     "output_type": "stream",
     "text": [
      "D:\\zwk_data\\p_tif\\17000\\ndwi1_int8_world_17208.tif\n",
      "['D:\\\\zwk_data\\\\p_tif\\\\GRWL_vector_V01.01\\\\SH20.shp']\n"
     ]
    },
    {
     "data": {
      "text/plain": [
       "'Fri Dec 29 12:25:29 2023'"
      ]
     },
     "execution_count": 22,
     "metadata": {},
     "output_type": "execute_result"
    },
    {
     "data": {
      "text/plain": [
       "114"
      ]
     },
     "execution_count": 22,
     "metadata": {},
     "output_type": "execute_result"
    },
    {
     "name": "stderr",
     "output_type": "stream",
     "text": [
      "\r",
      " 17%|█████████████▏                                                               | 98/574 [1:09:26<8:05:06, 61.15s/it]"
     ]
    },
    {
     "name": "stdout",
     "output_type": "stream",
     "text": [
      "D:\\zwk_data\\p_tif\\17000\\ndwi1_int8_world_17209.tif\n",
      "['D:\\\\zwk_data\\\\p_tif\\\\GRWL_vector_V01.01\\\\SG20.shp'\n",
      " 'D:\\\\zwk_data\\\\p_tif\\\\GRWL_vector_V01.01\\\\SH20.shp']\n"
     ]
    },
    {
     "data": {
      "text/plain": [
       "'Fri Dec 29 12:26:07 2023'"
      ]
     },
     "execution_count": 22,
     "metadata": {},
     "output_type": "execute_result"
    },
    {
     "data": {
      "text/plain": [
       "118"
      ]
     },
     "execution_count": 22,
     "metadata": {},
     "output_type": "execute_result"
    },
    {
     "name": "stderr",
     "output_type": "stream",
     "text": [
      "\r",
      " 17%|█████████████▎                                                               | 99/574 [1:10:26<7:59:30, 60.57s/it]"
     ]
    },
    {
     "name": "stdout",
     "output_type": "stream",
     "text": [
      "D:\\zwk_data\\p_tif\\17000\\ndwi1_int8_world_17210.tif\n",
      "['D:\\\\zwk_data\\\\p_tif\\\\GRWL_vector_V01.01\\\\SG20.shp'\n",
      " 'D:\\\\zwk_data\\\\p_tif\\\\GRWL_vector_V01.01\\\\SH20.shp']\n"
     ]
    },
    {
     "data": {
      "text/plain": [
       "'Fri Dec 29 12:27:07 2023'"
      ]
     },
     "execution_count": 22,
     "metadata": {},
     "output_type": "execute_result"
    },
    {
     "data": {
      "text/plain": [
       "118"
      ]
     },
     "execution_count": 22,
     "metadata": {},
     "output_type": "execute_result"
    },
    {
     "name": "stderr",
     "output_type": "stream",
     "text": [
      "\r",
      " 17%|█████████████▏                                                              | 100/574 [1:11:27<7:59:36, 60.71s/it]"
     ]
    },
    {
     "name": "stdout",
     "output_type": "stream",
     "text": [
      "D:\\zwk_data\\p_tif\\17000\\ndwi1_int8_world_17211.tif\n",
      "['D:\\\\zwk_data\\\\p_tif\\\\GRWL_vector_V01.01\\\\SG20.shp']\n"
     ]
    },
    {
     "data": {
      "text/plain": [
       "'Fri Dec 29 12:28:08 2023'"
      ]
     },
     "execution_count": 22,
     "metadata": {},
     "output_type": "execute_result"
    },
    {
     "data": {
      "text/plain": [
       "115"
      ]
     },
     "execution_count": 22,
     "metadata": {},
     "output_type": "execute_result"
    },
    {
     "name": "stderr",
     "output_type": "stream",
     "text": [
      "\r",
      " 18%|█████████████▎                                                              | 101/574 [1:12:21<7:43:46, 58.83s/it]"
     ]
    },
    {
     "name": "stdout",
     "output_type": "stream",
     "text": [
      "D:\\zwk_data\\p_tif\\17000\\ndwi1_int8_world_17212.tif\n",
      "['D:\\\\zwk_data\\\\p_tif\\\\GRWL_vector_V01.01\\\\SG20.shp']\n"
     ]
    },
    {
     "data": {
      "text/plain": [
       "'Fri Dec 29 12:29:02 2023'"
      ]
     },
     "execution_count": 22,
     "metadata": {},
     "output_type": "execute_result"
    },
    {
     "data": {
      "text/plain": [
       "114"
      ]
     },
     "execution_count": 22,
     "metadata": {},
     "output_type": "execute_result"
    },
    {
     "name": "stderr",
     "output_type": "stream",
     "text": [
      "\r",
      " 18%|█████████████▌                                                              | 102/574 [1:13:14<7:30:05, 57.22s/it]"
     ]
    },
    {
     "name": "stdout",
     "output_type": "stream",
     "text": [
      "D:\\zwk_data\\p_tif\\17000\\ndwi1_int8_world_17213.tif\n",
      "['D:\\\\zwk_data\\\\p_tif\\\\GRWL_vector_V01.01\\\\SF20.shp'\n",
      " 'D:\\\\zwk_data\\\\p_tif\\\\GRWL_vector_V01.01\\\\SG20.shp']\n"
     ]
    },
    {
     "data": {
      "text/plain": [
       "'Fri Dec 29 12:29:55 2023'"
      ]
     },
     "execution_count": 22,
     "metadata": {},
     "output_type": "execute_result"
    },
    {
     "data": {
      "text/plain": [
       "114"
      ]
     },
     "execution_count": 22,
     "metadata": {},
     "output_type": "execute_result"
    },
    {
     "name": "stderr",
     "output_type": "stream",
     "text": [
      "\r",
      " 18%|█████████████▋                                                              | 103/574 [1:14:37<8:27:45, 64.68s/it]"
     ]
    },
    {
     "name": "stdout",
     "output_type": "stream",
     "text": [
      "D:\\zwk_data\\p_tif\\17000\\ndwi1_int8_world_17214.tif\n",
      "['D:\\\\zwk_data\\\\p_tif\\\\GRWL_vector_V01.01\\\\SF20.shp'\n",
      " 'D:\\\\zwk_data\\\\p_tif\\\\GRWL_vector_V01.01\\\\SG20.shp']\n"
     ]
    },
    {
     "data": {
      "text/plain": [
       "'Fri Dec 29 12:31:18 2023'"
      ]
     },
     "execution_count": 22,
     "metadata": {},
     "output_type": "execute_result"
    },
    {
     "data": {
      "text/plain": [
       "119"
      ]
     },
     "execution_count": 22,
     "metadata": {},
     "output_type": "execute_result"
    },
    {
     "name": "stderr",
     "output_type": "stream",
     "text": [
      "\r",
      " 18%|█████████████▊                                                              | 104/574 [1:16:02<9:15:03, 70.86s/it]"
     ]
    },
    {
     "name": "stdout",
     "output_type": "stream",
     "text": [
      "D:\\zwk_data\\p_tif\\17000\\ndwi1_int8_world_17215.tif\n",
      "['D:\\\\zwk_data\\\\p_tif\\\\GRWL_vector_V01.01\\\\SF20.shp']\n"
     ]
    },
    {
     "data": {
      "text/plain": [
       "'Fri Dec 29 12:32:43 2023'"
      ]
     },
     "execution_count": 22,
     "metadata": {},
     "output_type": "execute_result"
    },
    {
     "data": {
      "text/plain": [
       "108"
      ]
     },
     "execution_count": 22,
     "metadata": {},
     "output_type": "execute_result"
    },
    {
     "name": "stderr",
     "output_type": "stream",
     "text": [
      "\r",
      " 18%|█████████████▉                                                              | 105/574 [1:16:56<8:35:30, 65.95s/it]"
     ]
    },
    {
     "name": "stdout",
     "output_type": "stream",
     "text": [
      "D:\\zwk_data\\p_tif\\17000\\ndwi1_int8_world_17216.tif\n",
      "['D:\\\\zwk_data\\\\p_tif\\\\GRWL_vector_V01.01\\\\SF20.shp']\n"
     ]
    },
    {
     "data": {
      "text/plain": [
       "'Fri Dec 29 12:33:37 2023'"
      ]
     },
     "execution_count": 22,
     "metadata": {},
     "output_type": "execute_result"
    },
    {
     "data": {
      "text/plain": [
       "108"
      ]
     },
     "execution_count": 22,
     "metadata": {},
     "output_type": "execute_result"
    },
    {
     "name": "stderr",
     "output_type": "stream",
     "text": [
      "\r",
      " 18%|██████████████                                                              | 106/574 [1:17:51<8:09:04, 62.70s/it]"
     ]
    },
    {
     "name": "stdout",
     "output_type": "stream",
     "text": [
      "D:\\zwk_data\\p_tif\\17000\\ndwi1_int8_world_17217.tif\n",
      "['D:\\\\zwk_data\\\\p_tif\\\\GRWL_vector_V01.01\\\\SE20.shp'\n",
      " 'D:\\\\zwk_data\\\\p_tif\\\\GRWL_vector_V01.01\\\\SF20.shp']\n"
     ]
    },
    {
     "data": {
      "text/plain": [
       "'Fri Dec 29 12:34:33 2023'"
      ]
     },
     "execution_count": 22,
     "metadata": {},
     "output_type": "execute_result"
    },
    {
     "data": {
      "text/plain": [
       "107"
      ]
     },
     "execution_count": 22,
     "metadata": {},
     "output_type": "execute_result"
    },
    {
     "name": "stderr",
     "output_type": "stream",
     "text": [
      "\r",
      " 19%|██████████████▏                                                             | 107/574 [1:19:23<9:14:32, 71.25s/it]"
     ]
    },
    {
     "name": "stdout",
     "output_type": "stream",
     "text": [
      "D:\\zwk_data\\p_tif\\17000\\ndwi1_int8_world_17218.tif\n",
      "['D:\\\\zwk_data\\\\p_tif\\\\GRWL_vector_V01.01\\\\SH20.shp']\n"
     ]
    },
    {
     "data": {
      "text/plain": [
       "'Fri Dec 29 12:36:04 2023'"
      ]
     },
     "execution_count": 22,
     "metadata": {},
     "output_type": "execute_result"
    },
    {
     "data": {
      "text/plain": [
       "114"
      ]
     },
     "execution_count": 22,
     "metadata": {},
     "output_type": "execute_result"
    },
    {
     "name": "stderr",
     "output_type": "stream",
     "text": [
      "\r",
      " 19%|██████████████▎                                                             | 108/574 [1:20:01<7:57:32, 61.49s/it]"
     ]
    },
    {
     "name": "stdout",
     "output_type": "stream",
     "text": [
      "D:\\zwk_data\\p_tif\\17000\\ndwi1_int8_world_17219.tif\n",
      "['D:\\\\zwk_data\\\\p_tif\\\\GRWL_vector_V01.01\\\\SG20.shp'\n",
      " 'D:\\\\zwk_data\\\\p_tif\\\\GRWL_vector_V01.01\\\\SH20.shp']\n"
     ]
    },
    {
     "data": {
      "text/plain": [
       "'Fri Dec 29 12:36:42 2023'"
      ]
     },
     "execution_count": 22,
     "metadata": {},
     "output_type": "execute_result"
    },
    {
     "data": {
      "text/plain": [
       "114"
      ]
     },
     "execution_count": 22,
     "metadata": {},
     "output_type": "execute_result"
    },
    {
     "name": "stderr",
     "output_type": "stream",
     "text": [
      "\r",
      " 19%|██████████████▍                                                             | 109/574 [1:21:02<7:53:58, 61.16s/it]"
     ]
    },
    {
     "name": "stdout",
     "output_type": "stream",
     "text": [
      "D:\\zwk_data\\p_tif\\17000\\ndwi1_int8_world_17223.tif\n",
      "['D:\\\\zwk_data\\\\p_tif\\\\GRWL_vector_V01.01\\\\SF20.shp'\n",
      " 'D:\\\\zwk_data\\\\p_tif\\\\GRWL_vector_V01.01\\\\SG20.shp']\n"
     ]
    },
    {
     "data": {
      "text/plain": [
       "'Fri Dec 29 12:37:43 2023'"
      ]
     },
     "execution_count": 22,
     "metadata": {},
     "output_type": "execute_result"
    },
    {
     "data": {
      "text/plain": [
       "118"
      ]
     },
     "execution_count": 22,
     "metadata": {},
     "output_type": "execute_result"
    },
    {
     "name": "stderr",
     "output_type": "stream",
     "text": [
      "\r",
      " 19%|██████████████▌                                                             | 110/574 [1:22:26<8:46:06, 68.03s/it]"
     ]
    },
    {
     "name": "stdout",
     "output_type": "stream",
     "text": [
      "D:\\zwk_data\\p_tif\\17000\\ndwi1_int8_world_17224.tif\n",
      "['D:\\\\zwk_data\\\\p_tif\\\\GRWL_vector_V01.01\\\\SF20.shp'\n",
      " 'D:\\\\zwk_data\\\\p_tif\\\\GRWL_vector_V01.01\\\\SG20.shp']\n"
     ]
    },
    {
     "data": {
      "text/plain": [
       "'Fri Dec 29 12:39:07 2023'"
      ]
     },
     "execution_count": 22,
     "metadata": {},
     "output_type": "execute_result"
    },
    {
     "data": {
      "text/plain": [
       "117"
      ]
     },
     "execution_count": 22,
     "metadata": {},
     "output_type": "execute_result"
    },
    {
     "name": "stderr",
     "output_type": "stream",
     "text": [
      "\r",
      " 19%|██████████████▋                                                             | 111/574 [1:23:51<9:24:40, 73.18s/it]"
     ]
    },
    {
     "name": "stdout",
     "output_type": "stream",
     "text": [
      "D:\\zwk_data\\p_tif\\17000\\ndwi1_int8_world_17225.tif\n",
      "['D:\\\\zwk_data\\\\p_tif\\\\GRWL_vector_V01.01\\\\SF20.shp']\n"
     ]
    },
    {
     "data": {
      "text/plain": [
       "'Fri Dec 29 12:40:33 2023'"
      ]
     },
     "execution_count": 22,
     "metadata": {},
     "output_type": "execute_result"
    },
    {
     "data": {
      "text/plain": [
       "108"
      ]
     },
     "execution_count": 22,
     "metadata": {},
     "output_type": "execute_result"
    },
    {
     "name": "stderr",
     "output_type": "stream",
     "text": [
      "\r",
      " 20%|██████████████▊                                                             | 112/574 [1:24:45<8:39:30, 67.47s/it]"
     ]
    },
    {
     "name": "stdout",
     "output_type": "stream",
     "text": [
      "D:\\zwk_data\\p_tif\\17000\\ndwi1_int8_world_17226.tif\n",
      "['D:\\\\zwk_data\\\\p_tif\\\\GRWL_vector_V01.01\\\\SF20.shp']\n"
     ]
    },
    {
     "data": {
      "text/plain": [
       "'Fri Dec 29 12:41:26 2023'"
      ]
     },
     "execution_count": 22,
     "metadata": {},
     "output_type": "execute_result"
    },
    {
     "data": {
      "text/plain": [
       "108"
      ]
     },
     "execution_count": 22,
     "metadata": {},
     "output_type": "execute_result"
    },
    {
     "name": "stderr",
     "output_type": "stream",
     "text": [
      "\r",
      " 20%|██████████████▉                                                             | 113/574 [1:25:38<8:03:47, 62.97s/it]"
     ]
    },
    {
     "name": "stdout",
     "output_type": "stream",
     "text": [
      "D:\\zwk_data\\p_tif\\17000\\ndwi1_int8_world_17227.tif\n",
      "['D:\\\\zwk_data\\\\p_tif\\\\GRWL_vector_V01.01\\\\SE20.shp'\n",
      " 'D:\\\\zwk_data\\\\p_tif\\\\GRWL_vector_V01.01\\\\SF20.shp']\n"
     ]
    },
    {
     "data": {
      "text/plain": [
       "'Fri Dec 29 12:42:19 2023'"
      ]
     },
     "execution_count": 22,
     "metadata": {},
     "output_type": "execute_result"
    },
    {
     "data": {
      "text/plain": [
       "103"
      ]
     },
     "execution_count": 22,
     "metadata": {},
     "output_type": "execute_result"
    },
    {
     "name": "stderr",
     "output_type": "stream",
     "text": [
      "\r",
      " 20%|███████████████                                                             | 114/574 [1:27:10<9:10:14, 71.77s/it]"
     ]
    },
    {
     "name": "stdout",
     "output_type": "stream",
     "text": [
      "D:\\zwk_data\\p_tif\\17000\\ndwi1_int8_world_17228.tif\n",
      "['D:\\\\zwk_data\\\\p_tif\\\\GRWL_vector_V01.01\\\\SH20.shp']\n"
     ]
    },
    {
     "data": {
      "text/plain": [
       "'Fri Dec 29 12:43:51 2023'"
      ]
     },
     "execution_count": 22,
     "metadata": {},
     "output_type": "execute_result"
    },
    {
     "data": {
      "text/plain": [
       "115"
      ]
     },
     "execution_count": 22,
     "metadata": {},
     "output_type": "execute_result"
    },
    {
     "name": "stderr",
     "output_type": "stream",
     "text": [
      "\r",
      " 20%|███████████████▏                                                            | 115/574 [1:27:49<7:54:11, 61.99s/it]"
     ]
    },
    {
     "name": "stdout",
     "output_type": "stream",
     "text": [
      "D:\\zwk_data\\p_tif\\17000\\ndwi1_int8_world_17232.tif\n",
      "['D:\\\\zwk_data\\\\p_tif\\\\GRWL_vector_V01.01\\\\SG20.shp']\n"
     ]
    },
    {
     "data": {
      "text/plain": [
       "'Fri Dec 29 12:44:30 2023'"
      ]
     },
     "execution_count": 22,
     "metadata": {},
     "output_type": "execute_result"
    },
    {
     "data": {
      "text/plain": [
       "110"
      ]
     },
     "execution_count": 22,
     "metadata": {},
     "output_type": "execute_result"
    },
    {
     "name": "stderr",
     "output_type": "stream",
     "text": [
      "\r",
      " 20%|███████████████▎                                                            | 116/574 [1:28:43<7:35:04, 59.62s/it]"
     ]
    },
    {
     "name": "stdout",
     "output_type": "stream",
     "text": [
      "D:\\zwk_data\\p_tif\\17000\\ndwi1_int8_world_17233.tif\n",
      "['D:\\\\zwk_data\\\\p_tif\\\\GRWL_vector_V01.01\\\\SF20.shp'\n",
      " 'D:\\\\zwk_data\\\\p_tif\\\\GRWL_vector_V01.01\\\\SG20.shp']\n"
     ]
    },
    {
     "data": {
      "text/plain": [
       "'Fri Dec 29 12:45:24 2023'"
      ]
     },
     "execution_count": 22,
     "metadata": {},
     "output_type": "execute_result"
    },
    {
     "data": {
      "text/plain": [
       "119"
      ]
     },
     "execution_count": 22,
     "metadata": {},
     "output_type": "execute_result"
    },
    {
     "name": "stderr",
     "output_type": "stream",
     "text": [
      "\r",
      " 20%|███████████████▍                                                            | 117/574 [1:30:08<8:32:20, 67.27s/it]"
     ]
    },
    {
     "name": "stdout",
     "output_type": "stream",
     "text": [
      "D:\\zwk_data\\p_tif\\17000\\ndwi1_int8_world_17234.tif\n",
      "['D:\\\\zwk_data\\\\p_tif\\\\GRWL_vector_V01.01\\\\SF20.shp'\n",
      " 'D:\\\\zwk_data\\\\p_tif\\\\GRWL_vector_V01.01\\\\SG20.shp']\n"
     ]
    },
    {
     "data": {
      "text/plain": [
       "'Fri Dec 29 12:46:50 2023'"
      ]
     },
     "execution_count": 22,
     "metadata": {},
     "output_type": "execute_result"
    },
    {
     "data": {
      "text/plain": [
       "120"
      ]
     },
     "execution_count": 22,
     "metadata": {},
     "output_type": "execute_result"
    },
    {
     "name": "stderr",
     "output_type": "stream",
     "text": [
      "\r",
      " 21%|███████████████▌                                                            | 118/574 [1:31:39<9:23:46, 74.18s/it]"
     ]
    },
    {
     "name": "stdout",
     "output_type": "stream",
     "text": [
      "D:\\zwk_data\\p_tif\\17000\\ndwi1_int8_world_17235.tif\n",
      "['D:\\\\zwk_data\\\\p_tif\\\\GRWL_vector_V01.01\\\\SF20.shp']\n"
     ]
    },
    {
     "data": {
      "text/plain": [
       "'Fri Dec 29 12:48:20 2023'"
      ]
     },
     "execution_count": 22,
     "metadata": {},
     "output_type": "execute_result"
    },
    {
     "data": {
      "text/plain": [
       "105"
      ]
     },
     "execution_count": 22,
     "metadata": {},
     "output_type": "execute_result"
    },
    {
     "name": "stderr",
     "output_type": "stream",
     "text": [
      "\r",
      " 21%|███████████████▊                                                            | 119/574 [1:32:34<8:39:36, 68.52s/it]"
     ]
    },
    {
     "name": "stdout",
     "output_type": "stream",
     "text": [
      "D:\\zwk_data\\p_tif\\17000\\ndwi1_int8_world_17238.tif\n",
      "['D:\\\\zwk_data\\\\p_tif\\\\GRWL_vector_V01.01\\\\SH20.shp'\n",
      " 'D:\\\\zwk_data\\\\p_tif\\\\GRWL_vector_V01.01\\\\SH21.shp']\n"
     ]
    },
    {
     "data": {
      "text/plain": [
       "'Fri Dec 29 12:49:15 2023'"
      ]
     },
     "execution_count": 22,
     "metadata": {},
     "output_type": "execute_result"
    },
    {
     "data": {
      "text/plain": [
       "115"
      ]
     },
     "execution_count": 22,
     "metadata": {},
     "output_type": "execute_result"
    },
    {
     "name": "stderr",
     "output_type": "stream",
     "text": [
      "\r",
      " 21%|███████████████▉                                                            | 120/574 [1:34:09<9:39:42, 76.61s/it]"
     ]
    },
    {
     "name": "stdout",
     "output_type": "stream",
     "text": [
      "D:\\zwk_data\\p_tif\\17000\\ndwi1_int8_world_17242.tif\n",
      "['D:\\\\zwk_data\\\\p_tif\\\\GRWL_vector_V01.01\\\\SG20.shp'\n",
      " 'D:\\\\zwk_data\\\\p_tif\\\\GRWL_vector_V01.01\\\\SG21.shp']\n"
     ]
    },
    {
     "data": {
      "text/plain": [
       "'Fri Dec 29 12:50:50 2023'"
      ]
     },
     "execution_count": 22,
     "metadata": {},
     "output_type": "execute_result"
    },
    {
     "data": {
      "text/plain": [
       "118"
      ]
     },
     "execution_count": 22,
     "metadata": {},
     "output_type": "execute_result"
    },
    {
     "name": "stderr",
     "output_type": "stream",
     "text": [
      "\r",
      " 21%|███████████████▊                                                           | 121/574 [1:36:20<11:41:43, 92.94s/it]"
     ]
    },
    {
     "name": "stdout",
     "output_type": "stream",
     "text": [
      "D:\\zwk_data\\p_tif\\17000\\ndwi1_int8_world_17243.tif\n",
      "['D:\\\\zwk_data\\\\p_tif\\\\GRWL_vector_V01.01\\\\SF20.shp'\n",
      " 'D:\\\\zwk_data\\\\p_tif\\\\GRWL_vector_V01.01\\\\SF21.shp'\n",
      " 'D:\\\\zwk_data\\\\p_tif\\\\GRWL_vector_V01.01\\\\SG20.shp'\n",
      " 'D:\\\\zwk_data\\\\p_tif\\\\GRWL_vector_V01.01\\\\SG21.shp']\n"
     ]
    },
    {
     "data": {
      "text/plain": [
       "'Fri Dec 29 12:53:02 2023'"
      ]
     },
     "execution_count": 22,
     "metadata": {},
     "output_type": "execute_result"
    },
    {
     "data": {
      "text/plain": [
       "117"
      ]
     },
     "execution_count": 22,
     "metadata": {},
     "output_type": "execute_result"
    },
    {
     "name": "stderr",
     "output_type": "stream",
     "text": [
      "\r",
      " 21%|███████████████▋                                                          | 122/574 [1:39:46<15:55:35, 126.85s/it]"
     ]
    },
    {
     "name": "stdout",
     "output_type": "stream",
     "text": [
      "D:\\zwk_data\\p_tif\\17000\\ndwi1_int8_world_17244.tif\n",
      "['D:\\\\zwk_data\\\\p_tif\\\\GRWL_vector_V01.01\\\\SF20.shp'\n",
      " 'D:\\\\zwk_data\\\\p_tif\\\\GRWL_vector_V01.01\\\\SF21.shp'\n",
      " 'D:\\\\zwk_data\\\\p_tif\\\\GRWL_vector_V01.01\\\\SG20.shp'\n",
      " 'D:\\\\zwk_data\\\\p_tif\\\\GRWL_vector_V01.01\\\\SG21.shp']\n"
     ]
    },
    {
     "data": {
      "text/plain": [
       "'Fri Dec 29 12:56:29 2023'"
      ]
     },
     "execution_count": 22,
     "metadata": {},
     "output_type": "execute_result"
    },
    {
     "data": {
      "text/plain": [
       "116"
      ]
     },
     "execution_count": 22,
     "metadata": {},
     "output_type": "execute_result"
    },
    {
     "name": "stderr",
     "output_type": "stream",
     "text": [
      "\r",
      " 21%|███████████████▊                                                          | 123/574 [1:43:14<18:55:32, 151.07s/it]"
     ]
    },
    {
     "name": "stdout",
     "output_type": "stream",
     "text": [
      "D:\\zwk_data\\p_tif\\17000\\ndwi1_int8_world_17248.tif\n",
      "['D:\\\\zwk_data\\\\p_tif\\\\GRWL_vector_V01.01\\\\SH20.shp'\n",
      " 'D:\\\\zwk_data\\\\p_tif\\\\GRWL_vector_V01.01\\\\SH21.shp']\n"
     ]
    },
    {
     "data": {
      "text/plain": [
       "'Fri Dec 29 12:59:57 2023'"
      ]
     },
     "execution_count": 22,
     "metadata": {},
     "output_type": "execute_result"
    },
    {
     "data": {
      "text/plain": [
       "122"
      ]
     },
     "execution_count": 22,
     "metadata": {},
     "output_type": "execute_result"
    },
    {
     "name": "stderr",
     "output_type": "stream",
     "text": [
      "\r",
      " 22%|███████████████▉                                                          | 124/574 [1:45:08<17:30:15, 140.03s/it]"
     ]
    },
    {
     "name": "stdout",
     "output_type": "stream",
     "text": [
      "D:\\zwk_data\\p_tif\\17000\\ndwi1_int8_world_17249.tif\n",
      "['D:\\\\zwk_data\\\\p_tif\\\\GRWL_vector_V01.01\\\\SG20.shp'\n",
      " 'D:\\\\zwk_data\\\\p_tif\\\\GRWL_vector_V01.01\\\\SG21.shp'\n",
      " 'D:\\\\zwk_data\\\\p_tif\\\\GRWL_vector_V01.01\\\\SH20.shp'\n",
      " 'D:\\\\zwk_data\\\\p_tif\\\\GRWL_vector_V01.01\\\\SH21.shp']\n"
     ]
    },
    {
     "data": {
      "text/plain": [
       "'Fri Dec 29 13:01:50 2023'"
      ]
     },
     "execution_count": 22,
     "metadata": {},
     "output_type": "execute_result"
    },
    {
     "data": {
      "text/plain": [
       "122"
      ]
     },
     "execution_count": 22,
     "metadata": {},
     "output_type": "execute_result"
    },
    {
     "name": "stderr",
     "output_type": "stream",
     "text": [
      "\r",
      " 22%|████████████████                                                          | 125/574 [1:48:40<20:08:46, 161.53s/it]"
     ]
    },
    {
     "name": "stdout",
     "output_type": "stream",
     "text": [
      "D:\\zwk_data\\p_tif\\17000\\ndwi1_int8_world_17250.tif\n",
      "['D:\\\\zwk_data\\\\p_tif\\\\GRWL_vector_V01.01\\\\SG20.shp'\n",
      " 'D:\\\\zwk_data\\\\p_tif\\\\GRWL_vector_V01.01\\\\SG21.shp'\n",
      " 'D:\\\\zwk_data\\\\p_tif\\\\GRWL_vector_V01.01\\\\SH20.shp'\n",
      " 'D:\\\\zwk_data\\\\p_tif\\\\GRWL_vector_V01.01\\\\SH21.shp']\n"
     ]
    },
    {
     "data": {
      "text/plain": [
       "'Fri Dec 29 13:05:23 2023'"
      ]
     },
     "execution_count": 22,
     "metadata": {},
     "output_type": "execute_result"
    },
    {
     "data": {
      "text/plain": [
       "114"
      ]
     },
     "execution_count": 22,
     "metadata": {},
     "output_type": "execute_result"
    },
    {
     "name": "stderr",
     "output_type": "stream",
     "text": [
      "\r",
      " 22%|████████████████▏                                                         | 126/574 [1:52:17<22:11:07, 178.28s/it]"
     ]
    },
    {
     "name": "stdout",
     "output_type": "stream",
     "text": [
      "D:\\zwk_data\\p_tif\\17000\\ndwi1_int8_world_17251.tif\n",
      "['D:\\\\zwk_data\\\\p_tif\\\\GRWL_vector_V01.01\\\\SG20.shp'\n",
      " 'D:\\\\zwk_data\\\\p_tif\\\\GRWL_vector_V01.01\\\\SG21.shp']\n"
     ]
    },
    {
     "data": {
      "text/plain": [
       "'Fri Dec 29 13:09:00 2023'"
      ]
     },
     "execution_count": 22,
     "metadata": {},
     "output_type": "execute_result"
    },
    {
     "data": {
      "text/plain": [
       "117"
      ]
     },
     "execution_count": 22,
     "metadata": {},
     "output_type": "execute_result"
    },
    {
     "name": "stderr",
     "output_type": "stream",
     "text": [
      "\r",
      " 22%|████████████████▎                                                         | 127/574 [1:54:27<20:19:52, 163.74s/it]"
     ]
    },
    {
     "name": "stdout",
     "output_type": "stream",
     "text": [
      "D:\\zwk_data\\p_tif\\17000\\ndwi1_int8_world_17252.tif\n",
      "['D:\\\\zwk_data\\\\p_tif\\\\GRWL_vector_V01.01\\\\SG20.shp'\n",
      " 'D:\\\\zwk_data\\\\p_tif\\\\GRWL_vector_V01.01\\\\SG21.shp']\n"
     ]
    },
    {
     "data": {
      "text/plain": [
       "'Fri Dec 29 13:11:09 2023'"
      ]
     },
     "execution_count": 22,
     "metadata": {},
     "output_type": "execute_result"
    },
    {
     "data": {
      "text/plain": [
       "117"
      ]
     },
     "execution_count": 22,
     "metadata": {},
     "output_type": "execute_result"
    },
    {
     "name": "stderr",
     "output_type": "stream",
     "text": [
      "\r",
      " 22%|████████████████▌                                                         | 128/574 [1:56:39<19:06:47, 154.28s/it]"
     ]
    },
    {
     "name": "stdout",
     "output_type": "stream",
     "text": [
      "D:\\zwk_data\\p_tif\\17000\\ndwi1_int8_world_17253.tif\n",
      "['D:\\\\zwk_data\\\\p_tif\\\\GRWL_vector_V01.01\\\\SF20.shp'\n",
      " 'D:\\\\zwk_data\\\\p_tif\\\\GRWL_vector_V01.01\\\\SF21.shp'\n",
      " 'D:\\\\zwk_data\\\\p_tif\\\\GRWL_vector_V01.01\\\\SG20.shp'\n",
      " 'D:\\\\zwk_data\\\\p_tif\\\\GRWL_vector_V01.01\\\\SG21.shp']\n"
     ]
    },
    {
     "data": {
      "text/plain": [
       "'Fri Dec 29 13:13:21 2023'"
      ]
     },
     "execution_count": 22,
     "metadata": {},
     "output_type": "execute_result"
    },
    {
     "data": {
      "text/plain": [
       "114"
      ]
     },
     "execution_count": 22,
     "metadata": {},
     "output_type": "execute_result"
    },
    {
     "name": "stderr",
     "output_type": "stream",
     "text": [
      "\r",
      " 22%|████████████████▋                                                         | 129/574 [2:00:06<21:00:29, 169.95s/it]"
     ]
    },
    {
     "name": "stdout",
     "output_type": "stream",
     "text": [
      "D:\\zwk_data\\p_tif\\17000\\ndwi1_int8_world_17254.tif\n",
      "['D:\\\\zwk_data\\\\p_tif\\\\GRWL_vector_V01.01\\\\SF20.shp'\n",
      " 'D:\\\\zwk_data\\\\p_tif\\\\GRWL_vector_V01.01\\\\SF21.shp'\n",
      " 'D:\\\\zwk_data\\\\p_tif\\\\GRWL_vector_V01.01\\\\SG20.shp'\n",
      " 'D:\\\\zwk_data\\\\p_tif\\\\GRWL_vector_V01.01\\\\SG21.shp']\n"
     ]
    },
    {
     "data": {
      "text/plain": [
       "'Fri Dec 29 13:16:49 2023'"
      ]
     },
     "execution_count": 22,
     "metadata": {},
     "output_type": "execute_result"
    },
    {
     "data": {
      "text/plain": [
       "113"
      ]
     },
     "execution_count": 22,
     "metadata": {},
     "output_type": "execute_result"
    },
    {
     "name": "stderr",
     "output_type": "stream",
     "text": [
      "\r",
      " 23%|████████████████▊                                                         | 130/574 [2:03:32<22:18:20, 180.86s/it]"
     ]
    },
    {
     "name": "stdout",
     "output_type": "stream",
     "text": [
      "D:\\zwk_data\\p_tif\\17000\\ndwi1_int8_world_17255.tif\n",
      "['D:\\\\zwk_data\\\\p_tif\\\\GRWL_vector_V01.01\\\\SF20.shp'\n",
      " 'D:\\\\zwk_data\\\\p_tif\\\\GRWL_vector_V01.01\\\\SF21.shp']\n"
     ]
    },
    {
     "data": {
      "text/plain": [
       "'Fri Dec 29 13:20:15 2023'"
      ]
     },
     "execution_count": 22,
     "metadata": {},
     "output_type": "execute_result"
    },
    {
     "data": {
      "text/plain": [
       "108"
      ]
     },
     "execution_count": 22,
     "metadata": {},
     "output_type": "execute_result"
    },
    {
     "name": "stderr",
     "output_type": "stream",
     "text": [
      "\r",
      " 23%|████████████████▉                                                         | 131/574 [2:05:06<19:02:51, 154.79s/it]"
     ]
    },
    {
     "name": "stdout",
     "output_type": "stream",
     "text": [
      "D:\\zwk_data\\p_tif\\17000\\ndwi1_int8_world_17256.tif\n",
      "['D:\\\\zwk_data\\\\p_tif\\\\GRWL_vector_V01.01\\\\SF20.shp'\n",
      " 'D:\\\\zwk_data\\\\p_tif\\\\GRWL_vector_V01.01\\\\SF21.shp']\n"
     ]
    },
    {
     "data": {
      "text/plain": [
       "'Fri Dec 29 13:21:48 2023'"
      ]
     },
     "execution_count": 22,
     "metadata": {},
     "output_type": "execute_result"
    },
    {
     "data": {
      "text/plain": [
       "106"
      ]
     },
     "execution_count": 22,
     "metadata": {},
     "output_type": "execute_result"
    },
    {
     "name": "stderr",
     "output_type": "stream",
     "text": [
      "\r",
      " 23%|█████████████████                                                         | 132/574 [2:06:32<16:28:31, 134.19s/it]"
     ]
    },
    {
     "name": "stdout",
     "output_type": "stream",
     "text": [
      "D:\\zwk_data\\p_tif\\17000\\ndwi1_int8_world_17258.tif\n",
      "['D:\\\\zwk_data\\\\p_tif\\\\GRWL_vector_V01.01\\\\SH21.shp']\n"
     ]
    },
    {
     "data": {
      "text/plain": [
       "'Fri Dec 29 13:23:14 2023'"
      ]
     },
     "execution_count": 22,
     "metadata": {},
     "output_type": "execute_result"
    },
    {
     "data": {
      "text/plain": [
       "118"
      ]
     },
     "execution_count": 22,
     "metadata": {},
     "output_type": "execute_result"
    },
    {
     "name": "stderr",
     "output_type": "stream",
     "text": [
      "\r",
      " 23%|█████████████████▏                                                        | 133/574 [2:07:57<14:38:21, 119.50s/it]"
     ]
    },
    {
     "name": "stdout",
     "output_type": "stream",
     "text": [
      "D:\\zwk_data\\p_tif\\17000\\ndwi1_int8_world_17259.tif\n",
      "['D:\\\\zwk_data\\\\p_tif\\\\GRWL_vector_V01.01\\\\SG21.shp'\n",
      " 'D:\\\\zwk_data\\\\p_tif\\\\GRWL_vector_V01.01\\\\SH21.shp']\n"
     ]
    },
    {
     "data": {
      "text/plain": [
       "'Fri Dec 29 13:24:39 2023'"
      ]
     },
     "execution_count": 22,
     "metadata": {},
     "output_type": "execute_result"
    },
    {
     "data": {
      "text/plain": [
       "120"
      ]
     },
     "execution_count": 22,
     "metadata": {},
     "output_type": "execute_result"
    },
    {
     "name": "stderr",
     "output_type": "stream",
     "text": [
      "\r",
      " 23%|█████████████████▎                                                        | 134/574 [2:10:35<15:59:41, 130.87s/it]"
     ]
    },
    {
     "name": "stdout",
     "output_type": "stream",
     "text": [
      "D:\\zwk_data\\p_tif\\17000\\ndwi1_int8_world_17260.tif\n",
      "['D:\\\\zwk_data\\\\p_tif\\\\GRWL_vector_V01.01\\\\SG21.shp'\n",
      " 'D:\\\\zwk_data\\\\p_tif\\\\GRWL_vector_V01.01\\\\SH21.shp']\n"
     ]
    },
    {
     "data": {
      "text/plain": [
       "'Fri Dec 29 13:27:17 2023'"
      ]
     },
     "execution_count": 22,
     "metadata": {},
     "output_type": "execute_result"
    },
    {
     "data": {
      "text/plain": [
       "122"
      ]
     },
     "execution_count": 22,
     "metadata": {},
     "output_type": "execute_result"
    },
    {
     "name": "stderr",
     "output_type": "stream",
     "text": [
      "\r",
      " 24%|█████████████████▍                                                        | 135/574 [2:13:24<17:22:03, 142.42s/it]"
     ]
    },
    {
     "name": "stdout",
     "output_type": "stream",
     "text": [
      "D:\\zwk_data\\p_tif\\17000\\ndwi1_int8_world_17261.tif\n",
      "['D:\\\\zwk_data\\\\p_tif\\\\GRWL_vector_V01.01\\\\SG21.shp']\n"
     ]
    },
    {
     "data": {
      "text/plain": [
       "'Fri Dec 29 13:30:07 2023'"
      ]
     },
     "execution_count": 22,
     "metadata": {},
     "output_type": "execute_result"
    },
    {
     "data": {
      "text/plain": [
       "121"
      ]
     },
     "execution_count": 22,
     "metadata": {},
     "output_type": "execute_result"
    },
    {
     "name": "stderr",
     "output_type": "stream",
     "text": [
      "\r",
      " 24%|█████████████████▌                                                        | 136/574 [2:15:00<15:38:29, 128.56s/it]"
     ]
    },
    {
     "name": "stdout",
     "output_type": "stream",
     "text": [
      "D:\\zwk_data\\p_tif\\17000\\ndwi1_int8_world_17262.tif\n",
      "['D:\\\\zwk_data\\\\p_tif\\\\GRWL_vector_V01.01\\\\SG21.shp']\n"
     ]
    },
    {
     "data": {
      "text/plain": [
       "'Fri Dec 29 13:31:42 2023'"
      ]
     },
     "execution_count": 22,
     "metadata": {},
     "output_type": "execute_result"
    },
    {
     "data": {
      "text/plain": [
       "114"
      ]
     },
     "execution_count": 22,
     "metadata": {},
     "output_type": "execute_result"
    },
    {
     "name": "stderr",
     "output_type": "stream",
     "text": [
      "\r",
      " 24%|█████████████████▋                                                        | 137/574 [2:16:36<14:24:17, 118.67s/it]"
     ]
    },
    {
     "name": "stdout",
     "output_type": "stream",
     "text": [
      "D:\\zwk_data\\p_tif\\17000\\ndwi1_int8_world_17263.tif\n",
      "['D:\\\\zwk_data\\\\p_tif\\\\GRWL_vector_V01.01\\\\SF21.shp'\n",
      " 'D:\\\\zwk_data\\\\p_tif\\\\GRWL_vector_V01.01\\\\SG21.shp']\n"
     ]
    },
    {
     "data": {
      "text/plain": [
       "'Fri Dec 29 13:33:17 2023'"
      ]
     },
     "execution_count": 22,
     "metadata": {},
     "output_type": "execute_result"
    },
    {
     "data": {
      "text/plain": [
       "110"
      ]
     },
     "execution_count": 22,
     "metadata": {},
     "output_type": "execute_result"
    },
    {
     "name": "stderr",
     "output_type": "stream",
     "text": [
      "\r",
      " 24%|█████████████████▊                                                        | 138/574 [2:18:42<14:38:25, 120.88s/it]"
     ]
    },
    {
     "name": "stdout",
     "output_type": "stream",
     "text": [
      "D:\\zwk_data\\p_tif\\17000\\ndwi1_int8_world_17264.tif\n",
      "['D:\\\\zwk_data\\\\p_tif\\\\GRWL_vector_V01.01\\\\SF21.shp'\n",
      " 'D:\\\\zwk_data\\\\p_tif\\\\GRWL_vector_V01.01\\\\SG21.shp']\n"
     ]
    },
    {
     "data": {
      "text/plain": [
       "'Fri Dec 29 13:35:24 2023'"
      ]
     },
     "execution_count": 22,
     "metadata": {},
     "output_type": "execute_result"
    },
    {
     "data": {
      "text/plain": [
       "113"
      ]
     },
     "execution_count": 22,
     "metadata": {},
     "output_type": "execute_result"
    },
    {
     "name": "stderr",
     "output_type": "stream",
     "text": [
      "\r",
      " 24%|█████████████████▉                                                        | 139/574 [2:20:49<14:49:00, 122.62s/it]"
     ]
    },
    {
     "name": "stdout",
     "output_type": "stream",
     "text": [
      "D:\\zwk_data\\p_tif\\17000\\ndwi1_int8_world_17265.tif\n",
      "['D:\\\\zwk_data\\\\p_tif\\\\GRWL_vector_V01.01\\\\SF21.shp']\n"
     ]
    },
    {
     "data": {
      "text/plain": [
       "'Fri Dec 29 13:37:31 2023'"
      ]
     },
     "execution_count": 22,
     "metadata": {},
     "output_type": "execute_result"
    },
    {
     "data": {
      "text/plain": [
       "106"
      ]
     },
     "execution_count": 22,
     "metadata": {},
     "output_type": "execute_result"
    },
    {
     "name": "stderr",
     "output_type": "stream",
     "text": [
      "\r",
      " 24%|██████████████████                                                        | 140/574 [2:21:47<12:27:09, 103.29s/it]"
     ]
    },
    {
     "name": "stdout",
     "output_type": "stream",
     "text": [
      "D:\\zwk_data\\p_tif\\17000\\ndwi1_int8_world_17266.tif\n",
      "['D:\\\\zwk_data\\\\p_tif\\\\GRWL_vector_V01.01\\\\SF21.shp']\n"
     ]
    },
    {
     "data": {
      "text/plain": [
       "'Fri Dec 29 13:38:28 2023'"
      ]
     },
     "execution_count": 22,
     "metadata": {},
     "output_type": "execute_result"
    },
    {
     "data": {
      "text/plain": [
       "106"
      ]
     },
     "execution_count": 22,
     "metadata": {},
     "output_type": "execute_result"
    },
    {
     "name": "stderr",
     "output_type": "stream",
     "text": [
      "\r",
      " 25%|██████████████████▍                                                        | 141/574 [2:22:41<10:38:48, 88.52s/it]"
     ]
    },
    {
     "name": "stdout",
     "output_type": "stream",
     "text": [
      "D:\\zwk_data\\p_tif\\17000\\ndwi1_int8_world_17267.tif\n",
      "['D:\\\\zwk_data\\\\p_tif\\\\GRWL_vector_V01.01\\\\SE21.shp'\n",
      " 'D:\\\\zwk_data\\\\p_tif\\\\GRWL_vector_V01.01\\\\SF21.shp']\n"
     ]
    },
    {
     "data": {
      "text/plain": [
       "'Fri Dec 29 13:39:22 2023'"
      ]
     },
     "execution_count": 22,
     "metadata": {},
     "output_type": "execute_result"
    },
    {
     "data": {
      "text/plain": [
       "117"
      ]
     },
     "execution_count": 22,
     "metadata": {},
     "output_type": "execute_result"
    },
    {
     "name": "stderr",
     "output_type": "stream",
     "text": [
      "\r",
      " 25%|██████████████████▌                                                        | 142/574 [2:24:37<11:36:49, 96.78s/it]"
     ]
    },
    {
     "name": "stdout",
     "output_type": "stream",
     "text": [
      "D:\\zwk_data\\p_tif\\17000\\ndwi1_int8_world_17268.tif\n",
      "['D:\\\\zwk_data\\\\p_tif\\\\GRWL_vector_V01.01\\\\SH21.shp']\n"
     ]
    },
    {
     "data": {
      "text/plain": [
       "'Fri Dec 29 13:41:18 2023'"
      ]
     },
     "execution_count": 22,
     "metadata": {},
     "output_type": "execute_result"
    },
    {
     "data": {
      "text/plain": [
       "120"
      ]
     },
     "execution_count": 22,
     "metadata": {},
     "output_type": "execute_result"
    },
    {
     "name": "stderr",
     "output_type": "stream",
     "text": [
      "\r",
      " 25%|██████████████████▋                                                        | 143/574 [2:26:04<11:14:01, 93.83s/it]"
     ]
    },
    {
     "name": "stdout",
     "output_type": "stream",
     "text": [
      "D:\\zwk_data\\p_tif\\17000\\ndwi1_int8_world_17269.tif\n",
      "['D:\\\\zwk_data\\\\p_tif\\\\GRWL_vector_V01.01\\\\SG21.shp'\n",
      " 'D:\\\\zwk_data\\\\p_tif\\\\GRWL_vector_V01.01\\\\SH21.shp']\n"
     ]
    },
    {
     "data": {
      "text/plain": [
       "'Fri Dec 29 13:42:45 2023'"
      ]
     },
     "execution_count": 22,
     "metadata": {},
     "output_type": "execute_result"
    },
    {
     "data": {
      "text/plain": [
       "114"
      ]
     },
     "execution_count": 22,
     "metadata": {},
     "output_type": "execute_result"
    },
    {
     "name": "stderr",
     "output_type": "stream",
     "text": [
      "\r",
      " 25%|██████████████████▌                                                       | 144/574 [2:28:36<13:16:45, 111.18s/it]"
     ]
    },
    {
     "name": "stdout",
     "output_type": "stream",
     "text": [
      "D:\\zwk_data\\p_tif\\17000\\ndwi1_int8_world_17270.tif\n",
      "['D:\\\\zwk_data\\\\p_tif\\\\GRWL_vector_V01.01\\\\SG21.shp'\n",
      " 'D:\\\\zwk_data\\\\p_tif\\\\GRWL_vector_V01.01\\\\SH21.shp']\n"
     ]
    },
    {
     "data": {
      "text/plain": [
       "'Fri Dec 29 13:45:18 2023'"
      ]
     },
     "execution_count": 22,
     "metadata": {},
     "output_type": "execute_result"
    },
    {
     "data": {
      "text/plain": [
       "121"
      ]
     },
     "execution_count": 22,
     "metadata": {},
     "output_type": "execute_result"
    },
    {
     "name": "stderr",
     "output_type": "stream",
     "text": [
      "\r",
      " 25%|██████████████████▋                                                       | 145/574 [2:31:32<15:35:09, 130.79s/it]"
     ]
    },
    {
     "name": "stdout",
     "output_type": "stream",
     "text": [
      "D:\\zwk_data\\p_tif\\17000\\ndwi1_int8_world_17271.tif\n",
      "['D:\\\\zwk_data\\\\p_tif\\\\GRWL_vector_V01.01\\\\SG21.shp']\n"
     ]
    },
    {
     "data": {
      "text/plain": [
       "'Fri Dec 29 13:48:14 2023'"
      ]
     },
     "execution_count": 22,
     "metadata": {},
     "output_type": "execute_result"
    },
    {
     "data": {
      "text/plain": [
       "117"
      ]
     },
     "execution_count": 22,
     "metadata": {},
     "output_type": "execute_result"
    },
    {
     "name": "stderr",
     "output_type": "stream",
     "text": [
      "\r",
      " 25%|██████████████████▊                                                       | 146/574 [2:33:06<14:14:11, 119.75s/it]"
     ]
    },
    {
     "name": "stdout",
     "output_type": "stream",
     "text": [
      "D:\\zwk_data\\p_tif\\17000\\ndwi1_int8_world_17272.tif\n",
      "['D:\\\\zwk_data\\\\p_tif\\\\GRWL_vector_V01.01\\\\SG21.shp']\n"
     ]
    },
    {
     "data": {
      "text/plain": [
       "'Fri Dec 29 13:49:47 2023'"
      ]
     },
     "execution_count": 22,
     "metadata": {},
     "output_type": "execute_result"
    },
    {
     "data": {
      "text/plain": [
       "121"
      ]
     },
     "execution_count": 22,
     "metadata": {},
     "output_type": "execute_result"
    },
    {
     "name": "stderr",
     "output_type": "stream",
     "text": [
      "\r",
      " 26%|██████████████████▉                                                       | 147/574 [2:34:41<13:19:03, 112.28s/it]"
     ]
    },
    {
     "name": "stdout",
     "output_type": "stream",
     "text": [
      "D:\\zwk_data\\p_tif\\17000\\ndwi1_int8_world_17273.tif\n",
      "['D:\\\\zwk_data\\\\p_tif\\\\GRWL_vector_V01.01\\\\SF21.shp'\n",
      " 'D:\\\\zwk_data\\\\p_tif\\\\GRWL_vector_V01.01\\\\SG21.shp']\n"
     ]
    },
    {
     "data": {
      "text/plain": [
       "'Fri Dec 29 13:51:22 2023'"
      ]
     },
     "execution_count": 22,
     "metadata": {},
     "output_type": "execute_result"
    },
    {
     "data": {
      "text/plain": [
       "122"
      ]
     },
     "execution_count": 22,
     "metadata": {},
     "output_type": "execute_result"
    },
    {
     "name": "stderr",
     "output_type": "stream",
     "text": [
      "\r",
      " 26%|███████████████████                                                       | 148/574 [2:36:46<13:44:11, 116.08s/it]"
     ]
    },
    {
     "name": "stdout",
     "output_type": "stream",
     "text": [
      "D:\\zwk_data\\p_tif\\17000\\ndwi1_int8_world_17274.tif\n",
      "['D:\\\\zwk_data\\\\p_tif\\\\GRWL_vector_V01.01\\\\SF21.shp'\n",
      " 'D:\\\\zwk_data\\\\p_tif\\\\GRWL_vector_V01.01\\\\SG21.shp']\n"
     ]
    },
    {
     "data": {
      "text/plain": [
       "'Fri Dec 29 13:53:28 2023'"
      ]
     },
     "execution_count": 22,
     "metadata": {},
     "output_type": "execute_result"
    },
    {
     "data": {
      "text/plain": [
       "121"
      ]
     },
     "execution_count": 22,
     "metadata": {},
     "output_type": "execute_result"
    },
    {
     "name": "stderr",
     "output_type": "stream",
     "text": [
      "\r",
      " 26%|███████████████████▏                                                      | 149/574 [2:38:52<14:03:56, 119.14s/it]"
     ]
    },
    {
     "name": "stdout",
     "output_type": "stream",
     "text": [
      "D:\\zwk_data\\p_tif\\17000\\ndwi1_int8_world_17275.tif\n",
      "['D:\\\\zwk_data\\\\p_tif\\\\GRWL_vector_V01.01\\\\SF21.shp']\n"
     ]
    },
    {
     "data": {
      "text/plain": [
       "'Fri Dec 29 13:55:34 2023'"
      ]
     },
     "execution_count": 22,
     "metadata": {},
     "output_type": "execute_result"
    },
    {
     "data": {
      "text/plain": [
       "110"
      ]
     },
     "execution_count": 22,
     "metadata": {},
     "output_type": "execute_result"
    },
    {
     "name": "stderr",
     "output_type": "stream",
     "text": [
      "\r",
      " 26%|███████████████████▎                                                      | 150/574 [2:39:50<11:52:16, 100.79s/it]"
     ]
    },
    {
     "name": "stdout",
     "output_type": "stream",
     "text": [
      "D:\\zwk_data\\p_tif\\17000\\ndwi1_int8_world_17276.tif\n",
      "['D:\\\\zwk_data\\\\p_tif\\\\GRWL_vector_V01.01\\\\SF21.shp']\n"
     ]
    },
    {
     "data": {
      "text/plain": [
       "'Fri Dec 29 13:56:32 2023'"
      ]
     },
     "execution_count": 22,
     "metadata": {},
     "output_type": "execute_result"
    },
    {
     "data": {
      "text/plain": [
       "108"
      ]
     },
     "execution_count": 22,
     "metadata": {},
     "output_type": "execute_result"
    },
    {
     "name": "stderr",
     "output_type": "stream",
     "text": [
      "\r",
      " 26%|███████████████████▋                                                       | 151/574 [2:40:45<10:12:18, 86.85s/it]"
     ]
    },
    {
     "name": "stdout",
     "output_type": "stream",
     "text": [
      "D:\\zwk_data\\p_tif\\17000\\ndwi1_int8_world_17277.tif\n",
      "['D:\\\\zwk_data\\\\p_tif\\\\GRWL_vector_V01.01\\\\SE21.shp'\n",
      " 'D:\\\\zwk_data\\\\p_tif\\\\GRWL_vector_V01.01\\\\SF21.shp']\n"
     ]
    },
    {
     "data": {
      "text/plain": [
       "'Fri Dec 29 13:57:26 2023'"
      ]
     },
     "execution_count": 22,
     "metadata": {},
     "output_type": "execute_result"
    },
    {
     "data": {
      "text/plain": [
       "117"
      ]
     },
     "execution_count": 22,
     "metadata": {},
     "output_type": "execute_result"
    },
    {
     "name": "stderr",
     "output_type": "stream",
     "text": [
      "\r",
      " 26%|███████████████████▊                                                       | 152/574 [2:42:40<11:11:35, 95.49s/it]"
     ]
    },
    {
     "name": "stdout",
     "output_type": "stream",
     "text": [
      "D:\\zwk_data\\p_tif\\17000\\ndwi1_int8_world_17278.tif\n",
      "['D:\\\\zwk_data\\\\p_tif\\\\GRWL_vector_V01.01\\\\SH21.shp']\n"
     ]
    },
    {
     "data": {
      "text/plain": [
       "'Fri Dec 29 13:59:21 2023'"
      ]
     },
     "execution_count": 22,
     "metadata": {},
     "output_type": "execute_result"
    },
    {
     "data": {
      "text/plain": [
       "122"
      ]
     },
     "execution_count": 22,
     "metadata": {},
     "output_type": "execute_result"
    },
    {
     "name": "stderr",
     "output_type": "stream",
     "text": [
      "\r",
      " 27%|███████████████████▉                                                       | 153/574 [2:44:10<10:58:42, 93.88s/it]"
     ]
    },
    {
     "name": "stdout",
     "output_type": "stream",
     "text": [
      "D:\\zwk_data\\p_tif\\17000\\ndwi1_int8_world_17279.tif\n",
      "['D:\\\\zwk_data\\\\p_tif\\\\GRWL_vector_V01.01\\\\SG21.shp'\n",
      " 'D:\\\\zwk_data\\\\p_tif\\\\GRWL_vector_V01.01\\\\SH21.shp']\n"
     ]
    },
    {
     "data": {
      "text/plain": [
       "'Fri Dec 29 14:00:52 2023'"
      ]
     },
     "execution_count": 22,
     "metadata": {},
     "output_type": "execute_result"
    },
    {
     "data": {
      "text/plain": [
       "118"
      ]
     },
     "execution_count": 22,
     "metadata": {},
     "output_type": "execute_result"
    },
    {
     "name": "stderr",
     "output_type": "stream",
     "text": [
      "\r",
      " 27%|███████████████████▊                                                      | 154/574 [2:46:50<13:14:45, 113.54s/it]"
     ]
    },
    {
     "name": "stdout",
     "output_type": "stream",
     "text": [
      "D:\\zwk_data\\p_tif\\17000\\ndwi1_int8_world_17280.tif\n",
      "['D:\\\\zwk_data\\\\p_tif\\\\GRWL_vector_V01.01\\\\SG21.shp'\n",
      " 'D:\\\\zwk_data\\\\p_tif\\\\GRWL_vector_V01.01\\\\SH21.shp']\n"
     ]
    },
    {
     "data": {
      "text/plain": [
       "'Fri Dec 29 14:03:32 2023'"
      ]
     },
     "execution_count": 22,
     "metadata": {},
     "output_type": "execute_result"
    },
    {
     "data": {
      "text/plain": [
       "115"
      ]
     },
     "execution_count": 22,
     "metadata": {},
     "output_type": "execute_result"
    },
    {
     "name": "stderr",
     "output_type": "stream",
     "text": [
      "\r",
      " 27%|███████████████████▉                                                      | 155/574 [2:51:08<18:15:50, 156.92s/it]"
     ]
    },
    {
     "name": "stdout",
     "output_type": "stream",
     "text": [
      "D:\\zwk_data\\p_tif\\17000\\ndwi1_int8_world_17281.tif\n",
      "['D:\\\\zwk_data\\\\p_tif\\\\GRWL_vector_V01.01\\\\SG21.shp']\n"
     ]
    },
    {
     "data": {
      "text/plain": [
       "'Fri Dec 29 14:07:50 2023'"
      ]
     },
     "execution_count": 22,
     "metadata": {},
     "output_type": "execute_result"
    },
    {
     "data": {
      "text/plain": [
       "117"
      ]
     },
     "execution_count": 22,
     "metadata": {},
     "output_type": "execute_result"
    },
    {
     "name": "stderr",
     "output_type": "stream",
     "text": [
      "\r",
      " 27%|████████████████████                                                      | 156/574 [2:52:55<16:29:06, 141.98s/it]"
     ]
    },
    {
     "name": "stdout",
     "output_type": "stream",
     "text": [
      "D:\\zwk_data\\p_tif\\17000\\ndwi1_int8_world_17282.tif\n",
      "['D:\\\\zwk_data\\\\p_tif\\\\GRWL_vector_V01.01\\\\SG21.shp']\n"
     ]
    },
    {
     "data": {
      "text/plain": [
       "'Fri Dec 29 14:09:36 2023'"
      ]
     },
     "execution_count": 22,
     "metadata": {},
     "output_type": "execute_result"
    },
    {
     "data": {
      "text/plain": [
       "113"
      ]
     },
     "execution_count": 22,
     "metadata": {},
     "output_type": "execute_result"
    },
    {
     "name": "stderr",
     "output_type": "stream",
     "text": [
      "\r",
      " 27%|████████████████████▏                                                     | 157/574 [2:54:34<14:56:29, 128.99s/it]"
     ]
    },
    {
     "name": "stdout",
     "output_type": "stream",
     "text": [
      "D:\\zwk_data\\p_tif\\17000\\ndwi1_int8_world_17283.tif\n",
      "['D:\\\\zwk_data\\\\p_tif\\\\GRWL_vector_V01.01\\\\SF21.shp'\n",
      " 'D:\\\\zwk_data\\\\p_tif\\\\GRWL_vector_V01.01\\\\SG21.shp']\n"
     ]
    },
    {
     "data": {
      "text/plain": [
       "'Fri Dec 29 14:11:15 2023'"
      ]
     },
     "execution_count": 22,
     "metadata": {},
     "output_type": "execute_result"
    },
    {
     "data": {
      "text/plain": [
       "118"
      ]
     },
     "execution_count": 22,
     "metadata": {},
     "output_type": "execute_result"
    },
    {
     "name": "stderr",
     "output_type": "stream",
     "text": [
      "\r",
      " 28%|████████████████████▎                                                     | 158/574 [2:56:44<14:56:05, 129.24s/it]"
     ]
    },
    {
     "name": "stdout",
     "output_type": "stream",
     "text": [
      "D:\\zwk_data\\p_tif\\17000\\ndwi1_int8_world_17284.tif\n",
      "['D:\\\\zwk_data\\\\p_tif\\\\GRWL_vector_V01.01\\\\SF21.shp'\n",
      " 'D:\\\\zwk_data\\\\p_tif\\\\GRWL_vector_V01.01\\\\SG21.shp']\n"
     ]
    },
    {
     "data": {
      "text/plain": [
       "'Fri Dec 29 14:13:25 2023'"
      ]
     },
     "execution_count": 22,
     "metadata": {},
     "output_type": "execute_result"
    },
    {
     "data": {
      "text/plain": [
       "117"
      ]
     },
     "execution_count": 22,
     "metadata": {},
     "output_type": "execute_result"
    },
    {
     "name": "stderr",
     "output_type": "stream",
     "text": [
      "\r",
      " 28%|████████████████████▍                                                     | 159/574 [2:58:55<14:59:21, 130.03s/it]"
     ]
    },
    {
     "name": "stdout",
     "output_type": "stream",
     "text": [
      "D:\\zwk_data\\p_tif\\17000\\ndwi1_int8_world_17285.tif\n",
      "['D:\\\\zwk_data\\\\p_tif\\\\GRWL_vector_V01.01\\\\SF21.shp']\n"
     ]
    },
    {
     "data": {
      "text/plain": [
       "'Fri Dec 29 14:15:37 2023'"
      ]
     },
     "execution_count": 22,
     "metadata": {},
     "output_type": "execute_result"
    },
    {
     "data": {
      "text/plain": [
       "108"
      ]
     },
     "execution_count": 22,
     "metadata": {},
     "output_type": "execute_result"
    },
    {
     "name": "stderr",
     "output_type": "stream",
     "text": [
      "\r",
      " 28%|████████████████████▋                                                     | 160/574 [2:59:54<12:29:39, 108.65s/it]"
     ]
    },
    {
     "name": "stdout",
     "output_type": "stream",
     "text": [
      "D:\\zwk_data\\p_tif\\17000\\ndwi1_int8_world_17286.tif\n",
      "['D:\\\\zwk_data\\\\p_tif\\\\GRWL_vector_V01.01\\\\SF21.shp']\n"
     ]
    },
    {
     "data": {
      "text/plain": [
       "'Fri Dec 29 14:16:35 2023'"
      ]
     },
     "execution_count": 22,
     "metadata": {},
     "output_type": "execute_result"
    },
    {
     "data": {
      "text/plain": [
       "108"
      ]
     },
     "execution_count": 22,
     "metadata": {},
     "output_type": "execute_result"
    },
    {
     "name": "stderr",
     "output_type": "stream",
     "text": [
      "\r",
      " 28%|█████████████████████                                                      | 161/574 [3:00:52<10:42:34, 93.35s/it]"
     ]
    },
    {
     "name": "stdout",
     "output_type": "stream",
     "text": [
      "D:\\zwk_data\\p_tif\\17000\\ndwi1_int8_world_17287.tif\n",
      "['D:\\\\zwk_data\\\\p_tif\\\\GRWL_vector_V01.01\\\\SE21.shp'\n",
      " 'D:\\\\zwk_data\\\\p_tif\\\\GRWL_vector_V01.01\\\\SF21.shp']\n"
     ]
    },
    {
     "data": {
      "text/plain": [
       "'Fri Dec 29 14:17:33 2023'"
      ]
     },
     "execution_count": 22,
     "metadata": {},
     "output_type": "execute_result"
    },
    {
     "data": {
      "text/plain": [
       "117"
      ]
     },
     "execution_count": 22,
     "metadata": {},
     "output_type": "execute_result"
    },
    {
     "name": "stderr",
     "output_type": "stream",
     "text": [
      "\r",
      " 28%|████████████████████▉                                                     | 162/574 [3:02:58<11:48:45, 103.22s/it]"
     ]
    },
    {
     "name": "stdout",
     "output_type": "stream",
     "text": [
      "D:\\zwk_data\\p_tif\\17000\\ndwi1_int8_world_17288.tif\n",
      "['D:\\\\zwk_data\\\\p_tif\\\\GRWL_vector_V01.01\\\\SH21.shp']\n"
     ]
    },
    {
     "data": {
      "text/plain": [
       "'Fri Dec 29 14:19:40 2023'"
      ]
     },
     "execution_count": 22,
     "metadata": {},
     "output_type": "execute_result"
    },
    {
     "data": {
      "text/plain": [
       "118"
      ]
     },
     "execution_count": 22,
     "metadata": {},
     "output_type": "execute_result"
    },
    {
     "name": "stderr",
     "output_type": "stream",
     "text": [
      "\r",
      " 28%|█████████████████████                                                     | 163/574 [3:04:33<11:29:52, 100.71s/it]"
     ]
    },
    {
     "name": "stdout",
     "output_type": "stream",
     "text": [
      "D:\\zwk_data\\p_tif\\17000\\ndwi1_int8_world_17289.tif\n",
      "['D:\\\\zwk_data\\\\p_tif\\\\GRWL_vector_V01.01\\\\SG21.shp'\n",
      " 'D:\\\\zwk_data\\\\p_tif\\\\GRWL_vector_V01.01\\\\SH21.shp']\n"
     ]
    },
    {
     "data": {
      "text/plain": [
       "'Fri Dec 29 14:21:15 2023'"
      ]
     },
     "execution_count": 22,
     "metadata": {},
     "output_type": "execute_result"
    },
    {
     "data": {
      "text/plain": [
       "122"
      ]
     },
     "execution_count": 22,
     "metadata": {},
     "output_type": "execute_result"
    },
    {
     "name": "stderr",
     "output_type": "stream",
     "text": [
      "\r",
      " 29%|█████████████████████▏                                                    | 164/574 [3:07:11<13:25:00, 117.81s/it]"
     ]
    },
    {
     "name": "stdout",
     "output_type": "stream",
     "text": [
      "D:\\zwk_data\\p_tif\\17000\\ndwi1_int8_world_17290.tif\n",
      "['D:\\\\zwk_data\\\\p_tif\\\\GRWL_vector_V01.01\\\\SG21.shp'\n",
      " 'D:\\\\zwk_data\\\\p_tif\\\\GRWL_vector_V01.01\\\\SH21.shp']\n"
     ]
    },
    {
     "data": {
      "text/plain": [
       "'Fri Dec 29 14:23:53 2023'"
      ]
     },
     "execution_count": 22,
     "metadata": {},
     "output_type": "execute_result"
    },
    {
     "data": {
      "text/plain": [
       "119"
      ]
     },
     "execution_count": 22,
     "metadata": {},
     "output_type": "execute_result"
    },
    {
     "name": "stderr",
     "output_type": "stream",
     "text": [
      "\r",
      " 29%|█████████████████████▎                                                    | 165/574 [3:10:14<15:36:46, 137.42s/it]"
     ]
    },
    {
     "name": "stdout",
     "output_type": "stream",
     "text": [
      "D:\\zwk_data\\p_tif\\17000\\ndwi1_int8_world_17291.tif\n",
      "['D:\\\\zwk_data\\\\p_tif\\\\GRWL_vector_V01.01\\\\SG21.shp']\n"
     ]
    },
    {
     "data": {
      "text/plain": [
       "'Fri Dec 29 14:26:56 2023'"
      ]
     },
     "execution_count": 22,
     "metadata": {},
     "output_type": "execute_result"
    },
    {
     "data": {
      "text/plain": [
       "117"
      ]
     },
     "execution_count": 22,
     "metadata": {},
     "output_type": "execute_result"
    },
    {
     "name": "stderr",
     "output_type": "stream",
     "text": [
      "\r",
      " 29%|█████████████████████▍                                                    | 166/574 [3:11:50<14:09:41, 124.95s/it]"
     ]
    },
    {
     "name": "stdout",
     "output_type": "stream",
     "text": [
      "D:\\zwk_data\\p_tif\\17000\\ndwi1_int8_world_17292.tif\n",
      "['D:\\\\zwk_data\\\\p_tif\\\\GRWL_vector_V01.01\\\\SG21.shp']\n"
     ]
    },
    {
     "data": {
      "text/plain": [
       "'Fri Dec 29 14:28:31 2023'"
      ]
     },
     "execution_count": 22,
     "metadata": {},
     "output_type": "execute_result"
    },
    {
     "data": {
      "text/plain": [
       "115"
      ]
     },
     "execution_count": 22,
     "metadata": {},
     "output_type": "execute_result"
    },
    {
     "name": "stderr",
     "output_type": "stream",
     "text": [
      "\r",
      " 29%|█████████████████████▌                                                    | 167/574 [3:13:39<13:35:14, 120.18s/it]"
     ]
    },
    {
     "name": "stdout",
     "output_type": "stream",
     "text": [
      "D:\\zwk_data\\p_tif\\17000\\ndwi1_int8_world_17293.tif\n",
      "['D:\\\\zwk_data\\\\p_tif\\\\GRWL_vector_V01.01\\\\SF21.shp'\n",
      " 'D:\\\\zwk_data\\\\p_tif\\\\GRWL_vector_V01.01\\\\SG21.shp']\n"
     ]
    },
    {
     "data": {
      "text/plain": [
       "'Fri Dec 29 14:30:20 2023'"
      ]
     },
     "execution_count": 22,
     "metadata": {},
     "output_type": "execute_result"
    },
    {
     "data": {
      "text/plain": [
       "114"
      ]
     },
     "execution_count": 22,
     "metadata": {},
     "output_type": "execute_result"
    },
    {
     "name": "stderr",
     "output_type": "stream",
     "text": [
      "\r",
      " 29%|█████████████████████▋                                                    | 168/574 [3:15:49<13:53:24, 123.16s/it]"
     ]
    },
    {
     "name": "stdout",
     "output_type": "stream",
     "text": [
      "D:\\zwk_data\\p_tif\\17000\\ndwi1_int8_world_17294.tif\n",
      "['D:\\\\zwk_data\\\\p_tif\\\\GRWL_vector_V01.01\\\\SF21.shp'\n",
      " 'D:\\\\zwk_data\\\\p_tif\\\\GRWL_vector_V01.01\\\\SG21.shp']\n"
     ]
    },
    {
     "data": {
      "text/plain": [
       "'Fri Dec 29 14:32:30 2023'"
      ]
     },
     "execution_count": 22,
     "metadata": {},
     "output_type": "execute_result"
    },
    {
     "data": {
      "text/plain": [
       "117"
      ]
     },
     "execution_count": 22,
     "metadata": {},
     "output_type": "execute_result"
    },
    {
     "name": "stderr",
     "output_type": "stream",
     "text": [
      "\r",
      " 29%|█████████████████████▊                                                    | 169/574 [3:17:58<14:03:47, 125.01s/it]"
     ]
    },
    {
     "name": "stdout",
     "output_type": "stream",
     "text": [
      "D:\\zwk_data\\p_tif\\17000\\ndwi1_int8_world_17295.tif\n",
      "['D:\\\\zwk_data\\\\p_tif\\\\GRWL_vector_V01.01\\\\SF21.shp']\n"
     ]
    },
    {
     "data": {
      "text/plain": [
       "'Fri Dec 29 14:34:40 2023'"
      ]
     },
     "execution_count": 22,
     "metadata": {},
     "output_type": "execute_result"
    },
    {
     "data": {
      "text/plain": [
       "106"
      ]
     },
     "execution_count": 22,
     "metadata": {},
     "output_type": "execute_result"
    },
    {
     "name": "stderr",
     "output_type": "stream",
     "text": [
      "\r",
      " 30%|█████████████████████▉                                                    | 170/574 [3:18:57<11:47:13, 105.03s/it]"
     ]
    },
    {
     "name": "stdout",
     "output_type": "stream",
     "text": [
      "D:\\zwk_data\\p_tif\\17000\\ndwi1_int8_world_17296.tif\n",
      "['D:\\\\zwk_data\\\\p_tif\\\\GRWL_vector_V01.01\\\\SF21.shp']\n"
     ]
    },
    {
     "data": {
      "text/plain": [
       "'Fri Dec 29 14:35:38 2023'"
      ]
     },
     "execution_count": 22,
     "metadata": {},
     "output_type": "execute_result"
    },
    {
     "data": {
      "text/plain": [
       "106"
      ]
     },
     "execution_count": 22,
     "metadata": {},
     "output_type": "execute_result"
    },
    {
     "name": "stderr",
     "output_type": "stream",
     "text": [
      "\r",
      " 30%|██████████████████████▎                                                    | 171/574 [3:19:51<10:04:00, 89.93s/it]"
     ]
    },
    {
     "name": "stdout",
     "output_type": "stream",
     "text": [
      "D:\\zwk_data\\p_tif\\17000\\ndwi1_int8_world_17297.tif\n",
      "['D:\\\\zwk_data\\\\p_tif\\\\GRWL_vector_V01.01\\\\SE21.shp'\n",
      " 'D:\\\\zwk_data\\\\p_tif\\\\GRWL_vector_V01.01\\\\SF21.shp']\n"
     ]
    },
    {
     "data": {
      "text/plain": [
       "'Fri Dec 29 14:36:33 2023'"
      ]
     },
     "execution_count": 22,
     "metadata": {},
     "output_type": "execute_result"
    },
    {
     "data": {
      "text/plain": [
       "117"
      ]
     },
     "execution_count": 22,
     "metadata": {},
     "output_type": "execute_result"
    },
    {
     "name": "stderr",
     "output_type": "stream",
     "text": [
      "\r",
      " 30%|██████████████████████▍                                                    | 172/574 [3:21:50<11:00:46, 98.62s/it]"
     ]
    },
    {
     "name": "stdout",
     "output_type": "stream",
     "text": [
      "D:\\zwk_data\\p_tif\\17000\\ndwi1_int8_world_17298.tif\n",
      "['D:\\\\zwk_data\\\\p_tif\\\\GRWL_vector_V01.01\\\\SH21.shp'\n",
      " 'D:\\\\zwk_data\\\\p_tif\\\\GRWL_vector_V01.01\\\\SH22.shp']\n"
     ]
    },
    {
     "data": {
      "text/plain": [
       "'Fri Dec 29 14:38:32 2023'"
      ]
     },
     "execution_count": 22,
     "metadata": {},
     "output_type": "execute_result"
    },
    {
     "data": {
      "text/plain": [
       "119"
      ]
     },
     "execution_count": 22,
     "metadata": {},
     "output_type": "execute_result"
    },
    {
     "name": "stderr",
     "output_type": "stream",
     "text": [
      "\r",
      " 30%|██████████████████████▎                                                   | 173/574 [3:24:05<12:11:59, 109.52s/it]"
     ]
    },
    {
     "name": "stdout",
     "output_type": "stream",
     "text": [
      "D:\\zwk_data\\p_tif\\17000\\ndwi1_int8_world_17299.tif\n",
      "['D:\\\\zwk_data\\\\p_tif\\\\GRWL_vector_V01.01\\\\SG21.shp'\n",
      " 'D:\\\\zwk_data\\\\p_tif\\\\GRWL_vector_V01.01\\\\SG22.shp'\n",
      " 'D:\\\\zwk_data\\\\p_tif\\\\GRWL_vector_V01.01\\\\SH21.shp'\n",
      " 'D:\\\\zwk_data\\\\p_tif\\\\GRWL_vector_V01.01\\\\SH22.shp']\n"
     ]
    },
    {
     "data": {
      "text/plain": [
       "'Fri Dec 29 14:40:48 2023'"
      ]
     },
     "execution_count": 22,
     "metadata": {},
     "output_type": "execute_result"
    },
    {
     "data": {
      "text/plain": [
       "119"
      ]
     },
     "execution_count": 22,
     "metadata": {},
     "output_type": "execute_result"
    },
    {
     "name": "stderr",
     "output_type": "stream",
     "text": [
      "\r",
      " 30%|██████████████████████▍                                                   | 174/574 [3:29:52<20:04:17, 180.64s/it]"
     ]
    },
    {
     "name": "stdout",
     "output_type": "stream",
     "text": [
      "D:\\zwk_data\\p_tif\\17000\\ndwi1_int8_world_17300.tif\n",
      "['D:\\\\zwk_data\\\\p_tif\\\\GRWL_vector_V01.01\\\\SG21.shp'\n",
      " 'D:\\\\zwk_data\\\\p_tif\\\\GRWL_vector_V01.01\\\\SG22.shp'\n",
      " 'D:\\\\zwk_data\\\\p_tif\\\\GRWL_vector_V01.01\\\\SH21.shp'\n",
      " 'D:\\\\zwk_data\\\\p_tif\\\\GRWL_vector_V01.01\\\\SH22.shp']\n"
     ]
    },
    {
     "data": {
      "text/plain": [
       "'Fri Dec 29 14:46:39 2023'"
      ]
     },
     "execution_count": 22,
     "metadata": {},
     "output_type": "execute_result"
    },
    {
     "data": {
      "text/plain": [
       "123"
      ]
     },
     "execution_count": 22,
     "metadata": {},
     "output_type": "execute_result"
    },
    {
     "name": "stderr",
     "output_type": "stream",
     "text": [
      "\r",
      " 30%|██████████████████████▌                                                   | 175/574 [3:35:43<25:40:43, 231.69s/it]"
     ]
    },
    {
     "name": "stdout",
     "output_type": "stream",
     "text": [
      "D:\\zwk_data\\p_tif\\17000\\ndwi1_int8_world_17301.tif\n",
      "['D:\\\\zwk_data\\\\p_tif\\\\GRWL_vector_V01.01\\\\SG21.shp'\n",
      " 'D:\\\\zwk_data\\\\p_tif\\\\GRWL_vector_V01.01\\\\SG22.shp']\n"
     ]
    },
    {
     "data": {
      "text/plain": [
       "'Fri Dec 29 14:52:28 2023'"
      ]
     },
     "execution_count": 22,
     "metadata": {},
     "output_type": "execute_result"
    },
    {
     "data": {
      "text/plain": [
       "118"
      ]
     },
     "execution_count": 22,
     "metadata": {},
     "output_type": "execute_result"
    },
    {
     "name": "stderr",
     "output_type": "stream",
     "text": [
      "\r",
      " 31%|██████████████████████▋                                                   | 176/574 [3:39:20<25:08:30, 227.41s/it]"
     ]
    },
    {
     "name": "stdout",
     "output_type": "stream",
     "text": [
      "D:\\zwk_data\\p_tif\\17000\\ndwi1_int8_world_17302.tif\n",
      "['D:\\\\zwk_data\\\\p_tif\\\\GRWL_vector_V01.01\\\\SG21.shp'\n",
      " 'D:\\\\zwk_data\\\\p_tif\\\\GRWL_vector_V01.01\\\\SG22.shp']\n"
     ]
    },
    {
     "data": {
      "text/plain": [
       "'Fri Dec 29 14:56:03 2023'"
      ]
     },
     "execution_count": 22,
     "metadata": {},
     "output_type": "execute_result"
    },
    {
     "data": {
      "text/plain": [
       "119"
      ]
     },
     "execution_count": 22,
     "metadata": {},
     "output_type": "execute_result"
    },
    {
     "name": "stderr",
     "output_type": "stream",
     "text": [
      "\r",
      " 31%|██████████████████████▊                                                   | 177/574 [3:43:19<25:27:34, 230.87s/it]"
     ]
    },
    {
     "name": "stdout",
     "output_type": "stream",
     "text": [
      "D:\\zwk_data\\p_tif\\17000\\ndwi1_int8_world_17303.tif\n",
      "['D:\\\\zwk_data\\\\p_tif\\\\GRWL_vector_V01.01\\\\SF21.shp'\n",
      " 'D:\\\\zwk_data\\\\p_tif\\\\GRWL_vector_V01.01\\\\SF22.shp'\n",
      " 'D:\\\\zwk_data\\\\p_tif\\\\GRWL_vector_V01.01\\\\SG21.shp'\n",
      " 'D:\\\\zwk_data\\\\p_tif\\\\GRWL_vector_V01.01\\\\SG22.shp']\n"
     ]
    },
    {
     "data": {
      "text/plain": [
       "'Fri Dec 29 15:00:01 2023'"
      ]
     },
     "execution_count": 22,
     "metadata": {},
     "output_type": "execute_result"
    },
    {
     "data": {
      "text/plain": [
       "119"
      ]
     },
     "execution_count": 22,
     "metadata": {},
     "output_type": "execute_result"
    },
    {
     "name": "stderr",
     "output_type": "stream",
     "text": [
      "\r",
      " 31%|██████████████████████▉                                                   | 178/574 [3:49:38<30:17:33, 275.39s/it]"
     ]
    },
    {
     "name": "stdout",
     "output_type": "stream",
     "text": [
      "D:\\zwk_data\\p_tif\\17000\\ndwi1_int8_world_17304.tif\n",
      "['D:\\\\zwk_data\\\\p_tif\\\\GRWL_vector_V01.01\\\\SF21.shp'\n",
      " 'D:\\\\zwk_data\\\\p_tif\\\\GRWL_vector_V01.01\\\\SF22.shp'\n",
      " 'D:\\\\zwk_data\\\\p_tif\\\\GRWL_vector_V01.01\\\\SG21.shp'\n",
      " 'D:\\\\zwk_data\\\\p_tif\\\\GRWL_vector_V01.01\\\\SG22.shp']\n"
     ]
    },
    {
     "data": {
      "text/plain": [
       "'Fri Dec 29 15:06:25 2023'"
      ]
     },
     "execution_count": 22,
     "metadata": {},
     "output_type": "execute_result"
    },
    {
     "data": {
      "text/plain": [
       "122"
      ]
     },
     "execution_count": 22,
     "metadata": {},
     "output_type": "execute_result"
    },
    {
     "name": "stderr",
     "output_type": "stream",
     "text": [
      "\r",
      " 31%|███████████████████████                                                   | 179/574 [3:55:53<33:29:13, 305.20s/it]"
     ]
    },
    {
     "name": "stdout",
     "output_type": "stream",
     "text": [
      "D:\\zwk_data\\p_tif\\17000\\ndwi1_int8_world_17305.tif\n",
      "['D:\\\\zwk_data\\\\p_tif\\\\GRWL_vector_V01.01\\\\SF21.shp'\n",
      " 'D:\\\\zwk_data\\\\p_tif\\\\GRWL_vector_V01.01\\\\SF22.shp']\n"
     ]
    },
    {
     "data": {
      "text/plain": [
       "'Fri Dec 29 15:12:39 2023'"
      ]
     },
     "execution_count": 22,
     "metadata": {},
     "output_type": "execute_result"
    },
    {
     "data": {
      "text/plain": [
       "119"
      ]
     },
     "execution_count": 22,
     "metadata": {},
     "output_type": "execute_result"
    },
    {
     "name": "stderr",
     "output_type": "stream",
     "text": [
      "\r",
      " 31%|███████████████████████▏                                                  | 180/574 [3:58:57<29:25:07, 268.80s/it]"
     ]
    },
    {
     "name": "stdout",
     "output_type": "stream",
     "text": [
      "D:\\zwk_data\\p_tif\\17000\\ndwi1_int8_world_17306.tif\n",
      "['D:\\\\zwk_data\\\\p_tif\\\\GRWL_vector_V01.01\\\\SF21.shp'\n",
      " 'D:\\\\zwk_data\\\\p_tif\\\\GRWL_vector_V01.01\\\\SF22.shp']\n"
     ]
    },
    {
     "data": {
      "text/plain": [
       "'Fri Dec 29 15:15:39 2023'"
      ]
     },
     "execution_count": 22,
     "metadata": {},
     "output_type": "execute_result"
    },
    {
     "data": {
      "text/plain": [
       "119"
      ]
     },
     "execution_count": 22,
     "metadata": {},
     "output_type": "execute_result"
    },
    {
     "name": "stderr",
     "output_type": "stream",
     "text": [
      "\r",
      " 32%|███████████████████████▎                                                  | 181/574 [4:01:42<25:57:04, 237.72s/it]"
     ]
    },
    {
     "name": "stdout",
     "output_type": "stream",
     "text": [
      "D:\\zwk_data\\p_tif\\17000\\ndwi1_int8_world_17307.tif\n",
      "['D:\\\\zwk_data\\\\p_tif\\\\GRWL_vector_V01.01\\\\SE21.shp'\n",
      " 'D:\\\\zwk_data\\\\p_tif\\\\GRWL_vector_V01.01\\\\SE22.shp'\n",
      " 'D:\\\\zwk_data\\\\p_tif\\\\GRWL_vector_V01.01\\\\SF21.shp'\n",
      " 'D:\\\\zwk_data\\\\p_tif\\\\GRWL_vector_V01.01\\\\SF22.shp']\n"
     ]
    },
    {
     "data": {
      "text/plain": [
       "'Fri Dec 29 15:18:24 2023'"
      ]
     },
     "execution_count": 22,
     "metadata": {},
     "output_type": "execute_result"
    },
    {
     "data": {
      "text/plain": [
       "114"
      ]
     },
     "execution_count": 22,
     "metadata": {},
     "output_type": "execute_result"
    },
    {
     "name": "stderr",
     "output_type": "stream",
     "text": [
      "\r",
      " 32%|███████████████████████▍                                                  | 182/574 [4:07:19<29:06:53, 267.38s/it]"
     ]
    },
    {
     "name": "stdout",
     "output_type": "stream",
     "text": [
      "D:\\zwk_data\\p_tif\\17000\\ndwi1_int8_world_17308.tif\n",
      "['D:\\\\zwk_data\\\\p_tif\\\\GRWL_vector_V01.01\\\\SH21.shp'\n",
      " 'D:\\\\zwk_data\\\\p_tif\\\\GRWL_vector_V01.01\\\\SH22.shp']\n"
     ]
    },
    {
     "data": {
      "text/plain": [
       "'Fri Dec 29 15:24:05 2023'"
      ]
     },
     "execution_count": 22,
     "metadata": {},
     "output_type": "execute_result"
    },
    {
     "data": {
      "text/plain": [
       "118"
      ]
     },
     "execution_count": 22,
     "metadata": {},
     "output_type": "execute_result"
    },
    {
     "name": "stderr",
     "output_type": "stream",
     "text": [
      "\r",
      " 32%|███████████████████████▌                                                  | 183/574 [4:09:51<25:18:14, 232.98s/it]"
     ]
    },
    {
     "name": "stdout",
     "output_type": "stream",
     "text": [
      "D:\\zwk_data\\p_tif\\17000\\ndwi1_int8_world_17309.tif\n",
      "['D:\\\\zwk_data\\\\p_tif\\\\GRWL_vector_V01.01\\\\SG21.shp'\n",
      " 'D:\\\\zwk_data\\\\p_tif\\\\GRWL_vector_V01.01\\\\SG22.shp'\n",
      " 'D:\\\\zwk_data\\\\p_tif\\\\GRWL_vector_V01.01\\\\SH21.shp'\n",
      " 'D:\\\\zwk_data\\\\p_tif\\\\GRWL_vector_V01.01\\\\SH22.shp']\n"
     ]
    },
    {
     "data": {
      "text/plain": [
       "'Fri Dec 29 15:26:34 2023'"
      ]
     },
     "execution_count": 22,
     "metadata": {},
     "output_type": "execute_result"
    },
    {
     "data": {
      "text/plain": [
       "118"
      ]
     },
     "execution_count": 22,
     "metadata": {},
     "output_type": "execute_result"
    },
    {
     "name": "stderr",
     "output_type": "stream",
     "text": [
      "\r",
      " 32%|███████████████████████▋                                                  | 184/574 [4:15:20<28:20:07, 261.56s/it]"
     ]
    },
    {
     "name": "stdout",
     "output_type": "stream",
     "text": [
      "D:\\zwk_data\\p_tif\\17000\\ndwi1_int8_world_17310.tif\n",
      "['D:\\\\zwk_data\\\\p_tif\\\\GRWL_vector_V01.01\\\\SG21.shp'\n",
      " 'D:\\\\zwk_data\\\\p_tif\\\\GRWL_vector_V01.01\\\\SG22.shp'\n",
      " 'D:\\\\zwk_data\\\\p_tif\\\\GRWL_vector_V01.01\\\\SH21.shp'\n",
      " 'D:\\\\zwk_data\\\\p_tif\\\\GRWL_vector_V01.01\\\\SH22.shp']\n"
     ]
    },
    {
     "data": {
      "text/plain": [
       "'Fri Dec 29 15:32:06 2023'"
      ]
     },
     "execution_count": 22,
     "metadata": {},
     "output_type": "execute_result"
    },
    {
     "data": {
      "text/plain": [
       "122"
      ]
     },
     "execution_count": 22,
     "metadata": {},
     "output_type": "execute_result"
    },
    {
     "name": "stderr",
     "output_type": "stream",
     "text": [
      "\r",
      " 32%|███████████████████████▊                                                  | 185/574 [4:20:53<30:36:20, 283.24s/it]"
     ]
    },
    {
     "name": "stdout",
     "output_type": "stream",
     "text": [
      "D:\\zwk_data\\p_tif\\17000\\ndwi1_int8_world_17311.tif\n",
      "['D:\\\\zwk_data\\\\p_tif\\\\GRWL_vector_V01.01\\\\SG21.shp'\n",
      " 'D:\\\\zwk_data\\\\p_tif\\\\GRWL_vector_V01.01\\\\SG22.shp']\n"
     ]
    },
    {
     "data": {
      "text/plain": [
       "'Fri Dec 29 15:37:39 2023'"
      ]
     },
     "execution_count": 22,
     "metadata": {},
     "output_type": "execute_result"
    },
    {
     "data": {
      "text/plain": [
       "117"
      ]
     },
     "execution_count": 22,
     "metadata": {},
     "output_type": "execute_result"
    },
    {
     "name": "stderr",
     "output_type": "stream",
     "text": [
      "\r",
      " 32%|███████████████████████▉                                                  | 186/574 [4:24:21<28:05:07, 260.59s/it]"
     ]
    },
    {
     "name": "stdout",
     "output_type": "stream",
     "text": [
      "D:\\zwk_data\\p_tif\\17000\\ndwi1_int8_world_17312.tif\n",
      "['D:\\\\zwk_data\\\\p_tif\\\\GRWL_vector_V01.01\\\\SG21.shp'\n",
      " 'D:\\\\zwk_data\\\\p_tif\\\\GRWL_vector_V01.01\\\\SG22.shp']\n"
     ]
    },
    {
     "data": {
      "text/plain": [
       "'Fri Dec 29 15:41:04 2023'"
      ]
     },
     "execution_count": 22,
     "metadata": {},
     "output_type": "execute_result"
    },
    {
     "data": {
      "text/plain": [
       "117"
      ]
     },
     "execution_count": 22,
     "metadata": {},
     "output_type": "execute_result"
    },
    {
     "name": "stderr",
     "output_type": "stream",
     "text": [
      "\r",
      " 33%|████████████████████████                                                  | 187/574 [4:27:45<26:11:59, 243.72s/it]"
     ]
    },
    {
     "name": "stdout",
     "output_type": "stream",
     "text": [
      "D:\\zwk_data\\p_tif\\17000\\ndwi1_int8_world_17313.tif\n",
      "['D:\\\\zwk_data\\\\p_tif\\\\GRWL_vector_V01.01\\\\SF21.shp'\n",
      " 'D:\\\\zwk_data\\\\p_tif\\\\GRWL_vector_V01.01\\\\SF22.shp'\n",
      " 'D:\\\\zwk_data\\\\p_tif\\\\GRWL_vector_V01.01\\\\SG21.shp'\n",
      " 'D:\\\\zwk_data\\\\p_tif\\\\GRWL_vector_V01.01\\\\SG22.shp']\n"
     ]
    },
    {
     "data": {
      "text/plain": [
       "'Fri Dec 29 15:44:28 2023'"
      ]
     },
     "execution_count": 22,
     "metadata": {},
     "output_type": "execute_result"
    },
    {
     "data": {
      "text/plain": [
       "118"
      ]
     },
     "execution_count": 22,
     "metadata": {},
     "output_type": "execute_result"
    },
    {
     "name": "stderr",
     "output_type": "stream",
     "text": [
      "\r",
      " 33%|████████████████████████▏                                                 | 188/574 [4:33:24<29:11:45, 272.30s/it]"
     ]
    },
    {
     "name": "stdout",
     "output_type": "stream",
     "text": [
      "D:\\zwk_data\\p_tif\\17000\\ndwi1_int8_world_17314.tif\n",
      "['D:\\\\zwk_data\\\\p_tif\\\\GRWL_vector_V01.01\\\\SF21.shp'\n",
      " 'D:\\\\zwk_data\\\\p_tif\\\\GRWL_vector_V01.01\\\\SF22.shp'\n",
      " 'D:\\\\zwk_data\\\\p_tif\\\\GRWL_vector_V01.01\\\\SG21.shp'\n",
      " 'D:\\\\zwk_data\\\\p_tif\\\\GRWL_vector_V01.01\\\\SG22.shp']\n"
     ]
    },
    {
     "data": {
      "text/plain": [
       "'Fri Dec 29 15:50:10 2023'"
      ]
     },
     "execution_count": 22,
     "metadata": {},
     "output_type": "execute_result"
    },
    {
     "data": {
      "text/plain": [
       "121"
      ]
     },
     "execution_count": 22,
     "metadata": {},
     "output_type": "execute_result"
    },
    {
     "name": "stderr",
     "output_type": "stream",
     "text": [
      "\r",
      " 33%|████████████████████████▎                                                 | 189/574 [4:39:17<31:41:41, 296.37s/it]"
     ]
    },
    {
     "name": "stdout",
     "output_type": "stream",
     "text": [
      "D:\\zwk_data\\p_tif\\17000\\ndwi1_int8_world_17315.tif\n",
      "['D:\\\\zwk_data\\\\p_tif\\\\GRWL_vector_V01.01\\\\SF21.shp'\n",
      " 'D:\\\\zwk_data\\\\p_tif\\\\GRWL_vector_V01.01\\\\SF22.shp']\n"
     ]
    },
    {
     "data": {
      "text/plain": [
       "'Fri Dec 29 15:56:02 2023'"
      ]
     },
     "execution_count": 22,
     "metadata": {},
     "output_type": "execute_result"
    },
    {
     "data": {
      "text/plain": [
       "122"
      ]
     },
     "execution_count": 22,
     "metadata": {},
     "output_type": "execute_result"
    },
    {
     "name": "stderr",
     "output_type": "stream",
     "text": [
      "\r",
      " 33%|████████████████████████▍                                                 | 190/574 [4:42:25<28:08:07, 263.77s/it]"
     ]
    },
    {
     "name": "stdout",
     "output_type": "stream",
     "text": [
      "D:\\zwk_data\\p_tif\\17000\\ndwi1_int8_world_17316.tif\n",
      "['D:\\\\zwk_data\\\\p_tif\\\\GRWL_vector_V01.01\\\\SF21.shp'\n",
      " 'D:\\\\zwk_data\\\\p_tif\\\\GRWL_vector_V01.01\\\\SF22.shp']\n"
     ]
    },
    {
     "data": {
      "text/plain": [
       "'Fri Dec 29 15:59:07 2023'"
      ]
     },
     "execution_count": 22,
     "metadata": {},
     "output_type": "execute_result"
    },
    {
     "data": {
      "text/plain": [
       "118"
      ]
     },
     "execution_count": 22,
     "metadata": {},
     "output_type": "execute_result"
    },
    {
     "name": "stderr",
     "output_type": "stream",
     "text": [
      "\r",
      " 33%|████████████████████████▌                                                 | 191/574 [4:45:05<24:45:15, 232.68s/it]"
     ]
    },
    {
     "name": "stdout",
     "output_type": "stream",
     "text": [
      "D:\\zwk_data\\p_tif\\17000\\ndwi1_int8_world_17317.tif\n",
      "['D:\\\\zwk_data\\\\p_tif\\\\GRWL_vector_V01.01\\\\SE21.shp'\n",
      " 'D:\\\\zwk_data\\\\p_tif\\\\GRWL_vector_V01.01\\\\SE22.shp'\n",
      " 'D:\\\\zwk_data\\\\p_tif\\\\GRWL_vector_V01.01\\\\SF21.shp'\n",
      " 'D:\\\\zwk_data\\\\p_tif\\\\GRWL_vector_V01.01\\\\SF22.shp']\n"
     ]
    },
    {
     "data": {
      "text/plain": [
       "'Fri Dec 29 16:01:46 2023'"
      ]
     },
     "execution_count": 22,
     "metadata": {},
     "output_type": "execute_result"
    },
    {
     "data": {
      "text/plain": [
       "117"
      ]
     },
     "execution_count": 22,
     "metadata": {},
     "output_type": "execute_result"
    },
    {
     "name": "stderr",
     "output_type": "stream",
     "text": [
      "\r",
      " 33%|████████████████████████▊                                                 | 192/574 [4:50:36<27:49:41, 262.26s/it]"
     ]
    },
    {
     "name": "stdout",
     "output_type": "stream",
     "text": [
      "D:\\zwk_data\\p_tif\\17000\\ndwi1_int8_world_17318.tif\n",
      "['D:\\\\zwk_data\\\\p_tif\\\\GRWL_vector_V01.01\\\\SH22.shp']\n"
     ]
    },
    {
     "data": {
      "text/plain": [
       "'Fri Dec 29 16:07:23 2023'"
      ]
     },
     "execution_count": 22,
     "metadata": {},
     "output_type": "execute_result"
    },
    {
     "data": {
      "text/plain": [
       "118"
      ]
     },
     "execution_count": 22,
     "metadata": {},
     "output_type": "execute_result"
    },
    {
     "name": "stderr",
     "output_type": "stream",
     "text": [
      "\r",
      " 34%|████████████████████████▉                                                 | 193/574 [4:52:01<22:06:38, 208.92s/it]"
     ]
    },
    {
     "name": "stdout",
     "output_type": "stream",
     "text": [
      "D:\\zwk_data\\p_tif\\17000\\ndwi1_int8_world_17319.tif\n",
      "['D:\\\\zwk_data\\\\p_tif\\\\GRWL_vector_V01.01\\\\SG22.shp'\n",
      " 'D:\\\\zwk_data\\\\p_tif\\\\GRWL_vector_V01.01\\\\SH22.shp']\n"
     ]
    },
    {
     "data": {
      "text/plain": [
       "'Fri Dec 29 16:08:42 2023'"
      ]
     },
     "execution_count": 22,
     "metadata": {},
     "output_type": "execute_result"
    },
    {
     "data": {
      "text/plain": [
       "115"
      ]
     },
     "execution_count": 22,
     "metadata": {},
     "output_type": "execute_result"
    },
    {
     "name": "stderr",
     "output_type": "stream",
     "text": [
      "\r",
      " 34%|█████████████████████████                                                 | 194/574 [4:54:42<20:32:09, 194.55s/it]"
     ]
    },
    {
     "name": "stdout",
     "output_type": "stream",
     "text": [
      "D:\\zwk_data\\p_tif\\17000\\ndwi1_int8_world_17320.tif\n",
      "['D:\\\\zwk_data\\\\p_tif\\\\GRWL_vector_V01.01\\\\SG22.shp'\n",
      " 'D:\\\\zwk_data\\\\p_tif\\\\GRWL_vector_V01.01\\\\SH22.shp']\n"
     ]
    },
    {
     "data": {
      "text/plain": [
       "'Fri Dec 29 16:11:23 2023'"
      ]
     },
     "execution_count": 22,
     "metadata": {},
     "output_type": "execute_result"
    },
    {
     "data": {
      "text/plain": [
       "118"
      ]
     },
     "execution_count": 22,
     "metadata": {},
     "output_type": "execute_result"
    },
    {
     "name": "stderr",
     "output_type": "stream",
     "text": [
      "\r",
      " 34%|█████████████████████████▏                                                | 195/574 [4:57:32<19:43:34, 187.37s/it]"
     ]
    },
    {
     "name": "stdout",
     "output_type": "stream",
     "text": [
      "D:\\zwk_data\\p_tif\\17000\\ndwi1_int8_world_17321.tif\n",
      "['D:\\\\zwk_data\\\\p_tif\\\\GRWL_vector_V01.01\\\\SG22.shp']\n"
     ]
    },
    {
     "data": {
      "text/plain": [
       "'Fri Dec 29 16:14:15 2023'"
      ]
     },
     "execution_count": 22,
     "metadata": {},
     "output_type": "execute_result"
    },
    {
     "data": {
      "text/plain": [
       "117"
      ]
     },
     "execution_count": 22,
     "metadata": {},
     "output_type": "execute_result"
    },
    {
     "name": "stderr",
     "output_type": "stream",
     "text": [
      "\r",
      " 34%|█████████████████████████▎                                                | 196/574 [4:59:32<17:32:26, 167.06s/it]"
     ]
    },
    {
     "name": "stdout",
     "output_type": "stream",
     "text": [
      "D:\\zwk_data\\p_tif\\17000\\ndwi1_int8_world_17322.tif\n",
      "['D:\\\\zwk_data\\\\p_tif\\\\GRWL_vector_V01.01\\\\SG22.shp']\n"
     ]
    },
    {
     "data": {
      "text/plain": [
       "'Fri Dec 29 16:16:13 2023'"
      ]
     },
     "execution_count": 22,
     "metadata": {},
     "output_type": "execute_result"
    },
    {
     "data": {
      "text/plain": [
       "117"
      ]
     },
     "execution_count": 22,
     "metadata": {},
     "output_type": "execute_result"
    },
    {
     "name": "stderr",
     "output_type": "stream",
     "text": [
      "\r",
      " 34%|█████████████████████████▍                                                | 197/574 [5:01:30<15:56:54, 152.29s/it]"
     ]
    },
    {
     "name": "stdout",
     "output_type": "stream",
     "text": [
      "D:\\zwk_data\\p_tif\\17000\\ndwi1_int8_world_17323.tif\n",
      "['D:\\\\zwk_data\\\\p_tif\\\\GRWL_vector_V01.01\\\\SF22.shp'\n",
      " 'D:\\\\zwk_data\\\\p_tif\\\\GRWL_vector_V01.01\\\\SG22.shp']\n"
     ]
    },
    {
     "data": {
      "text/plain": [
       "'Fri Dec 29 16:18:11 2023'"
      ]
     },
     "execution_count": 22,
     "metadata": {},
     "output_type": "execute_result"
    },
    {
     "data": {
      "text/plain": [
       "118"
      ]
     },
     "execution_count": 22,
     "metadata": {},
     "output_type": "execute_result"
    },
    {
     "name": "stderr",
     "output_type": "stream",
     "text": [
      "\r",
      " 34%|█████████████████████████▌                                                | 198/574 [5:05:00<17:44:18, 169.84s/it]"
     ]
    },
    {
     "name": "stdout",
     "output_type": "stream",
     "text": [
      "D:\\zwk_data\\p_tif\\17000\\ndwi1_int8_world_17324.tif\n",
      "['D:\\\\zwk_data\\\\p_tif\\\\GRWL_vector_V01.01\\\\SF22.shp'\n",
      " 'D:\\\\zwk_data\\\\p_tif\\\\GRWL_vector_V01.01\\\\SG22.shp']\n"
     ]
    },
    {
     "data": {
      "text/plain": [
       "'Fri Dec 29 16:21:43 2023'"
      ]
     },
     "execution_count": 22,
     "metadata": {},
     "output_type": "execute_result"
    },
    {
     "data": {
      "text/plain": [
       "117"
      ]
     },
     "execution_count": 22,
     "metadata": {},
     "output_type": "execute_result"
    },
    {
     "name": "stderr",
     "output_type": "stream",
     "text": [
      "\r",
      " 35%|█████████████████████████▋                                                | 199/574 [5:08:40<19:14:36, 184.74s/it]"
     ]
    },
    {
     "name": "stdout",
     "output_type": "stream",
     "text": [
      "D:\\zwk_data\\p_tif\\17000\\ndwi1_int8_world_17325.tif\n",
      "['D:\\\\zwk_data\\\\p_tif\\\\GRWL_vector_V01.01\\\\SF22.shp']\n"
     ]
    },
    {
     "data": {
      "text/plain": [
       "'Fri Dec 29 16:25:22 2023'"
      ]
     },
     "execution_count": 22,
     "metadata": {},
     "output_type": "execute_result"
    },
    {
     "data": {
      "text/plain": [
       "117"
      ]
     },
     "execution_count": 22,
     "metadata": {},
     "output_type": "execute_result"
    },
    {
     "name": "stderr",
     "output_type": "stream",
     "text": [
      "\r",
      " 35%|█████████████████████████▊                                                | 200/574 [5:12:07<19:52:59, 191.39s/it]"
     ]
    },
    {
     "name": "stdout",
     "output_type": "stream",
     "text": [
      "D:\\zwk_data\\p_tif\\17000\\ndwi1_int8_world_17326.tif\n",
      "['D:\\\\zwk_data\\\\p_tif\\\\GRWL_vector_V01.01\\\\SF22.shp']\n"
     ]
    },
    {
     "data": {
      "text/plain": [
       "'Fri Dec 29 16:28:49 2023'"
      ]
     },
     "execution_count": 22,
     "metadata": {},
     "output_type": "execute_result"
    },
    {
     "data": {
      "text/plain": [
       "115"
      ]
     },
     "execution_count": 22,
     "metadata": {},
     "output_type": "execute_result"
    },
    {
     "name": "stderr",
     "output_type": "stream",
     "text": [
      "\r",
      " 35%|█████████████████████████▉                                                | 201/574 [5:15:26<20:03:23, 193.57s/it]"
     ]
    },
    {
     "name": "stdout",
     "output_type": "stream",
     "text": [
      "D:\\zwk_data\\p_tif\\17000\\ndwi1_int8_world_17327.tif\n",
      "['D:\\\\zwk_data\\\\p_tif\\\\GRWL_vector_V01.01\\\\SE22.shp'\n",
      " 'D:\\\\zwk_data\\\\p_tif\\\\GRWL_vector_V01.01\\\\SF22.shp']\n"
     ]
    },
    {
     "data": {
      "text/plain": [
       "'Fri Dec 29 16:32:07 2023'"
      ]
     },
     "execution_count": 22,
     "metadata": {},
     "output_type": "execute_result"
    },
    {
     "data": {
      "text/plain": [
       "117"
      ]
     },
     "execution_count": 22,
     "metadata": {},
     "output_type": "execute_result"
    },
    {
     "name": "stderr",
     "output_type": "stream",
     "text": [
      "\r",
      " 35%|██████████████████████████                                                | 202/574 [5:18:57<20:33:11, 198.90s/it]"
     ]
    },
    {
     "name": "stdout",
     "output_type": "stream",
     "text": [
      "D:\\zwk_data\\p_tif\\17000\\ndwi1_int8_world_17328.tif\n",
      "['D:\\\\zwk_data\\\\p_tif\\\\GRWL_vector_V01.01\\\\SH22.shp']\n"
     ]
    },
    {
     "data": {
      "text/plain": [
       "'Fri Dec 29 16:35:40 2023'"
      ]
     },
     "execution_count": 22,
     "metadata": {},
     "output_type": "execute_result"
    },
    {
     "data": {
      "text/plain": [
       "123"
      ]
     },
     "execution_count": 22,
     "metadata": {},
     "output_type": "execute_result"
    },
    {
     "name": "stderr",
     "output_type": "stream",
     "text": [
      "\r",
      " 35%|██████████████████████████▏                                               | 203/574 [5:20:21<16:56:24, 164.38s/it]"
     ]
    },
    {
     "name": "stdout",
     "output_type": "stream",
     "text": [
      "D:\\zwk_data\\p_tif\\17000\\ndwi1_int8_world_17329.tif\n",
      "['D:\\\\zwk_data\\\\p_tif\\\\GRWL_vector_V01.01\\\\SG22.shp'\n",
      " 'D:\\\\zwk_data\\\\p_tif\\\\GRWL_vector_V01.01\\\\SH22.shp']\n"
     ]
    },
    {
     "data": {
      "text/plain": [
       "'Fri Dec 29 16:37:02 2023'"
      ]
     },
     "execution_count": 22,
     "metadata": {},
     "output_type": "execute_result"
    },
    {
     "data": {
      "text/plain": [
       "119"
      ]
     },
     "execution_count": 22,
     "metadata": {},
     "output_type": "execute_result"
    },
    {
     "name": "stderr",
     "output_type": "stream",
     "text": [
      "\r",
      " 36%|██████████████████████████▎                                               | 204/574 [5:23:02<16:48:33, 163.55s/it]"
     ]
    },
    {
     "name": "stdout",
     "output_type": "stream",
     "text": [
      "D:\\zwk_data\\p_tif\\17000\\ndwi1_int8_world_17330.tif\n",
      "['D:\\\\zwk_data\\\\p_tif\\\\GRWL_vector_V01.01\\\\SG22.shp'\n",
      " 'D:\\\\zwk_data\\\\p_tif\\\\GRWL_vector_V01.01\\\\SH22.shp']\n"
     ]
    },
    {
     "data": {
      "text/plain": [
       "'Fri Dec 29 16:39:44 2023'"
      ]
     },
     "execution_count": 22,
     "metadata": {},
     "output_type": "execute_result"
    },
    {
     "data": {
      "text/plain": [
       "119"
      ]
     },
     "execution_count": 22,
     "metadata": {},
     "output_type": "execute_result"
    },
    {
     "name": "stderr",
     "output_type": "stream",
     "text": [
      "\r",
      " 36%|██████████████████████████▍                                               | 205/574 [5:25:50<16:53:40, 164.82s/it]"
     ]
    },
    {
     "name": "stdout",
     "output_type": "stream",
     "text": [
      "D:\\zwk_data\\p_tif\\17000\\ndwi1_int8_world_17331.tif\n",
      "['D:\\\\zwk_data\\\\p_tif\\\\GRWL_vector_V01.01\\\\SG22.shp']\n"
     ]
    },
    {
     "data": {
      "text/plain": [
       "'Fri Dec 29 16:42:32 2023'"
      ]
     },
     "execution_count": 22,
     "metadata": {},
     "output_type": "execute_result"
    },
    {
     "data": {
      "text/plain": [
       "118"
      ]
     },
     "execution_count": 22,
     "metadata": {},
     "output_type": "execute_result"
    },
    {
     "name": "stderr",
     "output_type": "stream",
     "text": [
      "\r",
      " 36%|██████████████████████████▌                                               | 206/574 [5:27:46<15:20:37, 150.10s/it]"
     ]
    },
    {
     "name": "stdout",
     "output_type": "stream",
     "text": [
      "D:\\zwk_data\\p_tif\\17000\\ndwi1_int8_world_17332.tif\n",
      "['D:\\\\zwk_data\\\\p_tif\\\\GRWL_vector_V01.01\\\\SG22.shp']\n"
     ]
    },
    {
     "data": {
      "text/plain": [
       "'Fri Dec 29 16:44:27 2023'"
      ]
     },
     "execution_count": 22,
     "metadata": {},
     "output_type": "execute_result"
    },
    {
     "data": {
      "text/plain": [
       "118"
      ]
     },
     "execution_count": 22,
     "metadata": {},
     "output_type": "execute_result"
    },
    {
     "name": "stderr",
     "output_type": "stream",
     "text": [
      "\r",
      " 36%|██████████████████████████▋                                               | 207/574 [5:29:41<14:14:15, 139.66s/it]"
     ]
    },
    {
     "name": "stdout",
     "output_type": "stream",
     "text": [
      "D:\\zwk_data\\p_tif\\17000\\ndwi1_int8_world_17333.tif\n",
      "['D:\\\\zwk_data\\\\p_tif\\\\GRWL_vector_V01.01\\\\SF22.shp'\n",
      " 'D:\\\\zwk_data\\\\p_tif\\\\GRWL_vector_V01.01\\\\SG22.shp']\n"
     ]
    },
    {
     "data": {
      "text/plain": [
       "'Fri Dec 29 16:46:22 2023'"
      ]
     },
     "execution_count": 22,
     "metadata": {},
     "output_type": "execute_result"
    },
    {
     "data": {
      "text/plain": [
       "119"
      ]
     },
     "execution_count": 22,
     "metadata": {},
     "output_type": "execute_result"
    },
    {
     "name": "stderr",
     "output_type": "stream",
     "text": [
      "\r",
      " 36%|██████████████████████████▊                                               | 208/574 [5:33:08<16:15:12, 159.87s/it]"
     ]
    },
    {
     "name": "stdout",
     "output_type": "stream",
     "text": [
      "D:\\zwk_data\\p_tif\\17000\\ndwi1_int8_world_17334.tif\n",
      "['D:\\\\zwk_data\\\\p_tif\\\\GRWL_vector_V01.01\\\\SF22.shp'\n",
      " 'D:\\\\zwk_data\\\\p_tif\\\\GRWL_vector_V01.01\\\\SG22.shp']\n"
     ]
    },
    {
     "data": {
      "text/plain": [
       "'Fri Dec 29 16:49:51 2023'"
      ]
     },
     "execution_count": 22,
     "metadata": {},
     "output_type": "execute_result"
    },
    {
     "data": {
      "text/plain": [
       "118"
      ]
     },
     "execution_count": 22,
     "metadata": {},
     "output_type": "execute_result"
    },
    {
     "name": "stderr",
     "output_type": "stream",
     "text": [
      "\r",
      " 36%|██████████████████████████▉                                               | 209/574 [5:36:43<17:52:54, 176.37s/it]"
     ]
    },
    {
     "name": "stdout",
     "output_type": "stream",
     "text": [
      "D:\\zwk_data\\p_tif\\17000\\ndwi1_int8_world_17335.tif\n",
      "['D:\\\\zwk_data\\\\p_tif\\\\GRWL_vector_V01.01\\\\SF22.shp']\n"
     ]
    },
    {
     "data": {
      "text/plain": [
       "'Fri Dec 29 16:53:25 2023'"
      ]
     },
     "execution_count": 22,
     "metadata": {},
     "output_type": "execute_result"
    },
    {
     "data": {
      "text/plain": [
       "117"
      ]
     },
     "execution_count": 22,
     "metadata": {},
     "output_type": "execute_result"
    },
    {
     "name": "stderr",
     "output_type": "stream",
     "text": [
      "\r",
      " 37%|███████████████████████████                                               | 210/574 [5:38:55<16:29:07, 163.04s/it]"
     ]
    },
    {
     "name": "stdout",
     "output_type": "stream",
     "text": [
      "D:\\zwk_data\\p_tif\\17000\\ndwi1_int8_world_17336.tif\n",
      "['D:\\\\zwk_data\\\\p_tif\\\\GRWL_vector_V01.01\\\\SF22.shp']\n"
     ]
    },
    {
     "data": {
      "text/plain": [
       "'Fri Dec 29 16:55:37 2023'"
      ]
     },
     "execution_count": 22,
     "metadata": {},
     "output_type": "execute_result"
    },
    {
     "data": {
      "text/plain": [
       "119"
      ]
     },
     "execution_count": 22,
     "metadata": {},
     "output_type": "execute_result"
    },
    {
     "name": "stderr",
     "output_type": "stream",
     "text": [
      "\r",
      " 37%|███████████████████████████▏                                              | 211/574 [5:41:24<16:00:39, 158.79s/it]"
     ]
    },
    {
     "name": "stdout",
     "output_type": "stream",
     "text": [
      "D:\\zwk_data\\p_tif\\17000\\ndwi1_int8_world_17337.tif\n",
      "['D:\\\\zwk_data\\\\p_tif\\\\GRWL_vector_V01.01\\\\SE22.shp'\n",
      " 'D:\\\\zwk_data\\\\p_tif\\\\GRWL_vector_V01.01\\\\SF22.shp']\n"
     ]
    },
    {
     "data": {
      "text/plain": [
       "'Fri Dec 29 16:58:05 2023'"
      ]
     },
     "execution_count": 22,
     "metadata": {},
     "output_type": "execute_result"
    },
    {
     "data": {
      "text/plain": [
       "118"
      ]
     },
     "execution_count": 22,
     "metadata": {},
     "output_type": "execute_result"
    },
    {
     "name": "stderr",
     "output_type": "stream",
     "text": [
      "\r",
      " 37%|███████████████████████████▎                                              | 212/574 [5:45:24<18:26:03, 183.33s/it]"
     ]
    },
    {
     "name": "stdout",
     "output_type": "stream",
     "text": [
      "D:\\zwk_data\\p_tif\\17000\\ndwi1_int8_world_17338.tif\n",
      "['D:\\\\zwk_data\\\\p_tif\\\\GRWL_vector_V01.01\\\\SH22.shp']\n"
     ]
    },
    {
     "data": {
      "text/plain": [
       "'Fri Dec 29 17:02:07 2023'"
      ]
     },
     "execution_count": 22,
     "metadata": {},
     "output_type": "execute_result"
    },
    {
     "data": {
      "text/plain": [
       "121"
      ]
     },
     "execution_count": 22,
     "metadata": {},
     "output_type": "execute_result"
    },
    {
     "name": "stderr",
     "output_type": "stream",
     "text": [
      "\r",
      " 37%|███████████████████████████▍                                              | 213/574 [5:46:44<15:15:16, 152.12s/it]"
     ]
    },
    {
     "name": "stdout",
     "output_type": "stream",
     "text": [
      "D:\\zwk_data\\p_tif\\17000\\ndwi1_int8_world_17339.tif\n",
      "['D:\\\\zwk_data\\\\p_tif\\\\GRWL_vector_V01.01\\\\SG22.shp'\n",
      " 'D:\\\\zwk_data\\\\p_tif\\\\GRWL_vector_V01.01\\\\SH22.shp']\n"
     ]
    },
    {
     "data": {
      "text/plain": [
       "'Fri Dec 29 17:03:25 2023'"
      ]
     },
     "execution_count": 22,
     "metadata": {},
     "output_type": "execute_result"
    },
    {
     "data": {
      "text/plain": [
       "119"
      ]
     },
     "execution_count": 22,
     "metadata": {},
     "output_type": "execute_result"
    },
    {
     "name": "stderr",
     "output_type": "stream",
     "text": [
      "\r",
      " 37%|███████████████████████████▌                                              | 214/574 [5:49:22<15:23:02, 153.84s/it]"
     ]
    },
    {
     "name": "stdout",
     "output_type": "stream",
     "text": [
      "D:\\zwk_data\\p_tif\\17000\\ndwi1_int8_world_17340.tif\n",
      "['D:\\\\zwk_data\\\\p_tif\\\\GRWL_vector_V01.01\\\\SG22.shp'\n",
      " 'D:\\\\zwk_data\\\\p_tif\\\\GRWL_vector_V01.01\\\\SH22.shp']\n"
     ]
    },
    {
     "data": {
      "text/plain": [
       "'Fri Dec 29 17:06:03 2023'"
      ]
     },
     "execution_count": 22,
     "metadata": {},
     "output_type": "execute_result"
    },
    {
     "data": {
      "text/plain": [
       "119"
      ]
     },
     "execution_count": 22,
     "metadata": {},
     "output_type": "execute_result"
    },
    {
     "name": "stderr",
     "output_type": "stream",
     "text": [
      "\r",
      " 37%|███████████████████████████▋                                              | 215/574 [5:52:05<15:37:42, 156.72s/it]"
     ]
    },
    {
     "name": "stdout",
     "output_type": "stream",
     "text": [
      "D:\\zwk_data\\p_tif\\17000\\ndwi1_int8_world_17341.tif\n",
      "['D:\\\\zwk_data\\\\p_tif\\\\GRWL_vector_V01.01\\\\SG22.shp']\n"
     ]
    },
    {
     "data": {
      "text/plain": [
       "'Fri Dec 29 17:08:47 2023'"
      ]
     },
     "execution_count": 22,
     "metadata": {},
     "output_type": "execute_result"
    },
    {
     "data": {
      "text/plain": [
       "118"
      ]
     },
     "execution_count": 22,
     "metadata": {},
     "output_type": "execute_result"
    },
    {
     "name": "stderr",
     "output_type": "stream",
     "text": [
      "\r",
      " 38%|███████████████████████████▊                                              | 216/574 [5:54:02<14:23:14, 144.68s/it]"
     ]
    },
    {
     "name": "stdout",
     "output_type": "stream",
     "text": [
      "D:\\zwk_data\\p_tif\\17000\\ndwi1_int8_world_17342.tif\n",
      "['D:\\\\zwk_data\\\\p_tif\\\\GRWL_vector_V01.01\\\\SG22.shp']\n"
     ]
    },
    {
     "data": {
      "text/plain": [
       "'Fri Dec 29 17:10:43 2023'"
      ]
     },
     "execution_count": 22,
     "metadata": {},
     "output_type": "execute_result"
    },
    {
     "data": {
      "text/plain": [
       "118"
      ]
     },
     "execution_count": 22,
     "metadata": {},
     "output_type": "execute_result"
    },
    {
     "name": "stderr",
     "output_type": "stream",
     "text": [
      "\r",
      " 38%|███████████████████████████▉                                              | 217/574 [5:55:54<13:23:13, 135.00s/it]"
     ]
    },
    {
     "name": "stdout",
     "output_type": "stream",
     "text": [
      "D:\\zwk_data\\p_tif\\17000\\ndwi1_int8_world_17343.tif\n",
      "['D:\\\\zwk_data\\\\p_tif\\\\GRWL_vector_V01.01\\\\SF22.shp'\n",
      " 'D:\\\\zwk_data\\\\p_tif\\\\GRWL_vector_V01.01\\\\SG22.shp']\n"
     ]
    },
    {
     "data": {
      "text/plain": [
       "'Fri Dec 29 17:12:35 2023'"
      ]
     },
     "execution_count": 22,
     "metadata": {},
     "output_type": "execute_result"
    },
    {
     "data": {
      "text/plain": [
       "119"
      ]
     },
     "execution_count": 22,
     "metadata": {},
     "output_type": "execute_result"
    },
    {
     "name": "stderr",
     "output_type": "stream",
     "text": [
      "\r",
      " 38%|████████████████████████████                                              | 218/574 [5:59:15<15:18:34, 154.82s/it]"
     ]
    },
    {
     "name": "stdout",
     "output_type": "stream",
     "text": [
      "D:\\zwk_data\\p_tif\\17000\\ndwi1_int8_world_17344.tif\n",
      "['D:\\\\zwk_data\\\\p_tif\\\\GRWL_vector_V01.01\\\\SF22.shp'\n",
      " 'D:\\\\zwk_data\\\\p_tif\\\\GRWL_vector_V01.01\\\\SG22.shp']\n"
     ]
    },
    {
     "data": {
      "text/plain": [
       "'Fri Dec 29 17:15:58 2023'"
      ]
     },
     "execution_count": 22,
     "metadata": {},
     "output_type": "execute_result"
    },
    {
     "data": {
      "text/plain": [
       "118"
      ]
     },
     "execution_count": 22,
     "metadata": {},
     "output_type": "execute_result"
    },
    {
     "name": "stderr",
     "output_type": "stream",
     "text": [
      "\r",
      " 38%|████████████████████████████▏                                             | 219/574 [6:02:46<16:55:17, 171.60s/it]"
     ]
    },
    {
     "name": "stdout",
     "output_type": "stream",
     "text": [
      "D:\\zwk_data\\p_tif\\17000\\ndwi1_int8_world_17345.tif\n",
      "['D:\\\\zwk_data\\\\p_tif\\\\GRWL_vector_V01.01\\\\SF22.shp']\n"
     ]
    },
    {
     "data": {
      "text/plain": [
       "'Fri Dec 29 17:19:27 2023'"
      ]
     },
     "execution_count": 22,
     "metadata": {},
     "output_type": "execute_result"
    },
    {
     "data": {
      "text/plain": [
       "119"
      ]
     },
     "execution_count": 22,
     "metadata": {},
     "output_type": "execute_result"
    },
    {
     "name": "stderr",
     "output_type": "stream",
     "text": [
      "\r",
      " 38%|████████████████████████████▎                                             | 220/574 [6:04:52<15:31:24, 157.87s/it]"
     ]
    },
    {
     "name": "stdout",
     "output_type": "stream",
     "text": [
      "D:\\zwk_data\\p_tif\\17000\\ndwi1_int8_world_17346.tif\n",
      "['D:\\\\zwk_data\\\\p_tif\\\\GRWL_vector_V01.01\\\\SF22.shp']\n"
     ]
    },
    {
     "data": {
      "text/plain": [
       "'Fri Dec 29 17:21:34 2023'"
      ]
     },
     "execution_count": 22,
     "metadata": {},
     "output_type": "execute_result"
    },
    {
     "data": {
      "text/plain": [
       "117"
      ]
     },
     "execution_count": 22,
     "metadata": {},
     "output_type": "execute_result"
    },
    {
     "name": "stderr",
     "output_type": "stream",
     "text": [
      "\r",
      " 39%|████████████████████████████▍                                             | 221/574 [6:06:54<14:25:19, 147.08s/it]"
     ]
    },
    {
     "name": "stdout",
     "output_type": "stream",
     "text": [
      "D:\\zwk_data\\p_tif\\17000\\ndwi1_int8_world_17347.tif\n",
      "['D:\\\\zwk_data\\\\p_tif\\\\GRWL_vector_V01.01\\\\SE22.shp'\n",
      " 'D:\\\\zwk_data\\\\p_tif\\\\GRWL_vector_V01.01\\\\SF22.shp']\n"
     ]
    },
    {
     "data": {
      "text/plain": [
       "'Fri Dec 29 17:23:35 2023'"
      ]
     },
     "execution_count": 22,
     "metadata": {},
     "output_type": "execute_result"
    },
    {
     "data": {
      "text/plain": [
       "114"
      ]
     },
     "execution_count": 22,
     "metadata": {},
     "output_type": "execute_result"
    },
    {
     "name": "stderr",
     "output_type": "stream",
     "text": [
      "\r",
      " 39%|████████████████████████████▌                                             | 222/574 [6:10:36<16:35:13, 169.64s/it]"
     ]
    },
    {
     "name": "stdout",
     "output_type": "stream",
     "text": [
      "D:\\zwk_data\\p_tif\\17000\\ndwi1_int8_world_17348.tif\n",
      "['D:\\\\zwk_data\\\\p_tif\\\\GRWL_vector_V01.01\\\\SH22.shp']\n"
     ]
    },
    {
     "data": {
      "text/plain": [
       "'Fri Dec 29 17:27:18 2023'"
      ]
     },
     "execution_count": 22,
     "metadata": {},
     "output_type": "execute_result"
    },
    {
     "data": {
      "text/plain": [
       "120"
      ]
     },
     "execution_count": 22,
     "metadata": {},
     "output_type": "execute_result"
    },
    {
     "name": "stderr",
     "output_type": "stream",
     "text": [
      "\r",
      " 39%|████████████████████████████▋                                             | 223/574 [6:11:54<13:52:00, 142.22s/it]"
     ]
    },
    {
     "name": "stdout",
     "output_type": "stream",
     "text": [
      "D:\\zwk_data\\p_tif\\17000\\ndwi1_int8_world_17349.tif\n",
      "['D:\\\\zwk_data\\\\p_tif\\\\GRWL_vector_V01.01\\\\SG22.shp'\n",
      " 'D:\\\\zwk_data\\\\p_tif\\\\GRWL_vector_V01.01\\\\SH22.shp']\n"
     ]
    },
    {
     "data": {
      "text/plain": [
       "'Fri Dec 29 17:28:35 2023'"
      ]
     },
     "execution_count": 22,
     "metadata": {},
     "output_type": "execute_result"
    },
    {
     "data": {
      "text/plain": [
       "118"
      ]
     },
     "execution_count": 22,
     "metadata": {},
     "output_type": "execute_result"
    },
    {
     "name": "stderr",
     "output_type": "stream",
     "text": [
      "\r",
      " 39%|████████████████████████████▉                                             | 224/574 [6:14:31<14:14:36, 146.50s/it]"
     ]
    },
    {
     "name": "stdout",
     "output_type": "stream",
     "text": [
      "D:\\zwk_data\\p_tif\\17000\\ndwi1_int8_world_17350.tif\n",
      "['D:\\\\zwk_data\\\\p_tif\\\\GRWL_vector_V01.01\\\\SG22.shp'\n",
      " 'D:\\\\zwk_data\\\\p_tif\\\\GRWL_vector_V01.01\\\\SH22.shp']\n"
     ]
    },
    {
     "data": {
      "text/plain": [
       "'Fri Dec 29 17:31:12 2023'"
      ]
     },
     "execution_count": 22,
     "metadata": {},
     "output_type": "execute_result"
    },
    {
     "data": {
      "text/plain": [
       "118"
      ]
     },
     "execution_count": 22,
     "metadata": {},
     "output_type": "execute_result"
    },
    {
     "name": "stderr",
     "output_type": "stream",
     "text": [
      "\r",
      " 39%|█████████████████████████████                                             | 225/574 [6:17:13<14:39:14, 151.16s/it]"
     ]
    },
    {
     "name": "stdout",
     "output_type": "stream",
     "text": [
      "D:\\zwk_data\\p_tif\\17000\\ndwi1_int8_world_17351.tif\n",
      "['D:\\\\zwk_data\\\\p_tif\\\\GRWL_vector_V01.01\\\\SG22.shp']\n"
     ]
    },
    {
     "data": {
      "text/plain": [
       "'Fri Dec 29 17:33:55 2023'"
      ]
     },
     "execution_count": 22,
     "metadata": {},
     "output_type": "execute_result"
    },
    {
     "data": {
      "text/plain": [
       "117"
      ]
     },
     "execution_count": 22,
     "metadata": {},
     "output_type": "execute_result"
    },
    {
     "name": "stderr",
     "output_type": "stream",
     "text": [
      "\r",
      " 39%|█████████████████████████████▏                                            | 226/574 [6:19:09<13:36:46, 140.82s/it]"
     ]
    },
    {
     "name": "stdout",
     "output_type": "stream",
     "text": [
      "D:\\zwk_data\\p_tif\\17000\\ndwi1_int8_world_17352.tif\n",
      "['D:\\\\zwk_data\\\\p_tif\\\\GRWL_vector_V01.01\\\\SG22.shp']\n"
     ]
    },
    {
     "data": {
      "text/plain": [
       "'Fri Dec 29 17:35:51 2023'"
      ]
     },
     "execution_count": 22,
     "metadata": {},
     "output_type": "execute_result"
    },
    {
     "data": {
      "text/plain": [
       "117"
      ]
     },
     "execution_count": 22,
     "metadata": {},
     "output_type": "execute_result"
    },
    {
     "name": "stderr",
     "output_type": "stream",
     "text": [
      "\r",
      " 40%|█████████████████████████████▎                                            | 227/574 [6:21:02<12:44:56, 132.27s/it]"
     ]
    },
    {
     "name": "stdout",
     "output_type": "stream",
     "text": [
      "D:\\zwk_data\\p_tif\\17000\\ndwi1_int8_world_17353.tif\n",
      "['D:\\\\zwk_data\\\\p_tif\\\\GRWL_vector_V01.01\\\\SF22.shp'\n",
      " 'D:\\\\zwk_data\\\\p_tif\\\\GRWL_vector_V01.01\\\\SG22.shp']\n"
     ]
    },
    {
     "data": {
      "text/plain": [
       "'Fri Dec 29 17:37:43 2023'"
      ]
     },
     "execution_count": 22,
     "metadata": {},
     "output_type": "execute_result"
    },
    {
     "data": {
      "text/plain": [
       "118"
      ]
     },
     "execution_count": 22,
     "metadata": {},
     "output_type": "execute_result"
    },
    {
     "name": "stderr",
     "output_type": "stream",
     "text": [
      "\r",
      " 40%|█████████████████████████████▍                                            | 228/574 [6:24:41<15:14:13, 158.53s/it]"
     ]
    },
    {
     "name": "stdout",
     "output_type": "stream",
     "text": [
      "D:\\zwk_data\\p_tif\\17000\\ndwi1_int8_world_17354.tif\n",
      "['D:\\\\zwk_data\\\\p_tif\\\\GRWL_vector_V01.01\\\\SF22.shp'\n",
      " 'D:\\\\zwk_data\\\\p_tif\\\\GRWL_vector_V01.01\\\\SG22.shp']\n"
     ]
    },
    {
     "data": {
      "text/plain": [
       "'Fri Dec 29 17:41:25 2023'"
      ]
     },
     "execution_count": 22,
     "metadata": {},
     "output_type": "execute_result"
    },
    {
     "data": {
      "text/plain": [
       "117"
      ]
     },
     "execution_count": 22,
     "metadata": {},
     "output_type": "execute_result"
    },
    {
     "name": "stderr",
     "output_type": "stream",
     "text": [
      "\r",
      " 40%|█████████████████████████████▌                                            | 229/574 [6:28:39<17:28:25, 182.33s/it]"
     ]
    },
    {
     "name": "stdout",
     "output_type": "stream",
     "text": [
      "D:\\zwk_data\\p_tif\\17000\\ndwi1_int8_world_17355.tif\n",
      "['D:\\\\zwk_data\\\\p_tif\\\\GRWL_vector_V01.01\\\\SF22.shp']\n"
     ]
    },
    {
     "data": {
      "text/plain": [
       "'Fri Dec 29 17:45:21 2023'"
      ]
     },
     "execution_count": 22,
     "metadata": {},
     "output_type": "execute_result"
    },
    {
     "data": {
      "text/plain": [
       "118"
      ]
     },
     "execution_count": 22,
     "metadata": {},
     "output_type": "execute_result"
    },
    {
     "name": "stderr",
     "output_type": "stream",
     "text": [
      "\r",
      " 40%|█████████████████████████████▋                                            | 230/574 [6:30:44<15:45:51, 164.98s/it]"
     ]
    },
    {
     "name": "stdout",
     "output_type": "stream",
     "text": [
      "D:\\zwk_data\\p_tif\\17000\\ndwi1_int8_world_17356.tif\n",
      "['D:\\\\zwk_data\\\\p_tif\\\\GRWL_vector_V01.01\\\\SF22.shp']\n"
     ]
    },
    {
     "data": {
      "text/plain": [
       "'Fri Dec 29 17:47:26 2023'"
      ]
     },
     "execution_count": 22,
     "metadata": {},
     "output_type": "execute_result"
    },
    {
     "data": {
      "text/plain": [
       "112"
      ]
     },
     "execution_count": 22,
     "metadata": {},
     "output_type": "execute_result"
    },
    {
     "name": "stderr",
     "output_type": "stream",
     "text": [
      "\r",
      " 40%|█████████████████████████████▊                                            | 231/574 [6:32:56<14:46:16, 155.03s/it]"
     ]
    },
    {
     "name": "stdout",
     "output_type": "stream",
     "text": [
      "D:\\zwk_data\\p_tif\\17000\\ndwi1_int8_world_17357.tif\n",
      "['D:\\\\zwk_data\\\\p_tif\\\\GRWL_vector_V01.01\\\\SE22.shp'\n",
      " 'D:\\\\zwk_data\\\\p_tif\\\\GRWL_vector_V01.01\\\\SF22.shp']\n"
     ]
    },
    {
     "data": {
      "text/plain": [
       "'Fri Dec 29 17:49:37 2023'"
      ]
     },
     "execution_count": 22,
     "metadata": {},
     "output_type": "execute_result"
    },
    {
     "data": {
      "text/plain": [
       "117"
      ]
     },
     "execution_count": 22,
     "metadata": {},
     "output_type": "execute_result"
    },
    {
     "name": "stderr",
     "output_type": "stream",
     "text": [
      "\r",
      " 40%|█████████████████████████████▉                                            | 232/574 [6:36:21<16:09:55, 170.16s/it]"
     ]
    },
    {
     "name": "stdout",
     "output_type": "stream",
     "text": [
      "D:\\zwk_data\\p_tif\\17000\\ndwi1_int8_world_17358.tif\n",
      "D:\\zwk_data\\p_tif\\GRWL_vector_V01.01\\SH23.shp\n",
      "['D:\\\\zwk_data\\\\p_tif\\\\GRWL_vector_V01.01\\\\SG22.shp'\n",
      " 'D:\\\\zwk_data\\\\p_tif\\\\GRWL_vector_V01.01\\\\SG23.shp'\n",
      " 'D:\\\\zwk_data\\\\p_tif\\\\GRWL_vector_V01.01\\\\SH22.shp']\n"
     ]
    },
    {
     "data": {
      "text/plain": [
       "'Fri Dec 29 17:53:04 2023'"
      ]
     },
     "execution_count": 22,
     "metadata": {},
     "output_type": "execute_result"
    },
    {
     "data": {
      "text/plain": [
       "122"
      ]
     },
     "execution_count": 22,
     "metadata": {},
     "output_type": "execute_result"
    },
    {
     "name": "stderr",
     "output_type": "stream",
     "text": [
      "\r",
      " 41%|██████████████████████████████                                            | 233/574 [6:39:12<16:08:44, 170.45s/it]"
     ]
    },
    {
     "name": "stdout",
     "output_type": "stream",
     "text": [
      "D:\\zwk_data\\p_tif\\17000\\ndwi1_int8_world_17359.tif\n",
      "D:\\zwk_data\\p_tif\\GRWL_vector_V01.01\\SH23.shp\n",
      "['D:\\\\zwk_data\\\\p_tif\\\\GRWL_vector_V01.01\\\\SG22.shp'\n",
      " 'D:\\\\zwk_data\\\\p_tif\\\\GRWL_vector_V01.01\\\\SG23.shp'\n",
      " 'D:\\\\zwk_data\\\\p_tif\\\\GRWL_vector_V01.01\\\\SH22.shp']\n"
     ]
    },
    {
     "data": {
      "text/plain": [
       "'Fri Dec 29 17:55:54 2023'"
      ]
     },
     "execution_count": 22,
     "metadata": {},
     "output_type": "execute_result"
    },
    {
     "data": {
      "text/plain": [
       "118"
      ]
     },
     "execution_count": 22,
     "metadata": {},
     "output_type": "execute_result"
    },
    {
     "name": "stderr",
     "output_type": "stream",
     "text": [
      "\r",
      " 41%|██████████████████████████████▏                                           | 234/574 [6:42:02<16:04:06, 170.14s/it]"
     ]
    },
    {
     "name": "stdout",
     "output_type": "stream",
     "text": [
      "D:\\zwk_data\\p_tif\\17000\\ndwi1_int8_world_17360.tif\n",
      "['D:\\\\zwk_data\\\\p_tif\\\\GRWL_vector_V01.01\\\\SG22.shp'\n",
      " 'D:\\\\zwk_data\\\\p_tif\\\\GRWL_vector_V01.01\\\\SG23.shp']\n"
     ]
    },
    {
     "data": {
      "text/plain": [
       "'Fri Dec 29 17:58:44 2023'"
      ]
     },
     "execution_count": 22,
     "metadata": {},
     "output_type": "execute_result"
    },
    {
     "data": {
      "text/plain": [
       "117"
      ]
     },
     "execution_count": 22,
     "metadata": {},
     "output_type": "execute_result"
    },
    {
     "name": "stderr",
     "output_type": "stream",
     "text": [
      "\r",
      " 41%|██████████████████████████████▎                                           | 235/574 [6:44:06<14:44:17, 156.51s/it]"
     ]
    },
    {
     "name": "stdout",
     "output_type": "stream",
     "text": [
      "D:\\zwk_data\\p_tif\\17000\\ndwi1_int8_world_17361.tif\n",
      "['D:\\\\zwk_data\\\\p_tif\\\\GRWL_vector_V01.01\\\\SG22.shp'\n",
      " 'D:\\\\zwk_data\\\\p_tif\\\\GRWL_vector_V01.01\\\\SG23.shp']\n"
     ]
    },
    {
     "data": {
      "text/plain": [
       "'Fri Dec 29 18:00:48 2023'"
      ]
     },
     "execution_count": 22,
     "metadata": {},
     "output_type": "execute_result"
    },
    {
     "data": {
      "text/plain": [
       "121"
      ]
     },
     "execution_count": 22,
     "metadata": {},
     "output_type": "execute_result"
    },
    {
     "name": "stderr",
     "output_type": "stream",
     "text": [
      "\r",
      " 41%|██████████████████████████████▍                                           | 236/574 [6:46:09<13:44:07, 146.29s/it]"
     ]
    },
    {
     "name": "stdout",
     "output_type": "stream",
     "text": [
      "D:\\zwk_data\\p_tif\\17000\\ndwi1_int8_world_17362.tif\n",
      "['D:\\\\zwk_data\\\\p_tif\\\\GRWL_vector_V01.01\\\\SF22.shp'\n",
      " 'D:\\\\zwk_data\\\\p_tif\\\\GRWL_vector_V01.01\\\\SF23.shp'\n",
      " 'D:\\\\zwk_data\\\\p_tif\\\\GRWL_vector_V01.01\\\\SG22.shp'\n",
      " 'D:\\\\zwk_data\\\\p_tif\\\\GRWL_vector_V01.01\\\\SG23.shp']\n"
     ]
    },
    {
     "data": {
      "text/plain": [
       "'Fri Dec 29 18:02:51 2023'"
      ]
     },
     "execution_count": 22,
     "metadata": {},
     "output_type": "execute_result"
    },
    {
     "data": {
      "text/plain": [
       "118"
      ]
     },
     "execution_count": 22,
     "metadata": {},
     "output_type": "execute_result"
    },
    {
     "name": "stderr",
     "output_type": "stream",
     "text": [
      "\r",
      " 41%|██████████████████████████████▌                                           | 237/574 [6:51:07<17:56:51, 191.73s/it]"
     ]
    },
    {
     "name": "stdout",
     "output_type": "stream",
     "text": [
      "D:\\zwk_data\\p_tif\\17000\\ndwi1_int8_world_17363.tif\n",
      "['D:\\\\zwk_data\\\\p_tif\\\\GRWL_vector_V01.01\\\\SF22.shp'\n",
      " 'D:\\\\zwk_data\\\\p_tif\\\\GRWL_vector_V01.01\\\\SF23.shp'\n",
      " 'D:\\\\zwk_data\\\\p_tif\\\\GRWL_vector_V01.01\\\\SG22.shp'\n",
      " 'D:\\\\zwk_data\\\\p_tif\\\\GRWL_vector_V01.01\\\\SG23.shp']\n"
     ]
    },
    {
     "data": {
      "text/plain": [
       "'Fri Dec 29 18:07:51 2023'"
      ]
     },
     "execution_count": 22,
     "metadata": {},
     "output_type": "execute_result"
    },
    {
     "data": {
      "text/plain": [
       "113"
      ]
     },
     "execution_count": 22,
     "metadata": {},
     "output_type": "execute_result"
    },
    {
     "name": "stderr",
     "output_type": "stream",
     "text": [
      "\r",
      " 41%|██████████████████████████████▋                                           | 238/574 [6:56:21<21:19:15, 228.44s/it]"
     ]
    },
    {
     "name": "stdout",
     "output_type": "stream",
     "text": [
      "D:\\zwk_data\\p_tif\\17000\\ndwi1_int8_world_17364.tif\n",
      "['D:\\\\zwk_data\\\\p_tif\\\\GRWL_vector_V01.01\\\\SF22.shp'\n",
      " 'D:\\\\zwk_data\\\\p_tif\\\\GRWL_vector_V01.01\\\\SF23.shp']\n"
     ]
    },
    {
     "data": {
      "text/plain": [
       "'Fri Dec 29 18:13:06 2023'"
      ]
     },
     "execution_count": 22,
     "metadata": {},
     "output_type": "execute_result"
    },
    {
     "data": {
      "text/plain": [
       "116"
      ]
     },
     "execution_count": 22,
     "metadata": {},
     "output_type": "execute_result"
    },
    {
     "name": "stderr",
     "output_type": "stream",
     "text": [
      "\r",
      " 42%|██████████████████████████████▊                                           | 239/574 [6:59:56<20:54:18, 224.65s/it]"
     ]
    },
    {
     "name": "stdout",
     "output_type": "stream",
     "text": [
      "D:\\zwk_data\\p_tif\\17000\\ndwi1_int8_world_17365.tif\n",
      "['D:\\\\zwk_data\\\\p_tif\\\\GRWL_vector_V01.01\\\\SF22.shp'\n",
      " 'D:\\\\zwk_data\\\\p_tif\\\\GRWL_vector_V01.01\\\\SF23.shp']\n"
     ]
    },
    {
     "data": {
      "text/plain": [
       "'Fri Dec 29 18:16:39 2023'"
      ]
     },
     "execution_count": 22,
     "metadata": {},
     "output_type": "execute_result"
    },
    {
     "data": {
      "text/plain": [
       "118"
      ]
     },
     "execution_count": 22,
     "metadata": {},
     "output_type": "execute_result"
    },
    {
     "name": "stderr",
     "output_type": "stream",
     "text": [
      "\r",
      " 42%|██████████████████████████████▉                                           | 240/574 [7:03:28<20:28:10, 220.63s/it]"
     ]
    },
    {
     "name": "stdout",
     "output_type": "stream",
     "text": [
      "D:\\zwk_data\\p_tif\\17000\\ndwi1_int8_world_17366.tif\n",
      "['D:\\\\zwk_data\\\\p_tif\\\\GRWL_vector_V01.01\\\\SE22.shp'\n",
      " 'D:\\\\zwk_data\\\\p_tif\\\\GRWL_vector_V01.01\\\\SE23.shp'\n",
      " 'D:\\\\zwk_data\\\\p_tif\\\\GRWL_vector_V01.01\\\\SF22.shp'\n",
      " 'D:\\\\zwk_data\\\\p_tif\\\\GRWL_vector_V01.01\\\\SF23.shp']\n"
     ]
    },
    {
     "data": {
      "text/plain": [
       "'Fri Dec 29 18:20:10 2023'"
      ]
     },
     "execution_count": 22,
     "metadata": {},
     "output_type": "execute_result"
    },
    {
     "data": {
      "text/plain": [
       "117"
      ]
     },
     "execution_count": 22,
     "metadata": {},
     "output_type": "execute_result"
    },
    {
     "name": "stderr",
     "output_type": "stream",
     "text": [
      "\r",
      " 42%|███████████████████████████████                                           | 241/574 [7:10:25<25:52:32, 279.74s/it]"
     ]
    },
    {
     "name": "stdout",
     "output_type": "stream",
     "text": [
      "D:\\zwk_data\\p_tif\\17000\\ndwi1_int8_world_17367.tif\n",
      "['D:\\\\zwk_data\\\\p_tif\\\\GRWL_vector_V01.01\\\\SG22.shp'\n",
      " 'D:\\\\zwk_data\\\\p_tif\\\\GRWL_vector_V01.01\\\\SG23.shp']\n"
     ]
    },
    {
     "data": {
      "text/plain": [
       "'Fri Dec 29 18:27:14 2023'"
      ]
     },
     "execution_count": 22,
     "metadata": {},
     "output_type": "execute_result"
    },
    {
     "data": {
      "text/plain": [
       "114"
      ]
     },
     "execution_count": 22,
     "metadata": {},
     "output_type": "execute_result"
    },
    {
     "name": "stderr",
     "output_type": "stream",
     "text": [
      "\r",
      " 42%|███████████████████████████████▏                                          | 242/574 [7:12:52<22:07:30, 239.91s/it]"
     ]
    },
    {
     "name": "stdout",
     "output_type": "stream",
     "text": [
      "D:\\zwk_data\\p_tif\\17000\\ndwi1_int8_world_17368.tif\n",
      "['D:\\\\zwk_data\\\\p_tif\\\\GRWL_vector_V01.01\\\\SF22.shp'\n",
      " 'D:\\\\zwk_data\\\\p_tif\\\\GRWL_vector_V01.01\\\\SF23.shp'\n",
      " 'D:\\\\zwk_data\\\\p_tif\\\\GRWL_vector_V01.01\\\\SG22.shp'\n",
      " 'D:\\\\zwk_data\\\\p_tif\\\\GRWL_vector_V01.01\\\\SG23.shp']\n"
     ]
    },
    {
     "data": {
      "text/plain": [
       "'Fri Dec 29 18:29:35 2023'"
      ]
     },
     "execution_count": 22,
     "metadata": {},
     "output_type": "execute_result"
    },
    {
     "data": {
      "text/plain": [
       "119"
      ]
     },
     "execution_count": 22,
     "metadata": {},
     "output_type": "execute_result"
    },
    {
     "name": "stderr",
     "output_type": "stream",
     "text": [
      "\r",
      " 42%|███████████████████████████████▎                                          | 243/574 [7:17:48<23:36:03, 256.69s/it]"
     ]
    },
    {
     "name": "stdout",
     "output_type": "stream",
     "text": [
      "D:\\zwk_data\\p_tif\\17000\\ndwi1_int8_world_17369.tif\n",
      "['D:\\\\zwk_data\\\\p_tif\\\\GRWL_vector_V01.01\\\\SF22.shp'\n",
      " 'D:\\\\zwk_data\\\\p_tif\\\\GRWL_vector_V01.01\\\\SF23.shp'\n",
      " 'D:\\\\zwk_data\\\\p_tif\\\\GRWL_vector_V01.01\\\\SG22.shp'\n",
      " 'D:\\\\zwk_data\\\\p_tif\\\\GRWL_vector_V01.01\\\\SG23.shp']\n"
     ]
    },
    {
     "data": {
      "text/plain": [
       "'Fri Dec 29 18:34:32 2023'"
      ]
     },
     "execution_count": 22,
     "metadata": {},
     "output_type": "execute_result"
    },
    {
     "data": {
      "text/plain": [
       "116"
      ]
     },
     "execution_count": 22,
     "metadata": {},
     "output_type": "execute_result"
    },
    {
     "name": "stderr",
     "output_type": "stream",
     "text": [
      "\r",
      " 43%|███████████████████████████████▍                                          | 244/574 [7:22:58<24:58:43, 272.49s/it]"
     ]
    },
    {
     "name": "stdout",
     "output_type": "stream",
     "text": [
      "D:\\zwk_data\\p_tif\\17000\\ndwi1_int8_world_17370.tif\n",
      "['D:\\\\zwk_data\\\\p_tif\\\\GRWL_vector_V01.01\\\\SF22.shp'\n",
      " 'D:\\\\zwk_data\\\\p_tif\\\\GRWL_vector_V01.01\\\\SF23.shp']\n"
     ]
    },
    {
     "data": {
      "text/plain": [
       "'Fri Dec 29 18:39:44 2023'"
      ]
     },
     "execution_count": 22,
     "metadata": {},
     "output_type": "execute_result"
    },
    {
     "data": {
      "text/plain": [
       "117"
      ]
     },
     "execution_count": 22,
     "metadata": {},
     "output_type": "execute_result"
    },
    {
     "name": "stderr",
     "output_type": "stream",
     "text": [
      "\r",
      " 43%|███████████████████████████████▌                                          | 245/574 [7:26:28<23:12:52, 254.02s/it]"
     ]
    },
    {
     "name": "stdout",
     "output_type": "stream",
     "text": [
      "D:\\zwk_data\\p_tif\\17000\\ndwi1_int8_world_17371.tif\n",
      "['D:\\\\zwk_data\\\\p_tif\\\\GRWL_vector_V01.01\\\\SF22.shp'\n",
      " 'D:\\\\zwk_data\\\\p_tif\\\\GRWL_vector_V01.01\\\\SF23.shp']\n"
     ]
    },
    {
     "data": {
      "text/plain": [
       "'Fri Dec 29 18:43:11 2023'"
      ]
     },
     "execution_count": 22,
     "metadata": {},
     "output_type": "execute_result"
    },
    {
     "data": {
      "text/plain": [
       "117"
      ]
     },
     "execution_count": 22,
     "metadata": {},
     "output_type": "execute_result"
    },
    {
     "name": "stderr",
     "output_type": "stream",
     "text": [
      "\r",
      " 43%|███████████████████████████████▋                                          | 246/574 [7:29:58<21:56:25, 240.81s/it]"
     ]
    },
    {
     "name": "stdout",
     "output_type": "stream",
     "text": [
      "D:\\zwk_data\\p_tif\\17000\\ndwi1_int8_world_17372.tif\n",
      "['D:\\\\zwk_data\\\\p_tif\\\\GRWL_vector_V01.01\\\\SE22.shp'\n",
      " 'D:\\\\zwk_data\\\\p_tif\\\\GRWL_vector_V01.01\\\\SE23.shp'\n",
      " 'D:\\\\zwk_data\\\\p_tif\\\\GRWL_vector_V01.01\\\\SF22.shp'\n",
      " 'D:\\\\zwk_data\\\\p_tif\\\\GRWL_vector_V01.01\\\\SF23.shp']\n"
     ]
    },
    {
     "data": {
      "text/plain": [
       "'Fri Dec 29 18:46:41 2023'"
      ]
     },
     "execution_count": 22,
     "metadata": {},
     "output_type": "execute_result"
    },
    {
     "data": {
      "text/plain": [
       "114"
      ]
     },
     "execution_count": 22,
     "metadata": {},
     "output_type": "execute_result"
    },
    {
     "name": "stderr",
     "output_type": "stream",
     "text": [
      "\r",
      " 43%|███████████████████████████████▊                                          | 247/574 [7:36:50<26:31:46, 292.07s/it]"
     ]
    },
    {
     "name": "stdout",
     "output_type": "stream",
     "text": [
      "D:\\zwk_data\\p_tif\\17000\\ndwi1_int8_world_17373.tif\n",
      "['D:\\\\zwk_data\\\\p_tif\\\\GRWL_vector_V01.01\\\\SF23.shp'\n",
      " 'D:\\\\zwk_data\\\\p_tif\\\\GRWL_vector_V01.01\\\\SG23.shp']\n"
     ]
    },
    {
     "data": {
      "text/plain": [
       "'Fri Dec 29 18:53:38 2023'"
      ]
     },
     "execution_count": 22,
     "metadata": {},
     "output_type": "execute_result"
    },
    {
     "data": {
      "text/plain": [
       "115"
      ]
     },
     "execution_count": 22,
     "metadata": {},
     "output_type": "execute_result"
    },
    {
     "name": "stderr",
     "output_type": "stream",
     "text": [
      "\r",
      " 43%|███████████████████████████████▉                                          | 248/574 [7:38:55<21:54:15, 241.89s/it]"
     ]
    },
    {
     "name": "stdout",
     "output_type": "stream",
     "text": [
      "D:\\zwk_data\\p_tif\\17000\\ndwi1_int8_world_17374.tif\n",
      "['D:\\\\zwk_data\\\\p_tif\\\\GRWL_vector_V01.01\\\\SF23.shp'\n",
      " 'D:\\\\zwk_data\\\\p_tif\\\\GRWL_vector_V01.01\\\\SG23.shp']\n"
     ]
    },
    {
     "data": {
      "text/plain": [
       "'Fri Dec 29 18:55:37 2023'"
      ]
     },
     "execution_count": 22,
     "metadata": {},
     "output_type": "execute_result"
    },
    {
     "data": {
      "text/plain": [
       "117"
      ]
     },
     "execution_count": 22,
     "metadata": {},
     "output_type": "execute_result"
    },
    {
     "name": "stderr",
     "output_type": "stream",
     "text": [
      "\r",
      " 43%|████████████████████████████████                                          | 249/574 [7:40:37<18:03:12, 199.98s/it]"
     ]
    },
    {
     "name": "stdout",
     "output_type": "stream",
     "text": [
      "D:\\zwk_data\\p_tif\\17000\\ndwi1_int8_world_17375.tif\n",
      "['D:\\\\zwk_data\\\\p_tif\\\\GRWL_vector_V01.01\\\\SF23.shp']\n"
     ]
    },
    {
     "data": {
      "text/plain": [
       "'Fri Dec 29 18:57:18 2023'"
      ]
     },
     "execution_count": 22,
     "metadata": {},
     "output_type": "execute_result"
    },
    {
     "data": {
      "text/plain": [
       "114"
      ]
     },
     "execution_count": 22,
     "metadata": {},
     "output_type": "execute_result"
    },
    {
     "name": "stderr",
     "output_type": "stream",
     "text": [
      "\r",
      " 44%|████████████████████████████████▏                                         | 250/574 [7:42:11<15:08:00, 168.15s/it]"
     ]
    },
    {
     "name": "stdout",
     "output_type": "stream",
     "text": [
      "D:\\zwk_data\\p_tif\\17000\\ndwi1_int8_world_17376.tif\n",
      "['D:\\\\zwk_data\\\\p_tif\\\\GRWL_vector_V01.01\\\\SF23.shp']\n"
     ]
    },
    {
     "data": {
      "text/plain": [
       "'Fri Dec 29 18:58:52 2023'"
      ]
     },
     "execution_count": 22,
     "metadata": {},
     "output_type": "execute_result"
    },
    {
     "data": {
      "text/plain": [
       "115"
      ]
     },
     "execution_count": 22,
     "metadata": {},
     "output_type": "execute_result"
    },
    {
     "name": "stderr",
     "output_type": "stream",
     "text": [
      "\r",
      " 44%|████████████████████████████████▎                                         | 251/574 [7:43:49<13:12:16, 147.17s/it]"
     ]
    },
    {
     "name": "stdout",
     "output_type": "stream",
     "text": [
      "D:\\zwk_data\\p_tif\\17000\\ndwi1_int8_world_17377.tif\n",
      "['D:\\\\zwk_data\\\\p_tif\\\\GRWL_vector_V01.01\\\\SE23.shp'\n",
      " 'D:\\\\zwk_data\\\\p_tif\\\\GRWL_vector_V01.01\\\\SF23.shp']\n"
     ]
    },
    {
     "data": {
      "text/plain": [
       "'Fri Dec 29 19:00:30 2023'"
      ]
     },
     "execution_count": 22,
     "metadata": {},
     "output_type": "execute_result"
    },
    {
     "data": {
      "text/plain": [
       "115"
      ]
     },
     "execution_count": 22,
     "metadata": {},
     "output_type": "execute_result"
    },
    {
     "name": "stderr",
     "output_type": "stream",
     "text": [
      "\r",
      " 44%|████████████████████████████████▍                                         | 252/574 [7:47:03<14:24:52, 161.16s/it]"
     ]
    },
    {
     "name": "stdout",
     "output_type": "stream",
     "text": [
      "D:\\zwk_data\\p_tif\\17000\\ndwi1_int8_world_17378.tif\n",
      "['D:\\\\zwk_data\\\\p_tif\\\\GRWL_vector_V01.01\\\\SF23.shp'\n",
      " 'D:\\\\zwk_data\\\\p_tif\\\\GRWL_vector_V01.01\\\\SG23.shp']\n"
     ]
    },
    {
     "data": {
      "text/plain": [
       "'Fri Dec 29 19:03:47 2023'"
      ]
     },
     "execution_count": 22,
     "metadata": {},
     "output_type": "execute_result"
    },
    {
     "data": {
      "text/plain": [
       "101"
      ]
     },
     "execution_count": 22,
     "metadata": {},
     "output_type": "execute_result"
    },
    {
     "name": "stderr",
     "output_type": "stream",
     "text": [
      "\r",
      " 44%|████████████████████████████████▌                                         | 253/574 [7:48:58<13:07:40, 147.23s/it]"
     ]
    },
    {
     "name": "stdout",
     "output_type": "stream",
     "text": [
      "D:\\zwk_data\\p_tif\\17000\\ndwi1_int8_world_17379.tif\n",
      "['D:\\\\zwk_data\\\\p_tif\\\\GRWL_vector_V01.01\\\\SF23.shp'\n",
      " 'D:\\\\zwk_data\\\\p_tif\\\\GRWL_vector_V01.01\\\\SG23.shp']\n"
     ]
    },
    {
     "data": {
      "text/plain": [
       "'Fri Dec 29 19:05:40 2023'"
      ]
     },
     "execution_count": 22,
     "metadata": {},
     "output_type": "execute_result"
    },
    {
     "data": {
      "text/plain": [
       "116"
      ]
     },
     "execution_count": 22,
     "metadata": {},
     "output_type": "execute_result"
    },
    {
     "name": "stderr",
     "output_type": "stream",
     "text": [
      "\r",
      " 44%|████████████████████████████████▋                                         | 254/574 [7:50:40<11:53:01, 133.69s/it]"
     ]
    },
    {
     "name": "stdout",
     "output_type": "stream",
     "text": [
      "D:\\zwk_data\\p_tif\\17000\\ndwi1_int8_world_17380.tif\n",
      "['D:\\\\zwk_data\\\\p_tif\\\\GRWL_vector_V01.01\\\\SF23.shp']\n"
     ]
    },
    {
     "data": {
      "text/plain": [
       "'Fri Dec 29 19:07:21 2023'"
      ]
     },
     "execution_count": 22,
     "metadata": {},
     "output_type": "execute_result"
    },
    {
     "data": {
      "text/plain": [
       "117"
      ]
     },
     "execution_count": 22,
     "metadata": {},
     "output_type": "execute_result"
    },
    {
     "name": "stderr",
     "output_type": "stream",
     "text": [
      "\r",
      " 44%|████████████████████████████████▊                                         | 255/574 [7:52:15<10:48:54, 122.05s/it]"
     ]
    },
    {
     "name": "stdout",
     "output_type": "stream",
     "text": [
      "D:\\zwk_data\\p_tif\\17000\\ndwi1_int8_world_17381.tif\n",
      "['D:\\\\zwk_data\\\\p_tif\\\\GRWL_vector_V01.01\\\\SF23.shp']\n"
     ]
    },
    {
     "data": {
      "text/plain": [
       "'Fri Dec 29 19:08:56 2023'"
      ]
     },
     "execution_count": 22,
     "metadata": {},
     "output_type": "execute_result"
    },
    {
     "data": {
      "text/plain": [
       "117"
      ]
     },
     "execution_count": 22,
     "metadata": {},
     "output_type": "execute_result"
    },
    {
     "name": "stderr",
     "output_type": "stream",
     "text": [
      "\r",
      " 45%|█████████████████████████████████                                         | 256/574 [7:53:56<10:13:49, 115.82s/it]"
     ]
    },
    {
     "name": "stdout",
     "output_type": "stream",
     "text": [
      "D:\\zwk_data\\p_tif\\17000\\ndwi1_int8_world_17382.tif\n",
      "['D:\\\\zwk_data\\\\p_tif\\\\GRWL_vector_V01.01\\\\SE23.shp'\n",
      " 'D:\\\\zwk_data\\\\p_tif\\\\GRWL_vector_V01.01\\\\SF23.shp']\n"
     ]
    },
    {
     "data": {
      "text/plain": [
       "'Fri Dec 29 19:10:37 2023'"
      ]
     },
     "execution_count": 22,
     "metadata": {},
     "output_type": "execute_result"
    },
    {
     "data": {
      "text/plain": [
       "113"
      ]
     },
     "execution_count": 22,
     "metadata": {},
     "output_type": "execute_result"
    },
    {
     "name": "stderr",
     "output_type": "stream",
     "text": [
      "\r",
      " 45%|█████████████████████████████████▏                                        | 257/574 [7:57:10<12:15:50, 139.28s/it]"
     ]
    },
    {
     "name": "stdout",
     "output_type": "stream",
     "text": [
      "D:\\zwk_data\\p_tif\\17000\\ndwi1_int8_world_17383.tif\n",
      "['D:\\\\zwk_data\\\\p_tif\\\\GRWL_vector_V01.01\\\\SF23.shp'\n",
      " 'D:\\\\zwk_data\\\\p_tif\\\\GRWL_vector_V01.01\\\\SG23.shp']\n"
     ]
    },
    {
     "data": {
      "text/plain": [
       "'Fri Dec 29 19:13:52 2023'"
      ]
     },
     "execution_count": 22,
     "metadata": {},
     "output_type": "execute_result"
    },
    {
     "data": {
      "text/plain": [
       "113"
      ]
     },
     "execution_count": 22,
     "metadata": {},
     "output_type": "execute_result"
    },
    {
     "name": "stderr",
     "output_type": "stream",
     "text": [
      "\r",
      " 45%|█████████████████████████████████▎                                        | 258/574 [7:59:08<11:39:18, 132.78s/it]"
     ]
    },
    {
     "name": "stdout",
     "output_type": "stream",
     "text": [
      "D:\\zwk_data\\p_tif\\17000\\ndwi1_int8_world_17384.tif\n",
      "['D:\\\\zwk_data\\\\p_tif\\\\GRWL_vector_V01.01\\\\SF23.shp']\n"
     ]
    },
    {
     "data": {
      "text/plain": [
       "'Fri Dec 29 19:15:50 2023'"
      ]
     },
     "execution_count": 22,
     "metadata": {},
     "output_type": "execute_result"
    },
    {
     "data": {
      "text/plain": [
       "118"
      ]
     },
     "execution_count": 22,
     "metadata": {},
     "output_type": "execute_result"
    },
    {
     "name": "stderr",
     "output_type": "stream",
     "text": [
      "\r",
      " 45%|█████████████████████████████████▍                                        | 259/574 [8:00:45<10:40:49, 122.06s/it]"
     ]
    },
    {
     "name": "stdout",
     "output_type": "stream",
     "text": [
      "D:\\zwk_data\\p_tif\\17000\\ndwi1_int8_world_17385.tif\n",
      "['D:\\\\zwk_data\\\\p_tif\\\\GRWL_vector_V01.01\\\\SF23.shp']\n"
     ]
    },
    {
     "data": {
      "text/plain": [
       "'Fri Dec 29 19:17:26 2023'"
      ]
     },
     "execution_count": 22,
     "metadata": {},
     "output_type": "execute_result"
    },
    {
     "data": {
      "text/plain": [
       "118"
      ]
     },
     "execution_count": 22,
     "metadata": {},
     "output_type": "execute_result"
    },
    {
     "name": "stderr",
     "output_type": "stream",
     "text": [
      "\r",
      " 45%|█████████████████████████████████▉                                         | 260/574 [8:02:22<9:59:21, 114.53s/it]"
     ]
    },
    {
     "name": "stdout",
     "output_type": "stream",
     "text": [
      "D:\\zwk_data\\p_tif\\17000\\ndwi1_int8_world_17386.tif\n",
      "['D:\\\\zwk_data\\\\p_tif\\\\GRWL_vector_V01.01\\\\SE23.shp'\n",
      " 'D:\\\\zwk_data\\\\p_tif\\\\GRWL_vector_V01.01\\\\SF23.shp']\n"
     ]
    },
    {
     "data": {
      "text/plain": [
       "'Fri Dec 29 19:19:03 2023'"
      ]
     },
     "execution_count": 22,
     "metadata": {},
     "output_type": "execute_result"
    },
    {
     "data": {
      "text/plain": [
       "117"
      ]
     },
     "execution_count": 22,
     "metadata": {},
     "output_type": "execute_result"
    },
    {
     "name": "stderr",
     "output_type": "stream",
     "text": [
      "\r",
      " 45%|█████████████████████████████████▋                                        | 261/574 [8:05:33<11:57:55, 137.62s/it]"
     ]
    },
    {
     "name": "stdout",
     "output_type": "stream",
     "text": [
      "D:\\zwk_data\\p_tif\\17000\\ndwi1_int8_world_17387.tif\n",
      "['D:\\\\zwk_data\\\\p_tif\\\\GRWL_vector_V01.01\\\\SF23.shp'\n",
      " 'D:\\\\zwk_data\\\\p_tif\\\\GRWL_vector_V01.01\\\\SG23.shp']\n"
     ]
    },
    {
     "data": {
      "text/plain": [
       "'Fri Dec 29 19:22:15 2023'"
      ]
     },
     "execution_count": 22,
     "metadata": {},
     "output_type": "execute_result"
    },
    {
     "data": {
      "text/plain": [
       "114"
      ]
     },
     "execution_count": 22,
     "metadata": {},
     "output_type": "execute_result"
    },
    {
     "name": "stderr",
     "output_type": "stream",
     "text": [
      "\r",
      " 46%|█████████████████████████████████▊                                        | 262/574 [8:07:26<11:16:30, 130.10s/it]"
     ]
    },
    {
     "name": "stdout",
     "output_type": "stream",
     "text": [
      "D:\\zwk_data\\p_tif\\17000\\ndwi1_int8_world_17388.tif\n",
      "['D:\\\\zwk_data\\\\p_tif\\\\GRWL_vector_V01.01\\\\SF23.shp']\n"
     ]
    },
    {
     "data": {
      "text/plain": [
       "'Fri Dec 29 19:24:08 2023'"
      ]
     },
     "execution_count": 22,
     "metadata": {},
     "output_type": "execute_result"
    },
    {
     "data": {
      "text/plain": [
       "119"
      ]
     },
     "execution_count": 22,
     "metadata": {},
     "output_type": "execute_result"
    },
    {
     "name": "stderr",
     "output_type": "stream",
     "text": [
      "\r",
      " 46%|█████████████████████████████████▉                                        | 263/574 [8:09:03<10:22:54, 120.18s/it]"
     ]
    },
    {
     "name": "stdout",
     "output_type": "stream",
     "text": [
      "D:\\zwk_data\\p_tif\\17000\\ndwi1_int8_world_17389.tif\n",
      "['D:\\\\zwk_data\\\\p_tif\\\\GRWL_vector_V01.01\\\\SF23.shp']\n"
     ]
    },
    {
     "data": {
      "text/plain": [
       "'Fri Dec 29 19:25:44 2023'"
      ]
     },
     "execution_count": 22,
     "metadata": {},
     "output_type": "execute_result"
    },
    {
     "data": {
      "text/plain": [
       "115"
      ]
     },
     "execution_count": 22,
     "metadata": {},
     "output_type": "execute_result"
    },
    {
     "name": "stderr",
     "output_type": "stream",
     "text": [
      "\r",
      " 46%|██████████████████████████████████▍                                        | 264/574 [8:10:39<9:43:38, 112.96s/it]"
     ]
    },
    {
     "name": "stdout",
     "output_type": "stream",
     "text": [
      "D:\\zwk_data\\p_tif\\17000\\ndwi1_int8_world_17390.tif\n",
      "['D:\\\\zwk_data\\\\p_tif\\\\GRWL_vector_V01.01\\\\SE23.shp'\n",
      " 'D:\\\\zwk_data\\\\p_tif\\\\GRWL_vector_V01.01\\\\SF23.shp']\n"
     ]
    },
    {
     "data": {
      "text/plain": [
       "'Fri Dec 29 19:27:20 2023'"
      ]
     },
     "execution_count": 22,
     "metadata": {},
     "output_type": "execute_result"
    },
    {
     "data": {
      "text/plain": [
       "118"
      ]
     },
     "execution_count": 22,
     "metadata": {},
     "output_type": "execute_result"
    },
    {
     "name": "stderr",
     "output_type": "stream",
     "text": [
      "\r",
      " 46%|██████████████████████████████████▏                                       | 265/574 [8:13:50<11:43:16, 136.56s/it]"
     ]
    },
    {
     "name": "stdout",
     "output_type": "stream",
     "text": [
      "D:\\zwk_data\\p_tif\\17000\\ndwi1_int8_world_17391.tif\n",
      "D:\\zwk_data\\p_tif\\GRWL_vector_V01.01\\SG24.shp\n",
      "['D:\\\\zwk_data\\\\p_tif\\\\GRWL_vector_V01.01\\\\SF23.shp'\n",
      " 'D:\\\\zwk_data\\\\p_tif\\\\GRWL_vector_V01.01\\\\SF24.shp'\n",
      " 'D:\\\\zwk_data\\\\p_tif\\\\GRWL_vector_V01.01\\\\SG23.shp']\n"
     ]
    },
    {
     "data": {
      "text/plain": [
       "'Fri Dec 29 19:30:33 2023'"
      ]
     },
     "execution_count": 22,
     "metadata": {},
     "output_type": "execute_result"
    },
    {
     "data": {
      "text/plain": [
       "102"
      ]
     },
     "execution_count": 22,
     "metadata": {},
     "output_type": "execute_result"
    },
    {
     "name": "stderr",
     "output_type": "stream",
     "text": [
      "\r",
      " 46%|██████████████████████████████████▎                                       | 266/574 [8:15:48<11:11:01, 130.72s/it]"
     ]
    },
    {
     "name": "stdout",
     "output_type": "stream",
     "text": [
      "D:\\zwk_data\\p_tif\\17000\\ndwi1_int8_world_17392.tif\n",
      "['D:\\\\zwk_data\\\\p_tif\\\\GRWL_vector_V01.01\\\\SF23.shp'\n",
      " 'D:\\\\zwk_data\\\\p_tif\\\\GRWL_vector_V01.01\\\\SF24.shp']\n"
     ]
    },
    {
     "data": {
      "text/plain": [
       "'Fri Dec 29 19:32:30 2023'"
      ]
     },
     "execution_count": 22,
     "metadata": {},
     "output_type": "execute_result"
    },
    {
     "data": {
      "text/plain": [
       "119"
      ]
     },
     "execution_count": 22,
     "metadata": {},
     "output_type": "execute_result"
    },
    {
     "name": "stderr",
     "output_type": "stream",
     "text": [
      "\r",
      " 47%|██████████████████████████████████▍                                       | 267/574 [8:17:32<10:27:57, 122.73s/it]"
     ]
    },
    {
     "name": "stdout",
     "output_type": "stream",
     "text": [
      "D:\\zwk_data\\p_tif\\17000\\ndwi1_int8_world_17393.tif\n",
      "['D:\\\\zwk_data\\\\p_tif\\\\GRWL_vector_V01.01\\\\SF23.shp'\n",
      " 'D:\\\\zwk_data\\\\p_tif\\\\GRWL_vector_V01.01\\\\SF24.shp']\n"
     ]
    },
    {
     "data": {
      "text/plain": [
       "'Fri Dec 29 19:34:13 2023'"
      ]
     },
     "execution_count": 22,
     "metadata": {},
     "output_type": "execute_result"
    },
    {
     "data": {
      "text/plain": [
       "119"
      ]
     },
     "execution_count": 22,
     "metadata": {},
     "output_type": "execute_result"
    },
    {
     "name": "stderr",
     "output_type": "stream",
     "text": [
      "\r",
      " 47%|██████████████████████████████████▌                                       | 268/574 [8:19:18<10:00:43, 117.79s/it]"
     ]
    },
    {
     "name": "stdout",
     "output_type": "stream",
     "text": [
      "D:\\zwk_data\\p_tif\\17000\\ndwi1_int8_world_17394.tif\n",
      "['D:\\\\zwk_data\\\\p_tif\\\\GRWL_vector_V01.01\\\\SE23.shp'\n",
      " 'D:\\\\zwk_data\\\\p_tif\\\\GRWL_vector_V01.01\\\\SE24.shp'\n",
      " 'D:\\\\zwk_data\\\\p_tif\\\\GRWL_vector_V01.01\\\\SF23.shp'\n",
      " 'D:\\\\zwk_data\\\\p_tif\\\\GRWL_vector_V01.01\\\\SF24.shp']\n"
     ]
    },
    {
     "data": {
      "text/plain": [
       "'Fri Dec 29 19:36:00 2023'"
      ]
     },
     "execution_count": 22,
     "metadata": {},
     "output_type": "execute_result"
    },
    {
     "data": {
      "text/plain": [
       "118"
      ]
     },
     "execution_count": 22,
     "metadata": {},
     "output_type": "execute_result"
    },
    {
     "name": "stderr",
     "output_type": "stream",
     "text": [
      "\r",
      " 47%|██████████████████████████████████▋                                       | 269/574 [8:23:09<12:51:37, 151.80s/it]"
     ]
    },
    {
     "name": "stdout",
     "output_type": "stream",
     "text": [
      "D:\\zwk_data\\p_tif\\17000\\ndwi1_int8_world_17395.tif\n",
      "D:\\zwk_data\\p_tif\\GRWL_vector_V01.01\\SG24.shp\n",
      "['D:\\\\zwk_data\\\\p_tif\\\\GRWL_vector_V01.01\\\\SF23.shp'\n",
      " 'D:\\\\zwk_data\\\\p_tif\\\\GRWL_vector_V01.01\\\\SF24.shp'\n",
      " 'D:\\\\zwk_data\\\\p_tif\\\\GRWL_vector_V01.01\\\\SG23.shp']\n"
     ]
    },
    {
     "data": {
      "text/plain": [
       "'Fri Dec 29 19:39:54 2023'"
      ]
     },
     "execution_count": 22,
     "metadata": {},
     "output_type": "execute_result"
    },
    {
     "data": {
      "text/plain": [
       "98"
      ]
     },
     "execution_count": 22,
     "metadata": {},
     "output_type": "execute_result"
    },
    {
     "name": "stderr",
     "output_type": "stream",
     "text": [
      "\r",
      " 47%|██████████████████████████████████▊                                       | 270/574 [8:25:11<12:03:39, 142.83s/it]"
     ]
    },
    {
     "name": "stdout",
     "output_type": "stream",
     "text": [
      "D:\\zwk_data\\p_tif\\17000\\ndwi1_int8_world_17396.tif\n",
      "['D:\\\\zwk_data\\\\p_tif\\\\GRWL_vector_V01.01\\\\SF23.shp'\n",
      " 'D:\\\\zwk_data\\\\p_tif\\\\GRWL_vector_V01.01\\\\SF24.shp']\n"
     ]
    },
    {
     "data": {
      "text/plain": [
       "'Fri Dec 29 19:41:53 2023'"
      ]
     },
     "execution_count": 22,
     "metadata": {},
     "output_type": "execute_result"
    },
    {
     "data": {
      "text/plain": [
       "115"
      ]
     },
     "execution_count": 22,
     "metadata": {},
     "output_type": "execute_result"
    },
    {
     "name": "stderr",
     "output_type": "stream",
     "text": [
      "\r",
      " 47%|██████████████████████████████████▉                                       | 271/574 [8:26:56<11:03:22, 131.36s/it]"
     ]
    },
    {
     "name": "stdout",
     "output_type": "stream",
     "text": [
      "D:\\zwk_data\\p_tif\\17000\\ndwi1_int8_world_17397.tif\n",
      "['D:\\\\zwk_data\\\\p_tif\\\\GRWL_vector_V01.01\\\\SF23.shp'\n",
      " 'D:\\\\zwk_data\\\\p_tif\\\\GRWL_vector_V01.01\\\\SF24.shp']\n"
     ]
    },
    {
     "data": {
      "text/plain": [
       "'Fri Dec 29 19:43:37 2023'"
      ]
     },
     "execution_count": 22,
     "metadata": {},
     "output_type": "execute_result"
    },
    {
     "data": {
      "text/plain": [
       "119"
      ]
     },
     "execution_count": 22,
     "metadata": {},
     "output_type": "execute_result"
    },
    {
     "name": "stderr",
     "output_type": "stream",
     "text": [
      "\r",
      " 47%|███████████████████████████████████                                       | 272/574 [8:28:42<10:23:34, 123.89s/it]"
     ]
    },
    {
     "name": "stdout",
     "output_type": "stream",
     "text": [
      "D:\\zwk_data\\p_tif\\17000\\ndwi1_int8_world_17398.tif\n",
      "['D:\\\\zwk_data\\\\p_tif\\\\GRWL_vector_V01.01\\\\SE23.shp'\n",
      " 'D:\\\\zwk_data\\\\p_tif\\\\GRWL_vector_V01.01\\\\SE24.shp'\n",
      " 'D:\\\\zwk_data\\\\p_tif\\\\GRWL_vector_V01.01\\\\SF23.shp'\n",
      " 'D:\\\\zwk_data\\\\p_tif\\\\GRWL_vector_V01.01\\\\SF24.shp']\n"
     ]
    },
    {
     "data": {
      "text/plain": [
       "'Fri Dec 29 19:45:24 2023'"
      ]
     },
     "execution_count": 22,
     "metadata": {},
     "output_type": "execute_result"
    },
    {
     "data": {
      "text/plain": [
       "116"
      ]
     },
     "execution_count": 22,
     "metadata": {},
     "output_type": "execute_result"
    },
    {
     "name": "stderr",
     "output_type": "stream",
     "text": [
      "\r",
      " 48%|███████████████████████████████████▏                                      | 273/574 [8:32:29<12:56:39, 154.81s/it]"
     ]
    },
    {
     "name": "stdout",
     "output_type": "stream",
     "text": [
      "D:\\zwk_data\\p_tif\\17000\\ndwi1_int8_world_17399.tif\n",
      "['D:\\\\zwk_data\\\\p_tif\\\\GRWL_vector_V01.01\\\\SF24.shp']\n"
     ]
    },
    {
     "data": {
      "text/plain": [
       "'Fri Dec 29 19:49:12 2023'"
      ]
     },
     "execution_count": 22,
     "metadata": {},
     "output_type": "execute_result"
    },
    {
     "data": {
      "text/plain": [
       "106"
      ]
     },
     "execution_count": 22,
     "metadata": {},
     "output_type": "execute_result"
    },
    {
     "name": "stderr",
     "output_type": "stream",
     "text": [
      "\r",
      " 48%|███████████████████████████████████▎                                      | 274/574 [8:33:18<10:15:11, 123.04s/it]"
     ]
    },
    {
     "name": "stdout",
     "output_type": "stream",
     "text": [
      "D:\\zwk_data\\p_tif\\17000\\ndwi1_int8_world_17400.tif\n",
      "['D:\\\\zwk_data\\\\p_tif\\\\GRWL_vector_V01.01\\\\SF24.shp']\n"
     ]
    },
    {
     "data": {
      "text/plain": [
       "'Fri Dec 29 19:49:59 2023'"
      ]
     },
     "execution_count": 22,
     "metadata": {},
     "output_type": "execute_result"
    },
    {
     "data": {
      "text/plain": [
       "114"
      ]
     },
     "execution_count": 22,
     "metadata": {},
     "output_type": "execute_result"
    },
    {
     "name": "stderr",
     "output_type": "stream",
     "text": [
      "\r",
      " 48%|████████████████████████████████████▍                                       | 275/574 [8:33:54<8:03:26, 97.01s/it]"
     ]
    },
    {
     "name": "stdout",
     "output_type": "stream",
     "text": [
      "D:\\zwk_data\\p_tif\\17000\\ndwi1_int8_world_17401.tif\n",
      "['D:\\\\zwk_data\\\\p_tif\\\\GRWL_vector_V01.01\\\\SE24.shp'\n",
      " 'D:\\\\zwk_data\\\\p_tif\\\\GRWL_vector_V01.01\\\\SF24.shp']\n"
     ]
    },
    {
     "data": {
      "text/plain": [
       "'Fri Dec 29 19:50:35 2023'"
      ]
     },
     "execution_count": 22,
     "metadata": {},
     "output_type": "execute_result"
    },
    {
     "data": {
      "text/plain": [
       "115"
      ]
     },
     "execution_count": 22,
     "metadata": {},
     "output_type": "execute_result"
    },
    {
     "name": "stderr",
     "output_type": "stream",
     "text": [
      "\r",
      " 48%|████████████████████████████████████▌                                       | 276/574 [8:34:49<6:58:44, 84.31s/it]"
     ]
    },
    {
     "name": "stdout",
     "output_type": "stream",
     "text": [
      "D:\\zwk_data\\p_tif\\17000\\ndwi1_int8_world_17402.tif\n",
      "['D:\\\\zwk_data\\\\p_tif\\\\GRWL_vector_V01.01\\\\SE24.shp'\n",
      " 'D:\\\\zwk_data\\\\p_tif\\\\GRWL_vector_V01.01\\\\SF24.shp']\n"
     ]
    },
    {
     "data": {
      "text/plain": [
       "'Fri Dec 29 19:51:30 2023'"
      ]
     },
     "execution_count": 22,
     "metadata": {},
     "output_type": "execute_result"
    },
    {
     "data": {
      "text/plain": [
       "118"
      ]
     },
     "execution_count": 22,
     "metadata": {},
     "output_type": "execute_result"
    },
    {
     "name": "stderr",
     "output_type": "stream",
     "text": [
      "\r",
      " 48%|████████████████████████████████████▋                                       | 277/574 [8:35:46<6:16:21, 76.03s/it]"
     ]
    },
    {
     "name": "stdout",
     "output_type": "stream",
     "text": [
      "D:\\zwk_data\\p_tif\\17000\\ndwi1_int8_world_17417.tif\n",
      "['D:\\\\zwk_data\\\\p_tif\\\\GRWL_vector_V01.01\\\\SG33.shp'\n",
      " 'D:\\\\zwk_data\\\\p_tif\\\\GRWL_vector_V01.01\\\\SH33.shp']\n"
     ]
    },
    {
     "data": {
      "text/plain": [
       "'Fri Dec 29 19:52:27 2023'"
      ]
     },
     "execution_count": 22,
     "metadata": {},
     "output_type": "execute_result"
    },
    {
     "data": {
      "text/plain": [
       "99"
      ]
     },
     "execution_count": 22,
     "metadata": {},
     "output_type": "execute_result"
    },
    {
     "name": "stderr",
     "output_type": "stream",
     "text": [
      "\r",
      " 48%|████████████████████████████████████▊                                       | 278/574 [8:36:12<5:02:04, 61.23s/it]"
     ]
    },
    {
     "name": "stdout",
     "output_type": "stream",
     "text": [
      "D:\\zwk_data\\p_tif\\17000\\ndwi1_int8_world_17426.tif\n",
      "['D:\\\\zwk_data\\\\p_tif\\\\GRWL_vector_V01.01\\\\SH33.shp']\n"
     ]
    },
    {
     "data": {
      "text/plain": [
       "'Fri Dec 29 19:52:53 2023'"
      ]
     },
     "execution_count": 22,
     "metadata": {},
     "output_type": "execute_result"
    },
    {
     "data": {
      "text/plain": [
       "101"
      ]
     },
     "execution_count": 22,
     "metadata": {},
     "output_type": "execute_result"
    },
    {
     "name": "stderr",
     "output_type": "stream",
     "text": [
      "\r",
      " 49%|████████████████████████████████████▉                                       | 279/574 [8:36:38<4:08:45, 50.59s/it]"
     ]
    },
    {
     "name": "stdout",
     "output_type": "stream",
     "text": [
      "D:\\zwk_data\\p_tif\\17000\\ndwi1_int8_world_17427.tif\n",
      "['D:\\\\zwk_data\\\\p_tif\\\\GRWL_vector_V01.01\\\\SG33.shp'\n",
      " 'D:\\\\zwk_data\\\\p_tif\\\\GRWL_vector_V01.01\\\\SH33.shp']\n"
     ]
    },
    {
     "data": {
      "text/plain": [
       "'Fri Dec 29 19:53:19 2023'"
      ]
     },
     "execution_count": 22,
     "metadata": {},
     "output_type": "execute_result"
    },
    {
     "data": {
      "text/plain": [
       "107"
      ]
     },
     "execution_count": 22,
     "metadata": {},
     "output_type": "execute_result"
    },
    {
     "name": "stderr",
     "output_type": "stream",
     "text": [
      "\r",
      " 49%|█████████████████████████████████████                                       | 280/574 [8:37:04<3:31:09, 43.09s/it]"
     ]
    },
    {
     "name": "stdout",
     "output_type": "stream",
     "text": [
      "D:\\zwk_data\\p_tif\\17000\\ndwi1_int8_world_17436.tif\n",
      "['D:\\\\zwk_data\\\\p_tif\\\\GRWL_vector_V01.01\\\\SH33.shp'\n",
      " 'D:\\\\zwk_data\\\\p_tif\\\\GRWL_vector_V01.01\\\\SH34.shp']\n"
     ]
    },
    {
     "data": {
      "text/plain": [
       "'Fri Dec 29 19:53:44 2023'"
      ]
     },
     "execution_count": 22,
     "metadata": {},
     "output_type": "execute_result"
    },
    {
     "data": {
      "text/plain": [
       "102"
      ]
     },
     "execution_count": 22,
     "metadata": {},
     "output_type": "execute_result"
    },
    {
     "name": "stderr",
     "output_type": "stream",
     "text": [
      "\r",
      " 49%|█████████████████████████████████████▏                                      | 281/574 [8:37:40<3:20:35, 41.08s/it]"
     ]
    },
    {
     "name": "stdout",
     "output_type": "stream",
     "text": [
      "D:\\zwk_data\\p_tif\\17000\\ndwi1_int8_world_17446.tif\n",
      "['D:\\\\zwk_data\\\\p_tif\\\\GRWL_vector_V01.01\\\\SH33.shp'\n",
      " 'D:\\\\zwk_data\\\\p_tif\\\\GRWL_vector_V01.01\\\\SH34.shp']\n"
     ]
    },
    {
     "data": {
      "text/plain": [
       "'Fri Dec 29 19:54:21 2023'"
      ]
     },
     "execution_count": 22,
     "metadata": {},
     "output_type": "execute_result"
    },
    {
     "data": {
      "text/plain": [
       "102"
      ]
     },
     "execution_count": 22,
     "metadata": {},
     "output_type": "execute_result"
    },
    {
     "name": "stderr",
     "output_type": "stream",
     "text": [
      "\r",
      " 49%|█████████████████████████████████████▎                                      | 282/574 [8:38:16<3:11:50, 39.42s/it]"
     ]
    },
    {
     "name": "stdout",
     "output_type": "stream",
     "text": [
      "D:\\zwk_data\\p_tif\\17000\\ndwi1_int8_world_17447.tif\n",
      "D:\\zwk_data\\p_tif\\GRWL_vector_V01.01\\SG34.shp\n",
      "['D:\\\\zwk_data\\\\p_tif\\\\GRWL_vector_V01.01\\\\SG33.shp'\n",
      " 'D:\\\\zwk_data\\\\p_tif\\\\GRWL_vector_V01.01\\\\SH33.shp'\n",
      " 'D:\\\\zwk_data\\\\p_tif\\\\GRWL_vector_V01.01\\\\SH34.shp']\n"
     ]
    },
    {
     "data": {
      "text/plain": [
       "'Fri Dec 29 19:54:57 2023'"
      ]
     },
     "execution_count": 22,
     "metadata": {},
     "output_type": "execute_result"
    },
    {
     "data": {
      "text/plain": [
       "108"
      ]
     },
     "execution_count": 22,
     "metadata": {},
     "output_type": "execute_result"
    },
    {
     "name": "stderr",
     "output_type": "stream",
     "text": [
      "\r",
      " 49%|█████████████████████████████████████▍                                      | 283/574 [8:38:50<3:04:41, 38.08s/it]"
     ]
    },
    {
     "name": "stdout",
     "output_type": "stream",
     "text": [
      "D:\\zwk_data\\p_tif\\17000\\ndwi1_int8_world_17456.tif\n",
      "['D:\\\\zwk_data\\\\p_tif\\\\GRWL_vector_V01.01\\\\SH34.shp']\n"
     ]
    },
    {
     "data": {
      "text/plain": [
       "'Fri Dec 29 19:55:31 2023'"
      ]
     },
     "execution_count": 22,
     "metadata": {},
     "output_type": "execute_result"
    },
    {
     "data": {
      "text/plain": [
       "103"
      ]
     },
     "execution_count": 22,
     "metadata": {},
     "output_type": "execute_result"
    },
    {
     "name": "stderr",
     "output_type": "stream",
     "text": [
      "\r",
      " 49%|█████████████████████████████████████▌                                      | 284/574 [8:39:31<3:08:08, 38.93s/it]"
     ]
    },
    {
     "name": "stdout",
     "output_type": "stream",
     "text": [
      "D:\\zwk_data\\p_tif\\17000\\ndwi1_int8_world_17457.tif\n",
      "D:\\zwk_data\\p_tif\\GRWL_vector_V01.01\\SG34.shp\n",
      "D:\\zwk_data\\p_tif\\GRWL_vector_V01.01\\SG34.shp\n",
      "['D:\\\\zwk_data\\\\p_tif\\\\GRWL_vector_V01.01\\\\SH34.shp']\n"
     ]
    },
    {
     "data": {
      "text/plain": [
       "'Fri Dec 29 19:56:13 2023'"
      ]
     },
     "execution_count": 22,
     "metadata": {},
     "output_type": "execute_result"
    },
    {
     "data": {
      "text/plain": [
       "107"
      ]
     },
     "execution_count": 22,
     "metadata": {},
     "output_type": "execute_result"
    },
    {
     "name": "stderr",
     "output_type": "stream",
     "text": [
      "\r",
      " 50%|█████████████████████████████████████▋                                      | 285/574 [8:40:07<3:03:03, 38.00s/it]"
     ]
    },
    {
     "name": "stdout",
     "output_type": "stream",
     "text": [
      "D:\\zwk_data\\p_tif\\17000\\ndwi1_int8_world_17467.tif\n",
      "D:\\zwk_data\\p_tif\\GRWL_vector_V01.01\\SG34.shp\n",
      "D:\\zwk_data\\p_tif\\GRWL_vector_V01.01\\SG34.shp\n",
      "['D:\\\\zwk_data\\\\p_tif\\\\GRWL_vector_V01.01\\\\SH34.shp']\n"
     ]
    },
    {
     "data": {
      "text/plain": [
       "'Fri Dec 29 19:56:48 2023'"
      ]
     },
     "execution_count": 22,
     "metadata": {},
     "output_type": "execute_result"
    },
    {
     "data": {
      "text/plain": [
       "107"
      ]
     },
     "execution_count": 22,
     "metadata": {},
     "output_type": "execute_result"
    },
    {
     "name": "stderr",
     "output_type": "stream",
     "text": [
      "\r",
      " 50%|█████████████████████████████████████▊                                      | 286/574 [8:40:41<2:55:42, 36.61s/it]"
     ]
    },
    {
     "name": "stdout",
     "output_type": "stream",
     "text": [
      "D:\\zwk_data\\p_tif\\17000\\ndwi1_int8_world_17476.tif\n",
      "['D:\\\\zwk_data\\\\p_tif\\\\GRWL_vector_V01.01\\\\SH34.shp']\n"
     ]
    },
    {
     "data": {
      "text/plain": [
       "'Fri Dec 29 19:57:22 2023'"
      ]
     },
     "execution_count": 22,
     "metadata": {},
     "output_type": "execute_result"
    },
    {
     "data": {
      "text/plain": [
       "104"
      ]
     },
     "execution_count": 22,
     "metadata": {},
     "output_type": "execute_result"
    },
    {
     "name": "stderr",
     "output_type": "stream",
     "text": [
      "\r",
      " 50%|██████████████████████████████████████                                      | 287/574 [8:41:13<2:49:24, 35.42s/it]"
     ]
    },
    {
     "name": "stdout",
     "output_type": "stream",
     "text": [
      "D:\\zwk_data\\p_tif\\17000\\ndwi1_int8_world_17477.tif\n",
      "D:\\zwk_data\\p_tif\\GRWL_vector_V01.01\\SG34.shp\n",
      "D:\\zwk_data\\p_tif\\GRWL_vector_V01.01\\SG34.shp\n",
      "['D:\\\\zwk_data\\\\p_tif\\\\GRWL_vector_V01.01\\\\SH34.shp']\n"
     ]
    },
    {
     "data": {
      "text/plain": [
       "'Fri Dec 29 19:57:54 2023'"
      ]
     },
     "execution_count": 22,
     "metadata": {},
     "output_type": "execute_result"
    },
    {
     "data": {
      "text/plain": [
       "108"
      ]
     },
     "execution_count": 22,
     "metadata": {},
     "output_type": "execute_result"
    },
    {
     "name": "stderr",
     "output_type": "stream",
     "text": [
      "\r",
      " 50%|██████████████████████████████████████▏                                     | 288/574 [8:41:46<2:45:44, 34.77s/it]"
     ]
    },
    {
     "name": "stdout",
     "output_type": "stream",
     "text": [
      "D:\\zwk_data\\p_tif\\17000\\ndwi1_int8_world_17485.tif\n",
      "['D:\\\\zwk_data\\\\p_tif\\\\GRWL_vector_V01.01\\\\SH34.shp']\n"
     ]
    },
    {
     "data": {
      "text/plain": [
       "'Fri Dec 29 19:58:27 2023'"
      ]
     },
     "execution_count": 22,
     "metadata": {},
     "output_type": "execute_result"
    },
    {
     "data": {
      "text/plain": [
       "108"
      ]
     },
     "execution_count": 22,
     "metadata": {},
     "output_type": "execute_result"
    },
    {
     "name": "stderr",
     "output_type": "stream",
     "text": [
      "\r",
      " 50%|██████████████████████████████████████▎                                     | 289/574 [8:42:19<2:41:50, 34.07s/it]"
     ]
    },
    {
     "name": "stdout",
     "output_type": "stream",
     "text": [
      "D:\\zwk_data\\p_tif\\17000\\ndwi1_int8_world_17486.tif\n",
      "D:\\zwk_data\\p_tif\\GRWL_vector_V01.01\\SG34.shp\n",
      "D:\\zwk_data\\p_tif\\GRWL_vector_V01.01\\SG34.shp\n",
      "['D:\\\\zwk_data\\\\p_tif\\\\GRWL_vector_V01.01\\\\SH34.shp']\n"
     ]
    },
    {
     "data": {
      "text/plain": [
       "'Fri Dec 29 19:59:00 2023'"
      ]
     },
     "execution_count": 22,
     "metadata": {},
     "output_type": "execute_result"
    },
    {
     "data": {
      "text/plain": [
       "106"
      ]
     },
     "execution_count": 22,
     "metadata": {},
     "output_type": "execute_result"
    },
    {
     "name": "stderr",
     "output_type": "stream",
     "text": [
      "\r",
      " 51%|██████████████████████████████████████▍                                     | 290/574 [8:42:51<2:38:50, 33.56s/it]"
     ]
    },
    {
     "name": "stdout",
     "output_type": "stream",
     "text": [
      "D:\\zwk_data\\p_tif\\17000\\ndwi1_int8_world_17494.tif\n",
      "['D:\\\\zwk_data\\\\p_tif\\\\GRWL_vector_V01.01\\\\SH34.shp'\n",
      " 'D:\\\\zwk_data\\\\p_tif\\\\GRWL_vector_V01.01\\\\SH35.shp']\n"
     ]
    },
    {
     "data": {
      "text/plain": [
       "'Fri Dec 29 19:59:32 2023'"
      ]
     },
     "execution_count": 22,
     "metadata": {},
     "output_type": "execute_result"
    },
    {
     "data": {
      "text/plain": [
       "117"
      ]
     },
     "execution_count": 22,
     "metadata": {},
     "output_type": "execute_result"
    },
    {
     "name": "stderr",
     "output_type": "stream",
     "text": [
      "\r",
      " 51%|██████████████████████████████████████▌                                     | 291/574 [8:44:00<3:28:33, 44.22s/it]"
     ]
    },
    {
     "name": "stdout",
     "output_type": "stream",
     "text": [
      "D:\\zwk_data\\p_tif\\17000\\ndwi1_int8_world_17495.tif\n",
      "D:\\zwk_data\\p_tif\\GRWL_vector_V01.01\\SG34.shp\n",
      "['D:\\\\zwk_data\\\\p_tif\\\\GRWL_vector_V01.01\\\\SG35.shp'\n",
      " 'D:\\\\zwk_data\\\\p_tif\\\\GRWL_vector_V01.01\\\\SH34.shp'\n",
      " 'D:\\\\zwk_data\\\\p_tif\\\\GRWL_vector_V01.01\\\\SH35.shp']\n"
     ]
    },
    {
     "data": {
      "text/plain": [
       "'Fri Dec 29 20:00:42 2023'"
      ]
     },
     "execution_count": 22,
     "metadata": {},
     "output_type": "execute_result"
    },
    {
     "data": {
      "text/plain": [
       "113"
      ]
     },
     "execution_count": 22,
     "metadata": {},
     "output_type": "execute_result"
    },
    {
     "name": "stderr",
     "output_type": "stream",
     "text": [
      "\r",
      " 51%|██████████████████████████████████████▋                                     | 292/574 [8:45:25<4:25:18, 56.45s/it]"
     ]
    },
    {
     "name": "stdout",
     "output_type": "stream",
     "text": [
      "D:\\zwk_data\\p_tif\\17000\\ndwi1_int8_world_17504.tif\n",
      "['D:\\\\zwk_data\\\\p_tif\\\\GRWL_vector_V01.01\\\\SH34.shp'\n",
      " 'D:\\\\zwk_data\\\\p_tif\\\\GRWL_vector_V01.01\\\\SH35.shp']\n"
     ]
    },
    {
     "data": {
      "text/plain": [
       "'Fri Dec 29 20:02:06 2023'"
      ]
     },
     "execution_count": 22,
     "metadata": {},
     "output_type": "execute_result"
    },
    {
     "data": {
      "text/plain": [
       "118"
      ]
     },
     "execution_count": 22,
     "metadata": {},
     "output_type": "execute_result"
    },
    {
     "name": "stderr",
     "output_type": "stream",
     "text": [
      "\r",
      " 51%|██████████████████████████████████████▊                                     | 293/574 [8:46:35<4:43:20, 60.50s/it]"
     ]
    },
    {
     "name": "stdout",
     "output_type": "stream",
     "text": [
      "D:\\zwk_data\\p_tif\\17000\\ndwi1_int8_world_17505.tif\n",
      "D:\\zwk_data\\p_tif\\GRWL_vector_V01.01\\SG34.shp\n",
      "['D:\\\\zwk_data\\\\p_tif\\\\GRWL_vector_V01.01\\\\SG35.shp'\n",
      " 'D:\\\\zwk_data\\\\p_tif\\\\GRWL_vector_V01.01\\\\SH34.shp'\n",
      " 'D:\\\\zwk_data\\\\p_tif\\\\GRWL_vector_V01.01\\\\SH35.shp']\n"
     ]
    },
    {
     "data": {
      "text/plain": [
       "'Fri Dec 29 20:03:17 2023'"
      ]
     },
     "execution_count": 22,
     "metadata": {},
     "output_type": "execute_result"
    },
    {
     "data": {
      "text/plain": [
       "118"
      ]
     },
     "execution_count": 22,
     "metadata": {},
     "output_type": "execute_result"
    },
    {
     "name": "stderr",
     "output_type": "stream",
     "text": [
      "\r",
      " 51%|██████████████████████████████████████▉                                     | 294/574 [8:48:01<5:18:03, 68.15s/it]"
     ]
    },
    {
     "name": "stdout",
     "output_type": "stream",
     "text": [
      "D:\\zwk_data\\p_tif\\17000\\ndwi1_int8_world_17506.tif\n",
      "D:\\zwk_data\\p_tif\\GRWL_vector_V01.01\\SG34.shp\n",
      "['D:\\\\zwk_data\\\\p_tif\\\\GRWL_vector_V01.01\\\\SG35.shp'\n",
      " 'D:\\\\zwk_data\\\\p_tif\\\\GRWL_vector_V01.01\\\\SH34.shp'\n",
      " 'D:\\\\zwk_data\\\\p_tif\\\\GRWL_vector_V01.01\\\\SH35.shp']\n"
     ]
    },
    {
     "data": {
      "text/plain": [
       "'Fri Dec 29 20:04:42 2023'"
      ]
     },
     "execution_count": 22,
     "metadata": {},
     "output_type": "execute_result"
    },
    {
     "data": {
      "text/plain": [
       "110"
      ]
     },
     "execution_count": 22,
     "metadata": {},
     "output_type": "execute_result"
    },
    {
     "name": "stderr",
     "output_type": "stream",
     "text": [
      "\r",
      " 51%|███████████████████████████████████████                                     | 295/574 [8:49:30<5:45:39, 74.34s/it]"
     ]
    },
    {
     "name": "stdout",
     "output_type": "stream",
     "text": [
      "D:\\zwk_data\\p_tif\\17000\\ndwi1_int8_world_17508.tif\n",
      "D:\\zwk_data\\p_tif\\GRWL_vector_V01.01\\SG34.shp\n",
      "D:\\zwk_data\\p_tif\\GRWL_vector_V01.01\\SG34.shp\n",
      "['D:\\\\zwk_data\\\\p_tif\\\\GRWL_vector_V01.01\\\\SG35.shp']\n"
     ]
    },
    {
     "data": {
      "text/plain": [
       "'Fri Dec 29 20:06:12 2023'"
      ]
     },
     "execution_count": 22,
     "metadata": {},
     "output_type": "execute_result"
    },
    {
     "data": {
      "text/plain": [
       "109"
      ]
     },
     "execution_count": 22,
     "metadata": {},
     "output_type": "execute_result"
    },
    {
     "name": "stderr",
     "output_type": "stream",
     "text": [
      "\r",
      " 52%|███████████████████████████████████████▏                                    | 296/574 [8:50:16<5:04:35, 65.74s/it]"
     ]
    },
    {
     "name": "stdout",
     "output_type": "stream",
     "text": [
      "D:\\zwk_data\\p_tif\\17000\\ndwi1_int8_world_17512.tif\n",
      "['D:\\\\zwk_data\\\\p_tif\\\\GRWL_vector_V01.01\\\\SF34.shp'\n",
      " 'D:\\\\zwk_data\\\\p_tif\\\\GRWL_vector_V01.01\\\\SF35.shp']\n"
     ]
    },
    {
     "data": {
      "text/plain": [
       "'Fri Dec 29 20:06:57 2023'"
      ]
     },
     "execution_count": 22,
     "metadata": {},
     "output_type": "execute_result"
    },
    {
     "data": {
      "text/plain": [
       "114"
      ]
     },
     "execution_count": 22,
     "metadata": {},
     "output_type": "execute_result"
    },
    {
     "name": "stderr",
     "output_type": "stream",
     "text": [
      "\r",
      " 52%|███████████████████████████████████████▎                                    | 297/574 [8:50:52<4:22:29, 56.86s/it]"
     ]
    },
    {
     "name": "stdout",
     "output_type": "stream",
     "text": [
      "D:\\zwk_data\\p_tif\\17000\\ndwi1_int8_world_17513.tif\n",
      "['D:\\\\zwk_data\\\\p_tif\\\\GRWL_vector_V01.01\\\\SE34.shp'\n",
      " 'D:\\\\zwk_data\\\\p_tif\\\\GRWL_vector_V01.01\\\\SE35.shp'\n",
      " 'D:\\\\zwk_data\\\\p_tif\\\\GRWL_vector_V01.01\\\\SF34.shp'\n",
      " 'D:\\\\zwk_data\\\\p_tif\\\\GRWL_vector_V01.01\\\\SF35.shp']\n"
     ]
    },
    {
     "data": {
      "text/plain": [
       "'Fri Dec 29 20:07:33 2023'"
      ]
     },
     "execution_count": 22,
     "metadata": {},
     "output_type": "execute_result"
    },
    {
     "data": {
      "text/plain": [
       "117"
      ]
     },
     "execution_count": 22,
     "metadata": {},
     "output_type": "execute_result"
    },
    {
     "name": "stderr",
     "output_type": "stream",
     "text": [
      "\r",
      " 52%|███████████████████████████████████████▍                                    | 298/574 [8:52:13<4:54:29, 64.02s/it]"
     ]
    },
    {
     "name": "stdout",
     "output_type": "stream",
     "text": [
      "D:\\zwk_data\\p_tif\\17000\\ndwi1_int8_world_17514.tif\n",
      "['D:\\\\zwk_data\\\\p_tif\\\\GRWL_vector_V01.01\\\\SH35.shp']\n"
     ]
    },
    {
     "data": {
      "text/plain": [
       "'Fri Dec 29 20:08:54 2023'"
      ]
     },
     "execution_count": 22,
     "metadata": {},
     "output_type": "execute_result"
    },
    {
     "data": {
      "text/plain": [
       "113"
      ]
     },
     "execution_count": 22,
     "metadata": {},
     "output_type": "execute_result"
    },
    {
     "name": "stderr",
     "output_type": "stream",
     "text": [
      "\r",
      " 52%|███████████████████████████████████████▌                                    | 299/574 [8:53:21<4:59:16, 65.29s/it]"
     ]
    },
    {
     "name": "stdout",
     "output_type": "stream",
     "text": [
      "D:\\zwk_data\\p_tif\\17000\\ndwi1_int8_world_17515.tif\n",
      "['D:\\\\zwk_data\\\\p_tif\\\\GRWL_vector_V01.01\\\\SG35.shp'\n",
      " 'D:\\\\zwk_data\\\\p_tif\\\\GRWL_vector_V01.01\\\\SH35.shp']\n"
     ]
    },
    {
     "data": {
      "text/plain": [
       "'Fri Dec 29 20:10:02 2023'"
      ]
     },
     "execution_count": 22,
     "metadata": {},
     "output_type": "execute_result"
    },
    {
     "data": {
      "text/plain": [
       "113"
      ]
     },
     "execution_count": 22,
     "metadata": {},
     "output_type": "execute_result"
    },
    {
     "name": "stderr",
     "output_type": "stream",
     "text": [
      "\r",
      " 52%|███████████████████████████████████████▋                                    | 300/574 [8:54:52<5:33:22, 73.00s/it]"
     ]
    },
    {
     "name": "stdout",
     "output_type": "stream",
     "text": [
      "D:\\zwk_data\\p_tif\\17000\\ndwi1_int8_world_17516.tif\n",
      "['D:\\\\zwk_data\\\\p_tif\\\\GRWL_vector_V01.01\\\\SG35.shp'\n",
      " 'D:\\\\zwk_data\\\\p_tif\\\\GRWL_vector_V01.01\\\\SH35.shp']\n"
     ]
    },
    {
     "data": {
      "text/plain": [
       "'Fri Dec 29 20:11:33 2023'"
      ]
     },
     "execution_count": 22,
     "metadata": {},
     "output_type": "execute_result"
    },
    {
     "data": {
      "text/plain": [
       "116"
      ]
     },
     "execution_count": 22,
     "metadata": {},
     "output_type": "execute_result"
    },
    {
     "name": "stderr",
     "output_type": "stream",
     "text": [
      "\r",
      " 52%|███████████████████████████████████████▊                                    | 301/574 [8:56:14<5:44:24, 75.70s/it]"
     ]
    },
    {
     "name": "stdout",
     "output_type": "stream",
     "text": [
      "D:\\zwk_data\\p_tif\\17000\\ndwi1_int8_world_17517.tif\n",
      "['D:\\\\zwk_data\\\\p_tif\\\\GRWL_vector_V01.01\\\\SG35.shp']\n"
     ]
    },
    {
     "data": {
      "text/plain": [
       "'Fri Dec 29 20:12:55 2023'"
      ]
     },
     "execution_count": 22,
     "metadata": {},
     "output_type": "execute_result"
    },
    {
     "data": {
      "text/plain": [
       "108"
      ]
     },
     "execution_count": 22,
     "metadata": {},
     "output_type": "execute_result"
    },
    {
     "name": "stderr",
     "output_type": "stream",
     "text": [
      "\r",
      " 53%|███████████████████████████████████████▉                                    | 302/574 [8:57:01<5:03:52, 67.03s/it]"
     ]
    },
    {
     "name": "stdout",
     "output_type": "stream",
     "text": [
      "D:\\zwk_data\\p_tif\\17000\\ndwi1_int8_world_17519.tif\n",
      "['D:\\\\zwk_data\\\\p_tif\\\\GRWL_vector_V01.01\\\\SF35.shp'\n",
      " 'D:\\\\zwk_data\\\\p_tif\\\\GRWL_vector_V01.01\\\\SG35.shp']\n"
     ]
    },
    {
     "data": {
      "text/plain": [
       "'Fri Dec 29 20:13:42 2023'"
      ]
     },
     "execution_count": 22,
     "metadata": {},
     "output_type": "execute_result"
    },
    {
     "data": {
      "text/plain": [
       "113"
      ]
     },
     "execution_count": 22,
     "metadata": {},
     "output_type": "execute_result"
    },
    {
     "name": "stderr",
     "output_type": "stream",
     "text": [
      "\r",
      " 53%|████████████████████████████████████████                                    | 303/574 [8:57:51<4:40:30, 62.11s/it]"
     ]
    },
    {
     "name": "stdout",
     "output_type": "stream",
     "text": [
      "D:\\zwk_data\\p_tif\\17000\\ndwi1_int8_world_17521.tif\n",
      "['D:\\\\zwk_data\\\\p_tif\\\\GRWL_vector_V01.01\\\\SF35.shp']\n"
     ]
    },
    {
     "data": {
      "text/plain": [
       "'Fri Dec 29 20:14:33 2023'"
      ]
     },
     "execution_count": 22,
     "metadata": {},
     "output_type": "execute_result"
    },
    {
     "data": {
      "text/plain": [
       "117"
      ]
     },
     "execution_count": 22,
     "metadata": {},
     "output_type": "execute_result"
    },
    {
     "name": "stderr",
     "output_type": "stream",
     "text": [
      "\r",
      " 53%|████████████████████████████████████████▎                                   | 304/574 [8:58:26<4:02:06, 53.80s/it]"
     ]
    },
    {
     "name": "stdout",
     "output_type": "stream",
     "text": [
      "D:\\zwk_data\\p_tif\\17000\\ndwi1_int8_world_17522.tif\n",
      "['D:\\\\zwk_data\\\\p_tif\\\\GRWL_vector_V01.01\\\\SE35.shp'\n",
      " 'D:\\\\zwk_data\\\\p_tif\\\\GRWL_vector_V01.01\\\\SF35.shp']\n"
     ]
    },
    {
     "data": {
      "text/plain": [
       "'Fri Dec 29 20:15:07 2023'"
      ]
     },
     "execution_count": 22,
     "metadata": {},
     "output_type": "execute_result"
    },
    {
     "data": {
      "text/plain": [
       "116"
      ]
     },
     "execution_count": 22,
     "metadata": {},
     "output_type": "execute_result"
    },
    {
     "name": "stderr",
     "output_type": "stream",
     "text": [
      "\r",
      " 53%|████████████████████████████████████████▍                                   | 305/574 [8:59:19<4:00:23, 53.62s/it]"
     ]
    },
    {
     "name": "stdout",
     "output_type": "stream",
     "text": [
      "D:\\zwk_data\\p_tif\\17000\\ndwi1_int8_world_17523.tif\n",
      "['D:\\\\zwk_data\\\\p_tif\\\\GRWL_vector_V01.01\\\\SH35.shp']\n"
     ]
    },
    {
     "data": {
      "text/plain": [
       "'Fri Dec 29 20:16:00 2023'"
      ]
     },
     "execution_count": 22,
     "metadata": {},
     "output_type": "execute_result"
    },
    {
     "data": {
      "text/plain": [
       "113"
      ]
     },
     "execution_count": 22,
     "metadata": {},
     "output_type": "execute_result"
    },
    {
     "name": "stderr",
     "output_type": "stream",
     "text": [
      "\r",
      " 53%|████████████████████████████████████████▌                                   | 306/574 [9:00:22<4:11:52, 56.39s/it]"
     ]
    },
    {
     "name": "stdout",
     "output_type": "stream",
     "text": [
      "D:\\zwk_data\\p_tif\\17000\\ndwi1_int8_world_17524.tif\n",
      "['D:\\\\zwk_data\\\\p_tif\\\\GRWL_vector_V01.01\\\\SG35.shp'\n",
      " 'D:\\\\zwk_data\\\\p_tif\\\\GRWL_vector_V01.01\\\\SH35.shp']\n"
     ]
    },
    {
     "data": {
      "text/plain": [
       "'Fri Dec 29 20:17:03 2023'"
      ]
     },
     "execution_count": 22,
     "metadata": {},
     "output_type": "execute_result"
    },
    {
     "data": {
      "text/plain": [
       "113"
      ]
     },
     "execution_count": 22,
     "metadata": {},
     "output_type": "execute_result"
    },
    {
     "name": "stderr",
     "output_type": "stream",
     "text": [
      "\r",
      " 53%|████████████████████████████████████████▋                                   | 307/574 [9:01:45<4:47:22, 64.58s/it]"
     ]
    },
    {
     "name": "stdout",
     "output_type": "stream",
     "text": [
      "D:\\zwk_data\\p_tif\\17000\\ndwi1_int8_world_17525.tif\n",
      "['D:\\\\zwk_data\\\\p_tif\\\\GRWL_vector_V01.01\\\\SG35.shp'\n",
      " 'D:\\\\zwk_data\\\\p_tif\\\\GRWL_vector_V01.01\\\\SH35.shp']\n"
     ]
    },
    {
     "data": {
      "text/plain": [
       "'Fri Dec 29 20:18:27 2023'"
      ]
     },
     "execution_count": 22,
     "metadata": {},
     "output_type": "execute_result"
    },
    {
     "data": {
      "text/plain": [
       "117"
      ]
     },
     "execution_count": 22,
     "metadata": {},
     "output_type": "execute_result"
    },
    {
     "name": "stderr",
     "output_type": "stream",
     "text": [
      "\r",
      " 54%|████████████████████████████████████████▊                                   | 308/574 [9:03:09<5:11:17, 70.22s/it]"
     ]
    },
    {
     "name": "stdout",
     "output_type": "stream",
     "text": [
      "D:\\zwk_data\\p_tif\\17000\\ndwi1_int8_world_17526.tif\n",
      "['D:\\\\zwk_data\\\\p_tif\\\\GRWL_vector_V01.01\\\\SG35.shp']\n"
     ]
    },
    {
     "data": {
      "text/plain": [
       "'Fri Dec 29 20:19:50 2023'"
      ]
     },
     "execution_count": 22,
     "metadata": {},
     "output_type": "execute_result"
    },
    {
     "data": {
      "text/plain": [
       "116"
      ]
     },
     "execution_count": 22,
     "metadata": {},
     "output_type": "execute_result"
    },
    {
     "name": "stderr",
     "output_type": "stream",
     "text": [
      "\r",
      " 54%|████████████████████████████████████████▉                                   | 309/574 [9:03:58<4:41:49, 63.81s/it]"
     ]
    },
    {
     "name": "stdout",
     "output_type": "stream",
     "text": [
      "D:\\zwk_data\\p_tif\\17000\\ndwi1_int8_world_17528.tif\n",
      "['D:\\\\zwk_data\\\\p_tif\\\\GRWL_vector_V01.01\\\\SF35.shp'\n",
      " 'D:\\\\zwk_data\\\\p_tif\\\\GRWL_vector_V01.01\\\\SG35.shp']\n"
     ]
    },
    {
     "data": {
      "text/plain": [
       "'Fri Dec 29 20:20:39 2023'"
      ]
     },
     "execution_count": 22,
     "metadata": {},
     "output_type": "execute_result"
    },
    {
     "data": {
      "text/plain": [
       "113"
      ]
     },
     "execution_count": 22,
     "metadata": {},
     "output_type": "execute_result"
    },
    {
     "name": "stderr",
     "output_type": "stream",
     "text": [
      "\r",
      " 54%|█████████████████████████████████████████                                   | 310/574 [9:04:49<4:24:05, 60.02s/it]"
     ]
    },
    {
     "name": "stdout",
     "output_type": "stream",
     "text": [
      "D:\\zwk_data\\p_tif\\17000\\ndwi1_int8_world_17529.tif\n",
      "['D:\\\\zwk_data\\\\p_tif\\\\GRWL_vector_V01.01\\\\SF35.shp'\n",
      " 'D:\\\\zwk_data\\\\p_tif\\\\GRWL_vector_V01.01\\\\SG35.shp']\n"
     ]
    },
    {
     "data": {
      "text/plain": [
       "'Fri Dec 29 20:21:30 2023'"
      ]
     },
     "execution_count": 22,
     "metadata": {},
     "output_type": "execute_result"
    },
    {
     "data": {
      "text/plain": [
       "112"
      ]
     },
     "execution_count": 22,
     "metadata": {},
     "output_type": "execute_result"
    },
    {
     "name": "stderr",
     "output_type": "stream",
     "text": [
      "\r",
      " 54%|█████████████████████████████████████████▏                                  | 311/574 [9:05:39<4:10:34, 57.16s/it]"
     ]
    },
    {
     "name": "stdout",
     "output_type": "stream",
     "text": [
      "D:\\zwk_data\\p_tif\\17000\\ndwi1_int8_world_17530.tif\n",
      "['D:\\\\zwk_data\\\\p_tif\\\\GRWL_vector_V01.01\\\\SF35.shp']\n"
     ]
    },
    {
     "data": {
      "text/plain": [
       "'Fri Dec 29 20:22:20 2023'"
      ]
     },
     "execution_count": 22,
     "metadata": {},
     "output_type": "execute_result"
    },
    {
     "data": {
      "text/plain": [
       "113"
      ]
     },
     "execution_count": 22,
     "metadata": {},
     "output_type": "execute_result"
    },
    {
     "name": "stderr",
     "output_type": "stream",
     "text": [
      "\r",
      " 54%|█████████████████████████████████████████▎                                  | 312/574 [9:06:15<3:40:45, 50.55s/it]"
     ]
    },
    {
     "name": "stdout",
     "output_type": "stream",
     "text": [
      "D:\\zwk_data\\p_tif\\17000\\ndwi1_int8_world_17531.tif\n",
      "['D:\\\\zwk_data\\\\p_tif\\\\GRWL_vector_V01.01\\\\SF35.shp']\n"
     ]
    },
    {
     "data": {
      "text/plain": [
       "'Fri Dec 29 20:22:56 2023'"
      ]
     },
     "execution_count": 22,
     "metadata": {},
     "output_type": "execute_result"
    },
    {
     "data": {
      "text/plain": [
       "109"
      ]
     },
     "execution_count": 22,
     "metadata": {},
     "output_type": "execute_result"
    },
    {
     "name": "stderr",
     "output_type": "stream",
     "text": [
      "\r",
      " 55%|█████████████████████████████████████████▍                                  | 313/574 [9:06:49<3:19:35, 45.88s/it]"
     ]
    },
    {
     "name": "stdout",
     "output_type": "stream",
     "text": [
      "D:\\zwk_data\\p_tif\\17000\\ndwi1_int8_world_17532.tif\n",
      "['D:\\\\zwk_data\\\\p_tif\\\\GRWL_vector_V01.01\\\\SE35.shp'\n",
      " 'D:\\\\zwk_data\\\\p_tif\\\\GRWL_vector_V01.01\\\\SF35.shp']\n"
     ]
    },
    {
     "data": {
      "text/plain": [
       "'Fri Dec 29 20:23:30 2023'"
      ]
     },
     "execution_count": 22,
     "metadata": {},
     "output_type": "execute_result"
    },
    {
     "data": {
      "text/plain": [
       "112"
      ]
     },
     "execution_count": 22,
     "metadata": {},
     "output_type": "execute_result"
    },
    {
     "name": "stderr",
     "output_type": "stream",
     "text": [
      "\r",
      " 55%|█████████████████████████████████████████▌                                  | 314/574 [9:07:44<3:30:00, 48.46s/it]"
     ]
    },
    {
     "name": "stdout",
     "output_type": "stream",
     "text": [
      "D:\\zwk_data\\p_tif\\17000\\ndwi1_int8_world_17533.tif\n",
      "['D:\\\\zwk_data\\\\p_tif\\\\GRWL_vector_V01.01\\\\SH35.shp']\n"
     ]
    },
    {
     "data": {
      "text/plain": [
       "'Fri Dec 29 20:24:25 2023'"
      ]
     },
     "execution_count": 22,
     "metadata": {},
     "output_type": "execute_result"
    },
    {
     "data": {
      "text/plain": [
       "118"
      ]
     },
     "execution_count": 22,
     "metadata": {},
     "output_type": "execute_result"
    },
    {
     "name": "stderr",
     "output_type": "stream",
     "text": [
      "\r",
      " 55%|█████████████████████████████████████████▋                                  | 315/574 [9:08:45<3:45:05, 52.15s/it]"
     ]
    },
    {
     "name": "stdout",
     "output_type": "stream",
     "text": [
      "D:\\zwk_data\\p_tif\\17000\\ndwi1_int8_world_17534.tif\n",
      "['D:\\\\zwk_data\\\\p_tif\\\\GRWL_vector_V01.01\\\\SG35.shp'\n",
      " 'D:\\\\zwk_data\\\\p_tif\\\\GRWL_vector_V01.01\\\\SH35.shp']\n"
     ]
    },
    {
     "data": {
      "text/plain": [
       "'Fri Dec 29 20:25:26 2023'"
      ]
     },
     "execution_count": 22,
     "metadata": {},
     "output_type": "execute_result"
    },
    {
     "data": {
      "text/plain": [
       "114"
      ]
     },
     "execution_count": 22,
     "metadata": {},
     "output_type": "execute_result"
    },
    {
     "name": "stderr",
     "output_type": "stream",
     "text": [
      "\r",
      " 55%|█████████████████████████████████████████▊                                  | 316/574 [9:10:01<4:15:59, 59.53s/it]"
     ]
    },
    {
     "name": "stdout",
     "output_type": "stream",
     "text": [
      "D:\\zwk_data\\p_tif\\17000\\ndwi1_int8_world_17535.tif\n",
      "['D:\\\\zwk_data\\\\p_tif\\\\GRWL_vector_V01.01\\\\SG35.shp'\n",
      " 'D:\\\\zwk_data\\\\p_tif\\\\GRWL_vector_V01.01\\\\SH35.shp']\n"
     ]
    },
    {
     "data": {
      "text/plain": [
       "'Fri Dec 29 20:26:43 2023'"
      ]
     },
     "execution_count": 22,
     "metadata": {},
     "output_type": "execute_result"
    },
    {
     "data": {
      "text/plain": [
       "114"
      ]
     },
     "execution_count": 22,
     "metadata": {},
     "output_type": "execute_result"
    },
    {
     "name": "stderr",
     "output_type": "stream",
     "text": [
      "\r",
      " 55%|█████████████████████████████████████████▉                                  | 317/574 [9:11:18<4:37:04, 64.69s/it]"
     ]
    },
    {
     "name": "stdout",
     "output_type": "stream",
     "text": [
      "D:\\zwk_data\\p_tif\\17000\\ndwi1_int8_world_17536.tif\n",
      "['D:\\\\zwk_data\\\\p_tif\\\\GRWL_vector_V01.01\\\\SG35.shp']\n"
     ]
    },
    {
     "data": {
      "text/plain": [
       "'Fri Dec 29 20:27:59 2023'"
      ]
     },
     "execution_count": 22,
     "metadata": {},
     "output_type": "execute_result"
    },
    {
     "data": {
      "text/plain": [
       "117"
      ]
     },
     "execution_count": 22,
     "metadata": {},
     "output_type": "execute_result"
    },
    {
     "name": "stderr",
     "output_type": "stream",
     "text": [
      "\r",
      " 55%|██████████████████████████████████████████                                  | 318/574 [9:12:04<4:11:20, 58.91s/it]"
     ]
    },
    {
     "name": "stdout",
     "output_type": "stream",
     "text": [
      "D:\\zwk_data\\p_tif\\17000\\ndwi1_int8_world_17537.tif\n",
      "['D:\\\\zwk_data\\\\p_tif\\\\GRWL_vector_V01.01\\\\SG35.shp']\n"
     ]
    },
    {
     "data": {
      "text/plain": [
       "'Fri Dec 29 20:28:45 2023'"
      ]
     },
     "execution_count": 22,
     "metadata": {},
     "output_type": "execute_result"
    },
    {
     "data": {
      "text/plain": [
       "114"
      ]
     },
     "execution_count": 22,
     "metadata": {},
     "output_type": "execute_result"
    },
    {
     "name": "stderr",
     "output_type": "stream",
     "text": [
      "\r",
      " 56%|██████████████████████████████████████████▏                                 | 319/574 [9:12:47<3:50:32, 54.25s/it]"
     ]
    },
    {
     "name": "stdout",
     "output_type": "stream",
     "text": [
      "D:\\zwk_data\\p_tif\\17000\\ndwi1_int8_world_17538.tif\n",
      "['D:\\\\zwk_data\\\\p_tif\\\\GRWL_vector_V01.01\\\\SF35.shp'\n",
      " 'D:\\\\zwk_data\\\\p_tif\\\\GRWL_vector_V01.01\\\\SG35.shp']\n"
     ]
    },
    {
     "data": {
      "text/plain": [
       "'Fri Dec 29 20:29:28 2023'"
      ]
     },
     "execution_count": 22,
     "metadata": {},
     "output_type": "execute_result"
    },
    {
     "data": {
      "text/plain": [
       "114"
      ]
     },
     "execution_count": 22,
     "metadata": {},
     "output_type": "execute_result"
    },
    {
     "name": "stderr",
     "output_type": "stream",
     "text": [
      "\r",
      " 56%|██████████████████████████████████████████▎                                 | 320/574 [9:13:37<3:43:40, 52.84s/it]"
     ]
    },
    {
     "name": "stdout",
     "output_type": "stream",
     "text": [
      "D:\\zwk_data\\p_tif\\17000\\ndwi1_int8_world_17539.tif\n",
      "['D:\\\\zwk_data\\\\p_tif\\\\GRWL_vector_V01.01\\\\SF35.shp'\n",
      " 'D:\\\\zwk_data\\\\p_tif\\\\GRWL_vector_V01.01\\\\SG35.shp']\n"
     ]
    },
    {
     "data": {
      "text/plain": [
       "'Fri Dec 29 20:30:18 2023'"
      ]
     },
     "execution_count": 22,
     "metadata": {},
     "output_type": "execute_result"
    },
    {
     "data": {
      "text/plain": [
       "117"
      ]
     },
     "execution_count": 22,
     "metadata": {},
     "output_type": "execute_result"
    },
    {
     "name": "stderr",
     "output_type": "stream",
     "text": [
      "\r",
      " 56%|██████████████████████████████████████████▌                                 | 321/574 [9:14:26<3:38:27, 51.81s/it]"
     ]
    },
    {
     "name": "stdout",
     "output_type": "stream",
     "text": [
      "D:\\zwk_data\\p_tif\\17000\\ndwi1_int8_world_17540.tif\n",
      "['D:\\\\zwk_data\\\\p_tif\\\\GRWL_vector_V01.01\\\\SF35.shp']\n"
     ]
    },
    {
     "data": {
      "text/plain": [
       "'Fri Dec 29 20:31:07 2023'"
      ]
     },
     "execution_count": 22,
     "metadata": {},
     "output_type": "execute_result"
    },
    {
     "data": {
      "text/plain": [
       "114"
      ]
     },
     "execution_count": 22,
     "metadata": {},
     "output_type": "execute_result"
    },
    {
     "name": "stderr",
     "output_type": "stream",
     "text": [
      "\r",
      " 56%|██████████████████████████████████████████▋                                 | 322/574 [9:15:01<3:16:18, 46.74s/it]"
     ]
    },
    {
     "name": "stdout",
     "output_type": "stream",
     "text": [
      "D:\\zwk_data\\p_tif\\17000\\ndwi1_int8_world_17541.tif\n",
      "['D:\\\\zwk_data\\\\p_tif\\\\GRWL_vector_V01.01\\\\SF35.shp']\n"
     ]
    },
    {
     "data": {
      "text/plain": [
       "'Fri Dec 29 20:31:42 2023'"
      ]
     },
     "execution_count": 22,
     "metadata": {},
     "output_type": "execute_result"
    },
    {
     "data": {
      "text/plain": [
       "118"
      ]
     },
     "execution_count": 22,
     "metadata": {},
     "output_type": "execute_result"
    },
    {
     "name": "stderr",
     "output_type": "stream",
     "text": [
      "\r",
      " 56%|██████████████████████████████████████████▊                                 | 323/574 [9:15:36<3:01:15, 43.33s/it]"
     ]
    },
    {
     "name": "stdout",
     "output_type": "stream",
     "text": [
      "D:\\zwk_data\\p_tif\\17000\\ndwi1_int8_world_17542.tif\n",
      "['D:\\\\zwk_data\\\\p_tif\\\\GRWL_vector_V01.01\\\\SE35.shp'\n",
      " 'D:\\\\zwk_data\\\\p_tif\\\\GRWL_vector_V01.01\\\\SF35.shp']\n"
     ]
    },
    {
     "data": {
      "text/plain": [
       "'Fri Dec 29 20:32:17 2023'"
      ]
     },
     "execution_count": 22,
     "metadata": {},
     "output_type": "execute_result"
    },
    {
     "data": {
      "text/plain": [
       "117"
      ]
     },
     "execution_count": 22,
     "metadata": {},
     "output_type": "execute_result"
    },
    {
     "name": "stderr",
     "output_type": "stream",
     "text": [
      "\r",
      " 56%|██████████████████████████████████████████▉                                 | 324/574 [9:16:29<3:11:59, 46.08s/it]"
     ]
    },
    {
     "name": "stdout",
     "output_type": "stream",
     "text": [
      "D:\\zwk_data\\p_tif\\17000\\ndwi1_int8_world_17543.tif\n",
      "['D:\\\\zwk_data\\\\p_tif\\\\GRWL_vector_V01.01\\\\SH35.shp']\n"
     ]
    },
    {
     "data": {
      "text/plain": [
       "'Fri Dec 29 20:33:10 2023'"
      ]
     },
     "execution_count": 22,
     "metadata": {},
     "output_type": "execute_result"
    },
    {
     "data": {
      "text/plain": [
       "118"
      ]
     },
     "execution_count": 22,
     "metadata": {},
     "output_type": "execute_result"
    },
    {
     "name": "stderr",
     "output_type": "stream",
     "text": [
      "\r",
      " 57%|███████████████████████████████████████████                                 | 325/574 [9:17:29<3:29:29, 50.48s/it]"
     ]
    },
    {
     "name": "stdout",
     "output_type": "stream",
     "text": [
      "D:\\zwk_data\\p_tif\\17000\\ndwi1_int8_world_17544.tif\n",
      "['D:\\\\zwk_data\\\\p_tif\\\\GRWL_vector_V01.01\\\\SG35.shp'\n",
      " 'D:\\\\zwk_data\\\\p_tif\\\\GRWL_vector_V01.01\\\\SH35.shp']\n"
     ]
    },
    {
     "data": {
      "text/plain": [
       "'Fri Dec 29 20:34:11 2023'"
      ]
     },
     "execution_count": 22,
     "metadata": {},
     "output_type": "execute_result"
    },
    {
     "data": {
      "text/plain": [
       "114"
      ]
     },
     "execution_count": 22,
     "metadata": {},
     "output_type": "execute_result"
    },
    {
     "name": "stderr",
     "output_type": "stream",
     "text": [
      "\r",
      " 57%|███████████████████████████████████████████▏                                | 326/574 [9:18:47<4:02:32, 58.68s/it]"
     ]
    },
    {
     "name": "stdout",
     "output_type": "stream",
     "text": [
      "D:\\zwk_data\\p_tif\\17000\\ndwi1_int8_world_17545.tif\n",
      "['D:\\\\zwk_data\\\\p_tif\\\\GRWL_vector_V01.01\\\\SG35.shp'\n",
      " 'D:\\\\zwk_data\\\\p_tif\\\\GRWL_vector_V01.01\\\\SH35.shp']\n"
     ]
    },
    {
     "data": {
      "text/plain": [
       "'Fri Dec 29 20:35:29 2023'"
      ]
     },
     "execution_count": 22,
     "metadata": {},
     "output_type": "execute_result"
    },
    {
     "data": {
      "text/plain": [
       "118"
      ]
     },
     "execution_count": 22,
     "metadata": {},
     "output_type": "execute_result"
    },
    {
     "name": "stderr",
     "output_type": "stream",
     "text": [
      "\r",
      " 57%|███████████████████████████████████████████▎                                | 327/574 [9:20:08<4:28:45, 65.28s/it]"
     ]
    },
    {
     "name": "stdout",
     "output_type": "stream",
     "text": [
      "D:\\zwk_data\\p_tif\\17000\\ndwi1_int8_world_17546.tif\n",
      "['D:\\\\zwk_data\\\\p_tif\\\\GRWL_vector_V01.01\\\\SG35.shp']\n"
     ]
    },
    {
     "data": {
      "text/plain": [
       "'Fri Dec 29 20:36:49 2023'"
      ]
     },
     "execution_count": 22,
     "metadata": {},
     "output_type": "execute_result"
    },
    {
     "data": {
      "text/plain": [
       "113"
      ]
     },
     "execution_count": 22,
     "metadata": {},
     "output_type": "execute_result"
    },
    {
     "name": "stderr",
     "output_type": "stream",
     "text": [
      "\r",
      " 57%|███████████████████████████████████████████▍                                | 328/574 [9:20:59<4:09:47, 60.92s/it]"
     ]
    },
    {
     "name": "stdout",
     "output_type": "stream",
     "text": [
      "D:\\zwk_data\\p_tif\\17000\\ndwi1_int8_world_17547.tif\n",
      "['D:\\\\zwk_data\\\\p_tif\\\\GRWL_vector_V01.01\\\\SG35.shp']\n"
     ]
    },
    {
     "data": {
      "text/plain": [
       "'Fri Dec 29 20:37:40 2023'"
      ]
     },
     "execution_count": 22,
     "metadata": {},
     "output_type": "execute_result"
    },
    {
     "data": {
      "text/plain": [
       "109"
      ]
     },
     "execution_count": 22,
     "metadata": {},
     "output_type": "execute_result"
    },
    {
     "name": "stderr",
     "output_type": "stream",
     "text": [
      "\r",
      " 57%|███████████████████████████████████████████▌                                | 329/574 [9:21:44<3:49:22, 56.17s/it]"
     ]
    },
    {
     "name": "stdout",
     "output_type": "stream",
     "text": [
      "D:\\zwk_data\\p_tif\\17000\\ndwi1_int8_world_17548.tif\n",
      "['D:\\\\zwk_data\\\\p_tif\\\\GRWL_vector_V01.01\\\\SF35.shp'\n",
      " 'D:\\\\zwk_data\\\\p_tif\\\\GRWL_vector_V01.01\\\\SG35.shp']\n"
     ]
    },
    {
     "data": {
      "text/plain": [
       "'Fri Dec 29 20:38:25 2023'"
      ]
     },
     "execution_count": 22,
     "metadata": {},
     "output_type": "execute_result"
    },
    {
     "data": {
      "text/plain": [
       "110"
      ]
     },
     "execution_count": 22,
     "metadata": {},
     "output_type": "execute_result"
    },
    {
     "name": "stderr",
     "output_type": "stream",
     "text": [
      "\r",
      " 57%|███████████████████████████████████████████▋                                | 330/574 [9:22:35<3:42:27, 54.70s/it]"
     ]
    },
    {
     "name": "stdout",
     "output_type": "stream",
     "text": [
      "D:\\zwk_data\\p_tif\\17000\\ndwi1_int8_world_17549.tif\n",
      "['D:\\\\zwk_data\\\\p_tif\\\\GRWL_vector_V01.01\\\\SF35.shp'\n",
      " 'D:\\\\zwk_data\\\\p_tif\\\\GRWL_vector_V01.01\\\\SG35.shp']\n"
     ]
    },
    {
     "data": {
      "text/plain": [
       "'Fri Dec 29 20:39:16 2023'"
      ]
     },
     "execution_count": 22,
     "metadata": {},
     "output_type": "execute_result"
    },
    {
     "data": {
      "text/plain": [
       "113"
      ]
     },
     "execution_count": 22,
     "metadata": {},
     "output_type": "execute_result"
    },
    {
     "name": "stderr",
     "output_type": "stream",
     "text": [
      "\r",
      " 58%|███████████████████████████████████████████▊                                | 331/574 [9:23:27<3:38:35, 53.97s/it]"
     ]
    },
    {
     "name": "stdout",
     "output_type": "stream",
     "text": [
      "D:\\zwk_data\\p_tif\\17000\\ndwi1_int8_world_17550.tif\n",
      "['D:\\\\zwk_data\\\\p_tif\\\\GRWL_vector_V01.01\\\\SF35.shp']\n"
     ]
    },
    {
     "data": {
      "text/plain": [
       "'Fri Dec 29 20:40:08 2023'"
      ]
     },
     "execution_count": 22,
     "metadata": {},
     "output_type": "execute_result"
    },
    {
     "data": {
      "text/plain": [
       "118"
      ]
     },
     "execution_count": 22,
     "metadata": {},
     "output_type": "execute_result"
    },
    {
     "name": "stderr",
     "output_type": "stream",
     "text": [
      "\r",
      " 58%|███████████████████████████████████████████▉                                | 332/574 [9:24:06<3:19:08, 49.37s/it]"
     ]
    },
    {
     "name": "stdout",
     "output_type": "stream",
     "text": [
      "D:\\zwk_data\\p_tif\\17000\\ndwi1_int8_world_17551.tif\n",
      "['D:\\\\zwk_data\\\\p_tif\\\\GRWL_vector_V01.01\\\\SF35.shp']\n"
     ]
    },
    {
     "data": {
      "text/plain": [
       "'Fri Dec 29 20:40:47 2023'"
      ]
     },
     "execution_count": 22,
     "metadata": {},
     "output_type": "execute_result"
    },
    {
     "data": {
      "text/plain": [
       "118"
      ]
     },
     "execution_count": 22,
     "metadata": {},
     "output_type": "execute_result"
    },
    {
     "name": "stderr",
     "output_type": "stream",
     "text": [
      "\r",
      " 58%|████████████████████████████████████████████                                | 333/574 [9:24:45<3:05:16, 46.12s/it]"
     ]
    },
    {
     "name": "stdout",
     "output_type": "stream",
     "text": [
      "D:\\zwk_data\\p_tif\\17000\\ndwi1_int8_world_17552.tif\n",
      "['D:\\\\zwk_data\\\\p_tif\\\\GRWL_vector_V01.01\\\\SE35.shp'\n",
      " 'D:\\\\zwk_data\\\\p_tif\\\\GRWL_vector_V01.01\\\\SF35.shp']\n"
     ]
    },
    {
     "data": {
      "text/plain": [
       "'Fri Dec 29 20:41:26 2023'"
      ]
     },
     "execution_count": 22,
     "metadata": {},
     "output_type": "execute_result"
    },
    {
     "data": {
      "text/plain": [
       "113"
      ]
     },
     "execution_count": 22,
     "metadata": {},
     "output_type": "execute_result"
    },
    {
     "name": "stderr",
     "output_type": "stream",
     "text": [
      "\r",
      " 58%|████████████████████████████████████████████▏                               | 334/574 [9:25:41<3:16:41, 49.17s/it]"
     ]
    },
    {
     "name": "stdout",
     "output_type": "stream",
     "text": [
      "D:\\zwk_data\\p_tif\\17000\\ndwi1_int8_world_17553.tif\n",
      "['D:\\\\zwk_data\\\\p_tif\\\\GRWL_vector_V01.01\\\\SH35.shp'\n",
      " 'D:\\\\zwk_data\\\\p_tif\\\\GRWL_vector_V01.01\\\\SH36.shp']\n"
     ]
    },
    {
     "data": {
      "text/plain": [
       "'Fri Dec 29 20:42:22 2023'"
      ]
     },
     "execution_count": 22,
     "metadata": {},
     "output_type": "execute_result"
    },
    {
     "data": {
      "text/plain": [
       "118"
      ]
     },
     "execution_count": 22,
     "metadata": {},
     "output_type": "execute_result"
    },
    {
     "name": "stderr",
     "output_type": "stream",
     "text": [
      "\r",
      " 58%|████████████████████████████████████████████▎                               | 335/574 [9:26:56<3:46:34, 56.88s/it]"
     ]
    },
    {
     "name": "stdout",
     "output_type": "stream",
     "text": [
      "D:\\zwk_data\\p_tif\\17000\\ndwi1_int8_world_17554.tif\n",
      "['D:\\\\zwk_data\\\\p_tif\\\\GRWL_vector_V01.01\\\\SG35.shp'\n",
      " 'D:\\\\zwk_data\\\\p_tif\\\\GRWL_vector_V01.01\\\\SG36.shp'\n",
      " 'D:\\\\zwk_data\\\\p_tif\\\\GRWL_vector_V01.01\\\\SH35.shp'\n",
      " 'D:\\\\zwk_data\\\\p_tif\\\\GRWL_vector_V01.01\\\\SH36.shp']\n"
     ]
    },
    {
     "data": {
      "text/plain": [
       "'Fri Dec 29 20:43:37 2023'"
      ]
     },
     "execution_count": 22,
     "metadata": {},
     "output_type": "execute_result"
    },
    {
     "data": {
      "text/plain": [
       "118"
      ]
     },
     "execution_count": 22,
     "metadata": {},
     "output_type": "execute_result"
    },
    {
     "name": "stderr",
     "output_type": "stream",
     "text": [
      "\r",
      " 59%|████████████████████████████████████████████▍                               | 336/574 [9:28:55<5:00:10, 75.67s/it]"
     ]
    },
    {
     "name": "stdout",
     "output_type": "stream",
     "text": [
      "D:\\zwk_data\\p_tif\\17000\\ndwi1_int8_world_17555.tif\n",
      "['D:\\\\zwk_data\\\\p_tif\\\\GRWL_vector_V01.01\\\\SG35.shp'\n",
      " 'D:\\\\zwk_data\\\\p_tif\\\\GRWL_vector_V01.01\\\\SG36.shp'\n",
      " 'D:\\\\zwk_data\\\\p_tif\\\\GRWL_vector_V01.01\\\\SH35.shp'\n",
      " 'D:\\\\zwk_data\\\\p_tif\\\\GRWL_vector_V01.01\\\\SH36.shp']\n"
     ]
    },
    {
     "data": {
      "text/plain": [
       "'Fri Dec 29 20:45:37 2023'"
      ]
     },
     "execution_count": 22,
     "metadata": {},
     "output_type": "execute_result"
    },
    {
     "data": {
      "text/plain": [
       "114"
      ]
     },
     "execution_count": 22,
     "metadata": {},
     "output_type": "execute_result"
    },
    {
     "name": "stderr",
     "output_type": "stream",
     "text": [
      "\r",
      " 59%|████████████████████████████████████████████▌                               | 337/574 [9:30:59<5:55:50, 90.08s/it]"
     ]
    },
    {
     "name": "stdout",
     "output_type": "stream",
     "text": [
      "D:\\zwk_data\\p_tif\\17000\\ndwi1_int8_world_17556.tif\n",
      "['D:\\\\zwk_data\\\\p_tif\\\\GRWL_vector_V01.01\\\\SG35.shp'\n",
      " 'D:\\\\zwk_data\\\\p_tif\\\\GRWL_vector_V01.01\\\\SG36.shp']\n"
     ]
    },
    {
     "data": {
      "text/plain": [
       "'Fri Dec 29 20:47:41 2023'"
      ]
     },
     "execution_count": 22,
     "metadata": {},
     "output_type": "execute_result"
    },
    {
     "data": {
      "text/plain": [
       "113"
      ]
     },
     "execution_count": 22,
     "metadata": {},
     "output_type": "execute_result"
    },
    {
     "name": "stderr",
     "output_type": "stream",
     "text": [
      "\r",
      " 59%|████████████████████████████████████████████▊                               | 338/574 [9:32:14<5:36:02, 85.44s/it]"
     ]
    },
    {
     "name": "stdout",
     "output_type": "stream",
     "text": [
      "D:\\zwk_data\\p_tif\\17000\\ndwi1_int8_world_17557.tif\n",
      "['D:\\\\zwk_data\\\\p_tif\\\\GRWL_vector_V01.01\\\\SG35.shp'\n",
      " 'D:\\\\zwk_data\\\\p_tif\\\\GRWL_vector_V01.01\\\\SG36.shp']\n"
     ]
    },
    {
     "data": {
      "text/plain": [
       "'Fri Dec 29 20:48:55 2023'"
      ]
     },
     "execution_count": 22,
     "metadata": {},
     "output_type": "execute_result"
    },
    {
     "data": {
      "text/plain": [
       "113"
      ]
     },
     "execution_count": 22,
     "metadata": {},
     "output_type": "execute_result"
    },
    {
     "name": "stderr",
     "output_type": "stream",
     "text": [
      "\r",
      " 59%|████████████████████████████████████████████▉                               | 339/574 [9:33:25<5:18:38, 81.35s/it]"
     ]
    },
    {
     "name": "stdout",
     "output_type": "stream",
     "text": [
      "D:\\zwk_data\\p_tif\\17000\\ndwi1_int8_world_17558.tif\n",
      "['D:\\\\zwk_data\\\\p_tif\\\\GRWL_vector_V01.01\\\\SF35.shp'\n",
      " 'D:\\\\zwk_data\\\\p_tif\\\\GRWL_vector_V01.01\\\\SF36.shp'\n",
      " 'D:\\\\zwk_data\\\\p_tif\\\\GRWL_vector_V01.01\\\\SG35.shp'\n",
      " 'D:\\\\zwk_data\\\\p_tif\\\\GRWL_vector_V01.01\\\\SG36.shp']\n"
     ]
    },
    {
     "data": {
      "text/plain": [
       "'Fri Dec 29 20:50:07 2023'"
      ]
     },
     "execution_count": 22,
     "metadata": {},
     "output_type": "execute_result"
    },
    {
     "data": {
      "text/plain": [
       "114"
      ]
     },
     "execution_count": 22,
     "metadata": {},
     "output_type": "execute_result"
    },
    {
     "name": "stderr",
     "output_type": "stream",
     "text": [
      "\r",
      " 59%|█████████████████████████████████████████████                               | 340/574 [9:34:57<5:29:13, 84.42s/it]"
     ]
    },
    {
     "name": "stdout",
     "output_type": "stream",
     "text": [
      "D:\\zwk_data\\p_tif\\17000\\ndwi1_int8_world_17559.tif\n",
      "['D:\\\\zwk_data\\\\p_tif\\\\GRWL_vector_V01.01\\\\SF35.shp'\n",
      " 'D:\\\\zwk_data\\\\p_tif\\\\GRWL_vector_V01.01\\\\SF36.shp'\n",
      " 'D:\\\\zwk_data\\\\p_tif\\\\GRWL_vector_V01.01\\\\SG35.shp'\n",
      " 'D:\\\\zwk_data\\\\p_tif\\\\GRWL_vector_V01.01\\\\SG36.shp']\n"
     ]
    },
    {
     "data": {
      "text/plain": [
       "'Fri Dec 29 20:51:38 2023'"
      ]
     },
     "execution_count": 22,
     "metadata": {},
     "output_type": "execute_result"
    },
    {
     "data": {
      "text/plain": [
       "113"
      ]
     },
     "execution_count": 22,
     "metadata": {},
     "output_type": "execute_result"
    },
    {
     "name": "stderr",
     "output_type": "stream",
     "text": [
      "\r",
      " 59%|█████████████████████████████████████████████▏                              | 341/574 [9:36:31<5:38:35, 87.19s/it]"
     ]
    },
    {
     "name": "stdout",
     "output_type": "stream",
     "text": [
      "D:\\zwk_data\\p_tif\\17000\\ndwi1_int8_world_17560.tif\n",
      "['D:\\\\zwk_data\\\\p_tif\\\\GRWL_vector_V01.01\\\\SF35.shp'\n",
      " 'D:\\\\zwk_data\\\\p_tif\\\\GRWL_vector_V01.01\\\\SF36.shp']\n"
     ]
    },
    {
     "data": {
      "text/plain": [
       "'Fri Dec 29 20:53:12 2023'"
      ]
     },
     "execution_count": 22,
     "metadata": {},
     "output_type": "execute_result"
    },
    {
     "data": {
      "text/plain": [
       "118"
      ]
     },
     "execution_count": 22,
     "metadata": {},
     "output_type": "execute_result"
    },
    {
     "name": "stderr",
     "output_type": "stream",
     "text": [
      "\r",
      " 60%|█████████████████████████████████████████████▎                              | 342/574 [9:37:26<5:00:36, 77.74s/it]"
     ]
    },
    {
     "name": "stdout",
     "output_type": "stream",
     "text": [
      "D:\\zwk_data\\p_tif\\17000\\ndwi1_int8_world_17561.tif\n",
      "['D:\\\\zwk_data\\\\p_tif\\\\GRWL_vector_V01.01\\\\SF35.shp'\n",
      " 'D:\\\\zwk_data\\\\p_tif\\\\GRWL_vector_V01.01\\\\SF36.shp']\n"
     ]
    },
    {
     "data": {
      "text/plain": [
       "'Fri Dec 29 20:54:07 2023'"
      ]
     },
     "execution_count": 22,
     "metadata": {},
     "output_type": "execute_result"
    },
    {
     "data": {
      "text/plain": [
       "118"
      ]
     },
     "execution_count": 22,
     "metadata": {},
     "output_type": "execute_result"
    },
    {
     "name": "stderr",
     "output_type": "stream",
     "text": [
      "\r",
      " 60%|█████████████████████████████████████████████▍                              | 343/574 [9:38:20<4:31:03, 70.40s/it]"
     ]
    },
    {
     "name": "stdout",
     "output_type": "stream",
     "text": [
      "D:\\zwk_data\\p_tif\\17000\\ndwi1_int8_world_17562.tif\n",
      "['D:\\\\zwk_data\\\\p_tif\\\\GRWL_vector_V01.01\\\\SE35.shp'\n",
      " 'D:\\\\zwk_data\\\\p_tif\\\\GRWL_vector_V01.01\\\\SE36.shp'\n",
      " 'D:\\\\zwk_data\\\\p_tif\\\\GRWL_vector_V01.01\\\\SF35.shp'\n",
      " 'D:\\\\zwk_data\\\\p_tif\\\\GRWL_vector_V01.01\\\\SF36.shp']\n"
     ]
    },
    {
     "data": {
      "text/plain": [
       "'Fri Dec 29 20:55:01 2023'"
      ]
     },
     "execution_count": 22,
     "metadata": {},
     "output_type": "execute_result"
    },
    {
     "data": {
      "text/plain": [
       "117"
      ]
     },
     "execution_count": 22,
     "metadata": {},
     "output_type": "execute_result"
    },
    {
     "name": "stderr",
     "output_type": "stream",
     "text": [
      "\r",
      " 60%|█████████████████████████████████████████████▌                              | 344/574 [9:39:55<4:58:48, 77.95s/it]"
     ]
    },
    {
     "name": "stdout",
     "output_type": "stream",
     "text": [
      "D:\\zwk_data\\p_tif\\17000\\ndwi1_int8_world_17563.tif\n",
      "['D:\\\\zwk_data\\\\p_tif\\\\GRWL_vector_V01.01\\\\SH35.shp'\n",
      " 'D:\\\\zwk_data\\\\p_tif\\\\GRWL_vector_V01.01\\\\SH36.shp']\n"
     ]
    },
    {
     "data": {
      "text/plain": [
       "'Fri Dec 29 20:56:36 2023'"
      ]
     },
     "execution_count": 22,
     "metadata": {},
     "output_type": "execute_result"
    },
    {
     "data": {
      "text/plain": [
       "114"
      ]
     },
     "execution_count": 22,
     "metadata": {},
     "output_type": "execute_result"
    },
    {
     "name": "stderr",
     "output_type": "stream",
     "text": [
      "\r",
      " 60%|█████████████████████████████████████████████▋                              | 345/574 [9:41:14<4:58:58, 78.34s/it]"
     ]
    },
    {
     "name": "stdout",
     "output_type": "stream",
     "text": [
      "D:\\zwk_data\\p_tif\\17000\\ndwi1_int8_world_17564.tif\n",
      "['D:\\\\zwk_data\\\\p_tif\\\\GRWL_vector_V01.01\\\\SG35.shp'\n",
      " 'D:\\\\zwk_data\\\\p_tif\\\\GRWL_vector_V01.01\\\\SG36.shp'\n",
      " 'D:\\\\zwk_data\\\\p_tif\\\\GRWL_vector_V01.01\\\\SH35.shp'\n",
      " 'D:\\\\zwk_data\\\\p_tif\\\\GRWL_vector_V01.01\\\\SH36.shp']\n"
     ]
    },
    {
     "data": {
      "text/plain": [
       "'Fri Dec 29 20:57:56 2023'"
      ]
     },
     "execution_count": 22,
     "metadata": {},
     "output_type": "execute_result"
    },
    {
     "data": {
      "text/plain": [
       "118"
      ]
     },
     "execution_count": 22,
     "metadata": {},
     "output_type": "execute_result"
    },
    {
     "name": "stderr",
     "output_type": "stream",
     "text": [
      "\r",
      " 60%|█████████████████████████████████████████████▊                              | 346/574 [9:43:16<5:47:28, 91.44s/it]"
     ]
    },
    {
     "name": "stdout",
     "output_type": "stream",
     "text": [
      "D:\\zwk_data\\p_tif\\17000\\ndwi1_int8_world_17565.tif\n",
      "['D:\\\\zwk_data\\\\p_tif\\\\GRWL_vector_V01.01\\\\SG35.shp'\n",
      " 'D:\\\\zwk_data\\\\p_tif\\\\GRWL_vector_V01.01\\\\SG36.shp'\n",
      " 'D:\\\\zwk_data\\\\p_tif\\\\GRWL_vector_V01.01\\\\SH35.shp'\n",
      " 'D:\\\\zwk_data\\\\p_tif\\\\GRWL_vector_V01.01\\\\SH36.shp']\n"
     ]
    },
    {
     "data": {
      "text/plain": [
       "'Fri Dec 29 20:59:58 2023'"
      ]
     },
     "execution_count": 22,
     "metadata": {},
     "output_type": "execute_result"
    },
    {
     "data": {
      "text/plain": [
       "114"
      ]
     },
     "execution_count": 22,
     "metadata": {},
     "output_type": "execute_result"
    },
    {
     "name": "stderr",
     "output_type": "stream",
     "text": [
      "\r",
      " 60%|█████████████████████████████████████████████▎                             | 347/574 [9:45:21<6:24:05, 101.52s/it]"
     ]
    },
    {
     "name": "stdout",
     "output_type": "stream",
     "text": [
      "D:\\zwk_data\\p_tif\\17000\\ndwi1_int8_world_17566.tif\n",
      "['D:\\\\zwk_data\\\\p_tif\\\\GRWL_vector_V01.01\\\\SG35.shp'\n",
      " 'D:\\\\zwk_data\\\\p_tif\\\\GRWL_vector_V01.01\\\\SG36.shp']\n"
     ]
    },
    {
     "data": {
      "text/plain": [
       "'Fri Dec 29 21:02:03 2023'"
      ]
     },
     "execution_count": 22,
     "metadata": {},
     "output_type": "execute_result"
    },
    {
     "data": {
      "text/plain": [
       "113"
      ]
     },
     "execution_count": 22,
     "metadata": {},
     "output_type": "execute_result"
    },
    {
     "name": "stderr",
     "output_type": "stream",
     "text": [
      "\r",
      " 61%|██████████████████████████████████████████████                              | 348/574 [9:46:37<5:53:12, 93.77s/it]"
     ]
    },
    {
     "name": "stdout",
     "output_type": "stream",
     "text": [
      "D:\\zwk_data\\p_tif\\17000\\ndwi1_int8_world_17567.tif\n",
      "['D:\\\\zwk_data\\\\p_tif\\\\GRWL_vector_V01.01\\\\SG35.shp'\n",
      " 'D:\\\\zwk_data\\\\p_tif\\\\GRWL_vector_V01.01\\\\SG36.shp']\n"
     ]
    },
    {
     "data": {
      "text/plain": [
       "'Fri Dec 29 21:03:19 2023'"
      ]
     },
     "execution_count": 22,
     "metadata": {},
     "output_type": "execute_result"
    },
    {
     "data": {
      "text/plain": [
       "113"
      ]
     },
     "execution_count": 22,
     "metadata": {},
     "output_type": "execute_result"
    },
    {
     "name": "stderr",
     "output_type": "stream",
     "text": [
      "\r",
      " 61%|██████████████████████████████████████████████▏                             | 349/574 [9:47:48<5:25:26, 86.78s/it]"
     ]
    },
    {
     "name": "stdout",
     "output_type": "stream",
     "text": [
      "D:\\zwk_data\\p_tif\\17000\\ndwi1_int8_world_17568.tif\n",
      "['D:\\\\zwk_data\\\\p_tif\\\\GRWL_vector_V01.01\\\\SF35.shp'\n",
      " 'D:\\\\zwk_data\\\\p_tif\\\\GRWL_vector_V01.01\\\\SF36.shp'\n",
      " 'D:\\\\zwk_data\\\\p_tif\\\\GRWL_vector_V01.01\\\\SG35.shp'\n",
      " 'D:\\\\zwk_data\\\\p_tif\\\\GRWL_vector_V01.01\\\\SG36.shp']\n"
     ]
    },
    {
     "data": {
      "text/plain": [
       "'Fri Dec 29 21:04:29 2023'"
      ]
     },
     "execution_count": 22,
     "metadata": {},
     "output_type": "execute_result"
    },
    {
     "data": {
      "text/plain": [
       "118"
      ]
     },
     "execution_count": 22,
     "metadata": {},
     "output_type": "execute_result"
    },
    {
     "name": "stderr",
     "output_type": "stream",
     "text": [
      "\r",
      " 61%|██████████████████████████████████████████████▎                             | 350/574 [9:49:20<5:30:24, 88.50s/it]"
     ]
    },
    {
     "name": "stdout",
     "output_type": "stream",
     "text": [
      "D:\\zwk_data\\p_tif\\17000\\ndwi1_int8_world_17569.tif\n",
      "['D:\\\\zwk_data\\\\p_tif\\\\GRWL_vector_V01.01\\\\SF35.shp'\n",
      " 'D:\\\\zwk_data\\\\p_tif\\\\GRWL_vector_V01.01\\\\SF36.shp'\n",
      " 'D:\\\\zwk_data\\\\p_tif\\\\GRWL_vector_V01.01\\\\SG35.shp'\n",
      " 'D:\\\\zwk_data\\\\p_tif\\\\GRWL_vector_V01.01\\\\SG36.shp']\n"
     ]
    },
    {
     "data": {
      "text/plain": [
       "'Fri Dec 29 21:06:01 2023'"
      ]
     },
     "execution_count": 22,
     "metadata": {},
     "output_type": "execute_result"
    },
    {
     "data": {
      "text/plain": [
       "117"
      ]
     },
     "execution_count": 22,
     "metadata": {},
     "output_type": "execute_result"
    },
    {
     "name": "stderr",
     "output_type": "stream",
     "text": [
      "\r",
      " 61%|██████████████████████████████████████████████▍                             | 351/574 [9:50:55<5:36:12, 90.46s/it]"
     ]
    },
    {
     "name": "stdout",
     "output_type": "stream",
     "text": [
      "D:\\zwk_data\\p_tif\\17000\\ndwi1_int8_world_17570.tif\n",
      "['D:\\\\zwk_data\\\\p_tif\\\\GRWL_vector_V01.01\\\\SF35.shp'\n",
      " 'D:\\\\zwk_data\\\\p_tif\\\\GRWL_vector_V01.01\\\\SF36.shp']\n"
     ]
    },
    {
     "data": {
      "text/plain": [
       "'Fri Dec 29 21:07:37 2023'"
      ]
     },
     "execution_count": 22,
     "metadata": {},
     "output_type": "execute_result"
    },
    {
     "data": {
      "text/plain": [
       "118"
      ]
     },
     "execution_count": 22,
     "metadata": {},
     "output_type": "execute_result"
    },
    {
     "name": "stderr",
     "output_type": "stream",
     "text": [
      "\r",
      " 61%|██████████████████████████████████████████████▌                             | 352/574 [9:51:52<4:57:40, 80.45s/it]"
     ]
    },
    {
     "name": "stdout",
     "output_type": "stream",
     "text": [
      "D:\\zwk_data\\p_tif\\17000\\ndwi1_int8_world_17571.tif\n",
      "['D:\\\\zwk_data\\\\p_tif\\\\GRWL_vector_V01.01\\\\SF35.shp'\n",
      " 'D:\\\\zwk_data\\\\p_tif\\\\GRWL_vector_V01.01\\\\SF36.shp']\n"
     ]
    },
    {
     "data": {
      "text/plain": [
       "'Fri Dec 29 21:08:33 2023'"
      ]
     },
     "execution_count": 22,
     "metadata": {},
     "output_type": "execute_result"
    },
    {
     "data": {
      "text/plain": [
       "118"
      ]
     },
     "execution_count": 22,
     "metadata": {},
     "output_type": "execute_result"
    },
    {
     "name": "stderr",
     "output_type": "stream",
     "text": [
      "\r",
      " 61%|██████████████████████████████████████████████▋                             | 353/574 [9:52:47<4:28:17, 72.84s/it]"
     ]
    },
    {
     "name": "stdout",
     "output_type": "stream",
     "text": [
      "D:\\zwk_data\\p_tif\\17000\\ndwi1_int8_world_17572.tif\n",
      "['D:\\\\zwk_data\\\\p_tif\\\\GRWL_vector_V01.01\\\\SE35.shp'\n",
      " 'D:\\\\zwk_data\\\\p_tif\\\\GRWL_vector_V01.01\\\\SE36.shp'\n",
      " 'D:\\\\zwk_data\\\\p_tif\\\\GRWL_vector_V01.01\\\\SF35.shp'\n",
      " 'D:\\\\zwk_data\\\\p_tif\\\\GRWL_vector_V01.01\\\\SF36.shp']\n"
     ]
    },
    {
     "data": {
      "text/plain": [
       "'Fri Dec 29 21:09:28 2023'"
      ]
     },
     "execution_count": 22,
     "metadata": {},
     "output_type": "execute_result"
    },
    {
     "data": {
      "text/plain": [
       "117"
      ]
     },
     "execution_count": 22,
     "metadata": {},
     "output_type": "execute_result"
    },
    {
     "name": "stderr",
     "output_type": "stream",
     "text": [
      "\r",
      " 62%|██████████████████████████████████████████████▊                             | 354/574 [9:54:22<4:51:27, 79.49s/it]"
     ]
    },
    {
     "name": "stdout",
     "output_type": "stream",
     "text": [
      "D:\\zwk_data\\p_tif\\17000\\ndwi1_int8_world_17573.tif\n",
      "['D:\\\\zwk_data\\\\p_tif\\\\GRWL_vector_V01.01\\\\SH36.shp']\n"
     ]
    },
    {
     "data": {
      "text/plain": [
       "'Fri Dec 29 21:11:03 2023'"
      ]
     },
     "execution_count": 22,
     "metadata": {},
     "output_type": "execute_result"
    },
    {
     "data": {
      "text/plain": [
       "106"
      ]
     },
     "execution_count": 22,
     "metadata": {},
     "output_type": "execute_result"
    },
    {
     "name": "stderr",
     "output_type": "stream",
     "text": [
      "\r",
      " 62%|███████████████████████████████████████████████                             | 355/574 [9:55:02<4:06:14, 67.46s/it]"
     ]
    },
    {
     "name": "stdout",
     "output_type": "stream",
     "text": [
      "D:\\zwk_data\\p_tif\\17000\\ndwi1_int8_world_17574.tif\n",
      "['D:\\\\zwk_data\\\\p_tif\\\\GRWL_vector_V01.01\\\\SG36.shp'\n",
      " 'D:\\\\zwk_data\\\\p_tif\\\\GRWL_vector_V01.01\\\\SH36.shp']\n"
     ]
    },
    {
     "data": {
      "text/plain": [
       "'Fri Dec 29 21:11:43 2023'"
      ]
     },
     "execution_count": 22,
     "metadata": {},
     "output_type": "execute_result"
    },
    {
     "data": {
      "text/plain": [
       "116"
      ]
     },
     "execution_count": 22,
     "metadata": {},
     "output_type": "execute_result"
    },
    {
     "name": "stderr",
     "output_type": "stream",
     "text": [
      "\r",
      " 62%|███████████████████████████████████████████████▏                            | 356/574 [9:56:07<4:02:24, 66.72s/it]"
     ]
    },
    {
     "name": "stdout",
     "output_type": "stream",
     "text": [
      "D:\\zwk_data\\p_tif\\17000\\ndwi1_int8_world_17575.tif\n",
      "['D:\\\\zwk_data\\\\p_tif\\\\GRWL_vector_V01.01\\\\SG36.shp'\n",
      " 'D:\\\\zwk_data\\\\p_tif\\\\GRWL_vector_V01.01\\\\SH36.shp']\n"
     ]
    },
    {
     "data": {
      "text/plain": [
       "'Fri Dec 29 21:12:48 2023'"
      ]
     },
     "execution_count": 22,
     "metadata": {},
     "output_type": "execute_result"
    },
    {
     "data": {
      "text/plain": [
       "116"
      ]
     },
     "execution_count": 22,
     "metadata": {},
     "output_type": "execute_result"
    },
    {
     "name": "stderr",
     "output_type": "stream",
     "text": [
      "\r",
      " 62%|███████████████████████████████████████████████▎                            | 357/574 [9:57:18<4:05:52, 67.99s/it]"
     ]
    },
    {
     "name": "stdout",
     "output_type": "stream",
     "text": [
      "D:\\zwk_data\\p_tif\\17000\\ndwi1_int8_world_17576.tif\n",
      "['D:\\\\zwk_data\\\\p_tif\\\\GRWL_vector_V01.01\\\\SG36.shp']\n"
     ]
    },
    {
     "data": {
      "text/plain": [
       "'Fri Dec 29 21:13:59 2023'"
      ]
     },
     "execution_count": 22,
     "metadata": {},
     "output_type": "execute_result"
    },
    {
     "data": {
      "text/plain": [
       "115"
      ]
     },
     "execution_count": 22,
     "metadata": {},
     "output_type": "execute_result"
    },
    {
     "name": "stderr",
     "output_type": "stream",
     "text": [
      "\r",
      " 62%|███████████████████████████████████████████████▍                            | 358/574 [9:58:11<3:48:59, 63.61s/it]"
     ]
    },
    {
     "name": "stdout",
     "output_type": "stream",
     "text": [
      "D:\\zwk_data\\p_tif\\17000\\ndwi1_int8_world_17577.tif\n",
      "['D:\\\\zwk_data\\\\p_tif\\\\GRWL_vector_V01.01\\\\SG36.shp']\n"
     ]
    },
    {
     "data": {
      "text/plain": [
       "'Fri Dec 29 21:14:52 2023'"
      ]
     },
     "execution_count": 22,
     "metadata": {},
     "output_type": "execute_result"
    },
    {
     "data": {
      "text/plain": [
       "115"
      ]
     },
     "execution_count": 22,
     "metadata": {},
     "output_type": "execute_result"
    },
    {
     "name": "stderr",
     "output_type": "stream",
     "text": [
      "\r",
      " 63%|███████████████████████████████████████████████▌                            | 359/574 [9:59:04<3:36:09, 60.32s/it]"
     ]
    },
    {
     "name": "stdout",
     "output_type": "stream",
     "text": [
      "D:\\zwk_data\\p_tif\\17000\\ndwi1_int8_world_17578.tif\n",
      "['D:\\\\zwk_data\\\\p_tif\\\\GRWL_vector_V01.01\\\\SF36.shp'\n",
      " 'D:\\\\zwk_data\\\\p_tif\\\\GRWL_vector_V01.01\\\\SG36.shp']\n"
     ]
    },
    {
     "data": {
      "text/plain": [
       "'Fri Dec 29 21:15:45 2023'"
      ]
     },
     "execution_count": 22,
     "metadata": {},
     "output_type": "execute_result"
    },
    {
     "data": {
      "text/plain": [
       "116"
      ]
     },
     "execution_count": 22,
     "metadata": {},
     "output_type": "execute_result"
    },
    {
     "name": "stderr",
     "output_type": "stream",
     "text": [
      "\r",
      " 63%|███████████████████████████████████████████████                            | 360/574 [10:00:12<3:43:47, 62.75s/it]"
     ]
    },
    {
     "name": "stdout",
     "output_type": "stream",
     "text": [
      "D:\\zwk_data\\p_tif\\17000\\ndwi1_int8_world_17579.tif\n",
      "['D:\\\\zwk_data\\\\p_tif\\\\GRWL_vector_V01.01\\\\SF36.shp'\n",
      " 'D:\\\\zwk_data\\\\p_tif\\\\GRWL_vector_V01.01\\\\SG36.shp']\n"
     ]
    },
    {
     "data": {
      "text/plain": [
       "'Fri Dec 29 21:16:53 2023'"
      ]
     },
     "execution_count": 22,
     "metadata": {},
     "output_type": "execute_result"
    },
    {
     "data": {
      "text/plain": [
       "115"
      ]
     },
     "execution_count": 22,
     "metadata": {},
     "output_type": "execute_result"
    },
    {
     "name": "stderr",
     "output_type": "stream",
     "text": [
      "\r",
      " 63%|███████████████████████████████████████████████▏                           | 361/574 [10:01:22<3:50:47, 65.01s/it]"
     ]
    },
    {
     "name": "stdout",
     "output_type": "stream",
     "text": [
      "D:\\zwk_data\\p_tif\\17000\\ndwi1_int8_world_17580.tif\n",
      "['D:\\\\zwk_data\\\\p_tif\\\\GRWL_vector_V01.01\\\\SF36.shp']\n"
     ]
    },
    {
     "data": {
      "text/plain": [
       "'Fri Dec 29 21:18:04 2023'"
      ]
     },
     "execution_count": 22,
     "metadata": {},
     "output_type": "execute_result"
    },
    {
     "data": {
      "text/plain": [
       "116"
      ]
     },
     "execution_count": 22,
     "metadata": {},
     "output_type": "execute_result"
    },
    {
     "name": "stderr",
     "output_type": "stream",
     "text": [
      "\r",
      " 63%|███████████████████████████████████████████████▎                           | 362/574 [10:02:11<3:32:11, 60.05s/it]"
     ]
    },
    {
     "name": "stdout",
     "output_type": "stream",
     "text": [
      "D:\\zwk_data\\p_tif\\17000\\ndwi1_int8_world_17581.tif\n",
      "['D:\\\\zwk_data\\\\p_tif\\\\GRWL_vector_V01.01\\\\SF36.shp']\n"
     ]
    },
    {
     "data": {
      "text/plain": [
       "'Fri Dec 29 21:18:52 2023'"
      ]
     },
     "execution_count": 22,
     "metadata": {},
     "output_type": "execute_result"
    },
    {
     "data": {
      "text/plain": [
       "116"
      ]
     },
     "execution_count": 22,
     "metadata": {},
     "output_type": "execute_result"
    },
    {
     "name": "stderr",
     "output_type": "stream",
     "text": [
      "\r",
      " 63%|███████████████████████████████████████████████▍                           | 363/574 [10:02:58<3:17:22, 56.12s/it]"
     ]
    },
    {
     "name": "stdout",
     "output_type": "stream",
     "text": [
      "D:\\zwk_data\\p_tif\\17000\\ndwi1_int8_world_17582.tif\n",
      "['D:\\\\zwk_data\\\\p_tif\\\\GRWL_vector_V01.01\\\\SE36.shp'\n",
      " 'D:\\\\zwk_data\\\\p_tif\\\\GRWL_vector_V01.01\\\\SF36.shp']\n"
     ]
    },
    {
     "data": {
      "text/plain": [
       "'Fri Dec 29 21:19:39 2023'"
      ]
     },
     "execution_count": 22,
     "metadata": {},
     "output_type": "execute_result"
    },
    {
     "data": {
      "text/plain": [
       "111"
      ]
     },
     "execution_count": 22,
     "metadata": {},
     "output_type": "execute_result"
    },
    {
     "name": "stderr",
     "output_type": "stream",
     "text": [
      "\r",
      " 63%|███████████████████████████████████████████████▌                           | 364/574 [10:04:10<3:33:22, 60.97s/it]"
     ]
    },
    {
     "name": "stdout",
     "output_type": "stream",
     "text": [
      "D:\\zwk_data\\p_tif\\17000\\ndwi1_int8_world_17583.tif\n",
      "['D:\\\\zwk_data\\\\p_tif\\\\GRWL_vector_V01.01\\\\SH36.shp']\n"
     ]
    },
    {
     "data": {
      "text/plain": [
       "'Fri Dec 29 21:20:52 2023'"
      ]
     },
     "execution_count": 22,
     "metadata": {},
     "output_type": "execute_result"
    },
    {
     "data": {
      "text/plain": [
       "97"
      ]
     },
     "execution_count": 22,
     "metadata": {},
     "output_type": "execute_result"
    },
    {
     "name": "stderr",
     "output_type": "stream",
     "text": [
      "\r",
      " 64%|███████████████████████████████████████████████▋                           | 365/574 [10:04:51<3:10:53, 54.80s/it]"
     ]
    },
    {
     "name": "stdout",
     "output_type": "stream",
     "text": [
      "D:\\zwk_data\\p_tif\\17000\\ndwi1_int8_world_17584.tif\n",
      "['D:\\\\zwk_data\\\\p_tif\\\\GRWL_vector_V01.01\\\\SG36.shp'\n",
      " 'D:\\\\zwk_data\\\\p_tif\\\\GRWL_vector_V01.01\\\\SH36.shp']\n"
     ]
    },
    {
     "data": {
      "text/plain": [
       "'Fri Dec 29 21:21:32 2023'"
      ]
     },
     "execution_count": 22,
     "metadata": {},
     "output_type": "execute_result"
    },
    {
     "data": {
      "text/plain": [
       "117"
      ]
     },
     "execution_count": 22,
     "metadata": {},
     "output_type": "execute_result"
    },
    {
     "name": "stderr",
     "output_type": "stream",
     "text": [
      "\r",
      " 64%|███████████████████████████████████████████████▊                           | 366/574 [10:05:56<3:20:58, 57.97s/it]"
     ]
    },
    {
     "name": "stdout",
     "output_type": "stream",
     "text": [
      "D:\\zwk_data\\p_tif\\17000\\ndwi1_int8_world_17585.tif\n",
      "['D:\\\\zwk_data\\\\p_tif\\\\GRWL_vector_V01.01\\\\SG36.shp'\n",
      " 'D:\\\\zwk_data\\\\p_tif\\\\GRWL_vector_V01.01\\\\SH36.shp']\n"
     ]
    },
    {
     "data": {
      "text/plain": [
       "'Fri Dec 29 21:22:37 2023'"
      ]
     },
     "execution_count": 22,
     "metadata": {},
     "output_type": "execute_result"
    },
    {
     "data": {
      "text/plain": [
       "115"
      ]
     },
     "execution_count": 22,
     "metadata": {},
     "output_type": "execute_result"
    },
    {
     "name": "stderr",
     "output_type": "stream",
     "text": [
      "\r",
      " 64%|███████████████████████████████████████████████▉                           | 367/574 [10:07:05<3:31:46, 61.38s/it]"
     ]
    },
    {
     "name": "stdout",
     "output_type": "stream",
     "text": [
      "D:\\zwk_data\\p_tif\\17000\\ndwi1_int8_world_17586.tif\n",
      "['D:\\\\zwk_data\\\\p_tif\\\\GRWL_vector_V01.01\\\\SG36.shp']\n"
     ]
    },
    {
     "data": {
      "text/plain": [
       "'Fri Dec 29 21:23:47 2023'"
      ]
     },
     "execution_count": 22,
     "metadata": {},
     "output_type": "execute_result"
    },
    {
     "data": {
      "text/plain": [
       "116"
      ]
     },
     "execution_count": 22,
     "metadata": {},
     "output_type": "execute_result"
    },
    {
     "name": "stderr",
     "output_type": "stream",
     "text": [
      "\r",
      " 64%|████████████████████████████████████████████████                           | 368/574 [10:07:58<3:22:15, 58.91s/it]"
     ]
    },
    {
     "name": "stdout",
     "output_type": "stream",
     "text": [
      "D:\\zwk_data\\p_tif\\17000\\ndwi1_int8_world_17587.tif\n",
      "['D:\\\\zwk_data\\\\p_tif\\\\GRWL_vector_V01.01\\\\SG36.shp']\n"
     ]
    },
    {
     "data": {
      "text/plain": [
       "'Fri Dec 29 21:24:40 2023'"
      ]
     },
     "execution_count": 22,
     "metadata": {},
     "output_type": "execute_result"
    },
    {
     "data": {
      "text/plain": [
       "116"
      ]
     },
     "execution_count": 22,
     "metadata": {},
     "output_type": "execute_result"
    },
    {
     "name": "stderr",
     "output_type": "stream",
     "text": [
      "\r",
      " 64%|████████████████████████████████████████████████▏                          | 369/574 [10:08:51<3:15:06, 57.10s/it]"
     ]
    },
    {
     "name": "stdout",
     "output_type": "stream",
     "text": [
      "D:\\zwk_data\\p_tif\\17000\\ndwi1_int8_world_17588.tif\n",
      "['D:\\\\zwk_data\\\\p_tif\\\\GRWL_vector_V01.01\\\\SF36.shp'\n",
      " 'D:\\\\zwk_data\\\\p_tif\\\\GRWL_vector_V01.01\\\\SG36.shp']\n"
     ]
    },
    {
     "data": {
      "text/plain": [
       "'Fri Dec 29 21:25:32 2023'"
      ]
     },
     "execution_count": 22,
     "metadata": {},
     "output_type": "execute_result"
    },
    {
     "data": {
      "text/plain": [
       "117"
      ]
     },
     "execution_count": 22,
     "metadata": {},
     "output_type": "execute_result"
    },
    {
     "name": "stderr",
     "output_type": "stream",
     "text": [
      "\r",
      " 64%|████████████████████████████████████████████████▎                          | 370/574 [10:10:01<3:27:08, 60.92s/it]"
     ]
    },
    {
     "name": "stdout",
     "output_type": "stream",
     "text": [
      "D:\\zwk_data\\p_tif\\17000\\ndwi1_int8_world_17589.tif\n",
      "['D:\\\\zwk_data\\\\p_tif\\\\GRWL_vector_V01.01\\\\SF36.shp'\n",
      " 'D:\\\\zwk_data\\\\p_tif\\\\GRWL_vector_V01.01\\\\SG36.shp']\n"
     ]
    },
    {
     "data": {
      "text/plain": [
       "'Fri Dec 29 21:26:42 2023'"
      ]
     },
     "execution_count": 22,
     "metadata": {},
     "output_type": "execute_result"
    },
    {
     "data": {
      "text/plain": [
       "116"
      ]
     },
     "execution_count": 22,
     "metadata": {},
     "output_type": "execute_result"
    },
    {
     "name": "stderr",
     "output_type": "stream",
     "text": [
      "\r",
      " 65%|████████████████████████████████████████████████▍                          | 371/574 [10:11:13<3:37:45, 64.36s/it]"
     ]
    },
    {
     "name": "stdout",
     "output_type": "stream",
     "text": [
      "D:\\zwk_data\\p_tif\\17000\\ndwi1_int8_world_17590.tif\n",
      "['D:\\\\zwk_data\\\\p_tif\\\\GRWL_vector_V01.01\\\\SF36.shp']\n"
     ]
    },
    {
     "data": {
      "text/plain": [
       "'Fri Dec 29 21:27:55 2023'"
      ]
     },
     "execution_count": 22,
     "metadata": {},
     "output_type": "execute_result"
    },
    {
     "data": {
      "text/plain": [
       "113"
      ]
     },
     "execution_count": 22,
     "metadata": {},
     "output_type": "execute_result"
    },
    {
     "name": "stderr",
     "output_type": "stream",
     "text": [
      "\r",
      " 65%|████████████████████████████████████████████████▌                          | 372/574 [10:12:01<3:19:54, 59.38s/it]"
     ]
    },
    {
     "name": "stdout",
     "output_type": "stream",
     "text": [
      "D:\\zwk_data\\p_tif\\17000\\ndwi1_int8_world_17591.tif\n",
      "['D:\\\\zwk_data\\\\p_tif\\\\GRWL_vector_V01.01\\\\SF36.shp']\n"
     ]
    },
    {
     "data": {
      "text/plain": [
       "'Fri Dec 29 21:28:42 2023'"
      ]
     },
     "execution_count": 22,
     "metadata": {},
     "output_type": "execute_result"
    },
    {
     "data": {
      "text/plain": [
       "117"
      ]
     },
     "execution_count": 22,
     "metadata": {},
     "output_type": "execute_result"
    },
    {
     "name": "stderr",
     "output_type": "stream",
     "text": [
      "\r",
      " 65%|████████████████████████████████████████████████▋                          | 373/574 [10:12:51<3:09:37, 56.60s/it]"
     ]
    },
    {
     "name": "stdout",
     "output_type": "stream",
     "text": [
      "D:\\zwk_data\\p_tif\\17000\\ndwi1_int8_world_17592.tif\n",
      "['D:\\\\zwk_data\\\\p_tif\\\\GRWL_vector_V01.01\\\\SE36.shp'\n",
      " 'D:\\\\zwk_data\\\\p_tif\\\\GRWL_vector_V01.01\\\\SF36.shp']\n"
     ]
    },
    {
     "data": {
      "text/plain": [
       "'Fri Dec 29 21:29:33 2023'"
      ]
     },
     "execution_count": 22,
     "metadata": {},
     "output_type": "execute_result"
    },
    {
     "data": {
      "text/plain": [
       "116"
      ]
     },
     "execution_count": 22,
     "metadata": {},
     "output_type": "execute_result"
    },
    {
     "name": "stderr",
     "output_type": "stream",
     "text": [
      "\r",
      " 65%|████████████████████████████████████████████████▊                          | 374/574 [10:14:04<3:24:17, 61.29s/it]"
     ]
    },
    {
     "name": "stdout",
     "output_type": "stream",
     "text": [
      "D:\\zwk_data\\p_tif\\17000\\ndwi1_int8_world_17593.tif\n",
      "['D:\\\\zwk_data\\\\p_tif\\\\GRWL_vector_V01.01\\\\SG36.shp'\n",
      " 'D:\\\\zwk_data\\\\p_tif\\\\GRWL_vector_V01.01\\\\SH36.shp']\n"
     ]
    },
    {
     "data": {
      "text/plain": [
       "'Fri Dec 29 21:30:45 2023'"
      ]
     },
     "execution_count": 22,
     "metadata": {},
     "output_type": "execute_result"
    },
    {
     "data": {
      "text/plain": [
       "98"
      ]
     },
     "execution_count": 22,
     "metadata": {},
     "output_type": "execute_result"
    },
    {
     "name": "stderr",
     "output_type": "stream",
     "text": [
      "\r",
      " 65%|████████████████████████████████████████████████▉                          | 375/574 [10:15:13<3:31:08, 63.66s/it]"
     ]
    },
    {
     "name": "stdout",
     "output_type": "stream",
     "text": [
      "D:\\zwk_data\\p_tif\\17000\\ndwi1_int8_world_17594.tif\n",
      "['D:\\\\zwk_data\\\\p_tif\\\\GRWL_vector_V01.01\\\\SG36.shp']\n"
     ]
    },
    {
     "data": {
      "text/plain": [
       "'Fri Dec 29 21:31:54 2023'"
      ]
     },
     "execution_count": 22,
     "metadata": {},
     "output_type": "execute_result"
    },
    {
     "data": {
      "text/plain": [
       "97"
      ]
     },
     "execution_count": 22,
     "metadata": {},
     "output_type": "execute_result"
    },
    {
     "name": "stderr",
     "output_type": "stream",
     "text": [
      "\r",
      " 66%|█████████████████████████████████████████████████▏                         | 376/574 [10:16:06<3:19:51, 60.56s/it]"
     ]
    },
    {
     "name": "stdout",
     "output_type": "stream",
     "text": [
      "D:\\zwk_data\\p_tif\\17000\\ndwi1_int8_world_17595.tif\n",
      "['D:\\\\zwk_data\\\\p_tif\\\\GRWL_vector_V01.01\\\\SG36.shp']\n"
     ]
    },
    {
     "data": {
      "text/plain": [
       "'Fri Dec 29 21:32:47 2023'"
      ]
     },
     "execution_count": 22,
     "metadata": {},
     "output_type": "execute_result"
    },
    {
     "data": {
      "text/plain": [
       "117"
      ]
     },
     "execution_count": 22,
     "metadata": {},
     "output_type": "execute_result"
    },
    {
     "name": "stderr",
     "output_type": "stream",
     "text": [
      "\r",
      " 66%|█████████████████████████████████████████████████▎                         | 377/574 [10:16:59<3:11:22, 58.29s/it]"
     ]
    },
    {
     "name": "stdout",
     "output_type": "stream",
     "text": [
      "D:\\zwk_data\\p_tif\\17000\\ndwi1_int8_world_17596.tif\n",
      "['D:\\\\zwk_data\\\\p_tif\\\\GRWL_vector_V01.01\\\\SF36.shp'\n",
      " 'D:\\\\zwk_data\\\\p_tif\\\\GRWL_vector_V01.01\\\\SG36.shp']\n"
     ]
    },
    {
     "data": {
      "text/plain": [
       "'Fri Dec 29 21:33:40 2023'"
      ]
     },
     "execution_count": 22,
     "metadata": {},
     "output_type": "execute_result"
    },
    {
     "data": {
      "text/plain": [
       "118"
      ]
     },
     "execution_count": 22,
     "metadata": {},
     "output_type": "execute_result"
    },
    {
     "name": "stderr",
     "output_type": "stream",
     "text": [
      "\r",
      " 66%|█████████████████████████████████████████████████▍                         | 378/574 [10:18:09<3:21:59, 61.84s/it]"
     ]
    },
    {
     "name": "stdout",
     "output_type": "stream",
     "text": [
      "D:\\zwk_data\\p_tif\\17000\\ndwi1_int8_world_17598.tif\n",
      "['D:\\\\zwk_data\\\\p_tif\\\\GRWL_vector_V01.01\\\\SF36.shp']\n"
     ]
    },
    {
     "data": {
      "text/plain": [
       "'Fri Dec 29 21:34:50 2023'"
      ]
     },
     "execution_count": 22,
     "metadata": {},
     "output_type": "execute_result"
    },
    {
     "data": {
      "text/plain": [
       "106"
      ]
     },
     "execution_count": 22,
     "metadata": {},
     "output_type": "execute_result"
    },
    {
     "name": "stderr",
     "output_type": "stream",
     "text": [
      "\r",
      " 66%|█████████████████████████████████████████████████▌                         | 379/574 [10:18:57<3:07:37, 57.73s/it]"
     ]
    },
    {
     "name": "stdout",
     "output_type": "stream",
     "text": [
      "D:\\zwk_data\\p_tif\\17000\\ndwi1_int8_world_17599.tif\n",
      "['D:\\\\zwk_data\\\\p_tif\\\\GRWL_vector_V01.01\\\\SF36.shp']\n"
     ]
    },
    {
     "data": {
      "text/plain": [
       "'Fri Dec 29 21:35:38 2023'"
      ]
     },
     "execution_count": 22,
     "metadata": {},
     "output_type": "execute_result"
    },
    {
     "data": {
      "text/plain": [
       "118"
      ]
     },
     "execution_count": 22,
     "metadata": {},
     "output_type": "execute_result"
    },
    {
     "name": "stderr",
     "output_type": "stream",
     "text": [
      "\r",
      " 66%|█████████████████████████████████████████████████▋                         | 380/574 [10:19:47<2:58:34, 55.23s/it]"
     ]
    },
    {
     "name": "stdout",
     "output_type": "stream",
     "text": [
      "D:\\zwk_data\\p_tif\\17000\\ndwi1_int8_world_17600.tif\n",
      "['D:\\\\zwk_data\\\\p_tif\\\\GRWL_vector_V01.01\\\\SE36.shp'\n",
      " 'D:\\\\zwk_data\\\\p_tif\\\\GRWL_vector_V01.01\\\\SF36.shp']\n"
     ]
    },
    {
     "data": {
      "text/plain": [
       "'Fri Dec 29 21:36:28 2023'"
      ]
     },
     "execution_count": 22,
     "metadata": {},
     "output_type": "execute_result"
    },
    {
     "data": {
      "text/plain": [
       "113"
      ]
     },
     "execution_count": 22,
     "metadata": {},
     "output_type": "execute_result"
    },
    {
     "name": "stderr",
     "output_type": "stream",
     "text": [
      "\r",
      " 66%|█████████████████████████████████████████████████▊                         | 381/574 [10:20:59<3:14:04, 60.34s/it]"
     ]
    },
    {
     "name": "stdout",
     "output_type": "stream",
     "text": [
      "D:\\zwk_data\\p_tif\\17000\\ndwi1_int8_world_17601.tif\n",
      "['D:\\\\zwk_data\\\\p_tif\\\\GRWL_vector_V01.01\\\\SG36.shp']\n"
     ]
    },
    {
     "data": {
      "text/plain": [
       "'Fri Dec 29 21:37:40 2023'"
      ]
     },
     "execution_count": 22,
     "metadata": {},
     "output_type": "execute_result"
    },
    {
     "data": {
      "text/plain": [
       "104"
      ]
     },
     "execution_count": 22,
     "metadata": {},
     "output_type": "execute_result"
    },
    {
     "name": "stderr",
     "output_type": "stream",
     "text": [
      "\r",
      " 67%|█████████████████████████████████████████████████▉                         | 382/574 [10:21:51<3:05:16, 57.90s/it]"
     ]
    },
    {
     "name": "stdout",
     "output_type": "stream",
     "text": [
      "D:\\zwk_data\\p_tif\\17000\\ndwi1_int8_world_17602.tif\n",
      "['D:\\\\zwk_data\\\\p_tif\\\\GRWL_vector_V01.01\\\\SF36.shp'\n",
      " 'D:\\\\zwk_data\\\\p_tif\\\\GRWL_vector_V01.01\\\\SG36.shp']\n"
     ]
    },
    {
     "data": {
      "text/plain": [
       "'Fri Dec 29 21:38:32 2023'"
      ]
     },
     "execution_count": 22,
     "metadata": {},
     "output_type": "execute_result"
    },
    {
     "data": {
      "text/plain": [
       "113"
      ]
     },
     "execution_count": 22,
     "metadata": {},
     "output_type": "execute_result"
    },
    {
     "name": "stderr",
     "output_type": "stream",
     "text": [
      "\r",
      " 67%|██████████████████████████████████████████████████                         | 383/574 [10:23:01<3:15:41, 61.48s/it]"
     ]
    },
    {
     "name": "stdout",
     "output_type": "stream",
     "text": [
      "D:\\zwk_data\\p_tif\\17000\\ndwi1_int8_world_17603.tif\n",
      "['D:\\\\zwk_data\\\\p_tif\\\\GRWL_vector_V01.01\\\\SF36.shp'\n",
      " 'D:\\\\zwk_data\\\\p_tif\\\\GRWL_vector_V01.01\\\\SG36.shp']\n"
     ]
    },
    {
     "data": {
      "text/plain": [
       "'Fri Dec 29 21:39:42 2023'"
      ]
     },
     "execution_count": 22,
     "metadata": {},
     "output_type": "execute_result"
    },
    {
     "data": {
      "text/plain": [
       "108"
      ]
     },
     "execution_count": 22,
     "metadata": {},
     "output_type": "execute_result"
    },
    {
     "name": "stderr",
     "output_type": "stream",
     "text": [
      "\r",
      " 67%|██████████████████████████████████████████████████▏                        | 384/574 [10:24:11<3:22:32, 63.96s/it]"
     ]
    },
    {
     "name": "stdout",
     "output_type": "stream",
     "text": [
      "D:\\zwk_data\\p_tif\\17000\\ndwi1_int8_world_17605.tif\n",
      "['D:\\\\zwk_data\\\\p_tif\\\\GRWL_vector_V01.01\\\\SF36.shp']\n"
     ]
    },
    {
     "data": {
      "text/plain": [
       "'Fri Dec 29 21:40:52 2023'"
      ]
     },
     "execution_count": 22,
     "metadata": {},
     "output_type": "execute_result"
    },
    {
     "data": {
      "text/plain": [
       "117"
      ]
     },
     "execution_count": 22,
     "metadata": {},
     "output_type": "execute_result"
    },
    {
     "name": "stderr",
     "output_type": "stream",
     "text": [
      "\r",
      " 67%|██████████████████████████████████████████████████▎                        | 385/574 [10:24:58<3:05:27, 58.88s/it]"
     ]
    },
    {
     "name": "stdout",
     "output_type": "stream",
     "text": [
      "D:\\zwk_data\\p_tif\\17000\\ndwi1_int8_world_17606.tif\n",
      "['D:\\\\zwk_data\\\\p_tif\\\\GRWL_vector_V01.01\\\\SE36.shp'\n",
      " 'D:\\\\zwk_data\\\\p_tif\\\\GRWL_vector_V01.01\\\\SF36.shp']\n"
     ]
    },
    {
     "data": {
      "text/plain": [
       "'Fri Dec 29 21:41:39 2023'"
      ]
     },
     "execution_count": 22,
     "metadata": {},
     "output_type": "execute_result"
    },
    {
     "data": {
      "text/plain": [
       "120"
      ]
     },
     "execution_count": 22,
     "metadata": {},
     "output_type": "execute_result"
    },
    {
     "name": "stderr",
     "output_type": "stream",
     "text": [
      "\r",
      " 67%|██████████████████████████████████████████████████▍                        | 386/574 [10:26:10<3:16:49, 62.82s/it]"
     ]
    },
    {
     "name": "stdout",
     "output_type": "stream",
     "text": [
      "D:\\zwk_data\\p_tif\\17000\\ndwi1_int8_world_17607.tif\n",
      "D:\\zwk_data\\p_tif\\GRWL_vector_V01.01\\SG37.shp\n",
      "D:\\zwk_data\\p_tif\\GRWL_vector_V01.01\\SF37.shp\n",
      "['D:\\\\zwk_data\\\\p_tif\\\\GRWL_vector_V01.01\\\\SF36.shp'\n",
      " 'D:\\\\zwk_data\\\\p_tif\\\\GRWL_vector_V01.01\\\\SG36.shp']\n"
     ]
    },
    {
     "data": {
      "text/plain": [
       "'Fri Dec 29 21:42:51 2023'"
      ]
     },
     "execution_count": 22,
     "metadata": {},
     "output_type": "execute_result"
    },
    {
     "data": {
      "text/plain": [
       "109"
      ]
     },
     "execution_count": 22,
     "metadata": {},
     "output_type": "execute_result"
    },
    {
     "name": "stderr",
     "output_type": "stream",
     "text": [
      "\r",
      " 67%|██████████████████████████████████████████████████▌                        | 387/574 [10:27:19<3:21:49, 64.76s/it]"
     ]
    },
    {
     "name": "stdout",
     "output_type": "stream",
     "text": [
      "D:\\zwk_data\\p_tif\\17000\\ndwi1_int8_world_17608.tif\n",
      "D:\\zwk_data\\p_tif\\GRWL_vector_V01.01\\SG37.shp\n",
      "D:\\zwk_data\\p_tif\\GRWL_vector_V01.01\\SF37.shp\n",
      "['D:\\\\zwk_data\\\\p_tif\\\\GRWL_vector_V01.01\\\\SF36.shp'\n",
      " 'D:\\\\zwk_data\\\\p_tif\\\\GRWL_vector_V01.01\\\\SG36.shp']\n"
     ]
    },
    {
     "data": {
      "text/plain": [
       "'Fri Dec 29 21:44:00 2023'"
      ]
     },
     "execution_count": 22,
     "metadata": {},
     "output_type": "execute_result"
    },
    {
     "data": {
      "text/plain": [
       "112"
      ]
     },
     "execution_count": 22,
     "metadata": {},
     "output_type": "execute_result"
    },
    {
     "name": "stderr",
     "output_type": "stream",
     "text": [
      "\r",
      " 68%|██████████████████████████████████████████████████▋                        | 388/574 [10:28:27<3:23:26, 65.63s/it]"
     ]
    },
    {
     "name": "stdout",
     "output_type": "stream",
     "text": [
      "D:\\zwk_data\\p_tif\\17000\\ndwi1_int8_world_17609.tif\n",
      "D:\\zwk_data\\p_tif\\GRWL_vector_V01.01\\SF37.shp\n",
      "D:\\zwk_data\\p_tif\\GRWL_vector_V01.01\\SF37.shp\n",
      "['D:\\\\zwk_data\\\\p_tif\\\\GRWL_vector_V01.01\\\\SF36.shp']\n"
     ]
    },
    {
     "data": {
      "text/plain": [
       "'Fri Dec 29 21:45:08 2023'"
      ]
     },
     "execution_count": 22,
     "metadata": {},
     "output_type": "execute_result"
    },
    {
     "data": {
      "text/plain": [
       "117"
      ]
     },
     "execution_count": 22,
     "metadata": {},
     "output_type": "execute_result"
    },
    {
     "name": "stderr",
     "output_type": "stream",
     "text": [
      "\r",
      " 68%|██████████████████████████████████████████████████▊                        | 389/574 [10:29:13<3:04:19, 59.78s/it]"
     ]
    },
    {
     "name": "stdout",
     "output_type": "stream",
     "text": [
      "D:\\zwk_data\\p_tif\\17000\\ndwi1_int8_world_17610.tif\n",
      "D:\\zwk_data\\p_tif\\GRWL_vector_V01.01\\SF37.shp\n",
      "D:\\zwk_data\\p_tif\\GRWL_vector_V01.01\\SF37.shp\n",
      "['D:\\\\zwk_data\\\\p_tif\\\\GRWL_vector_V01.01\\\\SF36.shp']\n"
     ]
    },
    {
     "data": {
      "text/plain": [
       "'Fri Dec 29 21:45:54 2023'"
      ]
     },
     "execution_count": 22,
     "metadata": {},
     "output_type": "execute_result"
    },
    {
     "data": {
      "text/plain": [
       "117"
      ]
     },
     "execution_count": 22,
     "metadata": {},
     "output_type": "execute_result"
    },
    {
     "name": "stderr",
     "output_type": "stream",
     "text": [
      "\r",
      " 68%|██████████████████████████████████████████████████▉                        | 390/574 [10:30:01<2:52:45, 56.34s/it]"
     ]
    },
    {
     "name": "stdout",
     "output_type": "stream",
     "text": [
      "D:\\zwk_data\\p_tif\\17000\\ndwi1_int8_world_17611.tif\n",
      "D:\\zwk_data\\p_tif\\GRWL_vector_V01.01\\SF37.shp\n",
      "['D:\\\\zwk_data\\\\p_tif\\\\GRWL_vector_V01.01\\\\SE36.shp'\n",
      " 'D:\\\\zwk_data\\\\p_tif\\\\GRWL_vector_V01.01\\\\SE37.shp'\n",
      " 'D:\\\\zwk_data\\\\p_tif\\\\GRWL_vector_V01.01\\\\SF36.shp']\n"
     ]
    },
    {
     "data": {
      "text/plain": [
       "'Fri Dec 29 21:46:42 2023'"
      ]
     },
     "execution_count": 22,
     "metadata": {},
     "output_type": "execute_result"
    },
    {
     "data": {
      "text/plain": [
       "116"
      ]
     },
     "execution_count": 22,
     "metadata": {},
     "output_type": "execute_result"
    },
    {
     "name": "stderr",
     "output_type": "stream",
     "text": [
      "\r",
      " 68%|███████████████████████████████████████████████████                        | 391/574 [10:31:23<3:14:41, 63.83s/it]"
     ]
    },
    {
     "name": "stdout",
     "output_type": "stream",
     "text": [
      "D:\\zwk_data\\p_tif\\17000\\ndwi1_int8_world_17613.tif\n",
      "D:\\zwk_data\\p_tif\\GRWL_vector_V01.01\\SF37.shp\n",
      "D:\\zwk_data\\p_tif\\GRWL_vector_V01.01\\SF37.shp\n",
      "['D:\\\\zwk_data\\\\p_tif\\\\GRWL_vector_V01.01\\\\SF38.shp']\n"
     ]
    },
    {
     "data": {
      "text/plain": [
       "'Fri Dec 29 21:48:04 2023'"
      ]
     },
     "execution_count": 22,
     "metadata": {},
     "output_type": "execute_result"
    },
    {
     "data": {
      "text/plain": [
       "98"
      ]
     },
     "execution_count": 22,
     "metadata": {},
     "output_type": "execute_result"
    },
    {
     "name": "stderr",
     "output_type": "stream",
     "text": [
      "\r",
      " 68%|███████████████████████████████████████████████████▏                       | 392/574 [10:32:51<3:36:14, 71.29s/it]"
     ]
    },
    {
     "name": "stdout",
     "output_type": "stream",
     "text": [
      "D:\\zwk_data\\p_tif\\17000\\ndwi1_int8_world_17614.tif\n",
      "['D:\\\\zwk_data\\\\p_tif\\\\GRWL_vector_V01.01\\\\SG38.shp']\n"
     ]
    },
    {
     "data": {
      "text/plain": [
       "'Fri Dec 29 21:49:33 2023'"
      ]
     },
     "execution_count": 22,
     "metadata": {},
     "output_type": "execute_result"
    },
    {
     "data": {
      "text/plain": [
       "97"
      ]
     },
     "execution_count": 22,
     "metadata": {},
     "output_type": "execute_result"
    },
    {
     "name": "stderr",
     "output_type": "stream",
     "text": [
      "\r",
      " 68%|███████████████████████████████████████████████████▎                       | 393/574 [10:33:24<2:59:53, 59.63s/it]"
     ]
    },
    {
     "name": "stdout",
     "output_type": "stream",
     "text": [
      "D:\\zwk_data\\p_tif\\17000\\ndwi1_int8_world_17615.tif\n",
      "['D:\\\\zwk_data\\\\p_tif\\\\GRWL_vector_V01.01\\\\SF38.shp'\n",
      " 'D:\\\\zwk_data\\\\p_tif\\\\GRWL_vector_V01.01\\\\SG38.shp']\n"
     ]
    },
    {
     "data": {
      "text/plain": [
       "'Fri Dec 29 21:50:05 2023'"
      ]
     },
     "execution_count": 22,
     "metadata": {},
     "output_type": "execute_result"
    },
    {
     "data": {
      "text/plain": [
       "106"
      ]
     },
     "execution_count": 22,
     "metadata": {},
     "output_type": "execute_result"
    },
    {
     "name": "stderr",
     "output_type": "stream",
     "text": [
      "\r",
      " 69%|███████████████████████████████████████████████████▍                       | 394/574 [10:34:55<3:27:32, 69.18s/it]"
     ]
    },
    {
     "name": "stdout",
     "output_type": "stream",
     "text": [
      "D:\\zwk_data\\p_tif\\17000\\ndwi1_int8_world_17616.tif\n",
      "['D:\\\\zwk_data\\\\p_tif\\\\GRWL_vector_V01.01\\\\SF38.shp'\n",
      " 'D:\\\\zwk_data\\\\p_tif\\\\GRWL_vector_V01.01\\\\SG38.shp']\n"
     ]
    },
    {
     "data": {
      "text/plain": [
       "'Fri Dec 29 21:51:37 2023'"
      ]
     },
     "execution_count": 22,
     "metadata": {},
     "output_type": "execute_result"
    },
    {
     "data": {
      "text/plain": [
       "107"
      ]
     },
     "execution_count": 22,
     "metadata": {},
     "output_type": "execute_result"
    },
    {
     "name": "stderr",
     "output_type": "stream",
     "text": [
      "\r",
      " 69%|███████████████████████████████████████████████████▌                       | 395/574 [10:36:26<3:45:30, 75.59s/it]"
     ]
    },
    {
     "name": "stdout",
     "output_type": "stream",
     "text": [
      "D:\\zwk_data\\p_tif\\17000\\ndwi1_int8_world_17617.tif\n",
      "['D:\\\\zwk_data\\\\p_tif\\\\GRWL_vector_V01.01\\\\SF38.shp']\n"
     ]
    },
    {
     "data": {
      "text/plain": [
       "'Fri Dec 29 21:53:07 2023'"
      ]
     },
     "execution_count": 22,
     "metadata": {},
     "output_type": "execute_result"
    },
    {
     "data": {
      "text/plain": [
       "108"
      ]
     },
     "execution_count": 22,
     "metadata": {},
     "output_type": "execute_result"
    },
    {
     "name": "stderr",
     "output_type": "stream",
     "text": [
      "\r",
      " 69%|███████████████████████████████████████████████████▋                       | 396/574 [10:37:52<3:54:10, 78.94s/it]"
     ]
    },
    {
     "name": "stdout",
     "output_type": "stream",
     "text": [
      "D:\\zwk_data\\p_tif\\17000\\ndwi1_int8_world_17618.tif\n",
      "['D:\\\\zwk_data\\\\p_tif\\\\GRWL_vector_V01.01\\\\SF38.shp']\n"
     ]
    },
    {
     "data": {
      "text/plain": [
       "'Fri Dec 29 21:54:34 2023'"
      ]
     },
     "execution_count": 22,
     "metadata": {},
     "output_type": "execute_result"
    },
    {
     "data": {
      "text/plain": [
       "108"
      ]
     },
     "execution_count": 22,
     "metadata": {},
     "output_type": "execute_result"
    },
    {
     "name": "stderr",
     "output_type": "stream",
     "text": [
      "\r",
      " 69%|███████████████████████████████████████████████████▊                       | 397/574 [10:39:17<3:57:56, 80.66s/it]"
     ]
    },
    {
     "name": "stdout",
     "output_type": "stream",
     "text": [
      "D:\\zwk_data\\p_tif\\17000\\ndwi1_int8_world_17619.tif\n",
      "['D:\\\\zwk_data\\\\p_tif\\\\GRWL_vector_V01.01\\\\SE38.shp'\n",
      " 'D:\\\\zwk_data\\\\p_tif\\\\GRWL_vector_V01.01\\\\SF38.shp']\n"
     ]
    },
    {
     "data": {
      "text/plain": [
       "'Fri Dec 29 21:55:58 2023'"
      ]
     },
     "execution_count": 22,
     "metadata": {},
     "output_type": "execute_result"
    },
    {
     "data": {
      "text/plain": [
       "113"
      ]
     },
     "execution_count": 22,
     "metadata": {},
     "output_type": "execute_result"
    },
    {
     "name": "stderr",
     "output_type": "stream",
     "text": [
      "\r",
      " 69%|███████████████████████████████████████████████████▎                      | 398/574 [10:42:25<5:31:13, 112.92s/it]"
     ]
    },
    {
     "name": "stdout",
     "output_type": "stream",
     "text": [
      "D:\\zwk_data\\p_tif\\17000\\ndwi1_int8_world_17620.tif\n",
      "['D:\\\\zwk_data\\\\p_tif\\\\GRWL_vector_V01.01\\\\SG38.shp']\n"
     ]
    },
    {
     "data": {
      "text/plain": [
       "'Fri Dec 29 21:59:08 2023'"
      ]
     },
     "execution_count": 22,
     "metadata": {},
     "output_type": "execute_result"
    },
    {
     "data": {
      "text/plain": [
       "106"
      ]
     },
     "execution_count": 22,
     "metadata": {},
     "output_type": "execute_result"
    },
    {
     "name": "stderr",
     "output_type": "stream",
     "text": [
      "\r",
      " 70%|████████████████████████████████████████████████████▏                      | 399/574 [10:43:05<4:25:32, 91.05s/it]"
     ]
    },
    {
     "name": "stdout",
     "output_type": "stream",
     "text": [
      "D:\\zwk_data\\p_tif\\17000\\ndwi1_int8_world_17621.tif\n",
      "['D:\\\\zwk_data\\\\p_tif\\\\GRWL_vector_V01.01\\\\SF38.shp'\n",
      " 'D:\\\\zwk_data\\\\p_tif\\\\GRWL_vector_V01.01\\\\SG38.shp']\n"
     ]
    },
    {
     "data": {
      "text/plain": [
       "'Fri Dec 29 21:59:46 2023'"
      ]
     },
     "execution_count": 22,
     "metadata": {},
     "output_type": "execute_result"
    },
    {
     "data": {
      "text/plain": [
       "107"
      ]
     },
     "execution_count": 22,
     "metadata": {},
     "output_type": "execute_result"
    },
    {
     "name": "stderr",
     "output_type": "stream",
     "text": [
      "\r",
      " 70%|████████████████████████████████████████████████████▎                      | 400/574 [10:44:38<4:25:27, 91.54s/it]"
     ]
    },
    {
     "name": "stdout",
     "output_type": "stream",
     "text": [
      "D:\\zwk_data\\p_tif\\17000\\ndwi1_int8_world_17622.tif\n",
      "['D:\\\\zwk_data\\\\p_tif\\\\GRWL_vector_V01.01\\\\SF38.shp'\n",
      " 'D:\\\\zwk_data\\\\p_tif\\\\GRWL_vector_V01.01\\\\SG38.shp']\n"
     ]
    },
    {
     "data": {
      "text/plain": [
       "'Fri Dec 29 22:01:20 2023'"
      ]
     },
     "execution_count": 22,
     "metadata": {},
     "output_type": "execute_result"
    },
    {
     "data": {
      "text/plain": [
       "106"
      ]
     },
     "execution_count": 22,
     "metadata": {},
     "output_type": "execute_result"
    },
    {
     "name": "stderr",
     "output_type": "stream",
     "text": [
      "\r",
      " 70%|████████████████████████████████████████████████████▍                      | 401/574 [10:46:17<4:30:06, 93.68s/it]"
     ]
    },
    {
     "name": "stdout",
     "output_type": "stream",
     "text": [
      "D:\\zwk_data\\p_tif\\17000\\ndwi1_int8_world_17623.tif\n",
      "['D:\\\\zwk_data\\\\p_tif\\\\GRWL_vector_V01.01\\\\SF38.shp']\n"
     ]
    },
    {
     "data": {
      "text/plain": [
       "'Fri Dec 29 22:02:59 2023'"
      ]
     },
     "execution_count": 22,
     "metadata": {},
     "output_type": "execute_result"
    },
    {
     "data": {
      "text/plain": [
       "107"
      ]
     },
     "execution_count": 22,
     "metadata": {},
     "output_type": "execute_result"
    },
    {
     "name": "stderr",
     "output_type": "stream",
     "text": [
      "\r",
      " 70%|████████████████████████████████████████████████████▌                      | 402/574 [10:47:50<4:27:58, 93.48s/it]"
     ]
    },
    {
     "name": "stdout",
     "output_type": "stream",
     "text": [
      "D:\\zwk_data\\p_tif\\17000\\ndwi1_int8_world_17624.tif\n",
      "['D:\\\\zwk_data\\\\p_tif\\\\GRWL_vector_V01.01\\\\SF38.shp']\n"
     ]
    },
    {
     "data": {
      "text/plain": [
       "'Fri Dec 29 22:04:31 2023'"
      ]
     },
     "execution_count": 22,
     "metadata": {},
     "output_type": "execute_result"
    },
    {
     "data": {
      "text/plain": [
       "109"
      ]
     },
     "execution_count": 22,
     "metadata": {},
     "output_type": "execute_result"
    },
    {
     "name": "stderr",
     "output_type": "stream",
     "text": [
      "\r",
      " 70%|████████████████████████████████████████████████████▋                      | 403/574 [10:49:20<4:23:58, 92.62s/it]"
     ]
    },
    {
     "name": "stdout",
     "output_type": "stream",
     "text": [
      "D:\\zwk_data\\p_tif\\17000\\ndwi1_int8_world_17625.tif\n",
      "['D:\\\\zwk_data\\\\p_tif\\\\GRWL_vector_V01.01\\\\SE38.shp'\n",
      " 'D:\\\\zwk_data\\\\p_tif\\\\GRWL_vector_V01.01\\\\SF38.shp']\n"
     ]
    },
    {
     "data": {
      "text/plain": [
       "'Fri Dec 29 22:06:02 2023'"
      ]
     },
     "execution_count": 22,
     "metadata": {},
     "output_type": "execute_result"
    },
    {
     "data": {
      "text/plain": [
       "117"
      ]
     },
     "execution_count": 22,
     "metadata": {},
     "output_type": "execute_result"
    },
    {
     "name": "stderr",
     "output_type": "stream",
     "text": [
      "\r",
      " 70%|████████████████████████████████████████████████████                      | 404/574 [10:52:29<5:44:22, 121.54s/it]"
     ]
    },
    {
     "name": "stdout",
     "output_type": "stream",
     "text": [
      "D:\\zwk_data\\p_tif\\17000\\ndwi1_int8_world_17626.tif\n",
      "['D:\\\\zwk_data\\\\p_tif\\\\GRWL_vector_V01.01\\\\SG38.shp']\n"
     ]
    },
    {
     "data": {
      "text/plain": [
       "'Fri Dec 29 22:09:12 2023'"
      ]
     },
     "execution_count": 22,
     "metadata": {},
     "output_type": "execute_result"
    },
    {
     "data": {
      "text/plain": [
       "106"
      ]
     },
     "execution_count": 22,
     "metadata": {},
     "output_type": "execute_result"
    },
    {
     "name": "stderr",
     "output_type": "stream",
     "text": [
      "\r",
      " 71%|████████████████████████████████████████████████████▉                      | 405/574 [10:53:10<4:34:12, 97.35s/it]"
     ]
    },
    {
     "name": "stdout",
     "output_type": "stream",
     "text": [
      "D:\\zwk_data\\p_tif\\17000\\ndwi1_int8_world_17627.tif\n",
      "['D:\\\\zwk_data\\\\p_tif\\\\GRWL_vector_V01.01\\\\SF38.shp'\n",
      " 'D:\\\\zwk_data\\\\p_tif\\\\GRWL_vector_V01.01\\\\SG38.shp']\n"
     ]
    },
    {
     "data": {
      "text/plain": [
       "'Fri Dec 29 22:09:51 2023'"
      ]
     },
     "execution_count": 22,
     "metadata": {},
     "output_type": "execute_result"
    },
    {
     "data": {
      "text/plain": [
       "107"
      ]
     },
     "execution_count": 22,
     "metadata": {},
     "output_type": "execute_result"
    },
    {
     "name": "stderr",
     "output_type": "stream",
     "text": [
      "\r",
      " 71%|█████████████████████████████████████████████████████                      | 406/574 [10:54:43<4:29:10, 96.14s/it]"
     ]
    },
    {
     "name": "stdout",
     "output_type": "stream",
     "text": [
      "D:\\zwk_data\\p_tif\\17000\\ndwi1_int8_world_17628.tif\n",
      "['D:\\\\zwk_data\\\\p_tif\\\\GRWL_vector_V01.01\\\\SF38.shp'\n",
      " 'D:\\\\zwk_data\\\\p_tif\\\\GRWL_vector_V01.01\\\\SG38.shp']\n"
     ]
    },
    {
     "data": {
      "text/plain": [
       "'Fri Dec 29 22:11:25 2023'"
      ]
     },
     "execution_count": 22,
     "metadata": {},
     "output_type": "execute_result"
    },
    {
     "data": {
      "text/plain": [
       "106"
      ]
     },
     "execution_count": 22,
     "metadata": {},
     "output_type": "execute_result"
    },
    {
     "name": "stderr",
     "output_type": "stream",
     "text": [
      "\r",
      " 71%|█████████████████████████████████████████████████████▏                     | 407/574 [10:56:21<4:28:43, 96.55s/it]"
     ]
    },
    {
     "name": "stdout",
     "output_type": "stream",
     "text": [
      "D:\\zwk_data\\p_tif\\17000\\ndwi1_int8_world_17629.tif\n",
      "['D:\\\\zwk_data\\\\p_tif\\\\GRWL_vector_V01.01\\\\SF38.shp']\n"
     ]
    },
    {
     "data": {
      "text/plain": [
       "'Fri Dec 29 22:13:03 2023'"
      ]
     },
     "execution_count": 22,
     "metadata": {},
     "output_type": "execute_result"
    },
    {
     "data": {
      "text/plain": [
       "107"
      ]
     },
     "execution_count": 22,
     "metadata": {},
     "output_type": "execute_result"
    },
    {
     "name": "stderr",
     "output_type": "stream",
     "text": [
      "\r",
      " 71%|█████████████████████████████████████████████████████▎                     | 408/574 [10:57:55<4:24:38, 95.65s/it]"
     ]
    },
    {
     "name": "stdout",
     "output_type": "stream",
     "text": [
      "D:\\zwk_data\\p_tif\\17000\\ndwi1_int8_world_17630.tif\n",
      "['D:\\\\zwk_data\\\\p_tif\\\\GRWL_vector_V01.01\\\\SF38.shp']\n"
     ]
    },
    {
     "data": {
      "text/plain": [
       "'Fri Dec 29 22:14:36 2023'"
      ]
     },
     "execution_count": 22,
     "metadata": {},
     "output_type": "execute_result"
    },
    {
     "data": {
      "text/plain": [
       "109"
      ]
     },
     "execution_count": 22,
     "metadata": {},
     "output_type": "execute_result"
    },
    {
     "name": "stderr",
     "output_type": "stream",
     "text": [
      "\r",
      " 71%|█████████████████████████████████████████████████████▍                     | 409/574 [10:59:24<4:17:48, 93.75s/it]"
     ]
    },
    {
     "name": "stdout",
     "output_type": "stream",
     "text": [
      "D:\\zwk_data\\p_tif\\17000\\ndwi1_int8_world_17631.tif\n",
      "['D:\\\\zwk_data\\\\p_tif\\\\GRWL_vector_V01.01\\\\SE38.shp'\n",
      " 'D:\\\\zwk_data\\\\p_tif\\\\GRWL_vector_V01.01\\\\SF38.shp']\n"
     ]
    },
    {
     "data": {
      "text/plain": [
       "'Fri Dec 29 22:16:05 2023'"
      ]
     },
     "execution_count": 22,
     "metadata": {},
     "output_type": "execute_result"
    },
    {
     "data": {
      "text/plain": [
       "120"
      ]
     },
     "execution_count": 22,
     "metadata": {},
     "output_type": "execute_result"
    },
    {
     "name": "stderr",
     "output_type": "stream",
     "text": [
      "\r",
      " 71%|████████████████████████████████████████████████████▊                     | 410/574 [11:02:38<5:38:54, 123.99s/it]"
     ]
    },
    {
     "name": "stdout",
     "output_type": "stream",
     "text": [
      "D:\\zwk_data\\p_tif\\17000\\ndwi1_int8_world_17632.tif\n",
      "['D:\\\\zwk_data\\\\p_tif\\\\GRWL_vector_V01.01\\\\SG38.shp']\n"
     ]
    },
    {
     "data": {
      "text/plain": [
       "'Fri Dec 29 22:19:22 2023'"
      ]
     },
     "execution_count": 22,
     "metadata": {},
     "output_type": "execute_result"
    },
    {
     "data": {
      "text/plain": [
       "106"
      ]
     },
     "execution_count": 22,
     "metadata": {},
     "output_type": "execute_result"
    },
    {
     "name": "stderr",
     "output_type": "stream",
     "text": [
      "\r",
      " 72%|█████████████████████████████████████████████████████▋                     | 411/574 [11:03:18<4:28:11, 98.72s/it]"
     ]
    },
    {
     "name": "stdout",
     "output_type": "stream",
     "text": [
      "D:\\zwk_data\\p_tif\\17000\\ndwi1_int8_world_17633.tif\n",
      "['D:\\\\zwk_data\\\\p_tif\\\\GRWL_vector_V01.01\\\\SF38.shp'\n",
      " 'D:\\\\zwk_data\\\\p_tif\\\\GRWL_vector_V01.01\\\\SG38.shp']\n"
     ]
    },
    {
     "data": {
      "text/plain": [
       "'Fri Dec 29 22:19:59 2023'"
      ]
     },
     "execution_count": 22,
     "metadata": {},
     "output_type": "execute_result"
    },
    {
     "data": {
      "text/plain": [
       "107"
      ]
     },
     "execution_count": 22,
     "metadata": {},
     "output_type": "execute_result"
    },
    {
     "name": "stderr",
     "output_type": "stream",
     "text": [
      "\r",
      " 72%|█████████████████████████████████████████████████████▊                     | 412/574 [11:04:51<4:21:53, 97.00s/it]"
     ]
    },
    {
     "name": "stdout",
     "output_type": "stream",
     "text": [
      "D:\\zwk_data\\p_tif\\17000\\ndwi1_int8_world_17634.tif\n",
      "['D:\\\\zwk_data\\\\p_tif\\\\GRWL_vector_V01.01\\\\SF38.shp'\n",
      " 'D:\\\\zwk_data\\\\p_tif\\\\GRWL_vector_V01.01\\\\SG38.shp']\n"
     ]
    },
    {
     "data": {
      "text/plain": [
       "'Fri Dec 29 22:21:33 2023'"
      ]
     },
     "execution_count": 22,
     "metadata": {},
     "output_type": "execute_result"
    },
    {
     "data": {
      "text/plain": [
       "106"
      ]
     },
     "execution_count": 22,
     "metadata": {},
     "output_type": "execute_result"
    },
    {
     "name": "stderr",
     "output_type": "stream",
     "text": [
      "\r",
      " 72%|█████████████████████████████████████████████████████▉                     | 413/574 [11:06:25<4:18:05, 96.18s/it]"
     ]
    },
    {
     "name": "stdout",
     "output_type": "stream",
     "text": [
      "D:\\zwk_data\\p_tif\\17000\\ndwi1_int8_world_17635.tif\n",
      "['D:\\\\zwk_data\\\\p_tif\\\\GRWL_vector_V01.01\\\\SF38.shp']\n"
     ]
    },
    {
     "data": {
      "text/plain": [
       "'Fri Dec 29 22:23:07 2023'"
      ]
     },
     "execution_count": 22,
     "metadata": {},
     "output_type": "execute_result"
    },
    {
     "data": {
      "text/plain": [
       "107"
      ]
     },
     "execution_count": 22,
     "metadata": {},
     "output_type": "execute_result"
    },
    {
     "name": "stderr",
     "output_type": "stream",
     "text": [
      "\r",
      " 72%|██████████████████████████████████████████████████████                     | 414/574 [11:07:53<4:09:31, 93.57s/it]"
     ]
    },
    {
     "name": "stdout",
     "output_type": "stream",
     "text": [
      "D:\\zwk_data\\p_tif\\17000\\ndwi1_int8_world_17636.tif\n",
      "['D:\\\\zwk_data\\\\p_tif\\\\GRWL_vector_V01.01\\\\SF38.shp']\n"
     ]
    },
    {
     "data": {
      "text/plain": [
       "'Fri Dec 29 22:24:35 2023'"
      ]
     },
     "execution_count": 22,
     "metadata": {},
     "output_type": "execute_result"
    },
    {
     "data": {
      "text/plain": [
       "107"
      ]
     },
     "execution_count": 22,
     "metadata": {},
     "output_type": "execute_result"
    },
    {
     "name": "stderr",
     "output_type": "stream",
     "text": [
      "\r",
      " 72%|██████████████████████████████████████████████████████▏                    | 415/574 [11:09:19<4:01:58, 91.31s/it]"
     ]
    },
    {
     "name": "stdout",
     "output_type": "stream",
     "text": [
      "D:\\zwk_data\\p_tif\\17000\\ndwi1_int8_world_17637.tif\n",
      "['D:\\\\zwk_data\\\\p_tif\\\\GRWL_vector_V01.01\\\\SE38.shp'\n",
      " 'D:\\\\zwk_data\\\\p_tif\\\\GRWL_vector_V01.01\\\\SF38.shp']\n"
     ]
    },
    {
     "data": {
      "text/plain": [
       "'Fri Dec 29 22:26:00 2023'"
      ]
     },
     "execution_count": 22,
     "metadata": {},
     "output_type": "execute_result"
    },
    {
     "data": {
      "text/plain": [
       "116"
      ]
     },
     "execution_count": 22,
     "metadata": {},
     "output_type": "execute_result"
    },
    {
     "name": "stderr",
     "output_type": "stream",
     "text": [
      "\r",
      " 72%|█████████████████████████████████████████████████████▋                    | 416/574 [11:12:21<5:11:51, 118.43s/it]"
     ]
    },
    {
     "name": "stdout",
     "output_type": "stream",
     "text": [
      "D:\\zwk_data\\p_tif\\17000\\ndwi1_int8_world_17638.tif\n",
      "D:\\zwk_data\\p_tif\\GRWL_vector_V01.01\\SG39.shp\n",
      "D:\\zwk_data\\p_tif\\GRWL_vector_V01.01\\SG39.shp\n",
      "['D:\\\\zwk_data\\\\p_tif\\\\GRWL_vector_V01.01\\\\SG38.shp']\n"
     ]
    },
    {
     "data": {
      "text/plain": [
       "'Fri Dec 29 22:29:04 2023'"
      ]
     },
     "execution_count": 22,
     "metadata": {},
     "output_type": "execute_result"
    },
    {
     "data": {
      "text/plain": [
       "95"
      ]
     },
     "execution_count": 22,
     "metadata": {},
     "output_type": "execute_result"
    },
    {
     "name": "stderr",
     "output_type": "stream",
     "text": [
      "\r",
      " 73%|██████████████████████████████████████████████████████▍                    | 417/574 [11:12:59<4:06:56, 94.37s/it]"
     ]
    },
    {
     "name": "stdout",
     "output_type": "stream",
     "text": [
      "D:\\zwk_data\\p_tif\\17000\\ndwi1_int8_world_17639.tif\n",
      "D:\\zwk_data\\p_tif\\GRWL_vector_V01.01\\SG39.shp\n",
      "['D:\\\\zwk_data\\\\p_tif\\\\GRWL_vector_V01.01\\\\SF38.shp'\n",
      " 'D:\\\\zwk_data\\\\p_tif\\\\GRWL_vector_V01.01\\\\SF39.shp'\n",
      " 'D:\\\\zwk_data\\\\p_tif\\\\GRWL_vector_V01.01\\\\SG38.shp']\n"
     ]
    },
    {
     "data": {
      "text/plain": [
       "'Fri Dec 29 22:29:40 2023'"
      ]
     },
     "execution_count": 22,
     "metadata": {},
     "output_type": "execute_result"
    },
    {
     "data": {
      "text/plain": [
       "106"
      ]
     },
     "execution_count": 22,
     "metadata": {},
     "output_type": "execute_result"
    },
    {
     "name": "stderr",
     "output_type": "stream",
     "text": [
      "\r",
      " 73%|██████████████████████████████████████████████████████▌                    | 418/574 [11:14:30<4:02:26, 93.24s/it]"
     ]
    },
    {
     "name": "stdout",
     "output_type": "stream",
     "text": [
      "D:\\zwk_data\\p_tif\\17000\\ndwi1_int8_world_17640.tif\n",
      "D:\\zwk_data\\p_tif\\GRWL_vector_V01.01\\SG39.shp\n",
      "['D:\\\\zwk_data\\\\p_tif\\\\GRWL_vector_V01.01\\\\SF38.shp'\n",
      " 'D:\\\\zwk_data\\\\p_tif\\\\GRWL_vector_V01.01\\\\SF39.shp'\n",
      " 'D:\\\\zwk_data\\\\p_tif\\\\GRWL_vector_V01.01\\\\SG38.shp']\n"
     ]
    },
    {
     "data": {
      "text/plain": [
       "'Fri Dec 29 22:31:11 2023'"
      ]
     },
     "execution_count": 22,
     "metadata": {},
     "output_type": "execute_result"
    },
    {
     "data": {
      "text/plain": [
       "105"
      ]
     },
     "execution_count": 22,
     "metadata": {},
     "output_type": "execute_result"
    },
    {
     "name": "stderr",
     "output_type": "stream",
     "text": [
      "\r",
      " 73%|██████████████████████████████████████████████████████▋                    | 419/574 [11:16:04<4:02:05, 93.71s/it]"
     ]
    },
    {
     "name": "stdout",
     "output_type": "stream",
     "text": [
      "D:\\zwk_data\\p_tif\\17000\\ndwi1_int8_world_17641.tif\n",
      "['D:\\\\zwk_data\\\\p_tif\\\\GRWL_vector_V01.01\\\\SF38.shp'\n",
      " 'D:\\\\zwk_data\\\\p_tif\\\\GRWL_vector_V01.01\\\\SF39.shp']\n"
     ]
    },
    {
     "data": {
      "text/plain": [
       "'Fri Dec 29 22:32:46 2023'"
      ]
     },
     "execution_count": 22,
     "metadata": {},
     "output_type": "execute_result"
    },
    {
     "data": {
      "text/plain": [
       "106"
      ]
     },
     "execution_count": 22,
     "metadata": {},
     "output_type": "execute_result"
    },
    {
     "name": "stderr",
     "output_type": "stream",
     "text": [
      "\r",
      " 73%|██████████████████████████████████████████████████████▉                    | 420/574 [11:17:36<3:58:57, 93.10s/it]"
     ]
    },
    {
     "name": "stdout",
     "output_type": "stream",
     "text": [
      "D:\\zwk_data\\p_tif\\17000\\ndwi1_int8_world_17642.tif\n",
      "['D:\\\\zwk_data\\\\p_tif\\\\GRWL_vector_V01.01\\\\SF38.shp'\n",
      " 'D:\\\\zwk_data\\\\p_tif\\\\GRWL_vector_V01.01\\\\SF39.shp']\n"
     ]
    },
    {
     "data": {
      "text/plain": [
       "'Fri Dec 29 22:34:18 2023'"
      ]
     },
     "execution_count": 22,
     "metadata": {},
     "output_type": "execute_result"
    },
    {
     "data": {
      "text/plain": [
       "106"
      ]
     },
     "execution_count": 22,
     "metadata": {},
     "output_type": "execute_result"
    },
    {
     "name": "stderr",
     "output_type": "stream",
     "text": [
      "\r",
      " 73%|███████████████████████████████████████████████████████                    | 421/574 [11:19:07<3:55:33, 92.38s/it]"
     ]
    },
    {
     "name": "stdout",
     "output_type": "stream",
     "text": [
      "D:\\zwk_data\\p_tif\\17000\\ndwi1_int8_world_17643.tif\n",
      "['D:\\\\zwk_data\\\\p_tif\\\\GRWL_vector_V01.01\\\\SE38.shp'\n",
      " 'D:\\\\zwk_data\\\\p_tif\\\\GRWL_vector_V01.01\\\\SE39.shp'\n",
      " 'D:\\\\zwk_data\\\\p_tif\\\\GRWL_vector_V01.01\\\\SF38.shp'\n",
      " 'D:\\\\zwk_data\\\\p_tif\\\\GRWL_vector_V01.01\\\\SF39.shp']\n"
     ]
    },
    {
     "data": {
      "text/plain": [
       "'Fri Dec 29 22:35:48 2023'"
      ]
     },
     "execution_count": 22,
     "metadata": {},
     "output_type": "execute_result"
    },
    {
     "data": {
      "text/plain": [
       "115"
      ]
     },
     "execution_count": 22,
     "metadata": {},
     "output_type": "execute_result"
    },
    {
     "name": "stderr",
     "output_type": "stream",
     "text": [
      "\r",
      " 74%|██████████████████████████████████████████████████████▍                   | 422/574 [11:22:47<5:31:03, 130.68s/it]"
     ]
    },
    {
     "name": "stdout",
     "output_type": "stream",
     "text": [
      "D:\\zwk_data\\p_tif\\17000\\ndwi1_int8_world_17644.tif\n",
      "['D:\\\\zwk_data\\\\p_tif\\\\GRWL_vector_V01.01\\\\SF38.shp'\n",
      " 'D:\\\\zwk_data\\\\p_tif\\\\GRWL_vector_V01.01\\\\SF39.shp']\n"
     ]
    },
    {
     "data": {
      "text/plain": [
       "'Fri Dec 29 22:39:30 2023'"
      ]
     },
     "execution_count": 22,
     "metadata": {},
     "output_type": "execute_result"
    },
    {
     "data": {
      "text/plain": [
       "105"
      ]
     },
     "execution_count": 22,
     "metadata": {},
     "output_type": "execute_result"
    },
    {
     "name": "stderr",
     "output_type": "stream",
     "text": [
      "\r",
      " 74%|██████████████████████████████████████████████████████▌                   | 423/574 [11:24:24<5:03:22, 120.55s/it]"
     ]
    },
    {
     "name": "stdout",
     "output_type": "stream",
     "text": [
      "D:\\zwk_data\\p_tif\\17000\\ndwi1_int8_world_17645.tif\n",
      "['D:\\\\zwk_data\\\\p_tif\\\\GRWL_vector_V01.01\\\\SF38.shp'\n",
      " 'D:\\\\zwk_data\\\\p_tif\\\\GRWL_vector_V01.01\\\\SF39.shp']\n"
     ]
    },
    {
     "data": {
      "text/plain": [
       "'Fri Dec 29 22:41:06 2023'"
      ]
     },
     "execution_count": 22,
     "metadata": {},
     "output_type": "execute_result"
    },
    {
     "data": {
      "text/plain": [
       "107"
      ]
     },
     "execution_count": 22,
     "metadata": {},
     "output_type": "execute_result"
    },
    {
     "name": "stderr",
     "output_type": "stream",
     "text": [
      "\r",
      " 74%|██████████████████████████████████████████████████████▋                   | 424/574 [11:25:53<4:37:47, 111.12s/it]"
     ]
    },
    {
     "name": "stdout",
     "output_type": "stream",
     "text": [
      "D:\\zwk_data\\p_tif\\17000\\ndwi1_int8_world_17646.tif\n",
      "['D:\\\\zwk_data\\\\p_tif\\\\GRWL_vector_V01.01\\\\SE38.shp'\n",
      " 'D:\\\\zwk_data\\\\p_tif\\\\GRWL_vector_V01.01\\\\SE39.shp'\n",
      " 'D:\\\\zwk_data\\\\p_tif\\\\GRWL_vector_V01.01\\\\SF38.shp'\n",
      " 'D:\\\\zwk_data\\\\p_tif\\\\GRWL_vector_V01.01\\\\SF39.shp']\n"
     ]
    },
    {
     "data": {
      "text/plain": [
       "'Fri Dec 29 22:42:34 2023'"
      ]
     },
     "execution_count": 22,
     "metadata": {},
     "output_type": "execute_result"
    },
    {
     "data": {
      "text/plain": [
       "116"
      ]
     },
     "execution_count": 22,
     "metadata": {},
     "output_type": "execute_result"
    },
    {
     "name": "stderr",
     "output_type": "stream",
     "text": [
      "\r",
      " 74%|██████████████████████████████████████████████████████▊                   | 425/574 [11:29:27<5:52:38, 142.00s/it]"
     ]
    },
    {
     "name": "stdout",
     "output_type": "stream",
     "text": [
      "D:\\zwk_data\\p_tif\\17000\\ndwi1_int8_world_17647.tif\n",
      "['D:\\\\zwk_data\\\\p_tif\\\\GRWL_vector_V01.01\\\\SF40.shp']\n"
     ]
    },
    {
     "data": {
      "text/plain": [
       "'Fri Dec 29 22:46:10 2023'"
      ]
     },
     "execution_count": 22,
     "metadata": {},
     "output_type": "execute_result"
    },
    {
     "data": {
      "text/plain": [
       "106"
      ]
     },
     "execution_count": 22,
     "metadata": {},
     "output_type": "execute_result"
    },
    {
     "name": "stderr",
     "output_type": "stream",
     "text": [
      "\r",
      " 74%|██████████████████████████████████████████████████████▉                   | 426/574 [11:30:04<4:32:32, 110.49s/it]"
     ]
    },
    {
     "name": "stdout",
     "output_type": "stream",
     "text": [
      "D:\\zwk_data\\p_tif\\17000\\ndwi1_int8_world_17648.tif\n",
      "D:\\zwk_data\\p_tif\\GRWL_vector_V01.01\\SE40.shp\n",
      "D:\\zwk_data\\p_tif\\GRWL_vector_V01.01\\SE40.shp\n",
      "['D:\\\\zwk_data\\\\p_tif\\\\GRWL_vector_V01.01\\\\SF40.shp']\n"
     ]
    },
    {
     "data": {
      "text/plain": [
       "'Fri Dec 29 22:46:45 2023'"
      ]
     },
     "execution_count": 22,
     "metadata": {},
     "output_type": "execute_result"
    },
    {
     "data": {
      "text/plain": [
       "105"
      ]
     },
     "execution_count": 22,
     "metadata": {},
     "output_type": "execute_result"
    },
    {
     "name": "stderr",
     "output_type": "stream",
     "text": [
      "\r",
      " 74%|███████████████████████████████████████████████████████▊                   | 427/574 [11:30:27<3:26:53, 84.45s/it]"
     ]
    },
    {
     "name": "stdout",
     "output_type": "stream",
     "text": [
      "D:\\zwk_data\\p_tif\\17000\\ndwi1_int8_world_17649.tif\n",
      "['D:\\\\zwk_data\\\\p_tif\\\\GRWL_vector_V01.01\\\\SF40.shp']\n"
     ]
    },
    {
     "data": {
      "text/plain": [
       "'Fri Dec 29 22:47:08 2023'"
      ]
     },
     "execution_count": 22,
     "metadata": {},
     "output_type": "execute_result"
    },
    {
     "data": {
      "text/plain": [
       "97"
      ]
     },
     "execution_count": 22,
     "metadata": {},
     "output_type": "execute_result"
    },
    {
     "name": "stderr",
     "output_type": "stream",
     "text": [
      "\r",
      " 75%|███████████████████████████████████████████████████████▉                   | 428/574 [11:30:53<2:42:36, 66.83s/it]"
     ]
    },
    {
     "name": "stdout",
     "output_type": "stream",
     "text": [
      "D:\\zwk_data\\p_tif\\17000\\ndwi1_int8_world_17650.tif\n",
      "D:\\zwk_data\\p_tif\\GRWL_vector_V01.01\\SE40.shp\n",
      "D:\\zwk_data\\p_tif\\GRWL_vector_V01.01\\SE40.shp\n",
      "['D:\\\\zwk_data\\\\p_tif\\\\GRWL_vector_V01.01\\\\SF40.shp']\n"
     ]
    },
    {
     "data": {
      "text/plain": [
       "'Fri Dec 29 22:47:35 2023'"
      ]
     },
     "execution_count": 22,
     "metadata": {},
     "output_type": "execute_result"
    },
    {
     "data": {
      "text/plain": [
       "104"
      ]
     },
     "execution_count": 22,
     "metadata": {},
     "output_type": "execute_result"
    },
    {
     "name": "stderr",
     "output_type": "stream",
     "text": [
      "\r",
      " 75%|████████████████████████████████████████████████████████                   | 429/574 [11:31:19<2:11:40, 54.48s/it]"
     ]
    },
    {
     "name": "stdout",
     "output_type": "stream",
     "text": [
      "D:\\zwk_data\\p_tif\\17000\\ndwi1_int8_world_17651.tif\n",
      "D:\\zwk_data\\p_tif\\GRWL_vector_V01.01\\SE40.shp\n",
      "D:\\zwk_data\\p_tif\\GRWL_vector_V01.01\\SE40.shp\n",
      "['D:\\\\zwk_data\\\\p_tif\\\\GRWL_vector_V01.01\\\\SF40.shp']\n"
     ]
    },
    {
     "data": {
      "text/plain": [
       "'Fri Dec 29 22:48:00 2023'"
      ]
     },
     "execution_count": 22,
     "metadata": {},
     "output_type": "execute_result"
    },
    {
     "data": {
      "text/plain": [
       "96"
      ]
     },
     "execution_count": 22,
     "metadata": {},
     "output_type": "execute_result"
    },
    {
     "name": "stderr",
     "output_type": "stream",
     "text": [
      "\r",
      " 75%|████████████████████████████████████████████████████████▏                  | 430/574 [11:31:44<1:49:28, 45.62s/it]"
     ]
    },
    {
     "name": "stdout",
     "output_type": "stream",
     "text": [
      "D:\\zwk_data\\p_tif\\17000\\ndwi1_int8_world_17655.tif\n",
      "D:\\zwk_data\\p_tif\\GRWL_vector_V01.01\\SH49.shp\n",
      "D:\\zwk_data\\p_tif\\GRWL_vector_V01.01\\SH49.shp\n",
      "['D:\\\\zwk_data\\\\p_tif\\\\GRWL_vector_V01.01\\\\SH50.shp']\n"
     ]
    },
    {
     "data": {
      "text/plain": [
       "'Fri Dec 29 22:48:25 2023'"
      ]
     },
     "execution_count": 22,
     "metadata": {},
     "output_type": "execute_result"
    },
    {
     "data": {
      "text/plain": [
       "98"
      ]
     },
     "execution_count": 22,
     "metadata": {},
     "output_type": "execute_result"
    },
    {
     "name": "stderr",
     "output_type": "stream",
     "text": [
      "\r",
      " 75%|████████████████████████████████████████████████████████▎                  | 431/574 [11:32:18<1:40:29, 42.16s/it]"
     ]
    },
    {
     "name": "stdout",
     "output_type": "stream",
     "text": [
      "D:\\zwk_data\\p_tif\\17000\\ndwi1_int8_world_17656.tif\n",
      "D:\\zwk_data\\p_tif\\GRWL_vector_V01.01\\SH49.shp\n",
      "D:\\zwk_data\\p_tif\\GRWL_vector_V01.01\\SG49.shp\n",
      "['D:\\\\zwk_data\\\\p_tif\\\\GRWL_vector_V01.01\\\\SG50.shp'\n",
      " 'D:\\\\zwk_data\\\\p_tif\\\\GRWL_vector_V01.01\\\\SH50.shp']\n"
     ]
    },
    {
     "data": {
      "text/plain": [
       "'Fri Dec 29 22:48:59 2023'"
      ]
     },
     "execution_count": 22,
     "metadata": {},
     "output_type": "execute_result"
    },
    {
     "data": {
      "text/plain": [
       "114"
      ]
     },
     "execution_count": 22,
     "metadata": {},
     "output_type": "execute_result"
    },
    {
     "name": "stderr",
     "output_type": "stream",
     "text": [
      "\r",
      " 75%|████████████████████████████████████████████████████████▍                  | 432/574 [11:32:52<1:34:16, 39.83s/it]"
     ]
    },
    {
     "name": "stdout",
     "output_type": "stream",
     "text": [
      "D:\\zwk_data\\p_tif\\17000\\ndwi1_int8_world_17657.tif\n",
      "D:\\zwk_data\\p_tif\\GRWL_vector_V01.01\\SH49.shp\n",
      "D:\\zwk_data\\p_tif\\GRWL_vector_V01.01\\SG49.shp\n",
      "['D:\\\\zwk_data\\\\p_tif\\\\GRWL_vector_V01.01\\\\SG50.shp'\n",
      " 'D:\\\\zwk_data\\\\p_tif\\\\GRWL_vector_V01.01\\\\SH50.shp']\n"
     ]
    },
    {
     "data": {
      "text/plain": [
       "'Fri Dec 29 22:49:33 2023'"
      ]
     },
     "execution_count": 22,
     "metadata": {},
     "output_type": "execute_result"
    },
    {
     "data": {
      "text/plain": [
       "98"
      ]
     },
     "execution_count": 22,
     "metadata": {},
     "output_type": "execute_result"
    },
    {
     "name": "stderr",
     "output_type": "stream",
     "text": [
      "\r",
      " 75%|████████████████████████████████████████████████████████▌                  | 433/574 [11:33:26<1:29:23, 38.04s/it]"
     ]
    },
    {
     "name": "stdout",
     "output_type": "stream",
     "text": [
      "D:\\zwk_data\\p_tif\\17000\\ndwi1_int8_world_17658.tif\n",
      "D:\\zwk_data\\p_tif\\GRWL_vector_V01.01\\SG49.shp\n",
      "D:\\zwk_data\\p_tif\\GRWL_vector_V01.01\\SG49.shp\n",
      "['D:\\\\zwk_data\\\\p_tif\\\\GRWL_vector_V01.01\\\\SG50.shp']\n"
     ]
    },
    {
     "data": {
      "text/plain": [
       "'Fri Dec 29 22:50:07 2023'"
      ]
     },
     "execution_count": 22,
     "metadata": {},
     "output_type": "execute_result"
    },
    {
     "data": {
      "text/plain": [
       "107"
      ]
     },
     "execution_count": 22,
     "metadata": {},
     "output_type": "execute_result"
    },
    {
     "name": "stderr",
     "output_type": "stream",
     "text": [
      "\r",
      " 76%|████████████████████████████████████████████████████████▋                  | 434/574 [11:33:51<1:19:13, 33.95s/it]"
     ]
    },
    {
     "name": "stdout",
     "output_type": "stream",
     "text": [
      "D:\\zwk_data\\p_tif\\17000\\ndwi1_int8_world_17659.tif\n",
      "D:\\zwk_data\\p_tif\\GRWL_vector_V01.01\\SG49.shp\n",
      "D:\\zwk_data\\p_tif\\GRWL_vector_V01.01\\SG49.shp\n",
      "['D:\\\\zwk_data\\\\p_tif\\\\GRWL_vector_V01.01\\\\SG50.shp']\n"
     ]
    },
    {
     "data": {
      "text/plain": [
       "'Fri Dec 29 22:50:32 2023'"
      ]
     },
     "execution_count": 22,
     "metadata": {},
     "output_type": "execute_result"
    },
    {
     "data": {
      "text/plain": [
       "105"
      ]
     },
     "execution_count": 22,
     "metadata": {},
     "output_type": "execute_result"
    },
    {
     "name": "stderr",
     "output_type": "stream",
     "text": [
      "\r",
      " 76%|████████████████████████████████████████████████████████▊                  | 435/574 [11:34:15<1:11:47, 30.99s/it]"
     ]
    },
    {
     "name": "stdout",
     "output_type": "stream",
     "text": [
      "D:\\zwk_data\\p_tif\\17000\\ndwi1_int8_world_17663.tif\n",
      "D:\\zwk_data\\p_tif\\GRWL_vector_V01.01\\SF49.shp\n",
      "D:\\zwk_data\\p_tif\\GRWL_vector_V01.01\\SF49.shp\n",
      "['D:\\\\zwk_data\\\\p_tif\\\\GRWL_vector_V01.01\\\\SF50.shp']\n"
     ]
    },
    {
     "data": {
      "text/plain": [
       "'Fri Dec 29 22:50:55 2023'"
      ]
     },
     "execution_count": 22,
     "metadata": {},
     "output_type": "execute_result"
    },
    {
     "data": {
      "text/plain": [
       "104"
      ]
     },
     "execution_count": 22,
     "metadata": {},
     "output_type": "execute_result"
    },
    {
     "name": "stderr",
     "output_type": "stream",
     "text": [
      "\r",
      " 76%|████████████████████████████████████████████████████████▉                  | 436/574 [11:34:45<1:10:34, 30.68s/it]"
     ]
    },
    {
     "name": "stdout",
     "output_type": "stream",
     "text": [
      "D:\\zwk_data\\p_tif\\17000\\ndwi1_int8_world_17664.tif\n",
      "D:\\zwk_data\\p_tif\\GRWL_vector_V01.01\\SH49.shp\n",
      "D:\\zwk_data\\p_tif\\GRWL_vector_V01.01\\SH49.shp\n",
      "['D:\\\\zwk_data\\\\p_tif\\\\GRWL_vector_V01.01\\\\SH50.shp']\n"
     ]
    },
    {
     "data": {
      "text/plain": [
       "'Fri Dec 29 22:51:27 2023'"
      ]
     },
     "execution_count": 22,
     "metadata": {},
     "output_type": "execute_result"
    },
    {
     "data": {
      "text/plain": [
       "109"
      ]
     },
     "execution_count": 22,
     "metadata": {},
     "output_type": "execute_result"
    },
    {
     "name": "stderr",
     "output_type": "stream",
     "text": [
      "\r",
      " 76%|█████████████████████████████████████████████████████████                  | 437/574 [11:35:17<1:11:26, 31.29s/it]"
     ]
    },
    {
     "name": "stdout",
     "output_type": "stream",
     "text": [
      "D:\\zwk_data\\p_tif\\17000\\ndwi1_int8_world_17665.tif\n",
      "D:\\zwk_data\\p_tif\\GRWL_vector_V01.01\\SH49.shp\n",
      "D:\\zwk_data\\p_tif\\GRWL_vector_V01.01\\SG49.shp\n",
      "['D:\\\\zwk_data\\\\p_tif\\\\GRWL_vector_V01.01\\\\SG50.shp'\n",
      " 'D:\\\\zwk_data\\\\p_tif\\\\GRWL_vector_V01.01\\\\SH50.shp']\n"
     ]
    },
    {
     "data": {
      "text/plain": [
       "'Fri Dec 29 22:51:58 2023'"
      ]
     },
     "execution_count": 22,
     "metadata": {},
     "output_type": "execute_result"
    },
    {
     "data": {
      "text/plain": [
       "113"
      ]
     },
     "execution_count": 22,
     "metadata": {},
     "output_type": "execute_result"
    },
    {
     "name": "stderr",
     "output_type": "stream",
     "text": [
      "\r",
      " 76%|█████████████████████████████████████████████████████████▏                 | 438/574 [11:35:49<1:10:58, 31.31s/it]"
     ]
    },
    {
     "name": "stdout",
     "output_type": "stream",
     "text": [
      "D:\\zwk_data\\p_tif\\17000\\ndwi1_int8_world_17666.tif\n",
      "D:\\zwk_data\\p_tif\\GRWL_vector_V01.01\\SH49.shp\n",
      "D:\\zwk_data\\p_tif\\GRWL_vector_V01.01\\SG49.shp\n",
      "['D:\\\\zwk_data\\\\p_tif\\\\GRWL_vector_V01.01\\\\SG50.shp'\n",
      " 'D:\\\\zwk_data\\\\p_tif\\\\GRWL_vector_V01.01\\\\SH50.shp']\n"
     ]
    },
    {
     "data": {
      "text/plain": [
       "'Fri Dec 29 22:52:30 2023'"
      ]
     },
     "execution_count": 22,
     "metadata": {},
     "output_type": "execute_result"
    },
    {
     "data": {
      "text/plain": [
       "113"
      ]
     },
     "execution_count": 22,
     "metadata": {},
     "output_type": "execute_result"
    },
    {
     "name": "stderr",
     "output_type": "stream",
     "text": [
      "\r",
      " 76%|█████████████████████████████████████████████████████████▎                 | 439/574 [11:36:20<1:10:35, 31.38s/it]"
     ]
    },
    {
     "name": "stdout",
     "output_type": "stream",
     "text": [
      "D:\\zwk_data\\p_tif\\17000\\ndwi1_int8_world_17667.tif\n",
      "D:\\zwk_data\\p_tif\\GRWL_vector_V01.01\\SG49.shp\n",
      "D:\\zwk_data\\p_tif\\GRWL_vector_V01.01\\SG49.shp\n",
      "['D:\\\\zwk_data\\\\p_tif\\\\GRWL_vector_V01.01\\\\SG50.shp']\n"
     ]
    },
    {
     "data": {
      "text/plain": [
       "'Fri Dec 29 22:53:01 2023'"
      ]
     },
     "execution_count": 22,
     "metadata": {},
     "output_type": "execute_result"
    },
    {
     "data": {
      "text/plain": [
       "102"
      ]
     },
     "execution_count": 22,
     "metadata": {},
     "output_type": "execute_result"
    },
    {
     "name": "stderr",
     "output_type": "stream",
     "text": [
      "\r",
      " 77%|█████████████████████████████████████████████████████████▍                 | 440/574 [11:36:43<1:04:30, 28.88s/it]"
     ]
    },
    {
     "name": "stdout",
     "output_type": "stream",
     "text": [
      "D:\\zwk_data\\p_tif\\17000\\ndwi1_int8_world_17668.tif\n",
      "D:\\zwk_data\\p_tif\\GRWL_vector_V01.01\\SG49.shp\n",
      "D:\\zwk_data\\p_tif\\GRWL_vector_V01.01\\SG49.shp\n",
      "['D:\\\\zwk_data\\\\p_tif\\\\GRWL_vector_V01.01\\\\SG50.shp']\n"
     ]
    },
    {
     "data": {
      "text/plain": [
       "'Fri Dec 29 22:53:24 2023'"
      ]
     },
     "execution_count": 22,
     "metadata": {},
     "output_type": "execute_result"
    },
    {
     "data": {
      "text/plain": [
       "104"
      ]
     },
     "execution_count": 22,
     "metadata": {},
     "output_type": "execute_result"
    },
    {
     "name": "stderr",
     "output_type": "stream",
     "text": [
      "\r",
      " 77%|█████████████████████████████████████████████████████████▌                 | 441/574 [11:37:09<1:01:45, 27.86s/it]"
     ]
    },
    {
     "name": "stdout",
     "output_type": "stream",
     "text": [
      "D:\\zwk_data\\p_tif\\17000\\ndwi1_int8_world_17669.tif\n",
      "D:\\zwk_data\\p_tif\\GRWL_vector_V01.01\\SG49.shp\n",
      "D:\\zwk_data\\p_tif\\GRWL_vector_V01.01\\SF49.shp\n",
      "['D:\\\\zwk_data\\\\p_tif\\\\GRWL_vector_V01.01\\\\SF50.shp'\n",
      " 'D:\\\\zwk_data\\\\p_tif\\\\GRWL_vector_V01.01\\\\SG50.shp']\n"
     ]
    },
    {
     "data": {
      "text/plain": [
       "'Fri Dec 29 22:53:50 2023'"
      ]
     },
     "execution_count": 22,
     "metadata": {},
     "output_type": "execute_result"
    },
    {
     "data": {
      "text/plain": [
       "107"
      ]
     },
     "execution_count": 22,
     "metadata": {},
     "output_type": "execute_result"
    },
    {
     "name": "stderr",
     "output_type": "stream",
     "text": [
      "\r",
      " 77%|█████████████████████████████████████████████████████████▊                 | 442/574 [11:37:37<1:01:43, 28.06s/it]"
     ]
    },
    {
     "name": "stdout",
     "output_type": "stream",
     "text": [
      "D:\\zwk_data\\p_tif\\17000\\ndwi1_int8_world_17670.tif\n",
      "D:\\zwk_data\\p_tif\\GRWL_vector_V01.01\\SG49.shp\n",
      "D:\\zwk_data\\p_tif\\GRWL_vector_V01.01\\SF49.shp\n",
      "['D:\\\\zwk_data\\\\p_tif\\\\GRWL_vector_V01.01\\\\SF50.shp'\n",
      " 'D:\\\\zwk_data\\\\p_tif\\\\GRWL_vector_V01.01\\\\SG50.shp']\n"
     ]
    },
    {
     "data": {
      "text/plain": [
       "'Fri Dec 29 22:54:18 2023'"
      ]
     },
     "execution_count": 22,
     "metadata": {},
     "output_type": "execute_result"
    },
    {
     "data": {
      "text/plain": [
       "102"
      ]
     },
     "execution_count": 22,
     "metadata": {},
     "output_type": "execute_result"
    },
    {
     "name": "stderr",
     "output_type": "stream",
     "text": [
      "\r",
      " 77%|█████████████████████████████████████████████████████████▉                 | 443/574 [11:38:07<1:02:36, 28.67s/it]"
     ]
    },
    {
     "name": "stdout",
     "output_type": "stream",
     "text": [
      "D:\\zwk_data\\p_tif\\17000\\ndwi1_int8_world_17671.tif\n",
      "D:\\zwk_data\\p_tif\\GRWL_vector_V01.01\\SF49.shp\n",
      "D:\\zwk_data\\p_tif\\GRWL_vector_V01.01\\SF49.shp\n",
      "['D:\\\\zwk_data\\\\p_tif\\\\GRWL_vector_V01.01\\\\SF50.shp']\n"
     ]
    },
    {
     "data": {
      "text/plain": [
       "'Fri Dec 29 22:54:48 2023'"
      ]
     },
     "execution_count": 22,
     "metadata": {},
     "output_type": "execute_result"
    },
    {
     "data": {
      "text/plain": [
       "105"
      ]
     },
     "execution_count": 22,
     "metadata": {},
     "output_type": "execute_result"
    },
    {
     "name": "stderr",
     "output_type": "stream",
     "text": [
      "\r",
      " 77%|██████████████████████████████████████████████████████████                 | 444/574 [11:38:36<1:02:13, 28.72s/it]"
     ]
    },
    {
     "name": "stdout",
     "output_type": "stream",
     "text": [
      "D:\\zwk_data\\p_tif\\17000\\ndwi1_int8_world_17672.tif\n",
      "D:\\zwk_data\\p_tif\\GRWL_vector_V01.01\\SF49.shp\n",
      "D:\\zwk_data\\p_tif\\GRWL_vector_V01.01\\SF49.shp\n",
      "['D:\\\\zwk_data\\\\p_tif\\\\GRWL_vector_V01.01\\\\SF50.shp']\n"
     ]
    },
    {
     "data": {
      "text/plain": [
       "'Fri Dec 29 22:55:17 2023'"
      ]
     },
     "execution_count": 22,
     "metadata": {},
     "output_type": "execute_result"
    },
    {
     "data": {
      "text/plain": [
       "105"
      ]
     },
     "execution_count": 22,
     "metadata": {},
     "output_type": "execute_result"
    },
    {
     "name": "stderr",
     "output_type": "stream",
     "text": [
      "\r",
      " 78%|██████████████████████████████████████████████████████████▏                | 445/574 [11:39:04<1:01:28, 28.59s/it]"
     ]
    },
    {
     "name": "stdout",
     "output_type": "stream",
     "text": [
      "D:\\zwk_data\\p_tif\\17000\\ndwi1_int8_world_17673.tif\n",
      "['D:\\\\zwk_data\\\\p_tif\\\\GRWL_vector_V01.01\\\\SH50.shp']\n"
     ]
    },
    {
     "data": {
      "text/plain": [
       "'Fri Dec 29 22:55:45 2023'"
      ]
     },
     "execution_count": 22,
     "metadata": {},
     "output_type": "execute_result"
    },
    {
     "data": {
      "text/plain": [
       "112"
      ]
     },
     "execution_count": 22,
     "metadata": {},
     "output_type": "execute_result"
    },
    {
     "name": "stderr",
     "output_type": "stream",
     "text": [
      "\r",
      " 78%|██████████████████████████████████████████████████████████▎                | 446/574 [11:39:43<1:07:11, 31.50s/it]"
     ]
    },
    {
     "name": "stdout",
     "output_type": "stream",
     "text": [
      "D:\\zwk_data\\p_tif\\17000\\ndwi1_int8_world_17675.tif\n",
      "['D:\\\\zwk_data\\\\p_tif\\\\GRWL_vector_V01.01\\\\SG50.shp'\n",
      " 'D:\\\\zwk_data\\\\p_tif\\\\GRWL_vector_V01.01\\\\SH50.shp']\n"
     ]
    },
    {
     "data": {
      "text/plain": [
       "'Fri Dec 29 22:56:24 2023'"
      ]
     },
     "execution_count": 22,
     "metadata": {},
     "output_type": "execute_result"
    },
    {
     "data": {
      "text/plain": [
       "114"
      ]
     },
     "execution_count": 22,
     "metadata": {},
     "output_type": "execute_result"
    },
    {
     "name": "stderr",
     "output_type": "stream",
     "text": [
      "\r",
      " 78%|██████████████████████████████████████████████████████████▍                | 447/574 [11:40:16<1:07:43, 32.00s/it]"
     ]
    },
    {
     "name": "stdout",
     "output_type": "stream",
     "text": [
      "D:\\zwk_data\\p_tif\\17000\\ndwi1_int8_world_17677.tif\n",
      "['D:\\\\zwk_data\\\\p_tif\\\\GRWL_vector_V01.01\\\\SG50.shp']\n"
     ]
    },
    {
     "data": {
      "text/plain": [
       "'Fri Dec 29 22:56:57 2023'"
      ]
     },
     "execution_count": 22,
     "metadata": {},
     "output_type": "execute_result"
    },
    {
     "data": {
      "text/plain": [
       "105"
      ]
     },
     "execution_count": 22,
     "metadata": {},
     "output_type": "execute_result"
    },
    {
     "name": "stderr",
     "output_type": "stream",
     "text": [
      "\r",
      " 78%|██████████████████████████████████████████████████████████▌                | 448/574 [11:40:40<1:02:12, 29.62s/it]"
     ]
    },
    {
     "name": "stdout",
     "output_type": "stream",
     "text": [
      "D:\\zwk_data\\p_tif\\17000\\ndwi1_int8_world_17678.tif\n",
      "['D:\\\\zwk_data\\\\p_tif\\\\GRWL_vector_V01.01\\\\SF50.shp'\n",
      " 'D:\\\\zwk_data\\\\p_tif\\\\GRWL_vector_V01.01\\\\SG50.shp']\n"
     ]
    },
    {
     "data": {
      "text/plain": [
       "'Fri Dec 29 22:57:21 2023'"
      ]
     },
     "execution_count": 22,
     "metadata": {},
     "output_type": "execute_result"
    },
    {
     "data": {
      "text/plain": [
       "106"
      ]
     },
     "execution_count": 22,
     "metadata": {},
     "output_type": "execute_result"
    },
    {
     "name": "stderr",
     "output_type": "stream",
     "text": [
      "\r",
      " 78%|██████████████████████████████████████████████████████████▋                | 449/574 [11:41:07<1:00:11, 28.89s/it]"
     ]
    },
    {
     "name": "stdout",
     "output_type": "stream",
     "text": [
      "D:\\zwk_data\\p_tif\\17000\\ndwi1_int8_world_17680.tif\n",
      "['D:\\\\zwk_data\\\\p_tif\\\\GRWL_vector_V01.01\\\\SF50.shp']\n"
     ]
    },
    {
     "data": {
      "text/plain": [
       "'Fri Dec 29 22:57:48 2023'"
      ]
     },
     "execution_count": 22,
     "metadata": {},
     "output_type": "execute_result"
    },
    {
     "data": {
      "text/plain": [
       "106"
      ]
     },
     "execution_count": 22,
     "metadata": {},
     "output_type": "execute_result"
    },
    {
     "name": "stderr",
     "output_type": "stream",
     "text": [
      "\r",
      " 78%|████████████████████████████████████████████████████████████▎                | 450/574 [11:41:36<59:51, 28.96s/it]"
     ]
    },
    {
     "name": "stdout",
     "output_type": "stream",
     "text": [
      "D:\\zwk_data\\p_tif\\17000\\ndwi1_int8_world_17681.tif\n",
      "['D:\\\\zwk_data\\\\p_tif\\\\GRWL_vector_V01.01\\\\SF50.shp']\n"
     ]
    },
    {
     "data": {
      "text/plain": [
       "'Fri Dec 29 22:58:17 2023'"
      ]
     },
     "execution_count": 22,
     "metadata": {},
     "output_type": "execute_result"
    },
    {
     "data": {
      "text/plain": [
       "108"
      ]
     },
     "execution_count": 22,
     "metadata": {},
     "output_type": "execute_result"
    },
    {
     "name": "stderr",
     "output_type": "stream",
     "text": [
      "\r",
      " 79%|████████████████████████████████████████████████████████████▌                | 451/574 [11:42:05<59:07, 28.84s/it]"
     ]
    },
    {
     "name": "stdout",
     "output_type": "stream",
     "text": [
      "D:\\zwk_data\\p_tif\\17000\\ndwi1_int8_world_17682.tif\n",
      "['D:\\\\zwk_data\\\\p_tif\\\\GRWL_vector_V01.01\\\\SE50.shp'\n",
      " 'D:\\\\zwk_data\\\\p_tif\\\\GRWL_vector_V01.01\\\\SF50.shp']\n"
     ]
    },
    {
     "data": {
      "text/plain": [
       "'Fri Dec 29 22:58:46 2023'"
      ]
     },
     "execution_count": 22,
     "metadata": {},
     "output_type": "execute_result"
    },
    {
     "data": {
      "text/plain": [
       "105"
      ]
     },
     "execution_count": 22,
     "metadata": {},
     "output_type": "execute_result"
    },
    {
     "name": "stderr",
     "output_type": "stream",
     "text": [
      "\r",
      " 79%|████████████████████████████████████████████████████████████▋                | 452/574 [11:42:35<59:37, 29.32s/it]"
     ]
    },
    {
     "name": "stdout",
     "output_type": "stream",
     "text": [
      "D:\\zwk_data\\p_tif\\17000\\ndwi1_int8_world_17683.tif\n",
      "['D:\\\\zwk_data\\\\p_tif\\\\GRWL_vector_V01.01\\\\SH50.shp']\n"
     ]
    },
    {
     "data": {
      "text/plain": [
       "'Fri Dec 29 22:59:16 2023'"
      ]
     },
     "execution_count": 22,
     "metadata": {},
     "output_type": "execute_result"
    },
    {
     "data": {
      "text/plain": [
       "118"
      ]
     },
     "execution_count": 22,
     "metadata": {},
     "output_type": "execute_result"
    },
    {
     "name": "stderr",
     "output_type": "stream",
     "text": [
      "\r",
      " 79%|███████████████████████████████████████████████████████████▏               | 453/574 [11:43:09<1:01:59, 30.74s/it]"
     ]
    },
    {
     "name": "stdout",
     "output_type": "stream",
     "text": [
      "D:\\zwk_data\\p_tif\\17000\\ndwi1_int8_world_17684.tif\n",
      "['D:\\\\zwk_data\\\\p_tif\\\\GRWL_vector_V01.01\\\\SG50.shp'\n",
      " 'D:\\\\zwk_data\\\\p_tif\\\\GRWL_vector_V01.01\\\\SH50.shp']\n"
     ]
    },
    {
     "data": {
      "text/plain": [
       "'Fri Dec 29 22:59:50 2023'"
      ]
     },
     "execution_count": 22,
     "metadata": {},
     "output_type": "execute_result"
    },
    {
     "data": {
      "text/plain": [
       "109"
      ]
     },
     "execution_count": 22,
     "metadata": {},
     "output_type": "execute_result"
    },
    {
     "name": "stderr",
     "output_type": "stream",
     "text": [
      "\r",
      " 79%|███████████████████████████████████████████████████████████▎               | 454/574 [11:43:42<1:02:31, 31.26s/it]"
     ]
    },
    {
     "name": "stdout",
     "output_type": "stream",
     "text": [
      "D:\\zwk_data\\p_tif\\17000\\ndwi1_int8_world_17686.tif\n",
      "['D:\\\\zwk_data\\\\p_tif\\\\GRWL_vector_V01.01\\\\SG50.shp']\n"
     ]
    },
    {
     "data": {
      "text/plain": [
       "'Fri Dec 29 23:00:23 2023'"
      ]
     },
     "execution_count": 22,
     "metadata": {},
     "output_type": "execute_result"
    },
    {
     "data": {
      "text/plain": [
       "103"
      ]
     },
     "execution_count": 22,
     "metadata": {},
     "output_type": "execute_result"
    },
    {
     "name": "stderr",
     "output_type": "stream",
     "text": [
      "\r",
      " 79%|█████████████████████████████████████████████████████████████                | 455/574 [11:44:06<57:39, 29.07s/it]"
     ]
    },
    {
     "name": "stdout",
     "output_type": "stream",
     "text": [
      "D:\\zwk_data\\p_tif\\17000\\ndwi1_int8_world_17687.tif\n",
      "['D:\\\\zwk_data\\\\p_tif\\\\GRWL_vector_V01.01\\\\SG50.shp']\n"
     ]
    },
    {
     "data": {
      "text/plain": [
       "'Fri Dec 29 23:00:47 2023'"
      ]
     },
     "execution_count": 22,
     "metadata": {},
     "output_type": "execute_result"
    },
    {
     "data": {
      "text/plain": [
       "103"
      ]
     },
     "execution_count": 22,
     "metadata": {},
     "output_type": "execute_result"
    },
    {
     "name": "stderr",
     "output_type": "stream",
     "text": [
      "\r",
      " 79%|█████████████████████████████████████████████████████████████▏               | 456/574 [11:44:31<54:58, 27.96s/it]"
     ]
    },
    {
     "name": "stdout",
     "output_type": "stream",
     "text": [
      "D:\\zwk_data\\p_tif\\17000\\ndwi1_int8_world_17688.tif\n",
      "['D:\\\\zwk_data\\\\p_tif\\\\GRWL_vector_V01.01\\\\SF50.shp'\n",
      " 'D:\\\\zwk_data\\\\p_tif\\\\GRWL_vector_V01.01\\\\SG50.shp']\n"
     ]
    },
    {
     "data": {
      "text/plain": [
       "'Fri Dec 29 23:01:13 2023'"
      ]
     },
     "execution_count": 22,
     "metadata": {},
     "output_type": "execute_result"
    },
    {
     "data": {
      "text/plain": [
       "106"
      ]
     },
     "execution_count": 22,
     "metadata": {},
     "output_type": "execute_result"
    },
    {
     "name": "stderr",
     "output_type": "stream",
     "text": [
      "\r",
      " 80%|█████████████████████████████████████████████████████████████▎               | 457/574 [11:45:00<55:06, 28.26s/it]"
     ]
    },
    {
     "name": "stdout",
     "output_type": "stream",
     "text": [
      "D:\\zwk_data\\p_tif\\17000\\ndwi1_int8_world_17689.tif\n",
      "['D:\\\\zwk_data\\\\p_tif\\\\GRWL_vector_V01.01\\\\SF50.shp'\n",
      " 'D:\\\\zwk_data\\\\p_tif\\\\GRWL_vector_V01.01\\\\SG50.shp']\n"
     ]
    },
    {
     "data": {
      "text/plain": [
       "'Fri Dec 29 23:01:42 2023'"
      ]
     },
     "execution_count": 22,
     "metadata": {},
     "output_type": "execute_result"
    },
    {
     "data": {
      "text/plain": [
       "105"
      ]
     },
     "execution_count": 22,
     "metadata": {},
     "output_type": "execute_result"
    },
    {
     "name": "stderr",
     "output_type": "stream",
     "text": [
      "\r",
      " 80%|█████████████████████████████████████████████████████████████▍               | 458/574 [11:45:28<54:32, 28.21s/it]"
     ]
    },
    {
     "name": "stdout",
     "output_type": "stream",
     "text": [
      "D:\\zwk_data\\p_tif\\17000\\ndwi1_int8_world_17690.tif\n",
      "['D:\\\\zwk_data\\\\p_tif\\\\GRWL_vector_V01.01\\\\SF50.shp']\n"
     ]
    },
    {
     "data": {
      "text/plain": [
       "'Fri Dec 29 23:02:09 2023'"
      ]
     },
     "execution_count": 22,
     "metadata": {},
     "output_type": "execute_result"
    },
    {
     "data": {
      "text/plain": [
       "104"
      ]
     },
     "execution_count": 22,
     "metadata": {},
     "output_type": "execute_result"
    },
    {
     "name": "stderr",
     "output_type": "stream",
     "text": [
      "\r",
      " 80%|█████████████████████████████████████████████████████████████▌               | 459/574 [11:45:58<54:56, 28.66s/it]"
     ]
    },
    {
     "name": "stdout",
     "output_type": "stream",
     "text": [
      "D:\\zwk_data\\p_tif\\17000\\ndwi1_int8_world_17691.tif\n",
      "['D:\\\\zwk_data\\\\p_tif\\\\GRWL_vector_V01.01\\\\SF50.shp']\n"
     ]
    },
    {
     "data": {
      "text/plain": [
       "'Fri Dec 29 23:02:39 2023'"
      ]
     },
     "execution_count": 22,
     "metadata": {},
     "output_type": "execute_result"
    },
    {
     "data": {
      "text/plain": [
       "106"
      ]
     },
     "execution_count": 22,
     "metadata": {},
     "output_type": "execute_result"
    },
    {
     "name": "stderr",
     "output_type": "stream",
     "text": [
      "\r",
      " 80%|█████████████████████████████████████████████████████████████▋               | 460/574 [11:46:27<54:24, 28.64s/it]"
     ]
    },
    {
     "name": "stdout",
     "output_type": "stream",
     "text": [
      "D:\\zwk_data\\p_tif\\17000\\ndwi1_int8_world_17692.tif\n",
      "['D:\\\\zwk_data\\\\p_tif\\\\GRWL_vector_V01.01\\\\SE50.shp'\n",
      " 'D:\\\\zwk_data\\\\p_tif\\\\GRWL_vector_V01.01\\\\SF50.shp']\n"
     ]
    },
    {
     "data": {
      "text/plain": [
       "'Fri Dec 29 23:03:08 2023'"
      ]
     },
     "execution_count": 22,
     "metadata": {},
     "output_type": "execute_result"
    },
    {
     "data": {
      "text/plain": [
       "107"
      ]
     },
     "execution_count": 22,
     "metadata": {},
     "output_type": "execute_result"
    },
    {
     "name": "stderr",
     "output_type": "stream",
     "text": [
      "\r",
      " 80%|█████████████████████████████████████████████████████████████▊               | 461/574 [11:46:54<53:29, 28.40s/it]"
     ]
    },
    {
     "name": "stdout",
     "output_type": "stream",
     "text": [
      "D:\\zwk_data\\p_tif\\17000\\ndwi1_int8_world_17693.tif\n",
      "['D:\\\\zwk_data\\\\p_tif\\\\GRWL_vector_V01.01\\\\SH50.shp']\n"
     ]
    },
    {
     "data": {
      "text/plain": [
       "'Fri Dec 29 23:03:35 2023'"
      ]
     },
     "execution_count": 22,
     "metadata": {},
     "output_type": "execute_result"
    },
    {
     "data": {
      "text/plain": [
       "114"
      ]
     },
     "execution_count": 22,
     "metadata": {},
     "output_type": "execute_result"
    },
    {
     "name": "stderr",
     "output_type": "stream",
     "text": [
      "\r",
      " 80%|█████████████████████████████████████████████████████████████▉               | 462/574 [11:47:29<56:26, 30.23s/it]"
     ]
    },
    {
     "name": "stdout",
     "output_type": "stream",
     "text": [
      "D:\\zwk_data\\p_tif\\17000\\ndwi1_int8_world_17695.tif\n",
      "['D:\\\\zwk_data\\\\p_tif\\\\GRWL_vector_V01.01\\\\SG50.shp'\n",
      " 'D:\\\\zwk_data\\\\p_tif\\\\GRWL_vector_V01.01\\\\SH50.shp']\n"
     ]
    },
    {
     "data": {
      "text/plain": [
       "'Fri Dec 29 23:04:10 2023'"
      ]
     },
     "execution_count": 22,
     "metadata": {},
     "output_type": "execute_result"
    },
    {
     "data": {
      "text/plain": [
       "114"
      ]
     },
     "execution_count": 22,
     "metadata": {},
     "output_type": "execute_result"
    },
    {
     "name": "stderr",
     "output_type": "stream",
     "text": [
      "\r",
      " 81%|██████████████████████████████████████████████████████████████               | 463/574 [11:48:02<57:30, 31.08s/it]"
     ]
    },
    {
     "name": "stdout",
     "output_type": "stream",
     "text": [
      "D:\\zwk_data\\p_tif\\17000\\ndwi1_int8_world_17698.tif\n",
      "['D:\\\\zwk_data\\\\p_tif\\\\GRWL_vector_V01.01\\\\SF50.shp'\n",
      " 'D:\\\\zwk_data\\\\p_tif\\\\GRWL_vector_V01.01\\\\SG50.shp']\n"
     ]
    },
    {
     "data": {
      "text/plain": [
       "'Fri Dec 29 23:04:43 2023'"
      ]
     },
     "execution_count": 22,
     "metadata": {},
     "output_type": "execute_result"
    },
    {
     "data": {
      "text/plain": [
       "104"
      ]
     },
     "execution_count": 22,
     "metadata": {},
     "output_type": "execute_result"
    },
    {
     "name": "stderr",
     "output_type": "stream",
     "text": [
      "\r",
      " 81%|██████████████████████████████████████████████████████████████▏              | 464/574 [11:48:31<55:55, 30.51s/it]"
     ]
    },
    {
     "name": "stdout",
     "output_type": "stream",
     "text": [
      "D:\\zwk_data\\p_tif\\17000\\ndwi1_int8_world_17699.tif\n",
      "['D:\\\\zwk_data\\\\p_tif\\\\GRWL_vector_V01.01\\\\SF50.shp'\n",
      " 'D:\\\\zwk_data\\\\p_tif\\\\GRWL_vector_V01.01\\\\SG50.shp']\n"
     ]
    },
    {
     "data": {
      "text/plain": [
       "'Fri Dec 29 23:05:12 2023'"
      ]
     },
     "execution_count": 22,
     "metadata": {},
     "output_type": "execute_result"
    },
    {
     "data": {
      "text/plain": [
       "105"
      ]
     },
     "execution_count": 22,
     "metadata": {},
     "output_type": "execute_result"
    },
    {
     "name": "stderr",
     "output_type": "stream",
     "text": [
      "\r",
      " 81%|██████████████████████████████████████████████████████████████▍              | 465/574 [11:48:59<54:09, 29.81s/it]"
     ]
    },
    {
     "name": "stdout",
     "output_type": "stream",
     "text": [
      "D:\\zwk_data\\p_tif\\17000\\ndwi1_int8_world_17701.tif\n",
      "['D:\\\\zwk_data\\\\p_tif\\\\GRWL_vector_V01.01\\\\SF50.shp']\n"
     ]
    },
    {
     "data": {
      "text/plain": [
       "'Fri Dec 29 23:05:40 2023'"
      ]
     },
     "execution_count": 22,
     "metadata": {},
     "output_type": "execute_result"
    },
    {
     "data": {
      "text/plain": [
       "104"
      ]
     },
     "execution_count": 22,
     "metadata": {},
     "output_type": "execute_result"
    },
    {
     "name": "stderr",
     "output_type": "stream",
     "text": [
      "\r",
      " 81%|██████████████████████████████████████████████████████████████▌              | 466/574 [11:49:29<53:27, 29.70s/it]"
     ]
    },
    {
     "name": "stdout",
     "output_type": "stream",
     "text": [
      "D:\\zwk_data\\p_tif\\17000\\ndwi1_int8_world_17702.tif\n",
      "['D:\\\\zwk_data\\\\p_tif\\\\GRWL_vector_V01.01\\\\SE50.shp'\n",
      " 'D:\\\\zwk_data\\\\p_tif\\\\GRWL_vector_V01.01\\\\SF50.shp']\n"
     ]
    },
    {
     "data": {
      "text/plain": [
       "'Fri Dec 29 23:06:10 2023'"
      ]
     },
     "execution_count": 22,
     "metadata": {},
     "output_type": "execute_result"
    },
    {
     "data": {
      "text/plain": [
       "107"
      ]
     },
     "execution_count": 22,
     "metadata": {},
     "output_type": "execute_result"
    },
    {
     "name": "stderr",
     "output_type": "stream",
     "text": [
      "\r",
      " 81%|██████████████████████████████████████████████████████████████▋              | 467/574 [11:49:57<52:06, 29.22s/it]"
     ]
    },
    {
     "name": "stdout",
     "output_type": "stream",
     "text": [
      "D:\\zwk_data\\p_tif\\17000\\ndwi1_int8_world_17705.tif\n",
      "['D:\\\\zwk_data\\\\p_tif\\\\GRWL_vector_V01.01\\\\SG50.shp'\n",
      " 'D:\\\\zwk_data\\\\p_tif\\\\GRWL_vector_V01.01\\\\SH50.shp']\n"
     ]
    },
    {
     "data": {
      "text/plain": [
       "'Fri Dec 29 23:06:38 2023'"
      ]
     },
     "execution_count": 22,
     "metadata": {},
     "output_type": "execute_result"
    },
    {
     "data": {
      "text/plain": [
       "109"
      ]
     },
     "execution_count": 22,
     "metadata": {},
     "output_type": "execute_result"
    },
    {
     "name": "stderr",
     "output_type": "stream",
     "text": [
      "\r",
      " 82%|██████████████████████████████████████████████████████████████▊              | 468/574 [11:50:29<53:17, 30.17s/it]"
     ]
    },
    {
     "name": "stdout",
     "output_type": "stream",
     "text": [
      "D:\\zwk_data\\p_tif\\17000\\ndwi1_int8_world_17708.tif\n",
      "['D:\\\\zwk_data\\\\p_tif\\\\GRWL_vector_V01.01\\\\SF50.shp'\n",
      " 'D:\\\\zwk_data\\\\p_tif\\\\GRWL_vector_V01.01\\\\SG50.shp']\n"
     ]
    },
    {
     "data": {
      "text/plain": [
       "'Fri Dec 29 23:07:10 2023'"
      ]
     },
     "execution_count": 22,
     "metadata": {},
     "output_type": "execute_result"
    },
    {
     "data": {
      "text/plain": [
       "105"
      ]
     },
     "execution_count": 22,
     "metadata": {},
     "output_type": "execute_result"
    },
    {
     "name": "stderr",
     "output_type": "stream",
     "text": [
      "\r",
      " 82%|██████████████████████████████████████████████████████████████▉              | 469/574 [11:50:59<52:45, 30.15s/it]"
     ]
    },
    {
     "name": "stdout",
     "output_type": "stream",
     "text": [
      "D:\\zwk_data\\p_tif\\17000\\ndwi1_int8_world_17711.tif\n",
      "['D:\\\\zwk_data\\\\p_tif\\\\GRWL_vector_V01.01\\\\SF50.shp']\n"
     ]
    },
    {
     "data": {
      "text/plain": [
       "'Fri Dec 29 23:07:40 2023'"
      ]
     },
     "execution_count": 22,
     "metadata": {},
     "output_type": "execute_result"
    },
    {
     "data": {
      "text/plain": [
       "105"
      ]
     },
     "execution_count": 22,
     "metadata": {},
     "output_type": "execute_result"
    },
    {
     "name": "stderr",
     "output_type": "stream",
     "text": [
      "\r",
      " 82%|███████████████████████████████████████████████████████████████              | 470/574 [11:51:28<51:25, 29.67s/it]"
     ]
    },
    {
     "name": "stdout",
     "output_type": "stream",
     "text": [
      "D:\\zwk_data\\p_tif\\17000\\ndwi1_int8_world_17712.tif\n",
      "['D:\\\\zwk_data\\\\p_tif\\\\GRWL_vector_V01.01\\\\SE50.shp'\n",
      " 'D:\\\\zwk_data\\\\p_tif\\\\GRWL_vector_V01.01\\\\SF50.shp']\n"
     ]
    },
    {
     "data": {
      "text/plain": [
       "'Fri Dec 29 23:08:09 2023'"
      ]
     },
     "execution_count": 22,
     "metadata": {},
     "output_type": "execute_result"
    },
    {
     "data": {
      "text/plain": [
       "106"
      ]
     },
     "execution_count": 22,
     "metadata": {},
     "output_type": "execute_result"
    },
    {
     "name": "stderr",
     "output_type": "stream",
     "text": [
      "\r",
      " 82%|███████████████████████████████████████████████████████████████▏             | 471/574 [11:51:56<50:10, 29.23s/it]"
     ]
    },
    {
     "name": "stdout",
     "output_type": "stream",
     "text": [
      "D:\\zwk_data\\p_tif\\17000\\ndwi1_int8_world_17713.tif\n",
      "D:\\zwk_data\\p_tif\\GRWL_vector_V01.01\\SH51.shp\n",
      "D:\\zwk_data\\p_tif\\GRWL_vector_V01.01\\SH51.shp\n",
      "['D:\\\\zwk_data\\\\p_tif\\\\GRWL_vector_V01.01\\\\SH50.shp']\n"
     ]
    },
    {
     "data": {
      "text/plain": [
       "'Fri Dec 29 23:08:37 2023'"
      ]
     },
     "execution_count": 22,
     "metadata": {},
     "output_type": "execute_result"
    },
    {
     "data": {
      "text/plain": [
       "118"
      ]
     },
     "execution_count": 22,
     "metadata": {},
     "output_type": "execute_result"
    },
    {
     "name": "stderr",
     "output_type": "stream",
     "text": [
      "\r",
      " 82%|███████████████████████████████████████████████████████████████▎             | 472/574 [11:52:30<51:59, 30.58s/it]"
     ]
    },
    {
     "name": "stdout",
     "output_type": "stream",
     "text": [
      "D:\\zwk_data\\p_tif\\17000\\ndwi1_int8_world_17714.tif\n",
      "D:\\zwk_data\\p_tif\\GRWL_vector_V01.01\\SH51.shp\n",
      "D:\\zwk_data\\p_tif\\GRWL_vector_V01.01\\SG51.shp\n",
      "['D:\\\\zwk_data\\\\p_tif\\\\GRWL_vector_V01.01\\\\SG50.shp'\n",
      " 'D:\\\\zwk_data\\\\p_tif\\\\GRWL_vector_V01.01\\\\SH50.shp']\n"
     ]
    },
    {
     "data": {
      "text/plain": [
       "'Fri Dec 29 23:09:11 2023'"
      ]
     },
     "execution_count": 22,
     "metadata": {},
     "output_type": "execute_result"
    },
    {
     "data": {
      "text/plain": [
       "110"
      ]
     },
     "execution_count": 22,
     "metadata": {},
     "output_type": "execute_result"
    },
    {
     "name": "stderr",
     "output_type": "stream",
     "text": [
      "\r",
      " 82%|███████████████████████████████████████████████████████████████▍             | 473/574 [11:53:03<52:44, 31.33s/it]"
     ]
    },
    {
     "name": "stdout",
     "output_type": "stream",
     "text": [
      "D:\\zwk_data\\p_tif\\17000\\ndwi1_int8_world_17720.tif\n",
      "['D:\\\\zwk_data\\\\p_tif\\\\GRWL_vector_V01.01\\\\SF50.shp'\n",
      " 'D:\\\\zwk_data\\\\p_tif\\\\GRWL_vector_V01.01\\\\SF51.shp']\n"
     ]
    },
    {
     "data": {
      "text/plain": [
       "'Fri Dec 29 23:09:44 2023'"
      ]
     },
     "execution_count": 22,
     "metadata": {},
     "output_type": "execute_result"
    },
    {
     "data": {
      "text/plain": [
       "104"
      ]
     },
     "execution_count": 22,
     "metadata": {},
     "output_type": "execute_result"
    },
    {
     "name": "stderr",
     "output_type": "stream",
     "text": [
      "\r",
      " 83%|███████████████████████████████████████████████████████████████▌             | 474/574 [11:53:33<51:24, 30.84s/it]"
     ]
    },
    {
     "name": "stdout",
     "output_type": "stream",
     "text": [
      "D:\\zwk_data\\p_tif\\17000\\ndwi1_int8_world_17721.tif\n",
      "['D:\\\\zwk_data\\\\p_tif\\\\GRWL_vector_V01.01\\\\SF50.shp'\n",
      " 'D:\\\\zwk_data\\\\p_tif\\\\GRWL_vector_V01.01\\\\SF51.shp']\n"
     ]
    },
    {
     "data": {
      "text/plain": [
       "'Fri Dec 29 23:10:14 2023'"
      ]
     },
     "execution_count": 22,
     "metadata": {},
     "output_type": "execute_result"
    },
    {
     "data": {
      "text/plain": [
       "106"
      ]
     },
     "execution_count": 22,
     "metadata": {},
     "output_type": "execute_result"
    },
    {
     "name": "stderr",
     "output_type": "stream",
     "text": [
      "\r",
      " 83%|███████████████████████████████████████████████████████████████▋             | 475/574 [11:54:02<50:04, 30.35s/it]"
     ]
    },
    {
     "name": "stdout",
     "output_type": "stream",
     "text": [
      "D:\\zwk_data\\p_tif\\17000\\ndwi1_int8_world_17722.tif\n",
      "['D:\\\\zwk_data\\\\p_tif\\\\GRWL_vector_V01.01\\\\SE50.shp'\n",
      " 'D:\\\\zwk_data\\\\p_tif\\\\GRWL_vector_V01.01\\\\SE51.shp'\n",
      " 'D:\\\\zwk_data\\\\p_tif\\\\GRWL_vector_V01.01\\\\SF50.shp'\n",
      " 'D:\\\\zwk_data\\\\p_tif\\\\GRWL_vector_V01.01\\\\SF51.shp']\n"
     ]
    },
    {
     "data": {
      "text/plain": [
       "'Fri Dec 29 23:10:43 2023'"
      ]
     },
     "execution_count": 22,
     "metadata": {},
     "output_type": "execute_result"
    },
    {
     "data": {
      "text/plain": [
       "117"
      ]
     },
     "execution_count": 22,
     "metadata": {},
     "output_type": "execute_result"
    },
    {
     "name": "stderr",
     "output_type": "stream",
     "text": [
      "\r",
      " 83%|███████████████████████████████████████████████████████████████▊             | 476/574 [11:54:46<56:24, 34.54s/it]"
     ]
    },
    {
     "name": "stdout",
     "output_type": "stream",
     "text": [
      "D:\\zwk_data\\p_tif\\17000\\ndwi1_int8_world_17730.tif\n",
      "['D:\\\\zwk_data\\\\p_tif\\\\GRWL_vector_V01.01\\\\SF50.shp'\n",
      " 'D:\\\\zwk_data\\\\p_tif\\\\GRWL_vector_V01.01\\\\SF51.shp']\n"
     ]
    },
    {
     "data": {
      "text/plain": [
       "'Fri Dec 29 23:11:27 2023'"
      ]
     },
     "execution_count": 22,
     "metadata": {},
     "output_type": "execute_result"
    },
    {
     "data": {
      "text/plain": [
       "104"
      ]
     },
     "execution_count": 22,
     "metadata": {},
     "output_type": "execute_result"
    },
    {
     "name": "stderr",
     "output_type": "stream",
     "text": [
      "\r",
      " 83%|███████████████████████████████████████████████████████████████▉             | 477/574 [11:55:16<53:31, 33.11s/it]"
     ]
    },
    {
     "name": "stdout",
     "output_type": "stream",
     "text": [
      "D:\\zwk_data\\p_tif\\17000\\ndwi1_int8_world_17731.tif\n",
      "['D:\\\\zwk_data\\\\p_tif\\\\GRWL_vector_V01.01\\\\SF50.shp'\n",
      " 'D:\\\\zwk_data\\\\p_tif\\\\GRWL_vector_V01.01\\\\SF51.shp']\n"
     ]
    },
    {
     "data": {
      "text/plain": [
       "'Fri Dec 29 23:11:57 2023'"
      ]
     },
     "execution_count": 22,
     "metadata": {},
     "output_type": "execute_result"
    },
    {
     "data": {
      "text/plain": [
       "106"
      ]
     },
     "execution_count": 22,
     "metadata": {},
     "output_type": "execute_result"
    },
    {
     "name": "stderr",
     "output_type": "stream",
     "text": [
      "\r",
      " 83%|████████████████████████████████████████████████████████████████             | 478/574 [11:55:45<51:13, 32.02s/it]"
     ]
    },
    {
     "name": "stdout",
     "output_type": "stream",
     "text": [
      "D:\\zwk_data\\p_tif\\17000\\ndwi1_int8_world_17732.tif\n",
      "['D:\\\\zwk_data\\\\p_tif\\\\GRWL_vector_V01.01\\\\SE50.shp'\n",
      " 'D:\\\\zwk_data\\\\p_tif\\\\GRWL_vector_V01.01\\\\SE51.shp'\n",
      " 'D:\\\\zwk_data\\\\p_tif\\\\GRWL_vector_V01.01\\\\SF50.shp'\n",
      " 'D:\\\\zwk_data\\\\p_tif\\\\GRWL_vector_V01.01\\\\SF51.shp']\n"
     ]
    },
    {
     "data": {
      "text/plain": [
       "'Fri Dec 29 23:12:26 2023'"
      ]
     },
     "execution_count": 22,
     "metadata": {},
     "output_type": "execute_result"
    },
    {
     "data": {
      "text/plain": [
       "117"
      ]
     },
     "execution_count": 22,
     "metadata": {},
     "output_type": "execute_result"
    },
    {
     "name": "stderr",
     "output_type": "stream",
     "text": [
      "\r",
      " 83%|████████████████████████████████████████████████████████████████▎            | 479/574 [11:56:29<56:21, 35.59s/it]"
     ]
    },
    {
     "name": "stdout",
     "output_type": "stream",
     "text": [
      "D:\\zwk_data\\p_tif\\17000\\ndwi1_int8_world_17741.tif\n",
      "['D:\\\\zwk_data\\\\p_tif\\\\GRWL_vector_V01.01\\\\SF51.shp']\n"
     ]
    },
    {
     "data": {
      "text/plain": [
       "'Fri Dec 29 23:13:10 2023'"
      ]
     },
     "execution_count": 22,
     "metadata": {},
     "output_type": "execute_result"
    },
    {
     "data": {
      "text/plain": [
       "106"
      ]
     },
     "execution_count": 22,
     "metadata": {},
     "output_type": "execute_result"
    },
    {
     "name": "stderr",
     "output_type": "stream",
     "text": [
      "\r",
      " 84%|████████████████████████████████████████████████████████████████▍            | 480/574 [11:56:55<51:01, 32.57s/it]"
     ]
    },
    {
     "name": "stdout",
     "output_type": "stream",
     "text": [
      "D:\\zwk_data\\p_tif\\17000\\ndwi1_int8_world_17749.tif\n",
      "D:\\zwk_data\\p_tif\\GRWL_vector_V01.01\\SG51.shp\n",
      "D:\\zwk_data\\p_tif\\GRWL_vector_V01.01\\SG51.shp\n",
      "['D:\\\\zwk_data\\\\p_tif\\\\GRWL_vector_V01.01\\\\SF51.shp']\n"
     ]
    },
    {
     "data": {
      "text/plain": [
       "'Fri Dec 29 23:13:36 2023'"
      ]
     },
     "execution_count": 22,
     "metadata": {},
     "output_type": "execute_result"
    },
    {
     "data": {
      "text/plain": [
       "107"
      ]
     },
     "execution_count": 22,
     "metadata": {},
     "output_type": "execute_result"
    },
    {
     "name": "stderr",
     "output_type": "stream",
     "text": [
      "\r",
      " 84%|████████████████████████████████████████████████████████████████▌            | 481/574 [11:57:20<46:52, 30.25s/it]"
     ]
    },
    {
     "name": "stdout",
     "output_type": "stream",
     "text": [
      "D:\\zwk_data\\p_tif\\17000\\ndwi1_int8_world_17751.tif\n",
      "['D:\\\\zwk_data\\\\p_tif\\\\GRWL_vector_V01.01\\\\SF51.shp']\n"
     ]
    },
    {
     "data": {
      "text/plain": [
       "'Fri Dec 29 23:14:00 2023'"
      ]
     },
     "execution_count": 22,
     "metadata": {},
     "output_type": "execute_result"
    },
    {
     "data": {
      "text/plain": [
       "98"
      ]
     },
     "execution_count": 22,
     "metadata": {},
     "output_type": "execute_result"
    },
    {
     "name": "stderr",
     "output_type": "stream",
     "text": [
      "\r",
      " 84%|████████████████████████████████████████████████████████████████▋            | 482/574 [11:57:46<44:40, 29.13s/it]"
     ]
    },
    {
     "name": "stdout",
     "output_type": "stream",
     "text": [
      "D:\\zwk_data\\p_tif\\17000\\ndwi1_int8_world_17759.tif\n",
      "D:\\zwk_data\\p_tif\\GRWL_vector_V01.01\\SG51.shp\n",
      "D:\\zwk_data\\p_tif\\GRWL_vector_V01.01\\SG51.shp\n",
      "['D:\\\\zwk_data\\\\p_tif\\\\GRWL_vector_V01.01\\\\SF51.shp']\n"
     ]
    },
    {
     "data": {
      "text/plain": [
       "'Fri Dec 29 23:14:27 2023'"
      ]
     },
     "execution_count": 22,
     "metadata": {},
     "output_type": "execute_result"
    },
    {
     "data": {
      "text/plain": [
       "107"
      ]
     },
     "execution_count": 22,
     "metadata": {},
     "output_type": "execute_result"
    },
    {
     "name": "stderr",
     "output_type": "stream",
     "text": [
      "\r",
      " 84%|████████████████████████████████████████████████████████████████▊            | 483/574 [11:58:12<42:48, 28.22s/it]"
     ]
    },
    {
     "name": "stdout",
     "output_type": "stream",
     "text": [
      "D:\\zwk_data\\p_tif\\17000\\ndwi1_int8_world_17760.tif\n",
      "['D:\\\\zwk_data\\\\p_tif\\\\GRWL_vector_V01.01\\\\SF51.shp']\n"
     ]
    },
    {
     "data": {
      "text/plain": [
       "'Fri Dec 29 23:14:53 2023'"
      ]
     },
     "execution_count": 22,
     "metadata": {},
     "output_type": "execute_result"
    },
    {
     "data": {
      "text/plain": [
       "108"
      ]
     },
     "execution_count": 22,
     "metadata": {},
     "output_type": "execute_result"
    },
    {
     "name": "stderr",
     "output_type": "stream",
     "text": [
      "\r",
      " 84%|████████████████████████████████████████████████████████████████▉            | 484/574 [11:58:37<40:46, 27.19s/it]"
     ]
    },
    {
     "name": "stdout",
     "output_type": "stream",
     "text": [
      "D:\\zwk_data\\p_tif\\17000\\ndwi1_int8_world_17771.tif\n",
      "['D:\\\\zwk_data\\\\p_tif\\\\GRWL_vector_V01.01\\\\SF51.shp']\n"
     ]
    },
    {
     "data": {
      "text/plain": [
       "'Fri Dec 29 23:15:18 2023'"
      ]
     },
     "execution_count": 22,
     "metadata": {},
     "output_type": "execute_result"
    },
    {
     "data": {
      "text/plain": [
       "99"
      ]
     },
     "execution_count": 22,
     "metadata": {},
     "output_type": "execute_result"
    },
    {
     "name": "stderr",
     "output_type": "stream",
     "text": [
      "\r",
      " 84%|█████████████████████████████████████████████████████████████████            | 485/574 [11:59:03<40:01, 26.98s/it]"
     ]
    },
    {
     "name": "stdout",
     "output_type": "stream",
     "text": [
      "D:\\zwk_data\\p_tif\\17000\\ndwi1_int8_world_17779.tif\n",
      "D:\\zwk_data\\p_tif\\GRWL_vector_V01.01\\SG51.shp\n",
      "D:\\zwk_data\\p_tif\\GRWL_vector_V01.01\\SG52.shp\n",
      "D:\\zwk_data\\p_tif\\GRWL_vector_V01.01\\SF52.shp\n",
      "['D:\\\\zwk_data\\\\p_tif\\\\GRWL_vector_V01.01\\\\SF51.shp']\n"
     ]
    },
    {
     "data": {
      "text/plain": [
       "'Fri Dec 29 23:15:44 2023'"
      ]
     },
     "execution_count": 22,
     "metadata": {},
     "output_type": "execute_result"
    },
    {
     "data": {
      "text/plain": [
       "103"
      ]
     },
     "execution_count": 22,
     "metadata": {},
     "output_type": "execute_result"
    },
    {
     "name": "stderr",
     "output_type": "stream",
     "text": [
      "\r",
      " 85%|█████████████████████████████████████████████████████████████████▏           | 486/574 [11:59:28<38:34, 26.30s/it]"
     ]
    },
    {
     "name": "stdout",
     "output_type": "stream",
     "text": [
      "D:\\zwk_data\\p_tif\\17000\\ndwi1_int8_world_17781.tif\n",
      "D:\\zwk_data\\p_tif\\GRWL_vector_V01.01\\SF52.shp\n",
      "D:\\zwk_data\\p_tif\\GRWL_vector_V01.01\\SF52.shp\n",
      "['D:\\\\zwk_data\\\\p_tif\\\\GRWL_vector_V01.01\\\\SF51.shp']\n"
     ]
    },
    {
     "data": {
      "text/plain": [
       "'Fri Dec 29 23:16:09 2023'"
      ]
     },
     "execution_count": 22,
     "metadata": {},
     "output_type": "execute_result"
    },
    {
     "data": {
      "text/plain": [
       "104"
      ]
     },
     "execution_count": 22,
     "metadata": {},
     "output_type": "execute_result"
    },
    {
     "name": "stderr",
     "output_type": "stream",
     "text": [
      "\r",
      " 85%|█████████████████████████████████████████████████████████████████▎           | 487/574 [11:59:55<38:25, 26.50s/it]"
     ]
    },
    {
     "name": "stdout",
     "output_type": "stream",
     "text": [
      "D:\\zwk_data\\p_tif\\17000\\ndwi1_int8_world_17847.tif\n",
      "D:\\zwk_data\\p_tif\\GRWL_vector_V01.01\\SG52.shp\n",
      "D:\\zwk_data\\p_tif\\GRWL_vector_V01.01\\SG53.shp\n",
      "D:\\zwk_data\\p_tif\\GRWL_vector_V01.01\\SF52.shp\n",
      "['D:\\\\zwk_data\\\\p_tif\\\\GRWL_vector_V01.01\\\\SF53.shp']\n"
     ]
    },
    {
     "data": {
      "text/plain": [
       "'Fri Dec 29 23:16:36 2023'"
      ]
     },
     "execution_count": 22,
     "metadata": {},
     "output_type": "execute_result"
    },
    {
     "data": {
      "text/plain": [
       "105"
      ]
     },
     "execution_count": 22,
     "metadata": {},
     "output_type": "execute_result"
    },
    {
     "name": "stderr",
     "output_type": "stream",
     "text": [
      "\r",
      " 85%|█████████████████████████████████████████████████████████████████▍           | 488/574 [12:00:22<37:57, 26.49s/it]"
     ]
    },
    {
     "name": "stdout",
     "output_type": "stream",
     "text": [
      "D:\\zwk_data\\p_tif\\17000\\ndwi1_int8_world_17848.tif\n",
      "D:\\zwk_data\\p_tif\\GRWL_vector_V01.01\\SF52.shp\n",
      "D:\\zwk_data\\p_tif\\GRWL_vector_V01.01\\SF52.shp\n",
      "['D:\\\\zwk_data\\\\p_tif\\\\GRWL_vector_V01.01\\\\SF53.shp']\n"
     ]
    },
    {
     "data": {
      "text/plain": [
       "'Fri Dec 29 23:17:03 2023'"
      ]
     },
     "execution_count": 22,
     "metadata": {},
     "output_type": "execute_result"
    },
    {
     "data": {
      "text/plain": [
       "106"
      ]
     },
     "execution_count": 22,
     "metadata": {},
     "output_type": "execute_result"
    },
    {
     "name": "stderr",
     "output_type": "stream",
     "text": [
      "\r",
      " 85%|█████████████████████████████████████████████████████████████████▌           | 489/574 [12:00:47<36:58, 26.10s/it]"
     ]
    },
    {
     "name": "stdout",
     "output_type": "stream",
     "text": [
      "D:\\zwk_data\\p_tif\\17000\\ndwi1_int8_world_17849.tif\n",
      "D:\\zwk_data\\p_tif\\GRWL_vector_V01.01\\SF52.shp\n",
      "D:\\zwk_data\\p_tif\\GRWL_vector_V01.01\\SF52.shp\n",
      "['D:\\\\zwk_data\\\\p_tif\\\\GRWL_vector_V01.01\\\\SF53.shp']\n"
     ]
    },
    {
     "data": {
      "text/plain": [
       "'Fri Dec 29 23:17:28 2023'"
      ]
     },
     "execution_count": 22,
     "metadata": {},
     "output_type": "execute_result"
    },
    {
     "data": {
      "text/plain": [
       "104"
      ]
     },
     "execution_count": 22,
     "metadata": {},
     "output_type": "execute_result"
    },
    {
     "name": "stderr",
     "output_type": "stream",
     "text": [
      "\r",
      " 85%|█████████████████████████████████████████████████████████████████▋           | 490/574 [12:01:13<36:29, 26.07s/it]"
     ]
    },
    {
     "name": "stdout",
     "output_type": "stream",
     "text": [
      "D:\\zwk_data\\p_tif\\17000\\ndwi1_int8_world_17858.tif\n",
      "['D:\\\\zwk_data\\\\p_tif\\\\GRWL_vector_V01.01\\\\SF53.shp']\n"
     ]
    },
    {
     "data": {
      "text/plain": [
       "'Fri Dec 29 23:17:54 2023'"
      ]
     },
     "execution_count": 22,
     "metadata": {},
     "output_type": "execute_result"
    },
    {
     "data": {
      "text/plain": [
       "104"
      ]
     },
     "execution_count": 22,
     "metadata": {},
     "output_type": "execute_result"
    },
    {
     "name": "stderr",
     "output_type": "stream",
     "text": [
      "\r",
      " 86%|█████████████████████████████████████████████████████████████████▊           | 491/574 [12:01:39<36:10, 26.15s/it]"
     ]
    },
    {
     "name": "stdout",
     "output_type": "stream",
     "text": [
      "D:\\zwk_data\\p_tif\\17000\\ndwi1_int8_world_17859.tif\n",
      "['D:\\\\zwk_data\\\\p_tif\\\\GRWL_vector_V01.01\\\\SF53.shp']\n"
     ]
    },
    {
     "data": {
      "text/plain": [
       "'Fri Dec 29 23:18:20 2023'"
      ]
     },
     "execution_count": 22,
     "metadata": {},
     "output_type": "execute_result"
    },
    {
     "data": {
      "text/plain": [
       "106"
      ]
     },
     "execution_count": 22,
     "metadata": {},
     "output_type": "execute_result"
    },
    {
     "name": "stderr",
     "output_type": "stream",
     "text": [
      "\r",
      " 86%|██████████████████████████████████████████████████████████████████           | 492/574 [12:02:06<35:54, 26.28s/it]"
     ]
    },
    {
     "name": "stdout",
     "output_type": "stream",
     "text": [
      "D:\\zwk_data\\p_tif\\17000\\ndwi1_int8_world_17867.tif\n",
      "D:\\zwk_data\\p_tif\\GRWL_vector_V01.01\\SG53.shp\n",
      "D:\\zwk_data\\p_tif\\GRWL_vector_V01.01\\SG53.shp\n",
      "['D:\\\\zwk_data\\\\p_tif\\\\GRWL_vector_V01.01\\\\SF53.shp']\n"
     ]
    },
    {
     "data": {
      "text/plain": [
       "'Fri Dec 29 23:18:47 2023'"
      ]
     },
     "execution_count": 22,
     "metadata": {},
     "output_type": "execute_result"
    },
    {
     "data": {
      "text/plain": [
       "105"
      ]
     },
     "execution_count": 22,
     "metadata": {},
     "output_type": "execute_result"
    },
    {
     "name": "stderr",
     "output_type": "stream",
     "text": [
      "\r",
      " 86%|██████████████████████████████████████████████████████████████████▏          | 493/574 [12:02:31<35:08, 26.03s/it]"
     ]
    },
    {
     "name": "stdout",
     "output_type": "stream",
     "text": [
      "D:\\zwk_data\\p_tif\\17000\\ndwi1_int8_world_17868.tif\n",
      "['D:\\\\zwk_data\\\\p_tif\\\\GRWL_vector_V01.01\\\\SF53.shp']\n"
     ]
    },
    {
     "data": {
      "text/plain": [
       "'Fri Dec 29 23:19:12 2023'"
      ]
     },
     "execution_count": 22,
     "metadata": {},
     "output_type": "execute_result"
    },
    {
     "data": {
      "text/plain": [
       "104"
      ]
     },
     "execution_count": 22,
     "metadata": {},
     "output_type": "execute_result"
    },
    {
     "name": "stderr",
     "output_type": "stream",
     "text": [
      "\r",
      " 86%|██████████████████████████████████████████████████████████████████▎          | 494/574 [12:02:57<34:45, 26.07s/it]"
     ]
    },
    {
     "name": "stdout",
     "output_type": "stream",
     "text": [
      "D:\\zwk_data\\p_tif\\17000\\ndwi1_int8_world_17877.tif\n",
      "D:\\zwk_data\\p_tif\\GRWL_vector_V01.01\\SG53.shp\n",
      "D:\\zwk_data\\p_tif\\GRWL_vector_V01.01\\SG53.shp\n",
      "['D:\\\\zwk_data\\\\p_tif\\\\GRWL_vector_V01.01\\\\SF53.shp']\n"
     ]
    },
    {
     "data": {
      "text/plain": [
       "'Fri Dec 29 23:19:38 2023'"
      ]
     },
     "execution_count": 22,
     "metadata": {},
     "output_type": "execute_result"
    },
    {
     "data": {
      "text/plain": [
       "105"
      ]
     },
     "execution_count": 22,
     "metadata": {},
     "output_type": "execute_result"
    },
    {
     "name": "stderr",
     "output_type": "stream",
     "text": [
      "\r",
      " 86%|██████████████████████████████████████████████████████████████████▍          | 495/574 [12:03:24<34:22, 26.11s/it]"
     ]
    },
    {
     "name": "stdout",
     "output_type": "stream",
     "text": [
      "D:\\zwk_data\\p_tif\\17000\\ndwi1_int8_world_17878.tif\n",
      "['D:\\\\zwk_data\\\\p_tif\\\\GRWL_vector_V01.01\\\\SF53.shp']\n"
     ]
    },
    {
     "data": {
      "text/plain": [
       "'Fri Dec 29 23:20:04 2023'"
      ]
     },
     "execution_count": 22,
     "metadata": {},
     "output_type": "execute_result"
    },
    {
     "data": {
      "text/plain": [
       "106"
      ]
     },
     "execution_count": 22,
     "metadata": {},
     "output_type": "execute_result"
    },
    {
     "name": "stderr",
     "output_type": "stream",
     "text": [
      "\r",
      " 86%|██████████████████████████████████████████████████████████████████▌          | 496/574 [12:03:49<33:49, 26.02s/it]"
     ]
    },
    {
     "name": "stdout",
     "output_type": "stream",
     "text": [
      "D:\\zwk_data\\p_tif\\17000\\ndwi1_int8_world_17887.tif\n",
      "D:\\zwk_data\\p_tif\\GRWL_vector_V01.01\\SG53.shp\n",
      "D:\\zwk_data\\p_tif\\GRWL_vector_V01.01\\SG53.shp\n",
      "['D:\\\\zwk_data\\\\p_tif\\\\GRWL_vector_V01.01\\\\SF53.shp']\n"
     ]
    },
    {
     "data": {
      "text/plain": [
       "'Fri Dec 29 23:20:30 2023'"
      ]
     },
     "execution_count": 22,
     "metadata": {},
     "output_type": "execute_result"
    },
    {
     "data": {
      "text/plain": [
       "103"
      ]
     },
     "execution_count": 22,
     "metadata": {},
     "output_type": "execute_result"
    },
    {
     "name": "stderr",
     "output_type": "stream",
     "text": [
      "\r",
      " 87%|██████████████████████████████████████████████████████████████████▋          | 497/574 [12:04:15<33:12, 25.88s/it]"
     ]
    },
    {
     "name": "stdout",
     "output_type": "stream",
     "text": [
      "D:\\zwk_data\\p_tif\\17000\\ndwi1_int8_world_17892.tif\n",
      "D:\\zwk_data\\p_tif\\GRWL_vector_V01.01\\SH53.shp\n",
      "D:\\zwk_data\\p_tif\\GRWL_vector_V01.01\\SG53.shp\n",
      "['D:\\\\zwk_data\\\\p_tif\\\\GRWL_vector_V01.01\\\\SG54.shp'\n",
      " 'D:\\\\zwk_data\\\\p_tif\\\\GRWL_vector_V01.01\\\\SH54.shp']\n"
     ]
    },
    {
     "data": {
      "text/plain": [
       "'Fri Dec 29 23:20:56 2023'"
      ]
     },
     "execution_count": 22,
     "metadata": {},
     "output_type": "execute_result"
    },
    {
     "data": {
      "text/plain": [
       "114"
      ]
     },
     "execution_count": 22,
     "metadata": {},
     "output_type": "execute_result"
    },
    {
     "name": "stderr",
     "output_type": "stream",
     "text": [
      "\r",
      " 87%|██████████████████████████████████████████████████████████████████▊          | 498/574 [12:05:05<41:50, 33.04s/it]"
     ]
    },
    {
     "name": "stdout",
     "output_type": "stream",
     "text": [
      "D:\\zwk_data\\p_tif\\17000\\ndwi1_int8_world_17893.tif\n",
      "D:\\zwk_data\\p_tif\\GRWL_vector_V01.01\\SH53.shp\n",
      "D:\\zwk_data\\p_tif\\GRWL_vector_V01.01\\SG53.shp\n",
      "['D:\\\\zwk_data\\\\p_tif\\\\GRWL_vector_V01.01\\\\SG54.shp'\n",
      " 'D:\\\\zwk_data\\\\p_tif\\\\GRWL_vector_V01.01\\\\SH54.shp']\n"
     ]
    },
    {
     "data": {
      "text/plain": [
       "'Fri Dec 29 23:21:46 2023'"
      ]
     },
     "execution_count": 22,
     "metadata": {},
     "output_type": "execute_result"
    },
    {
     "data": {
      "text/plain": [
       "122"
      ]
     },
     "execution_count": 22,
     "metadata": {},
     "output_type": "execute_result"
    },
    {
     "name": "stderr",
     "output_type": "stream",
     "text": [
      "\r",
      " 87%|██████████████████████████████████████████████████████████████████▉          | 499/574 [12:05:56<48:15, 38.60s/it]"
     ]
    },
    {
     "name": "stdout",
     "output_type": "stream",
     "text": [
      "D:\\zwk_data\\p_tif\\17000\\ndwi1_int8_world_17894.tif\n",
      "D:\\zwk_data\\p_tif\\GRWL_vector_V01.01\\SG53.shp\n",
      "D:\\zwk_data\\p_tif\\GRWL_vector_V01.01\\SG53.shp\n",
      "['D:\\\\zwk_data\\\\p_tif\\\\GRWL_vector_V01.01\\\\SG54.shp']\n"
     ]
    },
    {
     "data": {
      "text/plain": [
       "'Fri Dec 29 23:22:37 2023'"
      ]
     },
     "execution_count": 22,
     "metadata": {},
     "output_type": "execute_result"
    },
    {
     "data": {
      "text/plain": [
       "121"
      ]
     },
     "execution_count": 22,
     "metadata": {},
     "output_type": "execute_result"
    },
    {
     "name": "stderr",
     "output_type": "stream",
     "text": [
      "\r",
      " 87%|███████████████████████████████████████████████████████████████████          | 500/574 [12:06:44<50:57, 41.32s/it]"
     ]
    },
    {
     "name": "stdout",
     "output_type": "stream",
     "text": [
      "D:\\zwk_data\\p_tif\\17000\\ndwi1_int8_world_17898.tif\n",
      "['D:\\\\zwk_data\\\\p_tif\\\\GRWL_vector_V01.01\\\\SF53.shp'\n",
      " 'D:\\\\zwk_data\\\\p_tif\\\\GRWL_vector_V01.01\\\\SF54.shp']\n"
     ]
    },
    {
     "data": {
      "text/plain": [
       "'Fri Dec 29 23:23:25 2023'"
      ]
     },
     "execution_count": 22,
     "metadata": {},
     "output_type": "execute_result"
    },
    {
     "data": {
      "text/plain": [
       "104"
      ]
     },
     "execution_count": 22,
     "metadata": {},
     "output_type": "execute_result"
    },
    {
     "name": "stderr",
     "output_type": "stream",
     "text": [
      "\r",
      " 87%|███████████████████████████████████████████████████████████████████▏         | 501/574 [12:07:17<47:18, 38.88s/it]"
     ]
    },
    {
     "name": "stdout",
     "output_type": "stream",
     "text": [
      "D:\\zwk_data\\p_tif\\17000\\ndwi1_int8_world_17899.tif\n",
      "['D:\\\\zwk_data\\\\p_tif\\\\GRWL_vector_V01.01\\\\SF53.shp'\n",
      " 'D:\\\\zwk_data\\\\p_tif\\\\GRWL_vector_V01.01\\\\SF54.shp']\n"
     ]
    },
    {
     "data": {
      "text/plain": [
       "'Fri Dec 29 23:23:58 2023'"
      ]
     },
     "execution_count": 22,
     "metadata": {},
     "output_type": "execute_result"
    },
    {
     "data": {
      "text/plain": [
       "102"
      ]
     },
     "execution_count": 22,
     "metadata": {},
     "output_type": "execute_result"
    },
    {
     "name": "stderr",
     "output_type": "stream",
     "text": [
      "\r",
      " 87%|███████████████████████████████████████████████████████████████████▎         | 502/574 [12:07:50<44:25, 37.02s/it]"
     ]
    },
    {
     "name": "stdout",
     "output_type": "stream",
     "text": [
      "D:\\zwk_data\\p_tif\\17000\\ndwi1_int8_world_17900.tif\n",
      "['D:\\\\zwk_data\\\\p_tif\\\\GRWL_vector_V01.01\\\\SE53.shp'\n",
      " 'D:\\\\zwk_data\\\\p_tif\\\\GRWL_vector_V01.01\\\\SE54.shp'\n",
      " 'D:\\\\zwk_data\\\\p_tif\\\\GRWL_vector_V01.01\\\\SF53.shp'\n",
      " 'D:\\\\zwk_data\\\\p_tif\\\\GRWL_vector_V01.01\\\\SF54.shp']\n"
     ]
    },
    {
     "data": {
      "text/plain": [
       "'Fri Dec 29 23:24:31 2023'"
      ]
     },
     "execution_count": 22,
     "metadata": {},
     "output_type": "execute_result"
    },
    {
     "data": {
      "text/plain": [
       "114"
      ]
     },
     "execution_count": 22,
     "metadata": {},
     "output_type": "execute_result"
    },
    {
     "name": "stderr",
     "output_type": "stream",
     "text": [
      "\r",
      " 88%|███████████████████████████████████████████████████████████████████▍         | 503/574 [12:08:44<49:54, 42.17s/it]"
     ]
    },
    {
     "name": "stdout",
     "output_type": "stream",
     "text": [
      "D:\\zwk_data\\p_tif\\17000\\ndwi1_int8_world_17901.tif\n",
      "D:\\zwk_data\\p_tif\\GRWL_vector_V01.01\\SH53.shp\n",
      "D:\\zwk_data\\p_tif\\GRWL_vector_V01.01\\SH53.shp\n",
      "['D:\\\\zwk_data\\\\p_tif\\\\GRWL_vector_V01.01\\\\SH54.shp']\n"
     ]
    },
    {
     "data": {
      "text/plain": [
       "'Fri Dec 29 23:25:25 2023'"
      ]
     },
     "execution_count": 22,
     "metadata": {},
     "output_type": "execute_result"
    },
    {
     "data": {
      "text/plain": [
       "103"
      ]
     },
     "execution_count": 22,
     "metadata": {},
     "output_type": "execute_result"
    },
    {
     "name": "stderr",
     "output_type": "stream",
     "text": [
      "\r",
      " 88%|███████████████████████████████████████████████████████████████████▌         | 504/574 [12:09:11<44:02, 37.75s/it]"
     ]
    },
    {
     "name": "stdout",
     "output_type": "stream",
     "text": [
      "D:\\zwk_data\\p_tif\\17000\\ndwi1_int8_world_17902.tif\n",
      "D:\\zwk_data\\p_tif\\GRWL_vector_V01.01\\SH53.shp\n",
      "D:\\zwk_data\\p_tif\\GRWL_vector_V01.01\\SG53.shp\n",
      "['D:\\\\zwk_data\\\\p_tif\\\\GRWL_vector_V01.01\\\\SG54.shp'\n",
      " 'D:\\\\zwk_data\\\\p_tif\\\\GRWL_vector_V01.01\\\\SH54.shp']\n"
     ]
    },
    {
     "data": {
      "text/plain": [
       "'Fri Dec 29 23:25:52 2023'"
      ]
     },
     "execution_count": 22,
     "metadata": {},
     "output_type": "execute_result"
    },
    {
     "data": {
      "text/plain": [
       "117"
      ]
     },
     "execution_count": 22,
     "metadata": {},
     "output_type": "execute_result"
    },
    {
     "name": "stderr",
     "output_type": "stream",
     "text": [
      "\r",
      " 88%|███████████████████████████████████████████████████████████████████▋         | 505/574 [12:10:01<47:30, 41.31s/it]"
     ]
    },
    {
     "name": "stdout",
     "output_type": "stream",
     "text": [
      "D:\\zwk_data\\p_tif\\17000\\ndwi1_int8_world_17903.tif\n",
      "D:\\zwk_data\\p_tif\\GRWL_vector_V01.01\\SH53.shp\n",
      "D:\\zwk_data\\p_tif\\GRWL_vector_V01.01\\SG53.shp\n",
      "['D:\\\\zwk_data\\\\p_tif\\\\GRWL_vector_V01.01\\\\SG54.shp'\n",
      " 'D:\\\\zwk_data\\\\p_tif\\\\GRWL_vector_V01.01\\\\SH54.shp']\n"
     ]
    },
    {
     "data": {
      "text/plain": [
       "'Fri Dec 29 23:26:42 2023'"
      ]
     },
     "execution_count": 22,
     "metadata": {},
     "output_type": "execute_result"
    },
    {
     "data": {
      "text/plain": [
       "117"
      ]
     },
     "execution_count": 22,
     "metadata": {},
     "output_type": "execute_result"
    },
    {
     "name": "stderr",
     "output_type": "stream",
     "text": [
      "\r",
      " 88%|███████████████████████████████████████████████████████████████████▉         | 506/574 [12:10:51<49:45, 43.90s/it]"
     ]
    },
    {
     "name": "stdout",
     "output_type": "stream",
     "text": [
      "D:\\zwk_data\\p_tif\\17000\\ndwi1_int8_world_17904.tif\n",
      "D:\\zwk_data\\p_tif\\GRWL_vector_V01.01\\SG53.shp\n",
      "D:\\zwk_data\\p_tif\\GRWL_vector_V01.01\\SG53.shp\n",
      "['D:\\\\zwk_data\\\\p_tif\\\\GRWL_vector_V01.01\\\\SG54.shp']\n"
     ]
    },
    {
     "data": {
      "text/plain": [
       "'Fri Dec 29 23:27:32 2023'"
      ]
     },
     "execution_count": 22,
     "metadata": {},
     "output_type": "execute_result"
    },
    {
     "data": {
      "text/plain": [
       "120"
      ]
     },
     "execution_count": 22,
     "metadata": {},
     "output_type": "execute_result"
    },
    {
     "name": "stderr",
     "output_type": "stream",
     "text": [
      "\r",
      " 88%|████████████████████████████████████████████████████████████████████         | 507/574 [12:11:38<50:02, 44.81s/it]"
     ]
    },
    {
     "name": "stdout",
     "output_type": "stream",
     "text": [
      "D:\\zwk_data\\p_tif\\17000\\ndwi1_int8_world_17905.tif\n",
      "D:\\zwk_data\\p_tif\\GRWL_vector_V01.01\\SG53.shp\n",
      "D:\\zwk_data\\p_tif\\GRWL_vector_V01.01\\SG53.shp\n",
      "['D:\\\\zwk_data\\\\p_tif\\\\GRWL_vector_V01.01\\\\SG54.shp']\n"
     ]
    },
    {
     "data": {
      "text/plain": [
       "'Fri Dec 29 23:28:19 2023'"
      ]
     },
     "execution_count": 22,
     "metadata": {},
     "output_type": "execute_result"
    },
    {
     "data": {
      "text/plain": [
       "116"
      ]
     },
     "execution_count": 22,
     "metadata": {},
     "output_type": "execute_result"
    },
    {
     "name": "stderr",
     "output_type": "stream",
     "text": [
      "\r",
      " 89%|████████████████████████████████████████████████████████████████████▏        | 508/574 [12:12:23<49:32, 45.03s/it]"
     ]
    },
    {
     "name": "stdout",
     "output_type": "stream",
     "text": [
      "D:\\zwk_data\\p_tif\\17000\\ndwi1_int8_world_17906.tif\n",
      "D:\\zwk_data\\p_tif\\GRWL_vector_V01.01\\SG53.shp\n",
      "['D:\\\\zwk_data\\\\p_tif\\\\GRWL_vector_V01.01\\\\SF53.shp'\n",
      " 'D:\\\\zwk_data\\\\p_tif\\\\GRWL_vector_V01.01\\\\SF54.shp'\n",
      " 'D:\\\\zwk_data\\\\p_tif\\\\GRWL_vector_V01.01\\\\SG54.shp']\n"
     ]
    },
    {
     "data": {
      "text/plain": [
       "'Fri Dec 29 23:29:04 2023'"
      ]
     },
     "execution_count": 22,
     "metadata": {},
     "output_type": "execute_result"
    },
    {
     "data": {
      "text/plain": [
       "113"
      ]
     },
     "execution_count": 22,
     "metadata": {},
     "output_type": "execute_result"
    },
    {
     "name": "stderr",
     "output_type": "stream",
     "text": [
      "\r",
      " 89%|████████████████████████████████████████████████████████████████████▎        | 509/574 [12:13:19<52:06, 48.10s/it]"
     ]
    },
    {
     "name": "stdout",
     "output_type": "stream",
     "text": [
      "D:\\zwk_data\\p_tif\\17000\\ndwi1_int8_world_17907.tif\n",
      "D:\\zwk_data\\p_tif\\GRWL_vector_V01.01\\SG53.shp\n",
      "['D:\\\\zwk_data\\\\p_tif\\\\GRWL_vector_V01.01\\\\SF53.shp'\n",
      " 'D:\\\\zwk_data\\\\p_tif\\\\GRWL_vector_V01.01\\\\SF54.shp'\n",
      " 'D:\\\\zwk_data\\\\p_tif\\\\GRWL_vector_V01.01\\\\SG54.shp']\n"
     ]
    },
    {
     "data": {
      "text/plain": [
       "'Fri Dec 29 23:30:00 2023'"
      ]
     },
     "execution_count": 22,
     "metadata": {},
     "output_type": "execute_result"
    },
    {
     "data": {
      "text/plain": [
       "112"
      ]
     },
     "execution_count": 22,
     "metadata": {},
     "output_type": "execute_result"
    },
    {
     "name": "stderr",
     "output_type": "stream",
     "text": [
      "\r",
      " 89%|████████████████████████████████████████████████████████████████████▍        | 510/574 [12:14:15<54:01, 50.65s/it]"
     ]
    },
    {
     "name": "stdout",
     "output_type": "stream",
     "text": [
      "D:\\zwk_data\\p_tif\\17000\\ndwi1_int8_world_17908.tif\n",
      "['D:\\\\zwk_data\\\\p_tif\\\\GRWL_vector_V01.01\\\\SF53.shp'\n",
      " 'D:\\\\zwk_data\\\\p_tif\\\\GRWL_vector_V01.01\\\\SF54.shp']\n"
     ]
    },
    {
     "data": {
      "text/plain": [
       "'Fri Dec 29 23:30:57 2023'"
      ]
     },
     "execution_count": 22,
     "metadata": {},
     "output_type": "execute_result"
    },
    {
     "data": {
      "text/plain": [
       "105"
      ]
     },
     "execution_count": 22,
     "metadata": {},
     "output_type": "execute_result"
    },
    {
     "name": "stderr",
     "output_type": "stream",
     "text": [
      "\r",
      " 89%|████████████████████████████████████████████████████████████████████▌        | 511/574 [12:14:49<47:48, 45.54s/it]"
     ]
    },
    {
     "name": "stdout",
     "output_type": "stream",
     "text": [
      "D:\\zwk_data\\p_tif\\17000\\ndwi1_int8_world_17909.tif\n",
      "['D:\\\\zwk_data\\\\p_tif\\\\GRWL_vector_V01.01\\\\SF53.shp'\n",
      " 'D:\\\\zwk_data\\\\p_tif\\\\GRWL_vector_V01.01\\\\SF54.shp']\n"
     ]
    },
    {
     "data": {
      "text/plain": [
       "'Fri Dec 29 23:31:30 2023'"
      ]
     },
     "execution_count": 22,
     "metadata": {},
     "output_type": "execute_result"
    },
    {
     "data": {
      "text/plain": [
       "105"
      ]
     },
     "execution_count": 22,
     "metadata": {},
     "output_type": "execute_result"
    },
    {
     "name": "stderr",
     "output_type": "stream",
     "text": [
      "\r",
      " 89%|████████████████████████████████████████████████████████████████████▋        | 512/574 [12:15:23<43:25, 42.02s/it]"
     ]
    },
    {
     "name": "stdout",
     "output_type": "stream",
     "text": [
      "D:\\zwk_data\\p_tif\\17000\\ndwi1_int8_world_17911.tif\n",
      "['D:\\\\zwk_data\\\\p_tif\\\\GRWL_vector_V01.01\\\\SH54.shp']\n"
     ]
    },
    {
     "data": {
      "text/plain": [
       "'Fri Dec 29 23:32:04 2023'"
      ]
     },
     "execution_count": 22,
     "metadata": {},
     "output_type": "execute_result"
    },
    {
     "data": {
      "text/plain": [
       "106"
      ]
     },
     "execution_count": 22,
     "metadata": {},
     "output_type": "execute_result"
    },
    {
     "name": "stderr",
     "output_type": "stream",
     "text": [
      "\r",
      " 89%|████████████████████████████████████████████████████████████████████▊        | 513/574 [12:15:51<38:27, 37.82s/it]"
     ]
    },
    {
     "name": "stdout",
     "output_type": "stream",
     "text": [
      "D:\\zwk_data\\p_tif\\17000\\ndwi1_int8_world_17912.tif\n",
      "['D:\\\\zwk_data\\\\p_tif\\\\GRWL_vector_V01.01\\\\SG54.shp'\n",
      " 'D:\\\\zwk_data\\\\p_tif\\\\GRWL_vector_V01.01\\\\SH54.shp']\n"
     ]
    },
    {
     "data": {
      "text/plain": [
       "'Fri Dec 29 23:32:32 2023'"
      ]
     },
     "execution_count": 22,
     "metadata": {},
     "output_type": "execute_result"
    },
    {
     "data": {
      "text/plain": [
       "114"
      ]
     },
     "execution_count": 22,
     "metadata": {},
     "output_type": "execute_result"
    },
    {
     "name": "stderr",
     "output_type": "stream",
     "text": [
      "\r",
      " 90%|████████████████████████████████████████████████████████████████████▉        | 514/574 [12:16:39<41:01, 41.02s/it]"
     ]
    },
    {
     "name": "stdout",
     "output_type": "stream",
     "text": [
      "D:\\zwk_data\\p_tif\\17000\\ndwi1_int8_world_17913.tif\n",
      "['D:\\\\zwk_data\\\\p_tif\\\\GRWL_vector_V01.01\\\\SG54.shp'\n",
      " 'D:\\\\zwk_data\\\\p_tif\\\\GRWL_vector_V01.01\\\\SH54.shp']\n"
     ]
    },
    {
     "data": {
      "text/plain": [
       "'Fri Dec 29 23:33:20 2023'"
      ]
     },
     "execution_count": 22,
     "metadata": {},
     "output_type": "execute_result"
    },
    {
     "data": {
      "text/plain": [
       "118"
      ]
     },
     "execution_count": 22,
     "metadata": {},
     "output_type": "execute_result"
    },
    {
     "name": "stderr",
     "output_type": "stream",
     "text": [
      "\r",
      " 90%|█████████████████████████████████████████████████████████████████████        | 515/574 [12:17:29<42:57, 43.69s/it]"
     ]
    },
    {
     "name": "stdout",
     "output_type": "stream",
     "text": [
      "D:\\zwk_data\\p_tif\\17000\\ndwi1_int8_world_17914.tif\n",
      "['D:\\\\zwk_data\\\\p_tif\\\\GRWL_vector_V01.01\\\\SG54.shp']\n"
     ]
    },
    {
     "data": {
      "text/plain": [
       "'Fri Dec 29 23:34:10 2023'"
      ]
     },
     "execution_count": 22,
     "metadata": {},
     "output_type": "execute_result"
    },
    {
     "data": {
      "text/plain": [
       "115"
      ]
     },
     "execution_count": 22,
     "metadata": {},
     "output_type": "execute_result"
    },
    {
     "name": "stderr",
     "output_type": "stream",
     "text": [
      "\r",
      " 90%|█████████████████████████████████████████████████████████████████████▏       | 516/574 [12:18:15<42:52, 44.35s/it]"
     ]
    },
    {
     "name": "stdout",
     "output_type": "stream",
     "text": [
      "D:\\zwk_data\\p_tif\\17000\\ndwi1_int8_world_17915.tif\n",
      "['D:\\\\zwk_data\\\\p_tif\\\\GRWL_vector_V01.01\\\\SG54.shp']\n"
     ]
    },
    {
     "data": {
      "text/plain": [
       "'Fri Dec 29 23:34:56 2023'"
      ]
     },
     "execution_count": 22,
     "metadata": {},
     "output_type": "execute_result"
    },
    {
     "data": {
      "text/plain": [
       "114"
      ]
     },
     "execution_count": 22,
     "metadata": {},
     "output_type": "execute_result"
    },
    {
     "name": "stderr",
     "output_type": "stream",
     "text": [
      "\r",
      " 90%|█████████████████████████████████████████████████████████████████████▎       | 517/574 [12:19:01<42:32, 44.78s/it]"
     ]
    },
    {
     "name": "stdout",
     "output_type": "stream",
     "text": [
      "D:\\zwk_data\\p_tif\\17000\\ndwi1_int8_world_17916.tif\n",
      "['D:\\\\zwk_data\\\\p_tif\\\\GRWL_vector_V01.01\\\\SF54.shp'\n",
      " 'D:\\\\zwk_data\\\\p_tif\\\\GRWL_vector_V01.01\\\\SG54.shp']\n"
     ]
    },
    {
     "data": {
      "text/plain": [
       "'Fri Dec 29 23:35:42 2023'"
      ]
     },
     "execution_count": 22,
     "metadata": {},
     "output_type": "execute_result"
    },
    {
     "data": {
      "text/plain": [
       "116"
      ]
     },
     "execution_count": 22,
     "metadata": {},
     "output_type": "execute_result"
    },
    {
     "name": "stderr",
     "output_type": "stream",
     "text": [
      "\r",
      " 90%|█████████████████████████████████████████████████████████████████████▍       | 518/574 [12:19:55<44:22, 47.55s/it]"
     ]
    },
    {
     "name": "stdout",
     "output_type": "stream",
     "text": [
      "D:\\zwk_data\\p_tif\\17000\\ndwi1_int8_world_17917.tif\n",
      "['D:\\\\zwk_data\\\\p_tif\\\\GRWL_vector_V01.01\\\\SF54.shp'\n",
      " 'D:\\\\zwk_data\\\\p_tif\\\\GRWL_vector_V01.01\\\\SG54.shp']\n"
     ]
    },
    {
     "data": {
      "text/plain": [
       "'Fri Dec 29 23:36:36 2023'"
      ]
     },
     "execution_count": 22,
     "metadata": {},
     "output_type": "execute_result"
    },
    {
     "data": {
      "text/plain": [
       "114"
      ]
     },
     "execution_count": 22,
     "metadata": {},
     "output_type": "execute_result"
    },
    {
     "name": "stderr",
     "output_type": "stream",
     "text": [
      "\r",
      " 90%|█████████████████████████████████████████████████████████████████████▌       | 519/574 [12:20:48<45:04, 49.18s/it]"
     ]
    },
    {
     "name": "stdout",
     "output_type": "stream",
     "text": [
      "D:\\zwk_data\\p_tif\\17000\\ndwi1_int8_world_17920.tif\n",
      "['D:\\\\zwk_data\\\\p_tif\\\\GRWL_vector_V01.01\\\\SE54.shp'\n",
      " 'D:\\\\zwk_data\\\\p_tif\\\\GRWL_vector_V01.01\\\\SF54.shp']\n"
     ]
    },
    {
     "data": {
      "text/plain": [
       "'Fri Dec 29 23:37:29 2023'"
      ]
     },
     "execution_count": 22,
     "metadata": {},
     "output_type": "execute_result"
    },
    {
     "data": {
      "text/plain": [
       "109"
      ]
     },
     "execution_count": 22,
     "metadata": {},
     "output_type": "execute_result"
    },
    {
     "name": "stderr",
     "output_type": "stream",
     "text": [
      "\r",
      " 91%|█████████████████████████████████████████████████████████████████████▊       | 520/574 [12:21:36<43:57, 48.84s/it]"
     ]
    },
    {
     "name": "stdout",
     "output_type": "stream",
     "text": [
      "D:\\zwk_data\\p_tif\\17000\\ndwi1_int8_world_17922.tif\n",
      "['D:\\\\zwk_data\\\\p_tif\\\\GRWL_vector_V01.01\\\\SG54.shp'\n",
      " 'D:\\\\zwk_data\\\\p_tif\\\\GRWL_vector_V01.01\\\\SH54.shp']\n"
     ]
    },
    {
     "data": {
      "text/plain": [
       "'Fri Dec 29 23:38:17 2023'"
      ]
     },
     "execution_count": 22,
     "metadata": {},
     "output_type": "execute_result"
    },
    {
     "data": {
      "text/plain": [
       "114"
      ]
     },
     "execution_count": 22,
     "metadata": {},
     "output_type": "execute_result"
    },
    {
     "name": "stderr",
     "output_type": "stream",
     "text": [
      "\r",
      " 91%|█████████████████████████████████████████████████████████████████████▉       | 521/574 [12:22:26<43:33, 49.31s/it]"
     ]
    },
    {
     "name": "stdout",
     "output_type": "stream",
     "text": [
      "D:\\zwk_data\\p_tif\\17000\\ndwi1_int8_world_17923.tif\n",
      "['D:\\\\zwk_data\\\\p_tif\\\\GRWL_vector_V01.01\\\\SG54.shp'\n",
      " 'D:\\\\zwk_data\\\\p_tif\\\\GRWL_vector_V01.01\\\\SH54.shp']\n"
     ]
    },
    {
     "data": {
      "text/plain": [
       "'Fri Dec 29 23:39:07 2023'"
      ]
     },
     "execution_count": 22,
     "metadata": {},
     "output_type": "execute_result"
    },
    {
     "data": {
      "text/plain": [
       "118"
      ]
     },
     "execution_count": 22,
     "metadata": {},
     "output_type": "execute_result"
    },
    {
     "name": "stderr",
     "output_type": "stream",
     "text": [
      "\r",
      " 91%|██████████████████████████████████████████████████████████████████████       | 522/574 [12:23:17<43:11, 49.83s/it]"
     ]
    },
    {
     "name": "stdout",
     "output_type": "stream",
     "text": [
      "D:\\zwk_data\\p_tif\\17000\\ndwi1_int8_world_17924.tif\n",
      "['D:\\\\zwk_data\\\\p_tif\\\\GRWL_vector_V01.01\\\\SG54.shp']\n"
     ]
    },
    {
     "data": {
      "text/plain": [
       "'Fri Dec 29 23:39:58 2023'"
      ]
     },
     "execution_count": 22,
     "metadata": {},
     "output_type": "execute_result"
    },
    {
     "data": {
      "text/plain": [
       "113"
      ]
     },
     "execution_count": 22,
     "metadata": {},
     "output_type": "execute_result"
    },
    {
     "name": "stderr",
     "output_type": "stream",
     "text": [
      "\r",
      " 91%|██████████████████████████████████████████████████████████████████████▏      | 523/574 [12:24:04<41:33, 48.90s/it]"
     ]
    },
    {
     "name": "stdout",
     "output_type": "stream",
     "text": [
      "D:\\zwk_data\\p_tif\\17000\\ndwi1_int8_world_17925.tif\n",
      "['D:\\\\zwk_data\\\\p_tif\\\\GRWL_vector_V01.01\\\\SG54.shp']\n"
     ]
    },
    {
     "data": {
      "text/plain": [
       "'Fri Dec 29 23:40:45 2023'"
      ]
     },
     "execution_count": 22,
     "metadata": {},
     "output_type": "execute_result"
    },
    {
     "data": {
      "text/plain": [
       "114"
      ]
     },
     "execution_count": 22,
     "metadata": {},
     "output_type": "execute_result"
    },
    {
     "name": "stderr",
     "output_type": "stream",
     "text": [
      "\r",
      " 91%|██████████████████████████████████████████████████████████████████████▎      | 524/574 [12:24:50<39:55, 47.90s/it]"
     ]
    },
    {
     "name": "stdout",
     "output_type": "stream",
     "text": [
      "D:\\zwk_data\\p_tif\\17000\\ndwi1_int8_world_17926.tif\n",
      "['D:\\\\zwk_data\\\\p_tif\\\\GRWL_vector_V01.01\\\\SF54.shp'\n",
      " 'D:\\\\zwk_data\\\\p_tif\\\\GRWL_vector_V01.01\\\\SG54.shp']\n"
     ]
    },
    {
     "data": {
      "text/plain": [
       "'Fri Dec 29 23:41:31 2023'"
      ]
     },
     "execution_count": 22,
     "metadata": {},
     "output_type": "execute_result"
    },
    {
     "data": {
      "text/plain": [
       "116"
      ]
     },
     "execution_count": 22,
     "metadata": {},
     "output_type": "execute_result"
    },
    {
     "name": "stderr",
     "output_type": "stream",
     "text": [
      "\r",
      " 91%|██████████████████████████████████████████████████████████████████████▍      | 525/574 [12:25:42<40:19, 49.37s/it]"
     ]
    },
    {
     "name": "stdout",
     "output_type": "stream",
     "text": [
      "D:\\zwk_data\\p_tif\\17000\\ndwi1_int8_world_17927.tif\n",
      "['D:\\\\zwk_data\\\\p_tif\\\\GRWL_vector_V01.01\\\\SF54.shp'\n",
      " 'D:\\\\zwk_data\\\\p_tif\\\\GRWL_vector_V01.01\\\\SG54.shp']\n"
     ]
    },
    {
     "data": {
      "text/plain": [
       "'Fri Dec 29 23:42:23 2023'"
      ]
     },
     "execution_count": 22,
     "metadata": {},
     "output_type": "execute_result"
    },
    {
     "data": {
      "text/plain": [
       "109"
      ]
     },
     "execution_count": 22,
     "metadata": {},
     "output_type": "execute_result"
    },
    {
     "name": "stderr",
     "output_type": "stream",
     "text": [
      "\r",
      " 92%|██████████████████████████████████████████████████████████████████████▌      | 526/574 [12:26:36<40:28, 50.59s/it]"
     ]
    },
    {
     "name": "stdout",
     "output_type": "stream",
     "text": [
      "D:\\zwk_data\\p_tif\\17000\\ndwi1_int8_world_17928.tif\n",
      "['D:\\\\zwk_data\\\\p_tif\\\\GRWL_vector_V01.01\\\\SF54.shp']\n"
     ]
    },
    {
     "data": {
      "text/plain": [
       "'Fri Dec 29 23:43:17 2023'"
      ]
     },
     "execution_count": 22,
     "metadata": {},
     "output_type": "execute_result"
    },
    {
     "data": {
      "text/plain": [
       "104"
      ]
     },
     "execution_count": 22,
     "metadata": {},
     "output_type": "execute_result"
    },
    {
     "name": "stderr",
     "output_type": "stream",
     "text": [
      "\r",
      " 92%|██████████████████████████████████████████████████████████████████████▋      | 527/574 [12:27:07<34:57, 44.63s/it]"
     ]
    },
    {
     "name": "stdout",
     "output_type": "stream",
     "text": [
      "D:\\zwk_data\\p_tif\\17000\\ndwi1_int8_world_17929.tif\n",
      "['D:\\\\zwk_data\\\\p_tif\\\\GRWL_vector_V01.01\\\\SF54.shp']\n"
     ]
    },
    {
     "data": {
      "text/plain": [
       "'Fri Dec 29 23:43:48 2023'"
      ]
     },
     "execution_count": 22,
     "metadata": {},
     "output_type": "execute_result"
    },
    {
     "data": {
      "text/plain": [
       "104"
      ]
     },
     "execution_count": 22,
     "metadata": {},
     "output_type": "execute_result"
    },
    {
     "name": "stderr",
     "output_type": "stream",
     "text": [
      "\r",
      " 92%|██████████████████████████████████████████████████████████████████████▊      | 528/574 [12:27:36<30:41, 40.02s/it]"
     ]
    },
    {
     "name": "stdout",
     "output_type": "stream",
     "text": [
      "D:\\zwk_data\\p_tif\\17000\\ndwi1_int8_world_17930.tif\n",
      "['D:\\\\zwk_data\\\\p_tif\\\\GRWL_vector_V01.01\\\\SE54.shp'\n",
      " 'D:\\\\zwk_data\\\\p_tif\\\\GRWL_vector_V01.01\\\\SF54.shp']\n"
     ]
    },
    {
     "data": {
      "text/plain": [
       "'Fri Dec 29 23:44:17 2023'"
      ]
     },
     "execution_count": 22,
     "metadata": {},
     "output_type": "execute_result"
    },
    {
     "data": {
      "text/plain": [
       "113"
      ]
     },
     "execution_count": 22,
     "metadata": {},
     "output_type": "execute_result"
    },
    {
     "name": "stderr",
     "output_type": "stream",
     "text": [
      "\r",
      " 92%|██████████████████████████████████████████████████████████████████████▉      | 529/574 [12:28:23<31:32, 42.07s/it]"
     ]
    },
    {
     "name": "stdout",
     "output_type": "stream",
     "text": [
      "D:\\zwk_data\\p_tif\\17000\\ndwi1_int8_world_17933.tif\n",
      "['D:\\\\zwk_data\\\\p_tif\\\\GRWL_vector_V01.01\\\\SG54.shp'\n",
      " 'D:\\\\zwk_data\\\\p_tif\\\\GRWL_vector_V01.01\\\\SH54.shp']\n"
     ]
    },
    {
     "data": {
      "text/plain": [
       "'Fri Dec 29 23:45:04 2023'"
      ]
     },
     "execution_count": 22,
     "metadata": {},
     "output_type": "execute_result"
    },
    {
     "data": {
      "text/plain": [
       "116"
      ]
     },
     "execution_count": 22,
     "metadata": {},
     "output_type": "execute_result"
    },
    {
     "name": "stderr",
     "output_type": "stream",
     "text": [
      "\r",
      " 92%|███████████████████████████████████████████████████████████████████████      | 530/574 [12:29:12<32:31, 44.34s/it]"
     ]
    },
    {
     "name": "stdout",
     "output_type": "stream",
     "text": [
      "D:\\zwk_data\\p_tif\\17000\\ndwi1_int8_world_17934.tif\n",
      "['D:\\\\zwk_data\\\\p_tif\\\\GRWL_vector_V01.01\\\\SG54.shp']\n"
     ]
    },
    {
     "data": {
      "text/plain": [
       "'Fri Dec 29 23:45:53 2023'"
      ]
     },
     "execution_count": 22,
     "metadata": {},
     "output_type": "execute_result"
    },
    {
     "data": {
      "text/plain": [
       "117"
      ]
     },
     "execution_count": 22,
     "metadata": {},
     "output_type": "execute_result"
    },
    {
     "name": "stderr",
     "output_type": "stream",
     "text": [
      "\r",
      " 93%|███████████████████████████████████████████████████████████████████████▏     | 531/574 [12:29:59<32:21, 45.15s/it]"
     ]
    },
    {
     "name": "stdout",
     "output_type": "stream",
     "text": [
      "D:\\zwk_data\\p_tif\\17000\\ndwi1_int8_world_17935.tif\n",
      "['D:\\\\zwk_data\\\\p_tif\\\\GRWL_vector_V01.01\\\\SG54.shp']\n"
     ]
    },
    {
     "data": {
      "text/plain": [
       "'Fri Dec 29 23:46:40 2023'"
      ]
     },
     "execution_count": 22,
     "metadata": {},
     "output_type": "execute_result"
    },
    {
     "data": {
      "text/plain": [
       "113"
      ]
     },
     "execution_count": 22,
     "metadata": {},
     "output_type": "execute_result"
    },
    {
     "name": "stderr",
     "output_type": "stream",
     "text": [
      "\r",
      " 93%|███████████████████████████████████████████████████████████████████████▎     | 532/574 [12:30:45<31:36, 45.16s/it]"
     ]
    },
    {
     "name": "stdout",
     "output_type": "stream",
     "text": [
      "D:\\zwk_data\\p_tif\\17000\\ndwi1_int8_world_17936.tif\n",
      "['D:\\\\zwk_data\\\\p_tif\\\\GRWL_vector_V01.01\\\\SF54.shp'\n",
      " 'D:\\\\zwk_data\\\\p_tif\\\\GRWL_vector_V01.01\\\\SG54.shp']\n"
     ]
    },
    {
     "data": {
      "text/plain": [
       "'Fri Dec 29 23:47:26 2023'"
      ]
     },
     "execution_count": 22,
     "metadata": {},
     "output_type": "execute_result"
    },
    {
     "data": {
      "text/plain": [
       "112"
      ]
     },
     "execution_count": 22,
     "metadata": {},
     "output_type": "execute_result"
    },
    {
     "name": "stderr",
     "output_type": "stream",
     "text": [
      "\r",
      " 93%|███████████████████████████████████████████████████████████████████████▌     | 533/574 [12:31:38<32:37, 47.75s/it]"
     ]
    },
    {
     "name": "stdout",
     "output_type": "stream",
     "text": [
      "D:\\zwk_data\\p_tif\\17000\\ndwi1_int8_world_17937.tif\n",
      "['D:\\\\zwk_data\\\\p_tif\\\\GRWL_vector_V01.01\\\\SF54.shp'\n",
      " 'D:\\\\zwk_data\\\\p_tif\\\\GRWL_vector_V01.01\\\\SG54.shp']\n"
     ]
    },
    {
     "data": {
      "text/plain": [
       "'Fri Dec 29 23:48:20 2023'"
      ]
     },
     "execution_count": 22,
     "metadata": {},
     "output_type": "execute_result"
    },
    {
     "data": {
      "text/plain": [
       "113"
      ]
     },
     "execution_count": 22,
     "metadata": {},
     "output_type": "execute_result"
    },
    {
     "name": "stderr",
     "output_type": "stream",
     "text": [
      "\r",
      " 93%|███████████████████████████████████████████████████████████████████████▋     | 534/574 [12:32:31<32:53, 49.34s/it]"
     ]
    },
    {
     "name": "stdout",
     "output_type": "stream",
     "text": [
      "D:\\zwk_data\\p_tif\\17000\\ndwi1_int8_world_17938.tif\n",
      "['D:\\\\zwk_data\\\\p_tif\\\\GRWL_vector_V01.01\\\\SF54.shp']\n"
     ]
    },
    {
     "data": {
      "text/plain": [
       "'Fri Dec 29 23:49:13 2023'"
      ]
     },
     "execution_count": 22,
     "metadata": {},
     "output_type": "execute_result"
    },
    {
     "data": {
      "text/plain": [
       "104"
      ]
     },
     "execution_count": 22,
     "metadata": {},
     "output_type": "execute_result"
    },
    {
     "name": "stderr",
     "output_type": "stream",
     "text": [
      "\r",
      " 93%|███████████████████████████████████████████████████████████████████████▊     | 535/574 [12:33:01<28:19, 43.57s/it]"
     ]
    },
    {
     "name": "stdout",
     "output_type": "stream",
     "text": [
      "D:\\zwk_data\\p_tif\\17000\\ndwi1_int8_world_17940.tif\n",
      "['D:\\\\zwk_data\\\\p_tif\\\\GRWL_vector_V01.01\\\\SE54.shp'\n",
      " 'D:\\\\zwk_data\\\\p_tif\\\\GRWL_vector_V01.01\\\\SF54.shp']\n"
     ]
    },
    {
     "data": {
      "text/plain": [
       "'Fri Dec 29 23:49:42 2023'"
      ]
     },
     "execution_count": 22,
     "metadata": {},
     "output_type": "execute_result"
    },
    {
     "data": {
      "text/plain": [
       "113"
      ]
     },
     "execution_count": 22,
     "metadata": {},
     "output_type": "execute_result"
    },
    {
     "name": "stderr",
     "output_type": "stream",
     "text": [
      "\r",
      " 93%|███████████████████████████████████████████████████████████████████████▉     | 536/574 [12:33:48<28:12, 44.55s/it]"
     ]
    },
    {
     "name": "stdout",
     "output_type": "stream",
     "text": [
      "D:\\zwk_data\\p_tif\\17000\\ndwi1_int8_world_17941.tif\n",
      "['D:\\\\zwk_data\\\\p_tif\\\\GRWL_vector_V01.01\\\\SH54.shp']\n"
     ]
    },
    {
     "data": {
      "text/plain": [
       "'Fri Dec 29 23:50:29 2023'"
      ]
     },
     "execution_count": 22,
     "metadata": {},
     "output_type": "execute_result"
    },
    {
     "data": {
      "text/plain": [
       "104"
      ]
     },
     "execution_count": 22,
     "metadata": {},
     "output_type": "execute_result"
    },
    {
     "name": "stderr",
     "output_type": "stream",
     "text": [
      "\r",
      " 94%|████████████████████████████████████████████████████████████████████████     | 537/574 [12:34:15<24:14, 39.30s/it]"
     ]
    },
    {
     "name": "stdout",
     "output_type": "stream",
     "text": [
      "D:\\zwk_data\\p_tif\\17000\\ndwi1_int8_world_17942.tif\n",
      "['D:\\\\zwk_data\\\\p_tif\\\\GRWL_vector_V01.01\\\\SG54.shp'\n",
      " 'D:\\\\zwk_data\\\\p_tif\\\\GRWL_vector_V01.01\\\\SH54.shp']\n"
     ]
    },
    {
     "data": {
      "text/plain": [
       "'Fri Dec 29 23:50:56 2023'"
      ]
     },
     "execution_count": 22,
     "metadata": {},
     "output_type": "execute_result"
    },
    {
     "data": {
      "text/plain": [
       "114"
      ]
     },
     "execution_count": 22,
     "metadata": {},
     "output_type": "execute_result"
    },
    {
     "name": "stderr",
     "output_type": "stream",
     "text": [
      "\r",
      " 94%|████████████████████████████████████████████████████████████████████████▏    | 538/574 [12:35:04<25:18, 42.18s/it]"
     ]
    },
    {
     "name": "stdout",
     "output_type": "stream",
     "text": [
      "D:\\zwk_data\\p_tif\\17000\\ndwi1_int8_world_17943.tif\n",
      "['D:\\\\zwk_data\\\\p_tif\\\\GRWL_vector_V01.01\\\\SG54.shp'\n",
      " 'D:\\\\zwk_data\\\\p_tif\\\\GRWL_vector_V01.01\\\\SH54.shp']\n"
     ]
    },
    {
     "data": {
      "text/plain": [
       "'Fri Dec 29 23:51:45 2023'"
      ]
     },
     "execution_count": 22,
     "metadata": {},
     "output_type": "execute_result"
    },
    {
     "data": {
      "text/plain": [
       "110"
      ]
     },
     "execution_count": 22,
     "metadata": {},
     "output_type": "execute_result"
    },
    {
     "name": "stderr",
     "output_type": "stream",
     "text": [
      "\r",
      " 94%|████████████████████████████████████████████████████████████████████████▎    | 539/574 [12:35:54<25:54, 44.42s/it]"
     ]
    },
    {
     "name": "stdout",
     "output_type": "stream",
     "text": [
      "D:\\zwk_data\\p_tif\\17000\\ndwi1_int8_world_17944.tif\n",
      "['D:\\\\zwk_data\\\\p_tif\\\\GRWL_vector_V01.01\\\\SG54.shp']\n"
     ]
    },
    {
     "data": {
      "text/plain": [
       "'Fri Dec 29 23:52:35 2023'"
      ]
     },
     "execution_count": 22,
     "metadata": {},
     "output_type": "execute_result"
    },
    {
     "data": {
      "text/plain": [
       "110"
      ]
     },
     "execution_count": 22,
     "metadata": {},
     "output_type": "execute_result"
    },
    {
     "name": "stderr",
     "output_type": "stream",
     "text": [
      "\r",
      " 94%|████████████████████████████████████████████████████████████████████████▍    | 540/574 [12:36:40<25:27, 44.92s/it]"
     ]
    },
    {
     "name": "stdout",
     "output_type": "stream",
     "text": [
      "D:\\zwk_data\\p_tif\\17000\\ndwi1_int8_world_17945.tif\n",
      "['D:\\\\zwk_data\\\\p_tif\\\\GRWL_vector_V01.01\\\\SG54.shp']\n"
     ]
    },
    {
     "data": {
      "text/plain": [
       "'Fri Dec 29 23:53:21 2023'"
      ]
     },
     "execution_count": 22,
     "metadata": {},
     "output_type": "execute_result"
    },
    {
     "data": {
      "text/plain": [
       "117"
      ]
     },
     "execution_count": 22,
     "metadata": {},
     "output_type": "execute_result"
    },
    {
     "name": "stderr",
     "output_type": "stream",
     "text": [
      "\r",
      " 94%|████████████████████████████████████████████████████████████████████████▌    | 541/574 [12:37:26<24:49, 45.15s/it]"
     ]
    },
    {
     "name": "stdout",
     "output_type": "stream",
     "text": [
      "D:\\zwk_data\\p_tif\\17000\\ndwi1_int8_world_17946.tif\n",
      "['D:\\\\zwk_data\\\\p_tif\\\\GRWL_vector_V01.01\\\\SF54.shp'\n",
      " 'D:\\\\zwk_data\\\\p_tif\\\\GRWL_vector_V01.01\\\\SG54.shp']\n"
     ]
    },
    {
     "data": {
      "text/plain": [
       "'Fri Dec 29 23:54:07 2023'"
      ]
     },
     "execution_count": 22,
     "metadata": {},
     "output_type": "execute_result"
    },
    {
     "data": {
      "text/plain": [
       "110"
      ]
     },
     "execution_count": 22,
     "metadata": {},
     "output_type": "execute_result"
    },
    {
     "name": "stderr",
     "output_type": "stream",
     "text": [
      "\r",
      " 94%|████████████████████████████████████████████████████████████████████████▋    | 542/574 [12:38:19<25:22, 47.57s/it]"
     ]
    },
    {
     "name": "stdout",
     "output_type": "stream",
     "text": [
      "D:\\zwk_data\\p_tif\\17000\\ndwi1_int8_world_17950.tif\n",
      "['D:\\\\zwk_data\\\\p_tif\\\\GRWL_vector_V01.01\\\\SE54.shp'\n",
      " 'D:\\\\zwk_data\\\\p_tif\\\\GRWL_vector_V01.01\\\\SF54.shp']\n"
     ]
    },
    {
     "data": {
      "text/plain": [
       "'Fri Dec 29 23:55:00 2023'"
      ]
     },
     "execution_count": 22,
     "metadata": {},
     "output_type": "execute_result"
    },
    {
     "data": {
      "text/plain": [
       "117"
      ]
     },
     "execution_count": 22,
     "metadata": {},
     "output_type": "execute_result"
    },
    {
     "name": "stderr",
     "output_type": "stream",
     "text": [
      "\r",
      " 95%|████████████████████████████████████████████████████████████████████████▊    | 543/574 [12:39:07<24:41, 47.80s/it]"
     ]
    },
    {
     "name": "stdout",
     "output_type": "stream",
     "text": [
      "D:\\zwk_data\\p_tif\\17000\\ndwi1_int8_world_17951.tif\n",
      "['D:\\\\zwk_data\\\\p_tif\\\\GRWL_vector_V01.01\\\\SH54.shp'\n",
      " 'D:\\\\zwk_data\\\\p_tif\\\\GRWL_vector_V01.01\\\\SH55.shp']\n"
     ]
    },
    {
     "data": {
      "text/plain": [
       "'Fri Dec 29 23:55:48 2023'"
      ]
     },
     "execution_count": 22,
     "metadata": {},
     "output_type": "execute_result"
    },
    {
     "data": {
      "text/plain": [
       "106"
      ]
     },
     "execution_count": 22,
     "metadata": {},
     "output_type": "execute_result"
    },
    {
     "name": "stderr",
     "output_type": "stream",
     "text": [
      "\r",
      " 95%|████████████████████████████████████████████████████████████████████████▉    | 544/574 [12:40:04<25:14, 50.47s/it]"
     ]
    },
    {
     "name": "stdout",
     "output_type": "stream",
     "text": [
      "D:\\zwk_data\\p_tif\\17000\\ndwi1_int8_world_17952.tif\n",
      "['D:\\\\zwk_data\\\\p_tif\\\\GRWL_vector_V01.01\\\\SG54.shp'\n",
      " 'D:\\\\zwk_data\\\\p_tif\\\\GRWL_vector_V01.01\\\\SG55.shp'\n",
      " 'D:\\\\zwk_data\\\\p_tif\\\\GRWL_vector_V01.01\\\\SH54.shp'\n",
      " 'D:\\\\zwk_data\\\\p_tif\\\\GRWL_vector_V01.01\\\\SH55.shp']\n"
     ]
    },
    {
     "data": {
      "text/plain": [
       "'Fri Dec 29 23:56:45 2023'"
      ]
     },
     "execution_count": 22,
     "metadata": {},
     "output_type": "execute_result"
    },
    {
     "data": {
      "text/plain": [
       "114"
      ]
     },
     "execution_count": 22,
     "metadata": {},
     "output_type": "execute_result"
    },
    {
     "name": "stderr",
     "output_type": "stream",
     "text": [
      "\r",
      " 95%|█████████████████████████████████████████████████████████████████████████    | 545/574 [12:41:31<29:39, 61.35s/it]"
     ]
    },
    {
     "name": "stdout",
     "output_type": "stream",
     "text": [
      "D:\\zwk_data\\p_tif\\17000\\ndwi1_int8_world_17953.tif\n",
      "['D:\\\\zwk_data\\\\p_tif\\\\GRWL_vector_V01.01\\\\SG54.shp'\n",
      " 'D:\\\\zwk_data\\\\p_tif\\\\GRWL_vector_V01.01\\\\SG55.shp'\n",
      " 'D:\\\\zwk_data\\\\p_tif\\\\GRWL_vector_V01.01\\\\SH54.shp'\n",
      " 'D:\\\\zwk_data\\\\p_tif\\\\GRWL_vector_V01.01\\\\SH55.shp']\n"
     ]
    },
    {
     "data": {
      "text/plain": [
       "'Fri Dec 29 23:58:12 2023'"
      ]
     },
     "execution_count": 22,
     "metadata": {},
     "output_type": "execute_result"
    },
    {
     "data": {
      "text/plain": [
       "112"
      ]
     },
     "execution_count": 22,
     "metadata": {},
     "output_type": "execute_result"
    },
    {
     "name": "stderr",
     "output_type": "stream",
     "text": [
      "\r",
      " 95%|█████████████████████████████████████████████████████████████████████████▏   | 546/574 [12:43:00<32:29, 69.64s/it]"
     ]
    },
    {
     "name": "stdout",
     "output_type": "stream",
     "text": [
      "D:\\zwk_data\\p_tif\\17000\\ndwi1_int8_world_17955.tif\n",
      "['D:\\\\zwk_data\\\\p_tif\\\\GRWL_vector_V01.01\\\\SG54.shp'\n",
      " 'D:\\\\zwk_data\\\\p_tif\\\\GRWL_vector_V01.01\\\\SG55.shp']\n"
     ]
    },
    {
     "data": {
      "text/plain": [
       "'Fri Dec 29 23:59:41 2023'"
      ]
     },
     "execution_count": 22,
     "metadata": {},
     "output_type": "execute_result"
    },
    {
     "data": {
      "text/plain": [
       "113"
      ]
     },
     "execution_count": 22,
     "metadata": {},
     "output_type": "execute_result"
    },
    {
     "name": "stderr",
     "output_type": "stream",
     "text": [
      "\r",
      " 95%|█████████████████████████████████████████████████████████████████████████▍   | 547/574 [12:43:55<29:25, 65.39s/it]"
     ]
    },
    {
     "name": "stdout",
     "output_type": "stream",
     "text": [
      "D:\\zwk_data\\p_tif\\17000\\ndwi1_int8_world_17956.tif\n",
      "['D:\\\\zwk_data\\\\p_tif\\\\GRWL_vector_V01.01\\\\SF54.shp'\n",
      " 'D:\\\\zwk_data\\\\p_tif\\\\GRWL_vector_V01.01\\\\SF55.shp'\n",
      " 'D:\\\\zwk_data\\\\p_tif\\\\GRWL_vector_V01.01\\\\SG54.shp'\n",
      " 'D:\\\\zwk_data\\\\p_tif\\\\GRWL_vector_V01.01\\\\SG55.shp']\n"
     ]
    },
    {
     "data": {
      "text/plain": [
       "'Sat Dec 30 00:00:36 2023'"
      ]
     },
     "execution_count": 22,
     "metadata": {},
     "output_type": "execute_result"
    },
    {
     "data": {
      "text/plain": [
       "115"
      ]
     },
     "execution_count": 22,
     "metadata": {},
     "output_type": "execute_result"
    },
    {
     "name": "stderr",
     "output_type": "stream",
     "text": [
      "\r",
      " 95%|█████████████████████████████████████████████████████████████████████████▌   | 548/574 [12:45:06<29:02, 67.00s/it]"
     ]
    },
    {
     "name": "stdout",
     "output_type": "stream",
     "text": [
      "D:\\zwk_data\\p_tif\\17000\\ndwi1_int8_world_17957.tif\n",
      "['D:\\\\zwk_data\\\\p_tif\\\\GRWL_vector_V01.01\\\\SF54.shp'\n",
      " 'D:\\\\zwk_data\\\\p_tif\\\\GRWL_vector_V01.01\\\\SF55.shp'\n",
      " 'D:\\\\zwk_data\\\\p_tif\\\\GRWL_vector_V01.01\\\\SG54.shp'\n",
      " 'D:\\\\zwk_data\\\\p_tif\\\\GRWL_vector_V01.01\\\\SG55.shp']\n"
     ]
    },
    {
     "data": {
      "text/plain": [
       "'Sat Dec 30 00:01:47 2023'"
      ]
     },
     "execution_count": 22,
     "metadata": {},
     "output_type": "execute_result"
    },
    {
     "data": {
      "text/plain": [
       "113"
      ]
     },
     "execution_count": 22,
     "metadata": {},
     "output_type": "execute_result"
    },
    {
     "name": "stderr",
     "output_type": "stream",
     "text": [
      "\r",
      " 96%|█████████████████████████████████████████████████████████████████████████▋   | 549/574 [12:46:18<28:33, 68.55s/it]"
     ]
    },
    {
     "name": "stdout",
     "output_type": "stream",
     "text": [
      "D:\\zwk_data\\p_tif\\17000\\ndwi1_int8_world_17960.tif\n",
      "['D:\\\\zwk_data\\\\p_tif\\\\GRWL_vector_V01.01\\\\SE54.shp'\n",
      " 'D:\\\\zwk_data\\\\p_tif\\\\GRWL_vector_V01.01\\\\SE55.shp'\n",
      " 'D:\\\\zwk_data\\\\p_tif\\\\GRWL_vector_V01.01\\\\SF54.shp'\n",
      " 'D:\\\\zwk_data\\\\p_tif\\\\GRWL_vector_V01.01\\\\SF55.shp']\n"
     ]
    },
    {
     "data": {
      "text/plain": [
       "'Sat Dec 30 00:03:00 2023'"
      ]
     },
     "execution_count": 22,
     "metadata": {},
     "output_type": "execute_result"
    },
    {
     "data": {
      "text/plain": [
       "117"
      ]
     },
     "execution_count": 22,
     "metadata": {},
     "output_type": "execute_result"
    },
    {
     "name": "stderr",
     "output_type": "stream",
     "text": [
      "\r",
      " 96%|█████████████████████████████████████████████████████████████████████████▊   | 550/574 [12:47:32<28:05, 70.23s/it]"
     ]
    },
    {
     "name": "stdout",
     "output_type": "stream",
     "text": [
      "D:\\zwk_data\\p_tif\\17000\\ndwi1_int8_world_17961.tif\n",
      "['D:\\\\zwk_data\\\\p_tif\\\\GRWL_vector_V01.01\\\\SH54.shp'\n",
      " 'D:\\\\zwk_data\\\\p_tif\\\\GRWL_vector_V01.01\\\\SH55.shp']\n"
     ]
    },
    {
     "data": {
      "text/plain": [
       "'Sat Dec 30 00:04:14 2023'"
      ]
     },
     "execution_count": 22,
     "metadata": {},
     "output_type": "execute_result"
    },
    {
     "data": {
      "text/plain": [
       "106"
      ]
     },
     "execution_count": 22,
     "metadata": {},
     "output_type": "execute_result"
    },
    {
     "name": "stderr",
     "output_type": "stream",
     "text": [
      "\r",
      " 96%|█████████████████████████████████████████████████████████████████████████▉   | 551/574 [12:48:31<25:35, 66.76s/it]"
     ]
    },
    {
     "name": "stdout",
     "output_type": "stream",
     "text": [
      "D:\\zwk_data\\p_tif\\17000\\ndwi1_int8_world_17962.tif\n",
      "['D:\\\\zwk_data\\\\p_tif\\\\GRWL_vector_V01.01\\\\SG54.shp'\n",
      " 'D:\\\\zwk_data\\\\p_tif\\\\GRWL_vector_V01.01\\\\SG55.shp'\n",
      " 'D:\\\\zwk_data\\\\p_tif\\\\GRWL_vector_V01.01\\\\SH54.shp'\n",
      " 'D:\\\\zwk_data\\\\p_tif\\\\GRWL_vector_V01.01\\\\SH55.shp']\n"
     ]
    },
    {
     "data": {
      "text/plain": [
       "'Sat Dec 30 00:05:12 2023'"
      ]
     },
     "execution_count": 22,
     "metadata": {},
     "output_type": "execute_result"
    },
    {
     "data": {
      "text/plain": [
       "113"
      ]
     },
     "execution_count": 22,
     "metadata": {},
     "output_type": "execute_result"
    },
    {
     "name": "stderr",
     "output_type": "stream",
     "text": [
      "\r",
      " 96%|██████████████████████████████████████████████████████████████████████████   | 552/574 [12:49:57<26:38, 72.67s/it]"
     ]
    },
    {
     "name": "stdout",
     "output_type": "stream",
     "text": [
      "D:\\zwk_data\\p_tif\\17000\\ndwi1_int8_world_17963.tif\n",
      "['D:\\\\zwk_data\\\\p_tif\\\\GRWL_vector_V01.01\\\\SG54.shp'\n",
      " 'D:\\\\zwk_data\\\\p_tif\\\\GRWL_vector_V01.01\\\\SG55.shp'\n",
      " 'D:\\\\zwk_data\\\\p_tif\\\\GRWL_vector_V01.01\\\\SH54.shp'\n",
      " 'D:\\\\zwk_data\\\\p_tif\\\\GRWL_vector_V01.01\\\\SH55.shp']\n"
     ]
    },
    {
     "data": {
      "text/plain": [
       "'Sat Dec 30 00:06:38 2023'"
      ]
     },
     "execution_count": 22,
     "metadata": {},
     "output_type": "execute_result"
    },
    {
     "data": {
      "text/plain": [
       "112"
      ]
     },
     "execution_count": 22,
     "metadata": {},
     "output_type": "execute_result"
    },
    {
     "name": "stderr",
     "output_type": "stream",
     "text": [
      "\r",
      " 96%|██████████████████████████████████████████████████████████████████████████▏  | 553/574 [12:51:27<27:12, 77.74s/it]"
     ]
    },
    {
     "name": "stdout",
     "output_type": "stream",
     "text": [
      "D:\\zwk_data\\p_tif\\17000\\ndwi1_int8_world_17964.tif\n",
      "['D:\\\\zwk_data\\\\p_tif\\\\GRWL_vector_V01.01\\\\SG54.shp'\n",
      " 'D:\\\\zwk_data\\\\p_tif\\\\GRWL_vector_V01.01\\\\SG55.shp']\n"
     ]
    },
    {
     "data": {
      "text/plain": [
       "'Sat Dec 30 00:08:08 2023'"
      ]
     },
     "execution_count": 22,
     "metadata": {},
     "output_type": "execute_result"
    },
    {
     "data": {
      "text/plain": [
       "108"
      ]
     },
     "execution_count": 22,
     "metadata": {},
     "output_type": "execute_result"
    },
    {
     "name": "stderr",
     "output_type": "stream",
     "text": [
      "\r",
      " 97%|██████████████████████████████████████████████████████████████████████████▎  | 554/574 [12:52:20<23:28, 70.45s/it]"
     ]
    },
    {
     "name": "stdout",
     "output_type": "stream",
     "text": [
      "D:\\zwk_data\\p_tif\\17000\\ndwi1_int8_world_17967.tif\n",
      "['D:\\\\zwk_data\\\\p_tif\\\\GRWL_vector_V01.01\\\\SF54.shp'\n",
      " 'D:\\\\zwk_data\\\\p_tif\\\\GRWL_vector_V01.01\\\\SF55.shp'\n",
      " 'D:\\\\zwk_data\\\\p_tif\\\\GRWL_vector_V01.01\\\\SG54.shp'\n",
      " 'D:\\\\zwk_data\\\\p_tif\\\\GRWL_vector_V01.01\\\\SG55.shp']\n"
     ]
    },
    {
     "data": {
      "text/plain": [
       "'Sat Dec 30 00:09:02 2023'"
      ]
     },
     "execution_count": 22,
     "metadata": {},
     "output_type": "execute_result"
    },
    {
     "data": {
      "text/plain": [
       "113"
      ]
     },
     "execution_count": 22,
     "metadata": {},
     "output_type": "execute_result"
    },
    {
     "name": "stderr",
     "output_type": "stream",
     "text": [
      "\r",
      " 97%|██████████████████████████████████████████████████████████████████████████▍  | 555/574 [12:53:32<22:22, 70.66s/it]"
     ]
    },
    {
     "name": "stdout",
     "output_type": "stream",
     "text": [
      "D:\\zwk_data\\p_tif\\17000\\ndwi1_int8_world_17968.tif\n",
      "['D:\\\\zwk_data\\\\p_tif\\\\GRWL_vector_V01.01\\\\SF54.shp'\n",
      " 'D:\\\\zwk_data\\\\p_tif\\\\GRWL_vector_V01.01\\\\SF55.shp']\n"
     ]
    },
    {
     "data": {
      "text/plain": [
       "'Sat Dec 30 00:10:13 2023'"
      ]
     },
     "execution_count": 22,
     "metadata": {},
     "output_type": "execute_result"
    },
    {
     "data": {
      "text/plain": [
       "110"
      ]
     },
     "execution_count": 22,
     "metadata": {},
     "output_type": "execute_result"
    },
    {
     "name": "stderr",
     "output_type": "stream",
     "text": [
      "\r",
      " 97%|██████████████████████████████████████████████████████████████████████████▌  | 556/574 [12:54:21<19:18, 64.36s/it]"
     ]
    },
    {
     "name": "stdout",
     "output_type": "stream",
     "text": [
      "D:\\zwk_data\\p_tif\\17000\\ndwi1_int8_world_17970.tif\n",
      "['D:\\\\zwk_data\\\\p_tif\\\\GRWL_vector_V01.01\\\\SE54.shp'\n",
      " 'D:\\\\zwk_data\\\\p_tif\\\\GRWL_vector_V01.01\\\\SE55.shp'\n",
      " 'D:\\\\zwk_data\\\\p_tif\\\\GRWL_vector_V01.01\\\\SF54.shp'\n",
      " 'D:\\\\zwk_data\\\\p_tif\\\\GRWL_vector_V01.01\\\\SF55.shp']\n"
     ]
    },
    {
     "data": {
      "text/plain": [
       "'Sat Dec 30 00:11:02 2023'"
      ]
     },
     "execution_count": 22,
     "metadata": {},
     "output_type": "execute_result"
    },
    {
     "data": {
      "text/plain": [
       "117"
      ]
     },
     "execution_count": 22,
     "metadata": {},
     "output_type": "execute_result"
    },
    {
     "name": "stderr",
     "output_type": "stream",
     "text": [
      "\r",
      " 97%|██████████████████████████████████████████████████████████████████████████▋  | 557/574 [12:55:34<18:55, 66.78s/it]"
     ]
    },
    {
     "name": "stdout",
     "output_type": "stream",
     "text": [
      "D:\\zwk_data\\p_tif\\17000\\ndwi1_int8_world_17971.tif\n",
      "['D:\\\\zwk_data\\\\p_tif\\\\GRWL_vector_V01.01\\\\SH55.shp']\n"
     ]
    },
    {
     "data": {
      "text/plain": [
       "'Sat Dec 30 00:12:15 2023'"
      ]
     },
     "execution_count": 22,
     "metadata": {},
     "output_type": "execute_result"
    },
    {
     "data": {
      "text/plain": [
       "104"
      ]
     },
     "execution_count": 22,
     "metadata": {},
     "output_type": "execute_result"
    },
    {
     "name": "stderr",
     "output_type": "stream",
     "text": [
      "\r",
      " 97%|██████████████████████████████████████████████████████████████████████████▊  | 558/574 [12:56:28<16:48, 63.05s/it]"
     ]
    },
    {
     "name": "stdout",
     "output_type": "stream",
     "text": [
      "D:\\zwk_data\\p_tif\\17000\\ndwi1_int8_world_17972.tif\n",
      "['D:\\\\zwk_data\\\\p_tif\\\\GRWL_vector_V01.01\\\\SG55.shp'\n",
      " 'D:\\\\zwk_data\\\\p_tif\\\\GRWL_vector_V01.01\\\\SH55.shp']\n"
     ]
    },
    {
     "data": {
      "text/plain": [
       "'Sat Dec 30 00:13:09 2023'"
      ]
     },
     "execution_count": 22,
     "metadata": {},
     "output_type": "execute_result"
    },
    {
     "data": {
      "text/plain": [
       "114"
      ]
     },
     "execution_count": 22,
     "metadata": {},
     "output_type": "execute_result"
    },
    {
     "name": "stderr",
     "output_type": "stream",
     "text": [
      "\r",
      " 97%|██████████████████████████████████████████████████████████████████████████▉  | 559/574 [12:57:34<15:58, 63.88s/it]"
     ]
    },
    {
     "name": "stdout",
     "output_type": "stream",
     "text": [
      "D:\\zwk_data\\p_tif\\17000\\ndwi1_int8_world_17978.tif\n",
      "['D:\\\\zwk_data\\\\p_tif\\\\GRWL_vector_V01.01\\\\SF55.shp']\n"
     ]
    },
    {
     "data": {
      "text/plain": [
       "'Sat Dec 30 00:14:15 2023'"
      ]
     },
     "execution_count": 22,
     "metadata": {},
     "output_type": "execute_result"
    },
    {
     "data": {
      "text/plain": [
       "110"
      ]
     },
     "execution_count": 22,
     "metadata": {},
     "output_type": "execute_result"
    },
    {
     "name": "stderr",
     "output_type": "stream",
     "text": [
      "\r",
      " 98%|███████████████████████████████████████████████████████████████████████████  | 560/574 [12:58:16<13:24, 57.45s/it]"
     ]
    },
    {
     "name": "stdout",
     "output_type": "stream",
     "text": [
      "D:\\zwk_data\\p_tif\\17000\\ndwi1_int8_world_17979.tif\n",
      "['D:\\\\zwk_data\\\\p_tif\\\\GRWL_vector_V01.01\\\\SF55.shp']\n"
     ]
    },
    {
     "data": {
      "text/plain": [
       "'Sat Dec 30 00:14:57 2023'"
      ]
     },
     "execution_count": 22,
     "metadata": {},
     "output_type": "execute_result"
    },
    {
     "data": {
      "text/plain": [
       "114"
      ]
     },
     "execution_count": 22,
     "metadata": {},
     "output_type": "execute_result"
    },
    {
     "name": "stderr",
     "output_type": "stream",
     "text": [
      "\r",
      " 98%|███████████████████████████████████████████████████████████████████████████▎ | 561/574 [12:58:57<11:21, 52.42s/it]"
     ]
    },
    {
     "name": "stdout",
     "output_type": "stream",
     "text": [
      "D:\\zwk_data\\p_tif\\17000\\ndwi1_int8_world_17980.tif\n",
      "['D:\\\\zwk_data\\\\p_tif\\\\GRWL_vector_V01.01\\\\SE55.shp'\n",
      " 'D:\\\\zwk_data\\\\p_tif\\\\GRWL_vector_V01.01\\\\SF55.shp']\n"
     ]
    },
    {
     "data": {
      "text/plain": [
       "'Sat Dec 30 00:15:38 2023'"
      ]
     },
     "execution_count": 22,
     "metadata": {},
     "output_type": "execute_result"
    },
    {
     "data": {
      "text/plain": [
       "117"
      ]
     },
     "execution_count": 22,
     "metadata": {},
     "output_type": "execute_result"
    },
    {
     "name": "stderr",
     "output_type": "stream",
     "text": [
      "\r",
      " 98%|███████████████████████████████████████████████████████████████████████████▍ | 562/574 [12:59:50<10:30, 52.55s/it]"
     ]
    },
    {
     "name": "stdout",
     "output_type": "stream",
     "text": [
      "D:\\zwk_data\\p_tif\\17000\\ndwi1_int8_world_17981.tif\n",
      "['D:\\\\zwk_data\\\\p_tif\\\\GRWL_vector_V01.01\\\\SH55.shp']\n"
     ]
    },
    {
     "data": {
      "text/plain": [
       "'Sat Dec 30 00:16:31 2023'"
      ]
     },
     "execution_count": 22,
     "metadata": {},
     "output_type": "execute_result"
    },
    {
     "data": {
      "text/plain": [
       "106"
      ]
     },
     "execution_count": 22,
     "metadata": {},
     "output_type": "execute_result"
    },
    {
     "name": "stderr",
     "output_type": "stream",
     "text": [
      "\r",
      " 98%|███████████████████████████████████████████████████████████████████████████▌ | 563/574 [13:00:44<09:42, 52.91s/it]"
     ]
    },
    {
     "name": "stdout",
     "output_type": "stream",
     "text": [
      "D:\\zwk_data\\p_tif\\17000\\ndwi1_int8_world_17982.tif\n",
      "['D:\\\\zwk_data\\\\p_tif\\\\GRWL_vector_V01.01\\\\SG55.shp'\n",
      " 'D:\\\\zwk_data\\\\p_tif\\\\GRWL_vector_V01.01\\\\SH55.shp']\n"
     ]
    },
    {
     "data": {
      "text/plain": [
       "'Sat Dec 30 00:17:25 2023'"
      ]
     },
     "execution_count": 22,
     "metadata": {},
     "output_type": "execute_result"
    },
    {
     "data": {
      "text/plain": [
       "110"
      ]
     },
     "execution_count": 22,
     "metadata": {},
     "output_type": "execute_result"
    },
    {
     "name": "stderr",
     "output_type": "stream",
     "text": [
      "\r",
      " 98%|███████████████████████████████████████████████████████████████████████████▋ | 564/574 [13:01:49<09:28, 56.82s/it]"
     ]
    },
    {
     "name": "stdout",
     "output_type": "stream",
     "text": [
      "D:\\zwk_data\\p_tif\\17000\\ndwi1_int8_world_17983.tif\n",
      "['D:\\\\zwk_data\\\\p_tif\\\\GRWL_vector_V01.01\\\\SG55.shp'\n",
      " 'D:\\\\zwk_data\\\\p_tif\\\\GRWL_vector_V01.01\\\\SH55.shp']\n"
     ]
    },
    {
     "data": {
      "text/plain": [
       "'Sat Dec 30 00:18:31 2023'"
      ]
     },
     "execution_count": 22,
     "metadata": {},
     "output_type": "execute_result"
    },
    {
     "data": {
      "text/plain": [
       "110"
      ]
     },
     "execution_count": 22,
     "metadata": {},
     "output_type": "execute_result"
    },
    {
     "name": "stderr",
     "output_type": "stream",
     "text": [
      "\r",
      " 98%|███████████████████████████████████████████████████████████████████████████▊ | 565/574 [13:02:55<08:53, 59.31s/it]"
     ]
    },
    {
     "name": "stdout",
     "output_type": "stream",
     "text": [
      "D:\\zwk_data\\p_tif\\17000\\ndwi1_int8_world_17984.tif\n",
      "['D:\\\\zwk_data\\\\p_tif\\\\GRWL_vector_V01.01\\\\SG55.shp']\n"
     ]
    },
    {
     "data": {
      "text/plain": [
       "'Sat Dec 30 00:19:36 2023'"
      ]
     },
     "execution_count": 22,
     "metadata": {},
     "output_type": "execute_result"
    },
    {
     "data": {
      "text/plain": [
       "109"
      ]
     },
     "execution_count": 22,
     "metadata": {},
     "output_type": "execute_result"
    },
    {
     "name": "stderr",
     "output_type": "stream",
     "text": [
      "\r",
      " 99%|███████████████████████████████████████████████████████████████████████████▉ | 566/574 [13:03:30<06:56, 52.07s/it]"
     ]
    },
    {
     "name": "stdout",
     "output_type": "stream",
     "text": [
      "D:\\zwk_data\\p_tif\\17000\\ndwi1_int8_world_17988.tif\n",
      "['D:\\\\zwk_data\\\\p_tif\\\\GRWL_vector_V01.01\\\\SF55.shp']\n"
     ]
    },
    {
     "data": {
      "text/plain": [
       "'Sat Dec 30 00:20:11 2023'"
      ]
     },
     "execution_count": 22,
     "metadata": {},
     "output_type": "execute_result"
    },
    {
     "data": {
      "text/plain": [
       "110"
      ]
     },
     "execution_count": 22,
     "metadata": {},
     "output_type": "execute_result"
    },
    {
     "name": "stderr",
     "output_type": "stream",
     "text": [
      "\r",
      " 99%|████████████████████████████████████████████████████████████████████████████ | 567/574 [13:04:10<05:40, 48.63s/it]"
     ]
    },
    {
     "name": "stdout",
     "output_type": "stream",
     "text": [
      "D:\\zwk_data\\p_tif\\17000\\ndwi1_int8_world_17989.tif\n",
      "['D:\\\\zwk_data\\\\p_tif\\\\GRWL_vector_V01.01\\\\SF55.shp']\n"
     ]
    },
    {
     "data": {
      "text/plain": [
       "'Sat Dec 30 00:20:51 2023'"
      ]
     },
     "execution_count": 22,
     "metadata": {},
     "output_type": "execute_result"
    },
    {
     "data": {
      "text/plain": [
       "112"
      ]
     },
     "execution_count": 22,
     "metadata": {},
     "output_type": "execute_result"
    },
    {
     "name": "stderr",
     "output_type": "stream",
     "text": [
      "\r",
      " 99%|████████████████████████████████████████████████████████████████████████████▏| 568/574 [13:04:52<04:39, 46.61s/it]"
     ]
    },
    {
     "name": "stdout",
     "output_type": "stream",
     "text": [
      "D:\\zwk_data\\p_tif\\17000\\ndwi1_int8_world_17990.tif\n",
      "['D:\\\\zwk_data\\\\p_tif\\\\GRWL_vector_V01.01\\\\SE55.shp'\n",
      " 'D:\\\\zwk_data\\\\p_tif\\\\GRWL_vector_V01.01\\\\SF55.shp']\n"
     ]
    },
    {
     "data": {
      "text/plain": [
       "'Sat Dec 30 00:21:33 2023'"
      ]
     },
     "execution_count": 22,
     "metadata": {},
     "output_type": "execute_result"
    },
    {
     "data": {
      "text/plain": [
       "117"
      ]
     },
     "execution_count": 22,
     "metadata": {},
     "output_type": "execute_result"
    },
    {
     "name": "stderr",
     "output_type": "stream",
     "text": [
      "\r",
      " 99%|████████████████████████████████████████████████████████████████████████████▎| 569/574 [13:05:47<04:05, 49.15s/it]"
     ]
    },
    {
     "name": "stdout",
     "output_type": "stream",
     "text": [
      "D:\\zwk_data\\p_tif\\17000\\ndwi1_int8_world_17991.tif\n",
      "['D:\\\\zwk_data\\\\p_tif\\\\GRWL_vector_V01.01\\\\SH55.shp']\n"
     ]
    },
    {
     "data": {
      "text/plain": [
       "'Sat Dec 30 00:22:28 2023'"
      ]
     },
     "execution_count": 22,
     "metadata": {},
     "output_type": "execute_result"
    },
    {
     "data": {
      "text/plain": [
       "103"
      ]
     },
     "execution_count": 22,
     "metadata": {},
     "output_type": "execute_result"
    },
    {
     "name": "stderr",
     "output_type": "stream",
     "text": [
      "\r",
      " 99%|████████████████████████████████████████████████████████████████████████████▍| 570/574 [13:06:40<03:20, 50.24s/it]"
     ]
    },
    {
     "name": "stdout",
     "output_type": "stream",
     "text": [
      "D:\\zwk_data\\p_tif\\17000\\ndwi1_int8_world_17992.tif\n",
      "['D:\\\\zwk_data\\\\p_tif\\\\GRWL_vector_V01.01\\\\SG55.shp'\n",
      " 'D:\\\\zwk_data\\\\p_tif\\\\GRWL_vector_V01.01\\\\SH55.shp']\n"
     ]
    },
    {
     "data": {
      "text/plain": [
       "'Sat Dec 30 00:23:21 2023'"
      ]
     },
     "execution_count": 22,
     "metadata": {},
     "output_type": "execute_result"
    },
    {
     "data": {
      "text/plain": [
       "115"
      ]
     },
     "execution_count": 22,
     "metadata": {},
     "output_type": "execute_result"
    },
    {
     "name": "stderr",
     "output_type": "stream",
     "text": [
      "\r",
      " 99%|████████████████████████████████████████████████████████████████████████████▌| 571/574 [13:07:46<02:44, 54.89s/it]"
     ]
    },
    {
     "name": "stdout",
     "output_type": "stream",
     "text": [
      "D:\\zwk_data\\p_tif\\17000\\ndwi1_int8_world_17994.tif\n",
      "['D:\\\\zwk_data\\\\p_tif\\\\GRWL_vector_V01.01\\\\SG55.shp']\n"
     ]
    },
    {
     "data": {
      "text/plain": [
       "'Sat Dec 30 00:24:27 2023'"
      ]
     },
     "execution_count": 22,
     "metadata": {},
     "output_type": "execute_result"
    },
    {
     "data": {
      "text/plain": [
       "106"
      ]
     },
     "execution_count": 22,
     "metadata": {},
     "output_type": "execute_result"
    },
    {
     "name": "stderr",
     "output_type": "stream",
     "text": [
      "\r",
      "100%|████████████████████████████████████████████████████████████████████████████▋| 572/574 [13:08:22<01:38, 49.28s/it]"
     ]
    },
    {
     "name": "stdout",
     "output_type": "stream",
     "text": [
      "D:\\zwk_data\\p_tif\\17000\\ndwi1_int8_world_17995.tif\n",
      "['D:\\\\zwk_data\\\\p_tif\\\\GRWL_vector_V01.01\\\\SG55.shp']\n"
     ]
    },
    {
     "data": {
      "text/plain": [
       "'Sat Dec 30 00:25:03 2023'"
      ]
     },
     "execution_count": 22,
     "metadata": {},
     "output_type": "execute_result"
    },
    {
     "data": {
      "text/plain": [
       "106"
      ]
     },
     "execution_count": 22,
     "metadata": {},
     "output_type": "execute_result"
    },
    {
     "name": "stderr",
     "output_type": "stream",
     "text": [
      "\r",
      "100%|████████████████████████████████████████████████████████████████████████████▊| 573/574 [13:08:55<00:44, 44.50s/it]"
     ]
    },
    {
     "name": "stdout",
     "output_type": "stream",
     "text": [
      "D:\\zwk_data\\p_tif\\17000\\ndwi1_int8_world_17998.tif\n",
      "['D:\\\\zwk_data\\\\p_tif\\\\GRWL_vector_V01.01\\\\SF55.shp']\n"
     ]
    },
    {
     "data": {
      "text/plain": [
       "'Sat Dec 30 00:25:36 2023'"
      ]
     },
     "execution_count": 22,
     "metadata": {},
     "output_type": "execute_result"
    },
    {
     "data": {
      "text/plain": [
       "107"
      ]
     },
     "execution_count": 22,
     "metadata": {},
     "output_type": "execute_result"
    },
    {
     "name": "stderr",
     "output_type": "stream",
     "text": [
      "100%|█████████████████████████████████████████████████████████████████████████████| 574/574 [13:09:37<00:00, 82.54s/it]\n"
     ]
    },
    {
     "data": {
      "text/plain": [
       "84"
      ]
     },
     "execution_count": 22,
     "metadata": {},
     "output_type": "execute_result"
    },
    {
     "data": {
      "text/plain": [
       "'D:\\\\zwk_data\\\\p_tif\\\\17000\\\\dreser_3\\\\area.txt'"
      ]
     },
     "execution_count": 22,
     "metadata": {},
     "output_type": "execute_result"
    },
    {
     "data": {
      "text/plain": [
       "'Sat Dec 30 00:26:16 2023'"
      ]
     },
     "execution_count": 22,
     "metadata": {},
     "output_type": "execute_result"
    }
   ],
   "source": [
    "\n",
    "for intif in tqdm(tif_list):\n",
    "    print(intif)\n",
    "    rasterbound = extofraster(intif)\n",
    "    x = (rasterbound[0]+rasterbound[2])/2             \n",
    "    y = (rasterbound[1]+rasterbound[3])/2\n",
    "    \n",
    "    intifnum = countraster(intif, num = 1)\n",
    "    drnum = countraster(intif, num = 1)\n",
    "    s_sg_rivernum = 0\n",
    "    s_g_rivernum = 0\n",
    "    grwlvec = grwlext(rasterbound, dirvec, txt, extt = '.shp')\n",
    "    #合并shp\n",
    "    smallriver = gpd.GeoDataFrame()\n",
    "    time.ctime()\n",
    "    for shpname in grwlvec:\n",
    "        gdf = gpd.read_file(shpname)\n",
    "        if len(gdf) != 0:\n",
    "            smallriver = smallriver.append(gdf, ignore_index=True)\n",
    "    \n",
    "    if len(smallriver) != 0:\n",
    "        allgr = riverbuffer(smallriver,intif)\n",
    "        #去除grwl所有河流来计算中心线\n",
    "    if len(allgr) !=0:\n",
    "        dgrwlpath = os.path.join(dgrwldir, \"dgrwl_\"+os.path.split(intif)[1])\n",
    "        rasterminusdf(intif,allgr,dgrwlpath, invert = True, geom = 1)\n",
    "    else:\n",
    "        dgrwlpath = intif\n",
    "        #drnum = countraster(dreserpath, num = 1)\n",
    "    skelpath = os.path.join(skeldir, \"skel_\"+os.path.split(intif)[1])\n",
    "    dispath = os.path.join(disdir, \"dis_\"+os.path.split(intif)[1])\n",
    "    skeldis(dgrwlpath,skelpath,dispath)\n",
    "    #得到 all grwl的buffer 和 reservior的buffer\n",
    "    if len(allgr) !=0:\n",
    "        grwlriver = allgr[allgr['lakeFlag'] != 1]\n",
    "        grwllake = allgr[allgr['lakeFlag'] == 1]\n",
    "    \n",
    "    # intif去除reservior 重新计算新的面积\n",
    "\n",
    "        if len(grwllake) !=0:\n",
    "            dreserpath = os.path.join(dreserdir, \"dreser_\"+os.path.split(intif)[1])\n",
    "            rasterminusdf(intif,grwllake,dreserpath, invert = True, geom = 1)\n",
    "            drnum = countraster(dreserpath, num = 1)\n",
    "\n",
    "            #big 和 all river 的去水库\n",
    "            cpriver1 = os.path.join(cpdir,'big',   os.path.split(intif)[1])\n",
    "            cpriver2 = os.path.join(cpdir,'river', os.path.split(intif)[1])    \n",
    "            if os.path.exists(cpriver1):\n",
    "                count1 = countraster(cpriver1, num = 2)\n",
    "                s_sg_rivernum = count1 + drnum\n",
    "            if os.path.exists(cpriver2):\n",
    "                count2 = countraster(cpriver2, num = 4)\n",
    "                s_g_rivernum = count2 + drnum\n",
    "    \n",
    "    #s_sg_rivernum = 0\n",
    "    #s_g_rivernum = 0\n",
    "    intxt =  f\"{intif}\\t{intifnum}\\t{drnum}\\t{s_sg_rivernum}\\t{s_g_rivernum}\\t{x}\\t{y}\\n\"\n",
    "    with open(temptxt, 'a') as txt_file:\n",
    "        txt_file.write(intxt)\n",
    "intxt =  f\"{'intif'}\\t{'intifnum'}\\t{'drnum'}\\t{'s_sg_rivernum'}\\t{'s_g_rivernum'}\\t{x}\\t{y}\\n\"        \n",
    "with open(temptxt, 'a') as txt_file:\n",
    "    txt_file.write(intxt)        \n",
    "copytxt = os.path.join(dreserdir, 'area.txt')\n",
    "shutil.copy(temptxt,copytxt)\n",
    "time.ctime()\n"
   ]
  },
  {
   "cell_type": "code",
   "execution_count": 18,
   "id": "d3e7a627",
   "metadata": {},
   "outputs": [],
   "source": [
    "def cdir(name):\n",
    "    os.makedirs(name, exist_ok=True)\n",
    "    return name\n",
    "\n",
    "def mask1(shp,intif, outtif, all_touch = False,crop = False, pad = False, mod = 1):\n",
    "    with fiona.open(shp,'r') as shapefile:\n",
    "        shapes = [feature['geometry'] for feature in shapefile]\n",
    "        #print(shapefile.crs)\n",
    "    if shapes:\n",
    "        with rasterio.open(intif, 'r') as dst:\n",
    "            out,_ = rasterio.mask.mask(dst, shapes, all_touched = all_touch ,crop = crop , pad = pad)\n",
    "            pro = dst.profile\n",
    "            #print(dst.crs)\n",
    "        if mod == 1:\n",
    "            with rasterio.open(outtif,'w',**pro) as dst:\n",
    "                dst.write(out)\n",
    "        else:\n",
    "             return out\n",
    "  \n",
    "def rasterminus(rasterp1, rasterp2):\n",
    "    with rasterio.open(rasterp1) as src1, rasterio.open(rasterp2) as src2:\n",
    "        # 读取栅格数据\n",
    "        raster1 = src1.read(1)\n",
    "        raster2 = src2.read(1)\n",
    "\n",
    "        # 确保两个栅格的大小相同\n",
    "        if raster1.shape == raster2.shape:\n",
    "            # 相减操作\n",
    "            result = raster1 - raster2\n",
    "            \n",
    "            return result\n",
    "        else:\n",
    "            print('大小不一样')\n",
    "\n",
    "def readrasornot(rasterp1, pa1):\n",
    "    if pa1 == 1:\n",
    "        with rasterio.open(rasterp1) as src1:\n",
    "            raster1 = src1.read(1)\n",
    "    else:\n",
    "        raster1 = rasterp1\n",
    "    return raster1\n",
    "\n",
    "def rasteradd(rasterp1, rasterp2, pa1 = 1, pa2 = 1):\n",
    "    raster1 = readrasornot(rasterp1, pa1)\n",
    "    raster2 = readrasornot(rasterp2, pa2)\n",
    "\n",
    "    # 确保两个栅格的大小相同\n",
    "    if raster1.shape == raster2.shape:\n",
    "        # 相减操作\n",
    "        result = raster1 + raster2    \n",
    "        return result\n",
    "    else:\n",
    "        print('大小不一样')\n",
    "        \n",
    "def riverbuffer(gdf, intif):\n",
    "    \n",
    "    #gdf = gdf[gdf['width_m'] < 90]\n",
    "    gdf = gdf.to_crs(\"EPSG:3857\")\n",
    "    gdf['geometry'] = gdf.buffer(gdf['width_m']*3)\n",
    "    gdf = gdf.to_crs(\"EPSG:4326\")\n",
    "    if len(gdf) == len(gdf[gdf.is_valid]):\n",
    "        return gdf \n",
    "    else:\n",
    "        print('invalid')\n",
    "        with open(r\"P:\\tif\\invalidgrwlbuffer.txt\",'a') as txt:\n",
    "            txt.write(intif+'\\n')\n",
    "        return gpd.GeoDataFrame()\n",
    "\n",
    "\n",
    "def countraster(rasterpath, num = 1):\n",
    "    with rasterio.open(rasterpath) as src:\n",
    "        # 读取栅格数据\n",
    "        raster_data = src.read(1)\n",
    "        cnum = np.sum(raster_data == num)\n",
    "    return cnum\n",
    "\n",
    "def extofraster(tifpath):\n",
    "    with rasterio.open(tifpath) as src:\n",
    "        bounds = src.bounds\n",
    "    ext = [bounds.left,bounds.bottom,bounds.right,bounds.top]\n",
    "    return ext\n",
    "\n",
    "from skimage import morphology\n",
    "def skeldis(intif,skelpath,dispath):\n",
    "    with rasterio.open(intif) as src:\n",
    "        data = src.read(1)\n",
    "        pro = src.profile\n",
    "        dtype = src.dtypes[0]\n",
    "    skel, distance =morphology.medial_axis(data, return_distance=True)\n",
    "    skel = skel.astype(dtype)\n",
    "    distance = np.round(distance).astype(dtype)\n",
    "    #skel_dis = skel*distance\n",
    "    with rasterio.open(skelpath,'w',**pro) as dst:\n",
    "        dst.write(skel,1)\n",
    "    with rasterio.open(dispath,'w',**pro) as dst:\n",
    "        dst.write(distance,1)\n",
    "    #return skel, distance\n",
    "\n",
    "def rasterminusdf(existing_raster_path,shapefile_path,output_raster_path, invert = True, geom = 0):\n",
    "    # Read the existing raster to use as a template\n",
    "    with rasterio.open(existing_raster_path) as src:\n",
    "        # Get raster properties\n",
    "        crs = src.crs\n",
    "        transform = src.transform\n",
    "        width = src.width\n",
    "        height = src.height\n",
    "        dtype = src.dtypes[0]  # Assuming a single band raster\n",
    "        data = src.read(1)\n",
    "    # Read the shapefile\n",
    "    if geom == 0:\n",
    "        gdf = gpd.read_file(shapefile_path)\n",
    "    else:\n",
    "        gdf = shapefile_path\n",
    "    if len(gdf) !=0:\n",
    "        gdf = gdf.to_crs(crs)\n",
    "        # Create an empty raster with the same properties as the existing raster\n",
    "        with rasterio.open(\n",
    "            output_raster_path,\n",
    "            'w',\n",
    "            driver='GTiff',\n",
    "            height=height,\n",
    "            width=width,\n",
    "            count=1,  # Number of bands\n",
    "            dtype=dtype,\n",
    "            crs=crs,\n",
    "            transform=transform,\n",
    "            compress = 'LZW'\n",
    "        ) as dst:\n",
    "            # Rasterize the geometry onto the raster\n",
    "            mask = rasterio.features.geometry_mask(\n",
    "                gdf.geometry,\n",
    "                transform=transform,\n",
    "                invert= invert,\n",
    "                #all_touched = True,\n",
    "                out_shape=(height, width)\n",
    "            )\n",
    "            #mask = data - mask\n",
    "            mask = np.where((mask == 1) & (data == 1), 0, data)\n",
    "            # Write the rasterized data to the output raster\n",
    "            dst.write(mask.astype(dtype), 1)\n",
    "    else:\n",
    "        if geom ==0:\n",
    "            print(shapefile_path)\n",
    "        else:\n",
    "            print(existing_raster_path)\n",
    "        print('no data')"
   ]
  },
  {
   "cell_type": "code",
   "execution_count": null,
   "id": "86da491d",
   "metadata": {},
   "outputs": [],
   "source": []
  }
 ],
 "metadata": {
  "kernelspec": {
   "display_name": "Python [conda env:zwk] *",
   "language": "python",
   "name": "conda-env-zwk-py"
  },
  "language_info": {
   "codemirror_mode": {
    "name": "ipython",
    "version": 3
   },
   "file_extension": ".py",
   "mimetype": "text/x-python",
   "name": "python",
   "nbconvert_exporter": "python",
   "pygments_lexer": "ipython3",
   "version": "3.8.5"
  }
 },
 "nbformat": 4,
 "nbformat_minor": 5
}
